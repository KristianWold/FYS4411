{
 "cells": [
  {
   "cell_type": "code",
   "execution_count": 29,
   "metadata": {},
   "outputs": [],
   "source": [
    "import torch\n",
    "import torch.nn as nn\n",
    "import numpy as np\n",
    "import matplotlib.pyplot as plt"
   ]
  },
  {
   "cell_type": "markdown",
   "metadata": {},
   "source": [
    "### Single-layer vanilla RNN for finding ground state of pairing-model"
   ]
  },
  {
   "cell_type": "code",
   "execution_count": 30,
   "metadata": {},
   "outputs": [],
   "source": [
    "class Model(nn.Module):\n",
    "     \n",
    "    def __init__(self, hidden_size, vector_size):\n",
    "        super().__init__()\n",
    "        self.Whh = nn.Linear(hidden_size, hidden_size)\n",
    "        self.Why = nn.Linear(hidden_size, vector_size)\n",
    "        \n",
    "        self.hidden_initial = nn.Parameter(torch.empty(1, hidden_size).normal_(mean=0, std=1))\n",
    "        self.hidden_current = None\n",
    "              \n",
    "    def forward(self):\n",
    "        self.hidden_current = torch.tanh(self.Whh(self.hidden_current))\n",
    "        y = self.Why(self.hidden_current)\n",
    "        \n",
    "        return y\n",
    "    \n",
    "    def hidden_reset(self):\n",
    "        self.hidden_current = torch.clone(self.hidden_initial)"
   ]
  },
  {
   "cell_type": "code",
   "execution_count": 31,
   "metadata": {},
   "outputs": [
    {
     "name": "stdout",
     "output_type": "stream",
     "text": [
      "[1.41677428 3.47067322 5.5        7.54943676 9.56311574 5.5       ]\n",
      "[0.98419512 0.13663267 0.07210914 0.07210914 0.04679042 0.01013337]\n"
     ]
    }
   ],
   "source": [
    "dim = 6\n",
    "\n",
    "delta = 1\n",
    "g = 0.5\n",
    "\n",
    "\n",
    "H = np.array([[2*delta - g, -0.5*g, -0.5*g, -0.5*g, -0.5*g, 0],\n",
    "              [-0.5*g, 4*delta - g, -0.5*g, -0.5*g, 0, -0.5*g],\n",
    "              [-0.5*g, -0.5*g, 6*delta - g, 0, -0.5*g, -0.5*g],\n",
    "              [-0.5*g, -0.5*g, 0, 6*delta - g, -0.5*g, -0.5*g],\n",
    "              [-0.5*g, 0, -0.5*g, -0.5*g, 8*delta - g, -0.5*g],\n",
    "              [0, -0.5*g, -0.5*g, -0.5*g, -0.5*g, 10*delta - g]])\n",
    "\n",
    "eig, eigvec = np.linalg.eig(H)\n",
    "eigvec = -eigvec[:,0]\n",
    "print(eig)\n",
    "print(eigvec)\n",
    "A = torch.Tensor(-H)"
   ]
  },
  {
   "cell_type": "code",
   "execution_count": 32,
   "metadata": {},
   "outputs": [],
   "source": [
    "s = np.linspace(0, 0.5, 15)\n",
    "ds = s[1] - s[0]"
   ]
  },
  {
   "cell_type": "code",
   "execution_count": 33,
   "metadata": {},
   "outputs": [],
   "source": [
    "torch.manual_seed(42)\n",
    "np.random.seed(42)\n",
    "model = Model(30, dim)\n",
    "\n",
    "optimizer = torch.optim.Adam(model.parameters())"
   ]
  },
  {
   "cell_type": "code",
   "execution_count": 36,
   "metadata": {},
   "outputs": [
    {
     "name": "stdout",
     "output_type": "stream",
     "text": [
      "epoch: 0, loss:  0.000402, L2:  0.000380\n",
      "epoch: 500, loss:  0.000381, L2:  0.000377\n",
      "epoch: 1000, loss:  0.000468, L2:  0.000374\n",
      "epoch: 1500, loss:  0.000375, L2:  0.000370\n",
      "epoch: 2000, loss:  0.000371, L2:  0.000367\n",
      "epoch: 2500, loss:  0.000463, L2:  0.000364\n",
      "epoch: 3000, loss:  0.000363, L2:  0.000360\n",
      "epoch: 3500, loss:  0.000363, L2:  0.000357\n"
     ]
    },
    {
     "ename": "KeyboardInterrupt",
     "evalue": "",
     "output_type": "error",
     "traceback": [
      "\u001b[0;31m---------------------------------------------------------------------------\u001b[0m",
      "\u001b[0;31mKeyboardInterrupt\u001b[0m                         Traceback (most recent call last)",
      "\u001b[0;32m<ipython-input-36-5abb4ab211d3>\u001b[0m in \u001b[0;36m<module>\u001b[0;34m\u001b[0m\n\u001b[1;32m     35\u001b[0m \u001b[0;34m\u001b[0m\u001b[0m\n\u001b[1;32m     36\u001b[0m     \u001b[0moptimizer\u001b[0m\u001b[0;34m.\u001b[0m\u001b[0mzero_grad\u001b[0m\u001b[0;34m(\u001b[0m\u001b[0;34m)\u001b[0m\u001b[0;34m\u001b[0m\u001b[0;34m\u001b[0m\u001b[0m\n\u001b[0;32m---> 37\u001b[0;31m     \u001b[0mloss\u001b[0m\u001b[0;34m.\u001b[0m\u001b[0mbackward\u001b[0m\u001b[0;34m(\u001b[0m\u001b[0;34m)\u001b[0m\u001b[0;34m\u001b[0m\u001b[0;34m\u001b[0m\u001b[0m\n\u001b[0m\u001b[1;32m     38\u001b[0m     \u001b[0moptimizer\u001b[0m\u001b[0;34m.\u001b[0m\u001b[0mstep\u001b[0m\u001b[0;34m(\u001b[0m\u001b[0;34m)\u001b[0m\u001b[0;34m\u001b[0m\u001b[0;34m\u001b[0m\u001b[0m\n",
      "\u001b[0;32m/media/newhd/Documents/neural/env_neural/lib/python3.6/site-packages/torch/tensor.py\u001b[0m in \u001b[0;36mbackward\u001b[0;34m(self, gradient, retain_graph, create_graph)\u001b[0m\n\u001b[1;32m    193\u001b[0m                 \u001b[0mproducts\u001b[0m\u001b[0;34m.\u001b[0m \u001b[0mDefaults\u001b[0m \u001b[0mto\u001b[0m\u001b[0;31m \u001b[0m\u001b[0;31m`\u001b[0m\u001b[0;31m`\u001b[0m\u001b[0;32mFalse\u001b[0m\u001b[0;31m`\u001b[0m\u001b[0;31m`\u001b[0m\u001b[0;34m.\u001b[0m\u001b[0;34m\u001b[0m\u001b[0;34m\u001b[0m\u001b[0m\n\u001b[1;32m    194\u001b[0m         \"\"\"\n\u001b[0;32m--> 195\u001b[0;31m         \u001b[0mtorch\u001b[0m\u001b[0;34m.\u001b[0m\u001b[0mautograd\u001b[0m\u001b[0;34m.\u001b[0m\u001b[0mbackward\u001b[0m\u001b[0;34m(\u001b[0m\u001b[0mself\u001b[0m\u001b[0;34m,\u001b[0m \u001b[0mgradient\u001b[0m\u001b[0;34m,\u001b[0m \u001b[0mretain_graph\u001b[0m\u001b[0;34m,\u001b[0m \u001b[0mcreate_graph\u001b[0m\u001b[0;34m)\u001b[0m\u001b[0;34m\u001b[0m\u001b[0;34m\u001b[0m\u001b[0m\n\u001b[0m\u001b[1;32m    196\u001b[0m \u001b[0;34m\u001b[0m\u001b[0m\n\u001b[1;32m    197\u001b[0m     \u001b[0;32mdef\u001b[0m \u001b[0mregister_hook\u001b[0m\u001b[0;34m(\u001b[0m\u001b[0mself\u001b[0m\u001b[0;34m,\u001b[0m \u001b[0mhook\u001b[0m\u001b[0;34m)\u001b[0m\u001b[0;34m:\u001b[0m\u001b[0;34m\u001b[0m\u001b[0;34m\u001b[0m\u001b[0m\n",
      "\u001b[0;32m/media/newhd/Documents/neural/env_neural/lib/python3.6/site-packages/torch/autograd/__init__.py\u001b[0m in \u001b[0;36mbackward\u001b[0;34m(tensors, grad_tensors, retain_graph, create_graph, grad_variables)\u001b[0m\n\u001b[1;32m     97\u001b[0m     Variable._execution_engine.run_backward(\n\u001b[1;32m     98\u001b[0m         \u001b[0mtensors\u001b[0m\u001b[0;34m,\u001b[0m \u001b[0mgrad_tensors\u001b[0m\u001b[0;34m,\u001b[0m \u001b[0mretain_graph\u001b[0m\u001b[0;34m,\u001b[0m \u001b[0mcreate_graph\u001b[0m\u001b[0;34m,\u001b[0m\u001b[0;34m\u001b[0m\u001b[0;34m\u001b[0m\u001b[0m\n\u001b[0;32m---> 99\u001b[0;31m         allow_unreachable=True)  # allow_unreachable flag\n\u001b[0m\u001b[1;32m    100\u001b[0m \u001b[0;34m\u001b[0m\u001b[0m\n\u001b[1;32m    101\u001b[0m \u001b[0;34m\u001b[0m\u001b[0m\n",
      "\u001b[0;31mKeyboardInterrupt\u001b[0m: "
     ]
    }
   ],
   "source": [
    "epochs = 10000\n",
    "mu = 0.00001\n",
    "for epoch in range(epochs):\n",
    "    loss = 0\n",
    "    L2 = 0\n",
    "    x_prev = torch.zeros(1, dim)\n",
    "    x_prev[0, 0] = 1\n",
    "    model.hidden_reset()   \n",
    "    \n",
    "    for i in range(1, len(s)):  \n",
    "        x = model()\n",
    "        \n",
    "        LHS = (x - x_prev)/ds\n",
    "        \n",
    "        x_mid = (x + x_prev)/2\n",
    "        \n",
    "        Ax = torch.mv(A, x_mid[0])\n",
    "        RHS = Ax - torch.dot(x_mid[0], Ax)*x_mid[0]\n",
    "        \n",
    "        loss += torch.mean((LHS - RHS)**2)\n",
    "\n",
    "        x_prev = x\n",
    "        \n",
    "    loss /= len(s) - 1\n",
    "    \n",
    "    num_param = 0\n",
    "    for param in model.parameters():\n",
    "        L2 += torch.sum(param**2)\n",
    "        num_param += np.prod(param.size())\n",
    "    \n",
    "    loss += mu*L2\n",
    "    \n",
    "    if epoch%500 == 0:\n",
    "        print(f\"epoch: {epoch}, loss: {loss.item(): .6f}, L2: {mu*L2: .6f}\")\n",
    "\n",
    "    optimizer.zero_grad()   \n",
    "    loss.backward()\n",
    "    optimizer.step()"
   ]
  },
  {
   "cell_type": "code",
   "execution_count": 37,
   "metadata": {},
   "outputs": [
    {
     "name": "stdout",
     "output_type": "stream",
     "text": [
      "1.4175549\n"
     ]
    },
    {
     "data": {
      "image/png": "[encoded data removed]",
      "text/plain": [
       "<Figure size 432x288 with 1 Axes>"
      ]
     },
     "metadata": {
      "needs_background": "light"
     },
     "output_type": "display_data"
    }
   ],
   "source": [
    "x = torch.zeros(1, dim)\n",
    "x[0, 0] = 1\n",
    "x_array = [x[0].detach().numpy()]\n",
    "model.hidden_reset()\n",
    "\n",
    "hidden_array = [model.hidden_current[0].detach().numpy()]\n",
    "\n",
    "for i in range(1, 120):\n",
    "    x = model()  \n",
    "    x_array.append(x[0].detach().numpy())\n",
    "    hidden_array.append(model.hidden_current[0].detach().numpy())\n",
    "\n",
    "x_array = np.array(x_array)\n",
    "hidden_array = np.array(hidden_array)\n",
    "\n",
    "print(-x_array[-1]@A.detach().numpy()@x_array[-1]/(x_array[-1]@x_array[-1]))\n",
    "\n",
    "plt.plot(x_array)\n",
    "plt.plot(9*np.ones(dim), x_array[9], \"ko\")\n",
    "plt.plot((0, 120), (eigvec, eigvec), \"--\")\n",
    "plt.ylim(0,0.2)\n",
    "plt.show()"
   ]
  },
  {
   "cell_type": "code",
   "execution_count": null,
   "metadata": {},
   "outputs": [],
   "source": []
  }
 ],
 "metadata": {
  "kernelspec": {
   "display_name": "env_neural",
   "language": "python",
   "name": "env_neural"
  },
  "language_info": {
   "codemirror_mode": {
    "name": "ipython",
    "version": 3
   },
   "file_extension": ".py",
   "mimetype": "text/x-python",
   "name": "python",
   "nbconvert_exporter": "python",
   "pygments_lexer": "ipython3",
   "version": "3.6.9"
  }
 },
 "nbformat": 4,
 "nbformat_minor": 2
}
