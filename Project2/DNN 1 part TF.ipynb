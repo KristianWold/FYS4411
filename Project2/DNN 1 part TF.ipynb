{
 "cells": [
  {
   "cell_type": "code",
   "execution_count": 46,
   "metadata": {},
   "outputs": [],
   "source": [
    "import tensorflow as tf\n",
    "import numpy as np\n",
    "import matplotlib.pyplot as plt\n",
    "from tqdm import tqdm_notebook as tqdm"
   ]
  },
  {
   "cell_type": "code",
   "execution_count": 47,
   "metadata": {},
   "outputs": [],
   "source": [
    "tf.keras.backend.set_floatx(\"float64\")\n",
    "\n",
    "class DNModel(tf.keras.Model):\n",
    "    def __init__(self):\n",
    "        super(DNModel, self).__init__()\n",
    "\n",
    "        self.dense_1 = tf.keras.layers.Dense(32, activation=tf.nn.tanh)\n",
    "        self.dense_2 = tf.keras.layers.Dense(32, activation=tf.nn.tanh)\n",
    "        self.out = tf.keras.layers.Dense(1)\n",
    "\n",
    "    def call(self, inputs):\n",
    "        x = self.dense_1(inputs)\n",
    "        x = self.dense_2(x)\n",
    "\n",
    "        return self.out(x)\n",
    "    \n",
    "    \n",
    "@tf.function\n",
    "def loss(model, x):\n",
    "    with tf.GradientTape() as tape:\n",
    "        tape.watch(x)\n",
    "        with tf.GradientTape() as tape_2:\n",
    "            tape_2.watch(x)\n",
    "\n",
    "            psi = model(x)\n",
    "\n",
    "        d_psi = tape_2.gradient(psi, x)\n",
    "    d2_psi = tape.gradient(d_psi, x)\n",
    "    \n",
    "    E_L = -0.5*1/psi*d2_psi + 0.5*x**2\n",
    "    E = tf.math.reduce_mean(E_L)\n",
    "    \n",
    "    psi_detach = tf.stop_gradient(psi)\n",
    "    return E, 2*(tf.math.reduce_mean(psi/psi_detach*E_L) - tf.math.reduce_mean(psi/psi_detach)*E)\n",
    "\n",
    "\n",
    "@tf.function\n",
    "def grad(model, x):\n",
    "    with tf.GradientTape() as tape:\n",
    "        E, loss_value = loss(model, x)\n",
    "\n",
    "    return E, tape.gradient(loss_value, model.trainable_variables)\n",
    "\n",
    "\n",
    "\n",
    "def sample(model, N, n):\n",
    "    total = 0\n",
    "    x_old = tf.random.uniform((N,1), minval=-2, maxval=2, dtype=tf.dtypes.float64)\n",
    "    psi_old = model(x_old).numpy()\n",
    "    \n",
    "    for i in range(n):\n",
    "        x_new = x_old + 2*tf.random.uniform((N,1), minval=-1, maxval=1, dtype=tf.dtypes.float64)\n",
    "        psi_new = model(x_new).numpy()\n",
    "      \n",
    "    \n",
    "        U = np.random.uniform(0, 1, (N,1))\n",
    "        mask = ((psi_new/psi_old)**2 > U) #vectorized acceptance criterion\n",
    "        x_old = x_old.numpy()\n",
    "        x_new = x_new.numpy()\n",
    "        \n",
    "        x_old[mask]   = x_new[mask]  #move walkers\n",
    "        psi_old[mask] = psi_new[mask]  #move walkers\n",
    "        x_old = tf.convert_to_tensor(x_old, dtype=tf.dtypes.float64)\n",
    "        total += np.sum(mask)\n",
    "    \n",
    "    return x_old, total"
   ]
  },
  {
   "cell_type": "code",
   "execution_count": 56,
   "metadata": {},
   "outputs": [
    {
     "name": "stdout",
     "output_type": "stream",
     "text": [
      "epoch: 0, Energy: 10.972954570484347\n",
      "epoch: 50, Energy: 0.5468337436013258\n",
      "epoch: 100, Energy: 0.5294755385322474\n",
      "epoch: 150, Energy: 0.506406304570121\n",
      "epoch: 200, Energy: 0.5049455172624668\n",
      "epoch: 250, Energy: 0.5496619705696365\n",
      "epoch: 300, Energy: 0.5156734704202055\n",
      "epoch: 350, Energy: 0.5151829542696762\n",
      "epoch: 400, Energy: 0.5045065418822277\n",
      "epoch: 450, Energy: 0.5313551804800658\n",
      "epoch: 500, Energy: 0.5003821297308647\n",
      "epoch: 550, Energy: 0.49937941526335017\n",
      "epoch: 600, Energy: 0.5040177844289657\n",
      "epoch: 650, Energy: 0.5029211308293473\n",
      "epoch: 700, Energy: 0.5005812192613721\n",
      "epoch: 750, Energy: 0.5008135490267279\n",
      "epoch: 800, Energy: 0.5023572096779558\n",
      "epoch: 850, Energy: 0.50669355334098\n",
      "epoch: 900, Energy: 0.5006650396732899\n",
      "epoch: 950, Energy: 0.5003130395634838\n"
     ]
    }
   ],
   "source": [
    "tf.random.set_seed(42)\n",
    "model = DNModel()\n",
    "optimizer = tf.keras.optimizers.Adam(0.01)\n",
    "\n",
    "N = 5000\n",
    "num_epochs = 1000\n",
    "energy = []\n",
    "\n",
    "for epoch in range(num_epochs):\n",
    "    x = sample(model, N, 10)[0]\n",
    "    E, gradients = grad(model, x)\n",
    "    energy.append(E)\n",
    "    \n",
    "    optimizer.apply_gradients(zip(gradients, model.trainable_variables))\n",
    "    \n",
    "    if epoch%50 == 0: \n",
    "        print(f\"epoch: {epoch}, Energy: {E}\")"
   ]
  },
  {
   "cell_type": "code",
   "execution_count": 60,
   "metadata": {},
   "outputs": [
    {
     "data": {
      "image/png": "[encoded data removed]",
      "text/plain": [
       "<Figure size 432x288 with 1 Axes>"
      ]
     },
     "metadata": {
      "needs_background": "light"
     },
     "output_type": "display_data"
    }
   ],
   "source": [
    "plt.plot(energy)\n",
    "plt.show()"
   ]
  },
  {
   "cell_type": "code",
   "execution_count": 58,
   "metadata": {},
   "outputs": [
    {
     "data": {
      "image/png": "[encoded data removed]",
      "text/plain": [
       "<Figure size 432x288 with 1 Axes>"
      ]
     },
     "metadata": {
      "needs_background": "light"
     },
     "output_type": "display_data"
    }
   ],
   "source": [
    "x_lin = np.linspace(-4, 4, 1000)\n",
    "tf_x_lin = tf.convert_to_tensor(x_lin.reshape(-1,1), dtype=tf.dtypes.float64)\n",
    "\n",
    "psi1 = model(tf_x_lin).numpy()[:, 0]\n",
    "psi2 = np.exp(-0.5*x_lin**2)\n",
    "\n",
    "plt.plot(x_lin, psi1**2/np.sum(psi1**2))\n",
    "plt.plot(x_lin, psi2**2/np.sum(psi2**2), \"--\")\n",
    "plt.show()"
   ]
  },
  {
   "cell_type": "code",
   "execution_count": null,
   "metadata": {},
   "outputs": [],
   "source": []
  }
 ],
 "metadata": {
  "kernelspec": {
   "display_name": "env_neural",
   "language": "python",
   "name": "env_neural"
  },
  "language_info": {
   "codemirror_mode": {
    "name": "ipython",
    "version": 3
   },
   "file_extension": ".py",
   "mimetype": "text/x-python",
   "name": "python",
   "nbconvert_exporter": "python",
   "pygments_lexer": "ipython3",
   "version": "3.6.9"
  }
 },
 "nbformat": 4,
 "nbformat_minor": 2
}
