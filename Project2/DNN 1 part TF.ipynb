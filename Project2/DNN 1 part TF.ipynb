{
 "cells": [
  {
   "cell_type": "code",
   "execution_count": 18,
   "metadata": {},
   "outputs": [],
   "source": [
    "import tensorflow as tf\n",
    "import numpy as np\n",
    "import matplotlib.pyplot as plt\n",
    "from tqdm import tqdm_notebook as tqdm"
   ]
  },
  {
   "cell_type": "code",
   "execution_count": 26,
   "metadata": {},
   "outputs": [],
   "source": [
    "tf.keras.backend.set_floatx(\"float64\")\n",
    " \n",
    "class DNModel(tf.keras.Model):\n",
    "    def __init__(self):\n",
    "        super(DNModel, self).__init__()\n",
    "\n",
    "        self.dense1 = tf.keras.layers.Dense(32)\n",
    "        self.dense2 = tf.keras.layers.Dense(32)\n",
    "        self.out = tf.keras.layers.Dense(1)\n",
    "\n",
    "    def call(self, x):\n",
    "        x = tf.nn.tanh(self.dense1(x))\n",
    "        x = tf.nn.tanh(self.dense2(x))\n",
    "\n",
    "        return tf.math.exp(self.out(x))\n",
    "\n",
    "    \n",
    "    \n",
    "    \n",
    "@tf.function\n",
    "def loss(model, x):\n",
    "    with tf.GradientTape() as g:\n",
    "        g.watch(x)\n",
    "        with tf.GradientTape() as gg:\n",
    "            gg.watch(x)\n",
    "            psi = model(x)\n",
    "\n",
    "\n",
    "        d_psi = gg.gradient(psi, x)\n",
    "    d2_psi = g.gradient(d_psi, x)\n",
    "    \n",
    "    E_L = -0.5*1/psi*d2_psi + 0.5*x**2\n",
    "    E_L = tf.stop_gradient(E_L)\n",
    "    E = tf.math.reduce_mean(E_L)\n",
    "    \n",
    "    psi_detach = tf.stop_gradient(psi)\n",
    "    return E, 2*(tf.math.reduce_mean(psi/psi_detach*E_L) - tf.math.reduce_mean(psi/psi_detach)*E)\n",
    "\n",
    "\n",
    "@tf.function\n",
    "def grad(model, x):\n",
    "    with tf.GradientTape() as tape:\n",
    "        E, loss_value = loss(model, x)\n",
    "\n",
    "    return E, tape.gradient(loss_value, model.trainable_variables)\n",
    "\n",
    "\n",
    "\n",
    "def sample(model, N, n):\n",
    "    total = 0\n",
    "    x_old = tf.random.uniform((N,1), minval=-2, maxval=2, dtype=tf.dtypes.float64)\n",
    "    psi_old = model(x_old).numpy()\n",
    "    \n",
    "    for i in range(n):\n",
    "        x_new = x_old + 2*tf.random.uniform((N,1), minval=-1, maxval=1, dtype=tf.dtypes.float64)\n",
    "        psi_new = model(x_new).numpy()\n",
    "      \n",
    "    \n",
    "        U = np.random.uniform(0, 1, (N,1))\n",
    "        mask = ((psi_new/psi_old)**2 > U) #vectorized acceptance criterion\n",
    "        x_old = x_old.numpy()\n",
    "        x_new = x_new.numpy()\n",
    "        \n",
    "        x_old[mask]   = x_new[mask]  #move walkers\n",
    "        psi_old[mask] = psi_new[mask]\n",
    "        x_old = tf.convert_to_tensor(x_old, dtype=tf.dtypes.float64)\n",
    "        total += np.sum(mask)\n",
    "    \n",
    "    return x_old, total"
   ]
  },
  {
   "cell_type": "code",
   "execution_count": 27,
   "metadata": {},
   "outputs": [
    {
     "name": "stdout",
     "output_type": "stream",
     "text": [
      "epoch: 0, Energy: 8.025595740839318\n",
      "epoch: 20, Energy: 2.126550385154276\n",
      "epoch: 40, Energy: 0.6926804539606587\n",
      "epoch: 60, Energy: 0.5199469728787156\n",
      "epoch: 80, Energy: 0.5066469827811281\n",
      "epoch: 100, Energy: 0.5042840725978996\n",
      "epoch: 120, Energy: 0.5008868368288145\n",
      "epoch: 140, Energy: 0.4992583722011169\n",
      "epoch: 160, Energy: 0.4994907441036836\n",
      "epoch: 180, Energy: 0.5035790340042386\n",
      "epoch: 200, Energy: 0.5036477541727701\n",
      "epoch: 220, Energy: 0.5019409528108761\n",
      "epoch: 240, Energy: 0.5147248524750461\n",
      "epoch: 260, Energy: 0.5236350804607433\n",
      "epoch: 280, Energy: 0.4977203090604107\n",
      "epoch: 300, Energy: 0.4965894732222671\n",
      "epoch: 320, Energy: 0.5002329660997791\n",
      "epoch: 340, Energy: 0.5034345977960986\n",
      "epoch: 360, Energy: 0.5013375465356926\n",
      "epoch: 380, Energy: 0.5000677349162377\n"
     ]
    }
   ],
   "source": [
    "tf.random.set_seed(42)\n",
    "np.random.seed(42)\n",
    "model = DNModel()\n",
    "optimizer = tf.keras.optimizers.Adam(0.01)\n",
    "\n",
    "N = 1000\n",
    "num_epochs = 400\n",
    "energy = []\n",
    "\n",
    "for epoch in range(num_epochs):\n",
    "    x = sample(model, N, 10)[0]\n",
    "\n",
    "    E, gradients = grad(model, x)\n",
    "    energy.append(E)\n",
    "    \n",
    "    optimizer.apply_gradients(zip(gradients, model.trainable_variables))\n",
    "    \n",
    "    if epoch%20 == 0: \n",
    "        print(f\"epoch: {epoch}, Energy: {E}\")"
   ]
  },
  {
   "cell_type": "code",
   "execution_count": 16,
   "metadata": {},
   "outputs": [
    {
     "data": {
      "image/png": "[encoded data removed]",
      "text/plain": [
       "<Figure size 432x288 with 1 Axes>"
      ]
     },
     "metadata": {
      "needs_background": "light"
     },
     "output_type": "display_data"
    }
   ],
   "source": [
    "plt.plot(energy)\n",
    "plt.show()"
   ]
  },
  {
   "cell_type": "code",
   "execution_count": 28,
   "metadata": {},
   "outputs": [
    {
     "data": {
      "image/png": "[encoded data removed]",
      "text/plain": [
       "<Figure size 432x288 with 1 Axes>"
      ]
     },
     "metadata": {
      "needs_background": "light"
     },
     "output_type": "display_data"
    }
   ],
   "source": [
    "x_lin = np.linspace(-4, 4, 1000)\n",
    "tf_x_lin = tf.convert_to_tensor(x_lin.reshape(-1,1), dtype=tf.dtypes.float64)\n",
    "\n",
    "psi1 = model(tf_x_lin).numpy()[:, 0]\n",
    "psi2 = np.exp(-0.5*x_lin**2)\n",
    "\n",
    "plt.plot(x_lin, psi1**2/np.sum(psi1**2))\n",
    "plt.plot(x_lin, psi2**2/np.sum(psi2**2), \"--\")\n",
    "plt.show()"
   ]
  },
  {
   "cell_type": "code",
   "execution_count": null,
   "metadata": {},
   "outputs": [],
   "source": [
    "x = tf.convert_to_tensor([[1, 2], [3, 4], [5, 6]], dtype=tf.dtypes.float64)\n",
    "\n",
    "\n",
    "with tf.GradientTape() as g:\n",
    "    g.watch(x)\n",
    "    f = x[:,0]**2 + tf.reduce_sum(x**2, axis = 1)\n",
    "\n",
    "d_f = g.gradient(f, x)\n",
    "    \n",
    "print(d_f)"
   ]
  },
  {
   "cell_type": "code",
   "execution_count": null,
   "metadata": {},
   "outputs": [],
   "source": []
  }
 ],
 "metadata": {
  "kernelspec": {
   "display_name": "env_neural",
   "language": "python",
   "name": "env_neural"
  },
  "language_info": {
   "codemirror_mode": {
    "name": "ipython",
    "version": 3
   },
   "file_extension": ".py",
   "mimetype": "text/x-python",
   "name": "python",
   "nbconvert_exporter": "python",
   "pygments_lexer": "ipython3",
   "version": "3.6.9"
  }
 },
 "nbformat": 4,
 "nbformat_minor": 2
}
