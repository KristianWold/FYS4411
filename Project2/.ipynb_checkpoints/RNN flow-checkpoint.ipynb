{
 "cells": [
  {
   "cell_type": "code",
   "execution_count": 52,
   "metadata": {},
   "outputs": [],
   "source": [
    "import torch\n",
    "import torch.nn as nn\n",
    "import numpy as np\n",
    "import matplotlib.pyplot as plt"
   ]
  },
  {
   "cell_type": "markdown",
   "metadata": {},
   "source": [
    "### Single-layer vanilla RNN for finding ground state of pairing-model"
   ]
  },
  {
   "cell_type": "code",
   "execution_count": 53,
   "metadata": {},
   "outputs": [],
   "source": [
    "class Model(nn.Module):\n",
    "     \n",
    "    def __init__(self, hidden_size, vector_size):\n",
    "        super().__init__()\n",
    "        self.Whh = nn.Linear(hidden_size, hidden_size)\n",
    "        self.Why = nn.Linear(hidden_size, vector_size)\n",
    "        \n",
    "        self.hidden_initial = nn.Parameter(torch.empty(1, hidden_size).normal_(mean=0, std=1))\n",
    "        self.hidden_current = torch.Tensor(self.hidden_initial)\n",
    "              \n",
    "    def forward(self):\n",
    "        self.hidden_current = torch.tanh(self.Whh(self.hidden_current))\n",
    "        y = self.Why(self.hidden_current)\n",
    "        \n",
    "        return y\n",
    "    \n",
    "    def hidden_reset(self):\n",
    "        self.hidden_current = torch.Tensor(self.hidden_initial)"
   ]
  },
  {
   "cell_type": "code",
   "execution_count": 54,
   "metadata": {},
   "outputs": [
    {
     "name": "stdout",
     "output_type": "stream",
     "text": [
      "[1.41677428 3.47067322 5.5        7.54943676 9.56311574 5.5       ]\n",
      "[0.98419512 0.13663267 0.07210914 0.07210914 0.04679042 0.01013337]\n"
     ]
    }
   ],
   "source": [
    "dim = 6\n",
    "\n",
    "delta = 1\n",
    "g = 0.5\n",
    "\n",
    "\n",
    "H = np.array([[2*delta - g, -0.5*g, -0.5*g, -0.5*g, -0.5*g, 0],\n",
    "              [-0.5*g, 4*delta - g, -0.5*g, -0.5*g, 0, -0.5*g],\n",
    "              [-0.5*g, -0.5*g, 6*delta - g, 0, -0.5*g, -0.5*g],\n",
    "              [-0.5*g, -0.5*g, 0, 6*delta - g, -0.5*g, -0.5*g],\n",
    "              [-0.5*g, 0, -0.5*g, -0.5*g, 8*delta - g, -0.5*g],\n",
    "              [0, -0.5*g, -0.5*g, -0.5*g, -0.5*g, 10*delta - g]])\n",
    "\n",
    "eig, eigvec = np.linalg.eig(H)\n",
    "eigvec = -eigvec[:,0]\n",
    "print(eig)\n",
    "print(eigvec)\n",
    "A = torch.Tensor(-H)"
   ]
  },
  {
   "cell_type": "code",
   "execution_count": 61,
   "metadata": {},
   "outputs": [],
   "source": [
    "s = np.linspace(0, 0.5, 15)\n",
    "ds = s[1] - s[0]"
   ]
  },
  {
   "cell_type": "code",
   "execution_count": 62,
   "metadata": {},
   "outputs": [],
   "source": [
    "torch.manual_seed(42)\n",
    "np.random.seed(42)\n",
    "model = Model(30, dim)\n",
    "\n",
    "optimizer = torch.optim.Adam(model.parameters())"
   ]
  },
  {
   "cell_type": "code",
   "execution_count": 67,
   "metadata": {},
   "outputs": [
    {
     "name": "stdout",
     "output_type": "stream",
     "text": [
      "epoch: 0, loss:  0.000013, L2:  0.000000\n",
      "epoch: 500, loss:  0.000002, L2:  0.000000\n",
      "epoch: 1000, loss:  0.000015, L2:  0.000000\n",
      "epoch: 1500, loss:  0.000010, L2:  0.000000\n",
      "epoch: 2000, loss:  0.000002, L2:  0.000000\n",
      "epoch: 2500, loss:  0.000002, L2:  0.000000\n",
      "epoch: 3000, loss:  0.000002, L2:  0.000000\n",
      "epoch: 3500, loss:  0.000001, L2:  0.000000\n",
      "epoch: 4000, loss:  0.000020, L2:  0.000000\n",
      "epoch: 4500, loss:  0.000009, L2:  0.000000\n",
      "epoch: 5000, loss:  0.000007, L2:  0.000000\n",
      "epoch: 5500, loss:  0.000016, L2:  0.000000\n",
      "epoch: 6000, loss:  0.000144, L2:  0.000000\n",
      "epoch: 6500, loss:  0.000004, L2:  0.000000\n",
      "epoch: 7000, loss:  0.000003, L2:  0.000000\n",
      "epoch: 7500, loss:  0.000001, L2:  0.000000\n",
      "epoch: 8000, loss:  0.000007, L2:  0.000000\n",
      "epoch: 8500, loss:  0.000005, L2:  0.000000\n",
      "epoch: 9000, loss:  0.000003, L2:  0.000000\n",
      "epoch: 9500, loss:  0.000007, L2:  0.000000\n"
     ]
    }
   ],
   "source": [
    "epochs = 10000\n",
    "mu = 0.0000\n",
    "for epoch in range(epochs):\n",
    "    loss = 0\n",
    "    L2 = 0\n",
    "    x_prev = torch.zeros(1, dim)\n",
    "    x_prev[0, 0] = 1\n",
    "    model.hidden_reset()\n",
    "    x = model()\n",
    "    \n",
    "    for i in range(1, len(s)):  \n",
    "        x_next = model()\n",
    "        \n",
    "        LHS = (x_next - x_prev)/(2*ds)\n",
    "        \n",
    "        \n",
    "        Ax = torch.mv(A, x[0])\n",
    "        RHS = Ax - torch.dot(x[0], Ax)*x[0]\n",
    "        \n",
    "        loss += torch.mean((LHS - RHS)**2)\n",
    "\n",
    "        x_prev = x\n",
    "        x = x_next\n",
    "        \n",
    "    loss /= len(s) - 1\n",
    "    \n",
    "    num_param = 0\n",
    "    for param in model.parameters():\n",
    "        L2 += torch.sum(param**2)\n",
    "        num_param += np.prod(param.size())\n",
    "    \n",
    "    loss += mu*L2\n",
    "    \n",
    "    if epoch%500 == 0:\n",
    "        print(f\"epoch: {epoch}, loss: {loss.item(): .6f}, L2: {mu*L2: .6f}\")\n",
    "\n",
    "    optimizer.zero_grad()   \n",
    "    loss.backward()\n",
    "    optimizer.step()\n",
    "    \n",
    "    "
   ]
  },
  {
   "cell_type": "code",
   "execution_count": 68,
   "metadata": {},
   "outputs": [
    {
     "name": "stdout",
     "output_type": "stream",
     "text": [
      "1.4174886\n"
     ]
    },
    {
     "data": {
      "image/png": "[encoded data removed]",
      "text/plain": [
       "<Figure size 432x288 with 1 Axes>"
      ]
     },
     "metadata": {
      "needs_background": "light"
     },
     "output_type": "display_data"
    }
   ],
   "source": [
    "x = torch.zeros(1, dim)\n",
    "x[0, 0] = 1\n",
    "x_array = [x[0].detach().numpy()]\n",
    "model.hidden_reset()\n",
    "\n",
    "hidden_array = [model.hidden_current[0].detach().numpy()]\n",
    "\n",
    "for i in range(1, 120):\n",
    "    x = model()  \n",
    "    x_array.append(x[0].detach().numpy())\n",
    "    hidden_array.append(model.hidden_current[0].detach().numpy())\n",
    "\n",
    "x_array = np.array(x_array)\n",
    "hidden_array = np.array(hidden_array)\n",
    "\n",
    "print(-x_array[-1]@A.detach().numpy()@x_array[-1]/(x_array[-1]@x_array[-1]))\n",
    "\n",
    "plt.plot(x_array)\n",
    "plt.plot(9*np.ones(dim), x_array[9], \"ko\")\n",
    "plt.plot((0, 120), (eigvec, eigvec), \"--\")\n",
    "plt.ylim(0,0.2)\n",
    "plt.show()"
   ]
  },
  {
   "cell_type": "code",
   "execution_count": null,
   "metadata": {},
   "outputs": [],
   "source": [
    "plt.plot(hidden_array)\n",
    "plt.show()"
   ]
  },
  {
   "cell_type": "markdown",
   "metadata": {},
   "source": [
    "### SRG"
   ]
  },
  {
   "cell_type": "code",
   "execution_count": 102,
   "metadata": {},
   "outputs": [],
   "source": [
    "def com(A,B):\n",
    "    return torch.mm(A, B) - torch.mm(B, A)"
   ]
  },
  {
   "cell_type": "code",
   "execution_count": 103,
   "metadata": {},
   "outputs": [],
   "source": [
    "s = np.linspace(0, 0.2, 10)\n",
    "ds = s[1] - s[0]"
   ]
  },
  {
   "cell_type": "code",
   "execution_count": 104,
   "metadata": {},
   "outputs": [],
   "source": [
    "torch.manual_seed(42)\n",
    "np.random.seed(42)\n",
    "model2 = Model(50, 36)\n",
    "\n",
    "optimizer = torch.optim.Adam(model2.parameters())"
   ]
  },
  {
   "cell_type": "code",
   "execution_count": 105,
   "metadata": {},
   "outputs": [
    {
     "name": "stdout",
     "output_type": "stream",
     "text": [
      "epoch: 0, loss: 1400.7921142578125\n",
      "epoch: 500, loss: 0.6104878783226013\n",
      "epoch: 1000, loss: 0.4798615872859955\n",
      "epoch: 1500, loss: 0.24258872866630554\n",
      "epoch: 2000, loss: 0.09222619980573654\n",
      "epoch: 2500, loss: 0.04774982109665871\n",
      "epoch: 3000, loss: 0.03654547780752182\n",
      "epoch: 3500, loss: 0.03106384165585041\n",
      "epoch: 4000, loss: 0.02473379671573639\n",
      "epoch: 4500, loss: 0.016076013445854187\n",
      "epoch: 5000, loss: 0.010668816044926643\n",
      "epoch: 5500, loss: 0.0077203139662742615\n",
      "epoch: 6000, loss: 0.006307604257017374\n",
      "epoch: 6500, loss: 0.005036402028053999\n",
      "epoch: 7000, loss: 0.0043840669095516205\n",
      "epoch: 7500, loss: 0.0031752586364746094\n",
      "epoch: 8000, loss: 0.00843963772058487\n",
      "epoch: 8500, loss: 0.007291742600500584\n",
      "epoch: 9000, loss: 0.009582290425896645\n",
      "epoch: 9500, loss: 0.0044311159290373325\n"
     ]
    }
   ],
   "source": [
    "epochs = 11000\n",
    "for epoch in range(epochs):\n",
    "    loss = 0\n",
    "    x_prev = torch.Tensor(H).reshape(1,-1)\n",
    "    model2.hidden_reset()   \n",
    "    \n",
    "    for i in range(1, len(s)):  \n",
    "        x = model2()\n",
    "        \n",
    "        LHS = (x - x_prev)/ds\n",
    "        \n",
    "        x_mid = (x + x_prev)/2\n",
    "        x_mid = x_mid.reshape(6,6)\n",
    "        \n",
    "        A = torch.diag(torch.diag(x_mid))\n",
    "        B = x_mid - A\n",
    "        \n",
    "        RHS = com(com(A,B), x_mid).reshape(1, -1)\n",
    "        \n",
    "        loss += torch.mean((LHS - RHS)**2)\n",
    "\n",
    "        x_prev = x\n",
    "        \n",
    "    loss /= len(s) - 1\n",
    "    \n",
    "\n",
    "    \n",
    "    if epoch%500 == 0:\n",
    "        print(f\"epoch: {epoch}, loss: {loss.item()}\")\n",
    "\n",
    "    optimizer.zero_grad()   \n",
    "    loss.backward()\n",
    "    optimizer.step()"
   ]
  },
  {
   "cell_type": "code",
   "execution_count": 106,
   "metadata": {},
   "outputs": [
    {
     "data": {
      "image/png": "[encoded data removed]",
      "text/plain": [
       "<Figure size 432x288 with 2 Axes>"
      ]
     },
     "metadata": {
      "needs_background": "light"
     },
     "output_type": "display_data"
    },
    {
     "data": {
      "image/png": "[encoded data removed]",
      "text/plain": [
       "<Figure size 432x288 with 2 Axes>"
      ]
     },
     "metadata": {
      "needs_background": "light"
     },
     "output_type": "display_data"
    },
    {
     "name": "stdout",
     "output_type": "stream",
     "text": [
      "[1.41330099 3.46973586 5.50450611 5.50599527 7.56379604 9.57071495]\n",
      "[1.41677428 3.47067322 5.5        7.54943676 9.56311574 5.5       ]\n"
     ]
    },
    {
     "data": {
      "image/png": "[encoded data removed]",
      "text/plain": [
       "<Figure size 432x288 with 1 Axes>"
      ]
     },
     "metadata": {
      "needs_background": "light"
     },
     "output_type": "display_data"
    }
   ],
   "source": [
    "x = torch.Tensor(H).reshape(1,-1)\n",
    "x_array = [x[0].detach().numpy()]\n",
    "\n",
    "eigenvalues = [np.diag(H)]\n",
    "\n",
    "model2.hidden_reset()\n",
    "for i in range(1, 50):\n",
    "    x = model2()  \n",
    "    x_array.append(x[0].detach().numpy())\n",
    "    eigenvalues.append(np.diag(x.reshape(6, 6).detach().numpy()))\n",
    "\n",
    "eigenvalues = np.array(eigenvalues)\n",
    "    \n",
    "h_diag = x_array[-1].reshape(6,6)\n",
    "\n",
    "plt.imshow(H)\n",
    "plt.colorbar()\n",
    "plt.show()\n",
    "\n",
    "plt.imshow(h_diag)\n",
    "plt.colorbar()\n",
    "plt.show()\n",
    "\n",
    "print(eigenvalues[-1])\n",
    "print(eig)\n",
    "\n",
    "s = np.linspace(0, 1, 50)\n",
    "plt.plot(s, eigenvalues - np.sort(eig))\n",
    "plt.plot(s[9]*np.ones(6), (eigenvalues - np.sort(eig))[9], \"ko\")\n",
    "plt.show()"
   ]
  },
  {
   "cell_type": "code",
   "execution_count": null,
   "metadata": {},
   "outputs": [],
   "source": []
  }
 ],
 "metadata": {
  "kernelspec": {
   "display_name": "env_neural",
   "language": "python",
   "name": "env_neural"
  },
  "language_info": {
   "codemirror_mode": {
    "name": "ipython",
    "version": 3
   },
   "file_extension": ".py",
   "mimetype": "text/x-python",
   "name": "python",
   "nbconvert_exporter": "python",
   "pygments_lexer": "ipython3",
   "version": "3.6.9"
  }
 },
 "nbformat": 4,
 "nbformat_minor": 2
}
