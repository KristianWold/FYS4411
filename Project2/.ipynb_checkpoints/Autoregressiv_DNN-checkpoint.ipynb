{
 "cells": [
  {
   "cell_type": "code",
   "execution_count": 1,
   "metadata": {},
   "outputs": [],
   "source": [
    "import torch\n",
    "import torch.nn as nn\n",
    "import numpy as np\n",
    "import matplotlib.pyplot as plt\n",
    "from tqdm import tqdm_notebook as tqdm\n",
    "from ipywidgets import interact, interactive, fixed, interact_manual\n",
    "import ipywidgets as widgets\n",
    "import warnings\n",
    "\n",
    "warnings.filterwarnings(\"ignore\")"
   ]
  },
  {
   "cell_type": "code",
   "execution_count": 2,
   "metadata": {},
   "outputs": [],
   "source": [
    "class Model(nn.Module):\n",
    "     \n",
    "    def __init__(self, N):\n",
    "        super().__init__()\n",
    "        self.N = N\n",
    "        self.stepLength = 2\n",
    "        \n",
    "        self.layer1 = nn.Linear(1, 64)\n",
    "        self.layer2 = nn.Linear(64, 64)\n",
    "        self.layer3 = nn.Linear(64, 1)\n",
    "        \n",
    "        self.layer4 = nn.Linear(2, 64)\n",
    "        self.layer5 = nn.Linear(64, 64)\n",
    "        self.layer6 = nn.Linear(64, 1)\n",
    "  \n",
    "    \n",
    "    def forward1(self, x):\n",
    "        \"\"\"Approximate wave function\"\"\"\n",
    "            \n",
    "        y = torch.tanh(self.layer1(x))\n",
    "        y = torch.tanh(self.layer2(y))\n",
    "        y = self.layer3(y)\n",
    "     \n",
    "        return y\n",
    "    \n",
    "    def forward2(self, x2, x1):\n",
    "        \"\"\"Approximate wave function\"\"\"\n",
    "        \n",
    "        psi1 = self.forward1(x1)\n",
    "        psi2 = self.forward1(x2)\n",
    "        \n",
    "        y1 = torch.cat((x2, x1), 1) \n",
    "        y1 = torch.tanh(self.layer4(y1))\n",
    "        y1 = torch.tanh(self.layer5(y1))\n",
    "        y1 = self.layer6(y1)\n",
    "        \n",
    "        y2 = torch.cat((x1, x2), 1) \n",
    "        y2 = torch.tanh(self.layer4(y2))\n",
    "        y2 = torch.tanh(self.layer5(y2))\n",
    "        y2 = self.layer6(y2)\n",
    "        \n",
    "        y = y1 - psi2/psi1 *y2\n",
    "     \n",
    "        return y\n",
    "    \n",
    "    \n",
    "    def sample1(self, N, n):\n",
    "        total = 0\n",
    "        x = torch.Tensor(4*np.random.random((N,1)) - 2)\n",
    "        psi_old = self.forward1(x)\n",
    "        \n",
    "        for i in range(n):\n",
    "            x_new = x + self.stepLength*torch.Tensor(2*np.random.random((N,1)) - 1)\n",
    "            psi_new = self.forward1(x_new)\n",
    "            \n",
    "            idx = (psi_new/psi_old)**2 > torch.Tensor(np.random.random((N,1)))\n",
    "            \n",
    "            \n",
    "            x[idx] = x_new[idx]\n",
    "            psi_old[idx] = psi_new[idx]\n",
    "            total += torch.sum(idx)\n",
    "            \n",
    "        return x, total\n",
    "    \n",
    "    def sample2(self, N, n, x1):\n",
    "        total = 0\n",
    "        x = torch.Tensor(4*np.random.random((N,1)) - 2)\n",
    "        psi_old = self.forward2(x, x1)\n",
    "        \n",
    "        for i in range(n):\n",
    "            x_new = x + self.stepLength*torch.Tensor(2*np.random.random((N,1)) - 1)\n",
    "            psi_new = self.forward2(x_new, x1)\n",
    "            \n",
    "            idx = (psi_new/psi_old)**2 > torch.Tensor(np.random.random((N,1)))\n",
    "            \n",
    "            \n",
    "            x[idx] = x_new[idx]\n",
    "            psi_old[idx] = psi_new[idx]\n",
    "            total += torch.sum(idx)\n",
    "            \n",
    "        return x, total"
   ]
  },
  {
   "cell_type": "code",
   "execution_count": 3,
   "metadata": {},
   "outputs": [],
   "source": [
    "N = 5000 #Batch size\n",
    "n = 20  #Metropolis step\n",
    "h = 0.01\n",
    "\n",
    "torch.manual_seed(42)\n",
    "np.random.seed(42)\n",
    "model = Model(N)\n",
    "optimizer = torch.optim.Adam(model.parameters())"
   ]
  },
  {
   "cell_type": "markdown",
   "metadata": {},
   "source": [
    "### Training"
   ]
  },
  {
   "cell_type": "code",
   "execution_count": 4,
   "metadata": {},
   "outputs": [
    {
     "data": {
      "application/vnd.jupyter.widget-view+json": {
       "model_id": "99745b4bc1f041348f7ec5fd1cdc730c",
       "version_major": 2,
       "version_minor": 0
      },
      "text/plain": [
       "HBox(children=(FloatProgress(value=0.0, max=2000.0), HTML(value='')))"
      ]
     },
     "metadata": {},
     "output_type": "display_data"
    },
    {
     "name": "stdout",
     "output_type": "stream",
     "text": [
      "epoch: 0, Energy: 24.770004272460938\n",
      "epoch: 100, Energy: 2.590359687805176\n",
      "epoch: 200, Energy: 2.3734664916992188\n",
      "epoch: 300, Energy: 2.448500633239746\n",
      "\n"
     ]
    },
    {
     "ename": "KeyboardInterrupt",
     "evalue": "",
     "output_type": "error",
     "traceback": [
      "\u001b[0;31m---------------------------------------------------------------------------\u001b[0m",
      "\u001b[0;31mKeyboardInterrupt\u001b[0m                         Traceback (most recent call last)",
      "\u001b[0;32m<ipython-input-4-d6b6d653858b>\u001b[0m in \u001b[0;36m<module>\u001b[0;34m\u001b[0m\n\u001b[1;32m     11\u001b[0m     \u001b[0mpsi1\u001b[0m \u001b[0;34m=\u001b[0m \u001b[0mmodel\u001b[0m\u001b[0;34m.\u001b[0m\u001b[0mforward1\u001b[0m\u001b[0;34m(\u001b[0m\u001b[0mx1\u001b[0m\u001b[0;34m)\u001b[0m\u001b[0;34m\u001b[0m\u001b[0;34m\u001b[0m\u001b[0m\n\u001b[1;32m     12\u001b[0m \u001b[0;34m\u001b[0m\u001b[0m\n\u001b[0;32m---> 13\u001b[0;31m     \u001b[0mx2\u001b[0m \u001b[0;34m=\u001b[0m \u001b[0mmodel\u001b[0m\u001b[0;34m.\u001b[0m\u001b[0msample2\u001b[0m\u001b[0;34m(\u001b[0m\u001b[0mN\u001b[0m\u001b[0;34m,\u001b[0m \u001b[0mn\u001b[0m\u001b[0;34m,\u001b[0m \u001b[0mx1\u001b[0m\u001b[0;34m)\u001b[0m\u001b[0;34m[\u001b[0m\u001b[0;36m0\u001b[0m\u001b[0;34m]\u001b[0m\u001b[0;34m.\u001b[0m\u001b[0mdetach\u001b[0m\u001b[0;34m(\u001b[0m\u001b[0;34m)\u001b[0m \u001b[0;31m#Sample positions for second particle, corrolated with first particle\u001b[0m\u001b[0;34m\u001b[0m\u001b[0;34m\u001b[0m\u001b[0m\n\u001b[0m\u001b[1;32m     14\u001b[0m     \u001b[0mpsi2\u001b[0m \u001b[0;34m=\u001b[0m \u001b[0mmodel\u001b[0m\u001b[0;34m.\u001b[0m\u001b[0mforward2\u001b[0m\u001b[0;34m(\u001b[0m\u001b[0mx2\u001b[0m\u001b[0;34m,\u001b[0m \u001b[0mx1\u001b[0m\u001b[0;34m)\u001b[0m\u001b[0;34m\u001b[0m\u001b[0;34m\u001b[0m\u001b[0m\n\u001b[1;32m     15\u001b[0m \u001b[0;34m\u001b[0m\u001b[0m\n",
      "\u001b[0;32m<ipython-input-2-7933c34278ad>\u001b[0m in \u001b[0;36msample2\u001b[0;34m(self, N, n, x1)\u001b[0m\n\u001b[1;32m     70\u001b[0m         \u001b[0;32mfor\u001b[0m \u001b[0mi\u001b[0m \u001b[0;32min\u001b[0m \u001b[0mrange\u001b[0m\u001b[0;34m(\u001b[0m\u001b[0mn\u001b[0m\u001b[0;34m)\u001b[0m\u001b[0;34m:\u001b[0m\u001b[0;34m\u001b[0m\u001b[0;34m\u001b[0m\u001b[0m\n\u001b[1;32m     71\u001b[0m             \u001b[0mx_new\u001b[0m \u001b[0;34m=\u001b[0m \u001b[0mx\u001b[0m \u001b[0;34m+\u001b[0m \u001b[0mself\u001b[0m\u001b[0;34m.\u001b[0m\u001b[0mstepLength\u001b[0m\u001b[0;34m*\u001b[0m\u001b[0mtorch\u001b[0m\u001b[0;34m.\u001b[0m\u001b[0mTensor\u001b[0m\u001b[0;34m(\u001b[0m\u001b[0;36m2\u001b[0m\u001b[0;34m*\u001b[0m\u001b[0mnp\u001b[0m\u001b[0;34m.\u001b[0m\u001b[0mrandom\u001b[0m\u001b[0;34m.\u001b[0m\u001b[0mrandom\u001b[0m\u001b[0;34m(\u001b[0m\u001b[0;34m(\u001b[0m\u001b[0mN\u001b[0m\u001b[0;34m,\u001b[0m\u001b[0;36m1\u001b[0m\u001b[0;34m)\u001b[0m\u001b[0;34m)\u001b[0m \u001b[0;34m-\u001b[0m \u001b[0;36m1\u001b[0m\u001b[0;34m)\u001b[0m\u001b[0;34m\u001b[0m\u001b[0;34m\u001b[0m\u001b[0m\n\u001b[0;32m---> 72\u001b[0;31m             \u001b[0mpsi_new\u001b[0m \u001b[0;34m=\u001b[0m \u001b[0mself\u001b[0m\u001b[0;34m.\u001b[0m\u001b[0mforward2\u001b[0m\u001b[0;34m(\u001b[0m\u001b[0mx_new\u001b[0m\u001b[0;34m,\u001b[0m \u001b[0mx1\u001b[0m\u001b[0;34m)\u001b[0m\u001b[0;34m\u001b[0m\u001b[0;34m\u001b[0m\u001b[0m\n\u001b[0m\u001b[1;32m     73\u001b[0m \u001b[0;34m\u001b[0m\u001b[0m\n\u001b[1;32m     74\u001b[0m             \u001b[0midx\u001b[0m \u001b[0;34m=\u001b[0m \u001b[0;34m(\u001b[0m\u001b[0mpsi_new\u001b[0m\u001b[0;34m/\u001b[0m\u001b[0mpsi_old\u001b[0m\u001b[0;34m)\u001b[0m\u001b[0;34m**\u001b[0m\u001b[0;36m2\u001b[0m \u001b[0;34m>\u001b[0m \u001b[0mtorch\u001b[0m\u001b[0;34m.\u001b[0m\u001b[0mTensor\u001b[0m\u001b[0;34m(\u001b[0m\u001b[0mnp\u001b[0m\u001b[0;34m.\u001b[0m\u001b[0mrandom\u001b[0m\u001b[0;34m.\u001b[0m\u001b[0mrandom\u001b[0m\u001b[0;34m(\u001b[0m\u001b[0;34m(\u001b[0m\u001b[0mN\u001b[0m\u001b[0;34m,\u001b[0m\u001b[0;36m1\u001b[0m\u001b[0;34m)\u001b[0m\u001b[0;34m)\u001b[0m\u001b[0;34m)\u001b[0m\u001b[0;34m\u001b[0m\u001b[0;34m\u001b[0m\u001b[0m\n",
      "\u001b[0;32m<ipython-input-2-7933c34278ad>\u001b[0m in \u001b[0;36mforward2\u001b[0;34m(self, x2, x1)\u001b[0m\n\u001b[1;32m     27\u001b[0m         \u001b[0;34m\"\"\"Approximate wave function\"\"\"\u001b[0m\u001b[0;34m\u001b[0m\u001b[0;34m\u001b[0m\u001b[0m\n\u001b[1;32m     28\u001b[0m \u001b[0;34m\u001b[0m\u001b[0m\n\u001b[0;32m---> 29\u001b[0;31m         \u001b[0mpsi1\u001b[0m \u001b[0;34m=\u001b[0m \u001b[0mself\u001b[0m\u001b[0;34m.\u001b[0m\u001b[0mforward1\u001b[0m\u001b[0;34m(\u001b[0m\u001b[0mx1\u001b[0m\u001b[0;34m)\u001b[0m\u001b[0;34m\u001b[0m\u001b[0;34m\u001b[0m\u001b[0m\n\u001b[0m\u001b[1;32m     30\u001b[0m         \u001b[0mpsi2\u001b[0m \u001b[0;34m=\u001b[0m \u001b[0mself\u001b[0m\u001b[0;34m.\u001b[0m\u001b[0mforward1\u001b[0m\u001b[0;34m(\u001b[0m\u001b[0mx2\u001b[0m\u001b[0;34m)\u001b[0m\u001b[0;34m\u001b[0m\u001b[0;34m\u001b[0m\u001b[0m\n\u001b[1;32m     31\u001b[0m \u001b[0;34m\u001b[0m\u001b[0m\n",
      "\u001b[0;32m<ipython-input-2-7933c34278ad>\u001b[0m in \u001b[0;36mforward1\u001b[0;34m(self, x)\u001b[0m\n\u001b[1;32m     18\u001b[0m         \u001b[0;34m\"\"\"Approximate wave function\"\"\"\u001b[0m\u001b[0;34m\u001b[0m\u001b[0;34m\u001b[0m\u001b[0m\n\u001b[1;32m     19\u001b[0m \u001b[0;34m\u001b[0m\u001b[0m\n\u001b[0;32m---> 20\u001b[0;31m         \u001b[0my\u001b[0m \u001b[0;34m=\u001b[0m \u001b[0mtorch\u001b[0m\u001b[0;34m.\u001b[0m\u001b[0mtanh\u001b[0m\u001b[0;34m(\u001b[0m\u001b[0mself\u001b[0m\u001b[0;34m.\u001b[0m\u001b[0mlayer1\u001b[0m\u001b[0;34m(\u001b[0m\u001b[0mx\u001b[0m\u001b[0;34m)\u001b[0m\u001b[0;34m)\u001b[0m\u001b[0;34m\u001b[0m\u001b[0;34m\u001b[0m\u001b[0m\n\u001b[0m\u001b[1;32m     21\u001b[0m         \u001b[0my\u001b[0m \u001b[0;34m=\u001b[0m \u001b[0mtorch\u001b[0m\u001b[0;34m.\u001b[0m\u001b[0mtanh\u001b[0m\u001b[0;34m(\u001b[0m\u001b[0mself\u001b[0m\u001b[0;34m.\u001b[0m\u001b[0mlayer2\u001b[0m\u001b[0;34m(\u001b[0m\u001b[0my\u001b[0m\u001b[0;34m)\u001b[0m\u001b[0;34m)\u001b[0m\u001b[0;34m\u001b[0m\u001b[0;34m\u001b[0m\u001b[0m\n\u001b[1;32m     22\u001b[0m         \u001b[0my\u001b[0m \u001b[0;34m=\u001b[0m \u001b[0mself\u001b[0m\u001b[0;34m.\u001b[0m\u001b[0mlayer3\u001b[0m\u001b[0;34m(\u001b[0m\u001b[0my\u001b[0m\u001b[0;34m)\u001b[0m\u001b[0;34m\u001b[0m\u001b[0;34m\u001b[0m\u001b[0m\n",
      "\u001b[0;31mKeyboardInterrupt\u001b[0m: "
     ]
    }
   ],
   "source": [
    "epochs = 2000\n",
    "\n",
    "energy = []\n",
    "\n",
    "for epoch in tqdm(range(epochs)):\n",
    "    PE_acc = 0\n",
    "    P_acc = 0\n",
    "    E_acc = 0\n",
    "        \n",
    "    x1 = model.sample1(N, n)[0].detach() #sample N positions for first particle\n",
    "    psi1 = model.forward1(x1)\n",
    "    \n",
    "    x2 = model.sample2(N, n, x1)[0].detach() #Sample positions for second particle, corrolated with first particle\n",
    "    psi2 = model.forward2(x2, x1)        \n",
    "    \n",
    "    psi_total = psi1*psi2               #Total wave function\n",
    "    \n",
    "    \n",
    "    #Numerical laplacian\n",
    "    psi1_plus = model.forward1(x1+h)   #Change particle 1 coordinate, holding particle 2 constant.            \n",
    "    psi2_plus = model.forward2(x2, x1+h)  #however, psi2 still changes because of corrolation\n",
    "    \n",
    "    psi1_minus = model.forward1(x1-h)\n",
    "    psi2_minus = model.forward2(x2, x1-h)\n",
    "\n",
    "    lap1 = 1/psi_total*(psi1_plus*psi2_plus - 2*psi_total + psi1_minus*psi2_minus)/h**2\n",
    "    \n",
    "    psi2_plus = model.forward2(x2+h, x1) #Change particle 2 coordinate, holding particle 1 constant.\n",
    "    psi2_minus = model.forward2(x2-h, x1)\n",
    "    \n",
    "    lap2 = 1/psi2*(psi2_plus - 2*psi2 + psi2_minus)/h**2    #psi1 factor here, since it is constant\n",
    "    \n",
    "\n",
    "    E_L = (-0.5*(lap1 + lap2) + 0.5*(x1**2 + x2**2) + 1/torch.sqrt((x1 - x2)**2 + 0.1**2)).detach()\n",
    "\n",
    "    PE = torch.mean(psi_total/psi_total.detach()*E_L)\n",
    "    P  = torch.mean(psi_total/psi_total.detach())\n",
    "    E  = torch.mean(E_L)  \n",
    "    \n",
    "    loss = 2*(PE - P*E)\n",
    "    \n",
    "    optimizer.zero_grad()\n",
    "    loss.backward()\n",
    "    optimizer.step()\n",
    "    \n",
    "    energy.append(E.item())\n",
    "    \n",
    "    if epoch%100 == 0: \n",
    "        print(f\"epoch: {epoch}, Energy: {E.item()}\")"
   ]
  },
  {
   "cell_type": "code",
   "execution_count": null,
   "metadata": {},
   "outputs": [],
   "source": [
    "plt.plot(energy)\n",
    "plt.show()"
   ]
  },
  {
   "cell_type": "code",
   "execution_count": null,
   "metadata": {},
   "outputs": [],
   "source": [
    "def f(x):\n",
    "    x_lin = torch.linspace(-8, 8, 5000).reshape(5000,-1)\n",
    "    dx = x_lin[1] - x_lin[0] \n",
    "    psi1 = model.forward1(x_lin)[:,0].detach().numpy()\n",
    "\n",
    "    x = torch.Tensor([[x]]).repeat(5000,1)\n",
    "    \n",
    "    psi2 = model.forward2(x_lin, x)[:,0].detach().numpy()\n",
    "\n",
    "    plt.plot(x_lin[:,0], 1/dx*psi1**2/np.sum(psi1**2), \"b\")\n",
    "    plt.plot(x_lin[:,0], 1/dx*psi2**2/np.sum(psi2**2), \"r\")\n",
    "    plt.plot(x[0], 0.01, \"bo\")\n",
    "    plt.ylim((0, 0.8))\n",
    "\n",
    "    plt.show()\n",
    "    \n",
    "def g(x):\n",
    "    model.resetHidden()\n",
    "\n",
    "    x = torch.Tensor([[x]])\n",
    "\n",
    "    plt.plot(model.hidden[0].detach().numpy(), \"bo\")\n",
    "    model.forward_RNN(x)\n",
    "\n",
    "    plt.plot(model.hidden[0].detach().numpy(), \"ro\")\n",
    "    plt.ylim((-1, 1))\n",
    "\n",
    "    plt.show()\n",
    "\n",
    "interact(f, x=(-4.0, 4., 0.05));"
   ]
  },
  {
   "cell_type": "markdown",
   "metadata": {},
   "source": [
    "### Check metropolis sampling"
   ]
  },
  {
   "cell_type": "code",
   "execution_count": null,
   "metadata": {},
   "outputs": [],
   "source": [
    "N = 100000\n",
    "x_lin = torch.linspace(-3, 3, 100).reshape(100,-1)\n",
    "dx = x_lin[1] - x_lin[0]\n",
    "\n",
    "x_a = torch.Tensor([[0.2]]).repeat(100,1)\n",
    "x_b = torch.Tensor([[0.2]]).repeat(N,1)\n",
    "print(x.shape, x_lin.shape)\n",
    "\n",
    "psi = model.forward2(x_lin, x_a)[:,0].detach().numpy()\n",
    "\n",
    "x = model.sample2(N, 20, x_b)[0].detach().numpy()\n",
    "\n",
    "bins = np.linspace(-3, 3, 100)\n",
    "plt.hist(x, bins=bins)\n",
    "plt.plot(x_lin[:,0], N*psi**2/np.sum(psi**2), \"r\")\n",
    "plt.show()"
   ]
  },
  {
   "cell_type": "markdown",
   "metadata": {},
   "source": [
    "## Estimating energy"
   ]
  },
  {
   "cell_type": "code",
   "execution_count": null,
   "metadata": {},
   "outputs": [],
   "source": [
    "N = 100000\n",
    "\n",
    "x1 = model.sample1(N, n)[0].detach() #sample N positions for first particle\n",
    "psi1 = model.forward1(x1)\n",
    "\n",
    "x2 = model.sample2(N, n, x1)[0].detach() #Sample positions for second particle, corrolated with first particle\n",
    "psi2 = model.forward2(x2, x1)        \n",
    "\n",
    "psi_total = psi1*psi2               #Total wave function\n",
    "\n",
    "\n",
    "#Numerical laplacian\n",
    "psi1_plus = model.forward1(x1+h)   #Change particle 1 coordinate, holding particle 2 constant.            \n",
    "psi2_plus = model.forward2(x2, x1+h)  #however, psi2 still changes because of corrolation\n",
    "\n",
    "psi1_minus = model.forward1(x1-h)\n",
    "psi2_minus = model.forward2(x2, x1-h)\n",
    "\n",
    "lap1 = 1/psi_total*(psi1_plus*psi2_plus - 2*psi_total + psi1_minus*psi2_minus)/h**2\n",
    "\n",
    "psi2_plus = model.forward2(x2+h, x1) #Change particle 2 coordinate, holding particle 1 constant.\n",
    "psi2_minus = model.forward2(x2-h, x1)\n",
    "\n",
    "lap2 = 1/psi2*(psi2_plus - 2*psi2 + psi2_minus)/h**2    #psi1 factor here, since it is constant\n",
    "\n",
    "\n",
    "E = (-0.5*(lap1 + lap2) + 0.5*(x1**2 + x2**2) + 0/torch.sqrt((x1 - x2)**2 + 0.1**2)).detach()\n",
    "E = torch.mean(E)\n",
    "print(E)\n",
    "\n",
    "x = torch.cat((x1, x2), 0).numpy()"
   ]
  },
  {
   "cell_type": "code",
   "execution_count": null,
   "metadata": {},
   "outputs": [],
   "source": [
    "bins = np.linspace(-3, 3, 100)\n",
    "\n",
    "plt.hist(x, bins=bins)\n",
    "plt.show()"
   ]
  },
  {
   "cell_type": "code",
   "execution_count": null,
   "metadata": {},
   "outputs": [],
   "source": []
  }
 ],
 "metadata": {
  "kernelspec": {
   "display_name": "env_neural",
   "language": "python",
   "name": "env_neural"
  },
  "language_info": {
   "codemirror_mode": {
    "name": "ipython",
    "version": 3
   },
   "file_extension": ".py",
   "mimetype": "text/x-python",
   "name": "python",
   "nbconvert_exporter": "python",
   "pygments_lexer": "ipython3",
   "version": "3.6.9"
  }
 },
 "nbformat": 4,
 "nbformat_minor": 2
}
