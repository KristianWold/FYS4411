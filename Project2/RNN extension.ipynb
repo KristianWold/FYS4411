{
 "cells": [
  {
   "cell_type": "code",
   "execution_count": 1,
   "metadata": {},
   "outputs": [],
   "source": [
    "import torch\n",
    "import torch.nn as nn\n",
    "import numpy as np\n",
    "import matplotlib.pyplot as plt\n",
    "from tqdm import tqdm_notebook as tqdm\n",
    "from ipywidgets import interact, interactive, fixed, interact_manual\n",
    "import ipywidgets as widgets\n",
    "import warnings\n",
    "\n",
    "warnings.filterwarnings(\"ignore\")"
   ]
  },
  {
   "cell_type": "code",
   "execution_count": 7,
   "metadata": {},
   "outputs": [],
   "source": [
    "hn = 3 #hidden state dim\n",
    "\n",
    "class Model(nn.Module):\n",
    "     \n",
    "    def __init__(self, N):\n",
    "        super().__init__()\n",
    "        self.N = N\n",
    "        self.stepLength = 2        \n",
    "        self.hidden_initial = nn.Parameter(torch.empty(1, hn).normal_(mean=0, std=1)) #make inital hidden trainable\n",
    "        self.hidden = self.hidden_initial.repeat((self.N, 1))  \n",
    "        \n",
    "        self.Whh = nn.Linear(hn, hn)\n",
    "        self.Whx = nn.Linear(1, hn, bias = False)\n",
    "        \n",
    "        self.layer1 = nn.Linear(1 + hn, 128)\n",
    "        self.layer2 = nn.Linear(128, 128)\n",
    "        self.layer3 = nn.Linear(128, 1)\n",
    "  \n",
    "    \n",
    "    def forward_DNN(self, x):\n",
    "        \"\"\"Approximate wave function\"\"\"\n",
    "        \n",
    "        #concatenate hidden state to input of DNN\n",
    "        if self.hidden.shape[0] == x.shape[0]:\n",
    "            y = torch.cat((self.hidden, x), 1)\n",
    "        else:\n",
    "            y = torch.cat((self.hidden[0].repeat(x.shape[0], 1), x), 1)\n",
    "            \n",
    "        y = torch.relu(self.layer1(y))\n",
    "        y = torch.tanh(self.layer2(y))\n",
    "        y = self.layer3(y)\n",
    "     \n",
    "        return y\n",
    "    \n",
    "    \n",
    "    def forward_RNN(self, x):\n",
    "        \"\"\"Encode correlation in hidden state\"\"\"\n",
    "        self.hidden = torch.tanh(self.Whh(self.hidden) + self.Whx(x))\n",
    "    \n",
    "    \n",
    "    def sample(self, N, n):\n",
    "        total = 0\n",
    "        x = torch.Tensor(4*np.random.random((N,1)) - 2)\n",
    "        psi_old = self.forward_DNN(x)\n",
    "        \n",
    "        for i in range(n):\n",
    "            x_new = x + self.stepLength*torch.Tensor(2*np.random.random((N,1)) - 1)\n",
    "            psi_new = self.forward_DNN(x_new)\n",
    "            \n",
    "            idx = (psi_new/psi_old)**2 > torch.Tensor(np.random.random((N,1)))\n",
    "            \n",
    "            \n",
    "            x[idx] = x_new[idx]\n",
    "            psi_old[idx] = psi_new[idx]\n",
    "            total += torch.sum(idx)\n",
    "            \n",
    "        return x, total\n",
    "    \n",
    "    def resetHidden(self, N=0):\n",
    "        if N == 0: N = self.N\n",
    "        self.hidden = self.hidden_initial.repeat((N, 1))"
   ]
  },
  {
   "cell_type": "code",
   "execution_count": 8,
   "metadata": {},
   "outputs": [],
   "source": [
    "N = 5000 #Batch size\n",
    "n = 10  #Metropolis step\n",
    "h = 0.01\n",
    "\n",
    "torch.manual_seed(42)\n",
    "np.random.seed(42)\n",
    "model = Model(N)\n",
    "optimizer = torch.optim.Adam(model.parameters())"
   ]
  },
  {
   "cell_type": "markdown",
   "metadata": {},
   "source": [
    "### Training"
   ]
  },
  {
   "cell_type": "code",
   "execution_count": 9,
   "metadata": {},
   "outputs": [
    {
     "data": {
      "application/vnd.jupyter.widget-view+json": {
       "model_id": "c9e9546390a94d669b6da424a95e1c2a",
       "version_major": 2,
       "version_minor": 0
      },
      "text/plain": [
       "HBox(children=(FloatProgress(value=0.0, max=2000.0), HTML(value='')))"
      ]
     },
     "metadata": {},
     "output_type": "display_data"
    },
    {
     "name": "stdout",
     "output_type": "stream",
     "text": [
      "epoch: 0, Energy: 19.740379333496094\n",
      "epoch: 100, Energy: 3.1721348762512207\n",
      "epoch: 200, Energy: 3.027292251586914\n",
      "epoch: 300, Energy: 2.9524385929107666\n",
      "epoch: 400, Energy: 2.8250222206115723\n",
      "epoch: 500, Energy: 2.896878957748413\n",
      "epoch: 600, Energy: 2.7967448234558105\n",
      "epoch: 700, Energy: 2.816819429397583\n",
      "epoch: 800, Energy: 2.794257879257202\n",
      "epoch: 900, Energy: 2.8094024658203125\n",
      "epoch: 1000, Energy: 3.026179790496826\n",
      "epoch: 1100, Energy: 2.6913444995880127\n",
      "epoch: 1200, Energy: 2.6835055351257324\n",
      "epoch: 1300, Energy: 2.6919429302215576\n",
      "epoch: 1400, Energy: 2.6460134983062744\n",
      "epoch: 1500, Energy: 2.665997266769409\n",
      "epoch: 1600, Energy: 2.6250522136688232\n",
      "epoch: 1700, Energy: 2.877427101135254\n",
      "epoch: 1800, Energy: 2.7289299964904785\n",
      "epoch: 1900, Energy: 2.5884010791778564\n",
      "\n"
     ]
    }
   ],
   "source": [
    "epochs = 2000\n",
    "\n",
    "for epoch in tqdm(range(epochs)):\n",
    "    PE_acc = 0\n",
    "    P_acc = 0\n",
    "    E_acc = 0\n",
    "        \n",
    "    model.resetHidden() \n",
    "    x1 = model.sample(N, n)[0].detach() #sample N positions for first particle\n",
    "    psi1 = model.forward_DNN(x1)\n",
    "    \n",
    "    model.forward_RNN(x1)               #Advance hidden state based on previous sampled positions\n",
    "    x2 = model.sample(N, n)[0].detach() #Sample positions for second particle, corrolated with first particle\n",
    "    psi2 = model.forward_DNN(x2)        \n",
    "    \n",
    "    psi_total = psi1*psi2               #Total wave function\n",
    "    \n",
    "    \n",
    "    #Numerical laplacian\n",
    "    model.resetHidden()\n",
    "    psi1_plus = model.forward_DNN(x1+h) #Change particle 1 coordinate, holding particle 2 constant. \n",
    "    model.forward_RNN(x1+h)           #however, psi2 still changes because of corrolation\n",
    "    psi2_plus = model.forward_DNN(x2)\n",
    "    \n",
    "    model.resetHidden()\n",
    "    psi1_minus = model.forward_DNN(x1-h)\n",
    "    model.forward_RNN(x1 - h)\n",
    "    psi2_minus = model.forward_DNN(x2)\n",
    "\n",
    "    lap1 = 1/psi_total*(psi1_plus*psi2_plus - 2*psi_total + psi1_minus*psi2_minus)/h**2\n",
    "    \n",
    "    model.resetHidden()\n",
    "    model.forward_RNN(x1)\n",
    "    psi2_plus = model.forward_DNN(x2+h) #Change particle 2 coordinate, holding particle 1 constant.\n",
    "    psi2_minus = model.forward_DNN(x2-h)\n",
    "    \n",
    "    lap2 = 1/psi2*(psi2_plus - 2*psi2 + psi2_minus)/h**2    #psi1 factor here, since it is constant\n",
    "    \n",
    "\n",
    "    E_L = (-0.5*(lap1 + lap2) + 0.5*(x1**2 + x2**2) + 1/torch.sqrt((x1 - x2)**2 + 0.1**2)).detach()\n",
    "\n",
    "    PE = torch.mean(torch.log(psi_total)*E_L)\n",
    "    P  = torch.mean(torch.log(psi_total))\n",
    "    E  = torch.mean(E_L)  \n",
    "    \n",
    "    loss = 2*(PE - P*E)\n",
    "    \n",
    "    optimizer.zero_grad()\n",
    "    loss.backward()\n",
    "    optimizer.step()\n",
    "    \n",
    "    \n",
    "    if epoch%100 == 0: \n",
    "        print(f\"epoch: {epoch}, Energy: {E.item()}\")"
   ]
  },
  {
   "cell_type": "code",
   "execution_count": 5,
   "metadata": {},
   "outputs": [
    {
     "data": {
      "application/vnd.jupyter.widget-view+json": {
       "model_id": "8428899c68ff44639bea968c5dcb3662",
       "version_major": 2,
       "version_minor": 0
      },
      "text/plain": [
       "interactive(children=(FloatSlider(value=0.0, description='x', max=4.0, min=-4.0, step=0.05), Output()), _dom_c…"
      ]
     },
     "metadata": {},
     "output_type": "display_data"
    },
    {
     "data": {
      "application/vnd.jupyter.widget-view+json": {
       "model_id": "6e4aeeba10e34f9497fd4c69ce44527a",
       "version_major": 2,
       "version_minor": 0
      },
      "text/plain": [
       "interactive(children=(FloatSlider(value=0.0, description='x', max=4.0, min=-4.0), Output()), _dom_classes=('wi…"
      ]
     },
     "metadata": {},
     "output_type": "display_data"
    }
   ],
   "source": [
    "def f(x):\n",
    "    x_lin = torch.linspace(-8, 8, 5000).reshape(5000,-1)\n",
    "    dx = x_lin[1] - x_lin[0] \n",
    "    model.resetHidden()\n",
    "    psi1 = model.forward_DNN(x_lin)[:,0].detach().numpy()\n",
    "\n",
    "    x = torch.Tensor([[x]])\n",
    "    \n",
    "    model.forward_RNN(x)\n",
    "    psi2 = model.forward_DNN(x_lin)[:,0].detach().numpy()\n",
    "\n",
    "    plt.plot(x_lin[:,0], 1/dx*psi1**2/np.sum(psi1**2), \"b\")\n",
    "    plt.plot(x_lin[:,0], 1/dx*psi2**2/np.sum(psi2**2), \"r\")\n",
    "    plt.plot(x, 0.01, \"bo\")\n",
    "    plt.ylim((0, 0.8))\n",
    "\n",
    "    plt.show()\n",
    "    \n",
    "def g(x):\n",
    "    model.resetHidden()\n",
    "\n",
    "    x = torch.Tensor([[x]])\n",
    "\n",
    "    plt.plot(model.hidden[0].detach().numpy(), \"bo\")\n",
    "    model.forward_RNN(x)\n",
    "\n",
    "    plt.plot(model.hidden[0].detach().numpy(), \"ro\")\n",
    "    plt.ylim((-1, 1))\n",
    "\n",
    "    plt.show()\n",
    "\n",
    "interact(f, x=(-4.0, 4., 0.05));\n",
    "interact(g, x=(-4.0, 4., 0.1));"
   ]
  },
  {
   "cell_type": "markdown",
   "metadata": {},
   "source": [
    "### Check metropolis sampling"
   ]
  },
  {
   "cell_type": "code",
   "execution_count": null,
   "metadata": {},
   "outputs": [],
   "source": [
    "N = 100000\n",
    "model.resetHidden()\n",
    "x_lin = torch.linspace(-3, 3, 100).reshape(100,-1)\n",
    "dx = x_lin[1] - x_lin[0]\n",
    "\n",
    "model.forward_RNN(torch.Tensor([[0.4]]))\n",
    "psi = model.forward_DNN(x_lin)[:,0].detach().numpy()\n",
    "\n",
    "x = model.sample(N, 10)[0].detach().numpy()\n",
    "\n",
    "bins = np.linspace(-3, 3, 100)\n",
    "plt.hist(x, bins=bins)\n",
    "plt.plot(x_lin[:,0], N*psi**2/np.sum(psi**2), \"r\")\n",
    "plt.show()"
   ]
  },
  {
   "cell_type": "markdown",
   "metadata": {},
   "source": [
    "## Estimating energy"
   ]
  },
  {
   "cell_type": "code",
   "execution_count": 28,
   "metadata": {},
   "outputs": [
    {
     "name": "stdout",
     "output_type": "stream",
     "text": [
      "2.5882129669189453\n"
     ]
    }
   ],
   "source": [
    "N = 500000\n",
    "\n",
    "model.resetHidden(N) \n",
    "x1 = model.sample(N, n)[0].detach() #sample N positions for first particle\n",
    "psi1 = model.forward_DNN(x1)\n",
    "\n",
    "model.forward_RNN(x1)               #Advance hidden state based on previous sampled positions\n",
    "x2 = model.sample(N, n)[0].detach() #Sample positions for second particle, corrolated with first particle\n",
    "psi2 = model.forward_DNN(x2)        \n",
    "\n",
    "psi_total = psi1*psi2               #Total wave function\n",
    "\n",
    "#Numerical laplacian\n",
    "model.resetHidden(N)\n",
    "psi1_plus = model.forward_DNN(x1+h) #Change particle 1 coordinate, holding particle 2 constant. \n",
    "model.forward_RNN(x1 + h)           #however, psi2 still changes because of corrolation\n",
    "psi2_plus = model.forward_DNN(x2)\n",
    "\n",
    "model.resetHidden(N)\n",
    "psi1_minus = model.forward_DNN(x1-h)\n",
    "model.forward_RNN(x1 - h)\n",
    "psi2_minus = model.forward_DNN(x2)\n",
    "\n",
    "lap1 = 1/psi_total*(psi1_plus*psi2_plus - 2*psi_total + psi1_minus*psi2_minus)/h**2\n",
    "\n",
    "model.resetHidden(N)\n",
    "model.forward_RNN(x1)\n",
    "psi2_plus = model.forward_DNN(x2+h) #Change particle 2 coordinate, holding particle 1 constant.\n",
    "psi2_minus = model.forward_DNN(x2-h)\n",
    "\n",
    "lap2 = 1/psi2*(psi2_plus - 2*psi2 + psi2_minus)/h**2    #psi1 factor here, since it is constant\n",
    "\n",
    "\n",
    "E = (-0.5*(lap1 + lap2) + 0.5*(x1**2 + x2**2) + 1/torch.sqrt((x1 - x2)**2 + 0.1**2))\n",
    "E = torch.mean(E)\n",
    "print(E.item())"
   ]
  },
  {
   "cell_type": "code",
   "execution_count": null,
   "metadata": {},
   "outputs": [],
   "source": []
  }
 ],
 "metadata": {
  "kernelspec": {
   "display_name": "env_neural",
   "language": "python",
   "name": "env_neural"
  },
  "language_info": {
   "codemirror_mode": {
    "name": "ipython",
    "version": 3
   },
   "file_extension": ".py",
   "mimetype": "text/x-python",
   "name": "python",
   "nbconvert_exporter": "python",
   "pygments_lexer": "ipython3",
   "version": "3.6.9"
  }
 },
 "nbformat": 4,
 "nbformat_minor": 2
}
