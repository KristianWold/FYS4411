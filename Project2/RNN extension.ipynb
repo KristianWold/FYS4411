{
 "cells": [
  {
   "cell_type": "code",
   "execution_count": 69,
   "metadata": {},
   "outputs": [],
   "source": [
    "import torch\n",
    "import torch.nn as nn\n",
    "import numpy as np\n",
    "import matplotlib.pyplot as plt\n",
    "from tqdm import tqdm\n",
    "from ipywidgets import interact, interactive, fixed, interact_manual\n",
    "import ipywidgets as widgets"
   ]
  },
  {
   "cell_type": "code",
   "execution_count": 70,
   "metadata": {},
   "outputs": [],
   "source": [
    "hn = 3\n",
    "class Model(nn.Module):\n",
    "     \n",
    "    def __init__(self, N):\n",
    "        super().__init__()\n",
    "        self.N = N\n",
    "        self.stepLength = 2        \n",
    "        self.hidden_initial = torch.Tensor(np.random.normal(0, 1, (1,hn)))\n",
    "        self.hidden = self.hidden_initial.repeat((self.N, 1))\n",
    "        \n",
    "        \n",
    "        self.Whh = nn.Linear(hn, hn)\n",
    "        self.Whx = nn.Linear(1, hn, bias = False)\n",
    "        \n",
    "        self.layer1 = nn.Linear(1 + hn, 64)\n",
    "        self.layer2 = nn.Linear(64, 64)\n",
    "        self.layer3 = nn.Linear(64, 1)\n",
    "  \n",
    "    \n",
    "    def forward_DNN(self, x):    \n",
    "        if self.hidden.shape[0] == x.shape[0]:\n",
    "            y = torch.cat((self.hidden, x), 1)\n",
    "        else:\n",
    "            y = torch.cat((self.hidden[0].repeat(x.shape[0], 1), x), 1)\n",
    "            \n",
    "        y = torch.relu(self.layer1(y))\n",
    "        y = torch.relu(self.layer2(y))\n",
    "        y = self.layer3(y)\n",
    "     \n",
    "        return y\n",
    "    \n",
    "    \n",
    "    def forward_RNN(self, x):\n",
    "        self.hidden = torch.tanh(self.Whh(self.hidden) + self.Whx(x))\n",
    "    \n",
    "    \n",
    "    def sample(self, N, n):\n",
    "        total = 0\n",
    "        x = torch.Tensor(4*np.random.random((N,1)) - 2)\n",
    "        psi_old = self.forward_DNN(x)\n",
    "        \n",
    "        for i in range(n):\n",
    "            x_new = x + self.stepLength*torch.Tensor(2*np.random.random((N,1)) - 1)\n",
    "            psi_new = self.forward_DNN(x_new)\n",
    "            \n",
    "            idx = (psi_new/psi_old)**2 > torch.Tensor(np.random.random((N,1)))\n",
    "            \n",
    "            \n",
    "            x[idx] = x_new[idx]\n",
    "            psi_old[idx] = psi_new[idx]\n",
    "            total += torch.sum(idx)\n",
    "            \n",
    "        return x, total\n",
    "    \n",
    "    def resetHidden(self):\n",
    "        self.hidden = self.hidden_initial.repeat((self.N, 1))"
   ]
  },
  {
   "cell_type": "code",
   "execution_count": 74,
   "metadata": {},
   "outputs": [
    {
     "name": "stdout",
     "output_type": "stream",
     "text": [
      "torch.Size([10000, 3])\n"
     ]
    }
   ],
   "source": [
    "N = 10000\n",
    "n = 20\n",
    "h = 0.01\n",
    "\n",
    "torch.manual_seed(42)\n",
    "np.random.seed(42)\n",
    "model = Model(N)\n",
    "print(model.hidden.shape)\n",
    "optimizer = torch.optim.Adam(model.parameters())"
   ]
  },
  {
   "cell_type": "markdown",
   "metadata": {},
   "source": [
    "### Using naive minimization of energy"
   ]
  },
  {
   "cell_type": "code",
   "execution_count": 75,
   "metadata": {},
   "outputs": [
    {
     "name": "stdout",
     "output_type": "stream",
     "text": [
      "tensor([[-8.2854],\n",
      "        [11.2572],\n",
      "        [-8.4257],\n",
      "        [ 7.0386],\n",
      "        [ 3.2015],\n",
      "        [ 8.0092],\n",
      "        [-1.5334],\n",
      "        [ 4.1662],\n",
      "        [10.4641],\n",
      "        [-3.4169]])\n",
      "tensor(168999)\n"
     ]
    }
   ],
   "source": [
    "print(model.sample(N, n)[0][:10])\n",
    "print(model.sample(N, n)[1])"
   ]
  },
  {
   "cell_type": "code",
   "execution_count": 79,
   "metadata": {},
   "outputs": [
    {
     "name": "stderr",
     "output_type": "stream",
     "text": [
      "  0%|          | 2/2000 [00:00<05:18,  6.26it/s]"
     ]
    },
    {
     "name": "stdout",
     "output_type": "stream",
     "text": [
      "epoch: 0, Energy: 2.616767168045044\n"
     ]
    },
    {
     "name": "stderr",
     "output_type": "stream",
     "text": [
      "  5%|▌         | 102/2000 [00:15<04:50,  6.54it/s]"
     ]
    },
    {
     "name": "stdout",
     "output_type": "stream",
     "text": [
      "epoch: 100, Energy: 2.572415351867676\n"
     ]
    },
    {
     "name": "stderr",
     "output_type": "stream",
     "text": [
      " 10%|█         | 202/2000 [00:30<04:28,  6.70it/s]"
     ]
    },
    {
     "name": "stdout",
     "output_type": "stream",
     "text": [
      "epoch: 200, Energy: 2.6045355796813965\n"
     ]
    },
    {
     "name": "stderr",
     "output_type": "stream",
     "text": [
      " 15%|█▌        | 302/2000 [00:45<04:20,  6.52it/s]"
     ]
    },
    {
     "name": "stdout",
     "output_type": "stream",
     "text": [
      "epoch: 300, Energy: 2.6893911361694336\n"
     ]
    },
    {
     "name": "stderr",
     "output_type": "stream",
     "text": [
      " 20%|██        | 402/2000 [01:00<04:00,  6.65it/s]"
     ]
    },
    {
     "name": "stdout",
     "output_type": "stream",
     "text": [
      "epoch: 400, Energy: 2.548875570297241\n"
     ]
    },
    {
     "name": "stderr",
     "output_type": "stream",
     "text": [
      " 25%|██▌       | 502/2000 [01:15<03:41,  6.77it/s]"
     ]
    },
    {
     "name": "stdout",
     "output_type": "stream",
     "text": [
      "epoch: 500, Energy: 2.697530746459961\n"
     ]
    },
    {
     "name": "stderr",
     "output_type": "stream",
     "text": [
      " 30%|███       | 602/2000 [01:30<03:29,  6.66it/s]"
     ]
    },
    {
     "name": "stdout",
     "output_type": "stream",
     "text": [
      "epoch: 600, Energy: 2.5427443981170654\n"
     ]
    },
    {
     "name": "stderr",
     "output_type": "stream",
     "text": [
      " 35%|███▌      | 702/2000 [01:45<03:18,  6.53it/s]"
     ]
    },
    {
     "name": "stdout",
     "output_type": "stream",
     "text": [
      "epoch: 700, Energy: 2.5493557453155518\n"
     ]
    },
    {
     "name": "stderr",
     "output_type": "stream",
     "text": [
      " 40%|████      | 802/2000 [02:00<03:03,  6.54it/s]"
     ]
    },
    {
     "name": "stdout",
     "output_type": "stream",
     "text": [
      "epoch: 800, Energy: 2.5584356784820557\n"
     ]
    },
    {
     "name": "stderr",
     "output_type": "stream",
     "text": [
      " 45%|████▌     | 902/2000 [02:15<02:48,  6.52it/s]"
     ]
    },
    {
     "name": "stdout",
     "output_type": "stream",
     "text": [
      "epoch: 900, Energy: 2.536343574523926\n"
     ]
    },
    {
     "name": "stderr",
     "output_type": "stream",
     "text": [
      " 50%|█████     | 1002/2000 [02:30<02:30,  6.63it/s]"
     ]
    },
    {
     "name": "stdout",
     "output_type": "stream",
     "text": [
      "epoch: 1000, Energy: 2.622236490249634\n"
     ]
    },
    {
     "name": "stderr",
     "output_type": "stream",
     "text": [
      " 55%|█████▌    | 1102/2000 [02:45<02:10,  6.88it/s]"
     ]
    },
    {
     "name": "stdout",
     "output_type": "stream",
     "text": [
      "epoch: 1100, Energy: 2.5282201766967773\n"
     ]
    },
    {
     "name": "stderr",
     "output_type": "stream",
     "text": [
      " 60%|██████    | 1202/2000 [03:00<01:58,  6.72it/s]"
     ]
    },
    {
     "name": "stdout",
     "output_type": "stream",
     "text": [
      "epoch: 1200, Energy: 2.538292646408081\n"
     ]
    },
    {
     "name": "stderr",
     "output_type": "stream",
     "text": [
      " 65%|██████▌   | 1302/2000 [03:15<01:45,  6.63it/s]"
     ]
    },
    {
     "name": "stdout",
     "output_type": "stream",
     "text": [
      "epoch: 1300, Energy: 2.5921287536621094\n"
     ]
    },
    {
     "name": "stderr",
     "output_type": "stream",
     "text": [
      " 70%|███████   | 1402/2000 [03:30<01:28,  6.75it/s]"
     ]
    },
    {
     "name": "stdout",
     "output_type": "stream",
     "text": [
      "epoch: 1400, Energy: 2.535623550415039\n"
     ]
    },
    {
     "name": "stderr",
     "output_type": "stream",
     "text": [
      " 75%|███████▌  | 1502/2000 [03:45<01:13,  6.75it/s]"
     ]
    },
    {
     "name": "stdout",
     "output_type": "stream",
     "text": [
      "epoch: 1500, Energy: 2.560086488723755\n"
     ]
    },
    {
     "name": "stderr",
     "output_type": "stream",
     "text": [
      " 80%|████████  | 1602/2000 [04:00<00:59,  6.66it/s]"
     ]
    },
    {
     "name": "stdout",
     "output_type": "stream",
     "text": [
      "epoch: 1600, Energy: 2.55084228515625\n"
     ]
    },
    {
     "name": "stderr",
     "output_type": "stream",
     "text": [
      " 85%|████████▌ | 1702/2000 [04:15<00:45,  6.48it/s]"
     ]
    },
    {
     "name": "stdout",
     "output_type": "stream",
     "text": [
      "epoch: 1700, Energy: 2.535943031311035\n"
     ]
    },
    {
     "name": "stderr",
     "output_type": "stream",
     "text": [
      " 90%|█████████ | 1802/2000 [04:31<00:29,  6.73it/s]"
     ]
    },
    {
     "name": "stdout",
     "output_type": "stream",
     "text": [
      "epoch: 1800, Energy: 2.5130503177642822\n"
     ]
    },
    {
     "name": "stderr",
     "output_type": "stream",
     "text": [
      " 95%|█████████▌| 1902/2000 [04:46<00:15,  6.42it/s]"
     ]
    },
    {
     "name": "stdout",
     "output_type": "stream",
     "text": [
      "epoch: 1900, Energy: 2.5962154865264893\n"
     ]
    },
    {
     "name": "stderr",
     "output_type": "stream",
     "text": [
      "100%|██████████| 2000/2000 [05:01<00:00,  6.62it/s]\n"
     ]
    }
   ],
   "source": [
    "epochs = 2000\n",
    "\n",
    "for epoch in tqdm(range(epochs)):\n",
    "    PE_acc = 0\n",
    "    P_acc = 0\n",
    "    E_acc = 0\n",
    "        \n",
    "    model.resetHidden() \n",
    "    x1 = model.sample(N, n)[0].detach()\n",
    "    psi1 = model.forward_DNN(x1)\n",
    "    \n",
    "    model.forward_RNN(x1)\n",
    "    x2 = model.sample(N, n)[0].detach()\n",
    "    psi2 = model.forward_DNN(x2)\n",
    "    \n",
    "    psi_total = psi1*psi2\n",
    "    \n",
    "    model.resetHidden()\n",
    "    psi1_plus = model.forward_DNN(x1+h)\n",
    "    model.forward_RNN(x1 + h)\n",
    "    psi2_plus = model.forward_DNN(x2)\n",
    "    \n",
    "    model.resetHidden()\n",
    "    psi1_minus = model.forward_DNN(x1-h)\n",
    "    model.forward_RNN(x1 - h)\n",
    "    psi2_minus = model.forward_DNN(x2)\n",
    "\n",
    "    lap1 = 1/psi_total*(psi1_plus*psi2_plus - 2*psi_total + psi1_minus*psi2_minus)/h**2\n",
    "    \n",
    "    model.resetHidden()\n",
    "    model.forward_RNN(x1)\n",
    "    psi2_plus = model.forward_DNN(x2+h)\n",
    "    psi2_minus = model.forward_DNN(x2-h)\n",
    "    \n",
    "    lap2 = 1/psi2*(psi2_plus - 2*psi2 + psi2_minus)/h**2\n",
    "    \n",
    "\n",
    "    E_L = (-0.5*(lap1 + lap2) + 0.5*(x1**2 + x2**2) + 1/torch.sqrt((x1 - x2)**2 + 0.1**2)).detach()\n",
    "\n",
    "    PE = torch.mean(torch.log(psi_total)*E_L)\n",
    "    P  = torch.mean(torch.log(psi_total))\n",
    "    E  = torch.mean(E_L)  \n",
    "    \n",
    "    loss = 2*(PE - P*E)\n",
    "    \n",
    "    optimizer.zero_grad()\n",
    "    loss.backward()\n",
    "    optimizer.step()\n",
    "    \n",
    "    \n",
    "    if epoch%100 == 0: \n",
    "        print(f\"epoch: {epoch}, Energy: {E.item()}\")"
   ]
  },
  {
   "cell_type": "code",
   "execution_count": 81,
   "metadata": {},
   "outputs": [
    {
     "data": {
      "application/vnd.jupyter.widget-view+json": {
       "model_id": "69c81338462c45efa5f04d02c73dd8cd",
       "version_major": 2,
       "version_minor": 0
      },
      "text/plain": [
       "interactive(children=(FloatSlider(value=0.0, description='x', max=4.0, min=-4.0, step=0.05), Output()), _dom_c…"
      ]
     },
     "metadata": {},
     "output_type": "display_data"
    },
    {
     "data": {
      "application/vnd.jupyter.widget-view+json": {
       "model_id": "5dd627c63893442c8f55a953c7bde1bc",
       "version_major": 2,
       "version_minor": 0
      },
      "text/plain": [
       "interactive(children=(FloatSlider(value=0.0, description='x', max=4.0, min=-4.0), Output()), _dom_classes=('wi…"
      ]
     },
     "metadata": {},
     "output_type": "display_data"
    }
   ],
   "source": [
    "def f(x):\n",
    "    x_lin = torch.linspace(-8, 8, 5000).reshape(5000,-1)\n",
    "    dx = x_lin[1] - x_lin[0] \n",
    "    model.resetHidden()\n",
    "    psi1 = model.forward_DNN(x_lin)[:,0].detach().numpy()\n",
    "\n",
    "    x = torch.Tensor([[x]])\n",
    "    \n",
    "    model.forward_RNN(x)\n",
    "    psi2 = model.forward_DNN(x_lin)[:,0].detach().numpy()\n",
    "\n",
    "    plt.plot(x_lin[:,0], 1/dx*psi1**2/np.sum(psi1**2), \"b\")\n",
    "    plt.plot(x_lin[:,0], 1/dx*psi2**2/np.sum(psi2**2), \"r\")\n",
    "    plt.plot(x, 0.01, \"bo\")\n",
    "    plt.ylim((0, 0.8))\n",
    "\n",
    "    plt.show()\n",
    "    \n",
    "def g(x):\n",
    "    model.resetHidden()\n",
    "\n",
    "    x = torch.Tensor([[x]])\n",
    "    #y = torch.Tensor([[y]])\n",
    "\n",
    "    plt.plot(model.hidden[0].detach().numpy(), \"bo\")\n",
    "    model.forward_RNN(x)\n",
    "    #model.forward_RNN(y)\n",
    "\n",
    "    plt.plot(model.hidden[0].detach().numpy(), \"ro\")\n",
    "    plt.ylim((-1, 1))\n",
    "\n",
    "    plt.show()\n",
    "\n",
    "interact(f, x=(-4.0, 4., 0.05));\n",
    "interact(g, x=(-4.0, 4., 0.1));"
   ]
  },
  {
   "cell_type": "code",
   "execution_count": 7,
   "metadata": {},
   "outputs": [
    {
     "name": "stderr",
     "output_type": "stream",
     "text": [
      "  0%|          | 0/10000 [00:00<?, ?it/s]\n"
     ]
    },
    {
     "ename": "TypeError",
     "evalue": "sample() missing 1 required positional argument: 'n'",
     "output_type": "error",
     "traceback": [
      "\u001b[0;31m---------------------------------------------------------------------------\u001b[0m",
      "\u001b[0;31mTypeError\u001b[0m                                 Traceback (most recent call last)",
      "\u001b[0;32m<ipython-input-7-157627d6ae87>\u001b[0m in \u001b[0;36m<module>\u001b[0;34m\u001b[0m\n\u001b[1;32m      4\u001b[0m \u001b[0mE\u001b[0m \u001b[0;34m=\u001b[0m \u001b[0;36m0\u001b[0m\u001b[0;34m\u001b[0m\u001b[0;34m\u001b[0m\u001b[0m\n\u001b[1;32m      5\u001b[0m \u001b[0;32mfor\u001b[0m \u001b[0mi\u001b[0m \u001b[0;32min\u001b[0m \u001b[0mtqdm\u001b[0m\u001b[0;34m(\u001b[0m\u001b[0mrange\u001b[0m\u001b[0;34m(\u001b[0m\u001b[0mN\u001b[0m\u001b[0;34m)\u001b[0m\u001b[0;34m)\u001b[0m\u001b[0;34m:\u001b[0m\u001b[0;34m\u001b[0m\u001b[0;34m\u001b[0m\u001b[0m\n\u001b[0;32m----> 6\u001b[0;31m     \u001b[0mx\u001b[0m \u001b[0;34m=\u001b[0m \u001b[0mmodel\u001b[0m\u001b[0;34m.\u001b[0m\u001b[0msample\u001b[0m\u001b[0;34m(\u001b[0m\u001b[0;36m20\u001b[0m\u001b[0;34m)\u001b[0m\u001b[0;34m[\u001b[0m\u001b[0;36m0\u001b[0m\u001b[0;34m]\u001b[0m\u001b[0;34m[\u001b[0m\u001b[0;36m0\u001b[0m\u001b[0;34m,\u001b[0m\u001b[0;36m0\u001b[0m\u001b[0;34m]\u001b[0m\u001b[0;34m.\u001b[0m\u001b[0mdetach\u001b[0m\u001b[0;34m(\u001b[0m\u001b[0;34m)\u001b[0m\u001b[0;34m.\u001b[0m\u001b[0mnumpy\u001b[0m\u001b[0;34m(\u001b[0m\u001b[0;34m)\u001b[0m\u001b[0;34m\u001b[0m\u001b[0;34m\u001b[0m\u001b[0m\n\u001b[0m\u001b[1;32m      7\u001b[0m     \u001b[0mpos\u001b[0m\u001b[0;34m.\u001b[0m\u001b[0mappend\u001b[0m\u001b[0;34m(\u001b[0m\u001b[0mx\u001b[0m\u001b[0;34m)\u001b[0m\u001b[0;34m\u001b[0m\u001b[0;34m\u001b[0m\u001b[0m\n",
      "\u001b[0;31mTypeError\u001b[0m: sample() missing 1 required positional argument: 'n'"
     ]
    }
   ],
   "source": [
    "N = 10000\n",
    "\n",
    "pos = []\n",
    "E = 0\n",
    "for i in tqdm(range(N)):\n",
    "    x = model.sample(20)[0][0,0].detach().numpy()\n",
    "    pos.append(x)"
   ]
  },
  {
   "cell_type": "code",
   "execution_count": null,
   "metadata": {},
   "outputs": [],
   "source": [
    "x_lin = torch.linspace(-3, 3, 100).reshape(100,-1)\n",
    "\n",
    "dx = x_lin[1] - x_lin[0]\n",
    "\n",
    "psi = model.forward_DNN(x_lin)[:,0].detach().numpy()\n",
    "\n",
    "bins = np.linspace(-3, 3, 100)\n",
    "plt.hist(pos, bins=bins)\n",
    "plt.plot(x_lin[:,0], N*psi**2/np.sum(psi**2), \"r\")\n",
    "plt.show()"
   ]
  },
  {
   "cell_type": "markdown",
   "metadata": {},
   "source": [
    "## Estimating energy"
   ]
  },
  {
   "cell_type": "code",
   "execution_count": null,
   "metadata": {},
   "outputs": [],
   "source": [
    "N = 10000\n",
    "\n",
    "E = 0\n",
    "for i in tqdm(range(N)):\n",
    "    x1 = model.sample(20)[0].detach().requires_grad_()\n",
    "    psi1 = model.forward_DNN(x1)\n",
    "        \n",
    "    dfdx, = torch.autograd.grad(psi1, x1, create_graph=True)\n",
    "    d2fdx2, = torch.autograd.grad(dfdx, x1, create_graph=True)\n",
    "        \n",
    "    kinetic1 = -0.5*d2fdx2/psi1\n",
    "    potential1 = 0.5*x1**2\n",
    "        \n",
    "\n",
    "        \n",
    "    E += (kinetic1 + potential1).detach()\n",
    "    \n",
    "E = E/N\n",
    "\n",
    "print(E.item())"
   ]
  },
  {
   "cell_type": "code",
   "execution_count": null,
   "metadata": {},
   "outputs": [],
   "source": [
    "x1 = torch.Tensor([[0]]).requires_grad_()\n",
    "psi1 = model.forward_DNN(x1)\n",
    "\n",
    "\n",
    "dfdx, = torch.autograd.grad(psi1, x1, create_graph=True)\n",
    "d2fdx2, = torch.autograd.grad(dfdx, x1, create_graph=True)\n",
    "\n",
    "print(d2fdx2/psi1)\n",
    "\n"
   ]
  },
  {
   "cell_type": "markdown",
   "metadata": {},
   "source": [
    "## Testing auto grad"
   ]
  },
  {
   "cell_type": "code",
   "execution_count": null,
   "metadata": {},
   "outputs": [],
   "source": [
    "x = torch.Tensor([3]).requires_grad_()\n",
    "y = torch.Tensor([4]).requires_grad_()\n",
    "\n",
    "f = x**3*y**2\n",
    "\n",
    "g = f*y\n",
    "print(f)\n",
    "\n",
    "\n",
    "dfdx = torch.autograd.grad(g, x, create_graph=True)\n",
    "print(dfdx)\n",
    "\n",
    "d2fdx2 = torch.autograd.grad(dfdx, x, create_graph=True)\n",
    "\n",
    "print(d2fdx2)\n",
    "\n",
    "#d2fdx2.backward()\n",
    "#print(x.grad, y.grad)\n",
    "\n",
    "#print(dfdx)\n",
    "\n",
    "\n",
    "#ddfdxdx, = torch.autograd.grad(dfdx, x, create_graph=True)\n",
    "#print(ddfdxdx.grad_fn(x)[1])"
   ]
  },
  {
   "cell_type": "code",
   "execution_count": null,
   "metadata": {},
   "outputs": [],
   "source": [
    "class Model(nn.Module):\n",
    "    \n",
    "    def __init__(self):\n",
    "        super().__init__()\n",
    "        self.layer1 = nn.Linear(1, 10)\n",
    "        self.layer2 = nn.Linear(10, 1)\n",
    "        \n",
    "    def forward(self, x):\n",
    "        y = self.layer1(x).clamp(min=0)\n",
    "        y = self.layer2(y)\n",
    "        return y*x"
   ]
  },
  {
   "cell_type": "code",
   "execution_count": null,
   "metadata": {},
   "outputs": [],
   "source": [
    "torch.manual_seed(42)\n",
    "model = Model()"
   ]
  },
  {
   "cell_type": "code",
   "execution_count": null,
   "metadata": {},
   "outputs": [],
   "source": [
    "#x = torch.Tensor(np.linspace(-0.00001, 0.00001, 100)).reshape(100,-1).requires_grad_()\n",
    "x = torch.Tensor([1]).requires_grad_()\n",
    "\n",
    "f = model(x)\n",
    "\n",
    "ddf = (model(x+0.001) + model(x-0.001) - 2*model(x))/(0.001)**2\n",
    "print(ddf)\n",
    "\n",
    "#plt.plot(f.detach().numpy())\n",
    "\n",
    "dfdx, = torch.autograd.grad(f, x, create_graph = True)\n",
    "print(dfdx)\n",
    "ddfdxdx, = torch.autograd.grad(dfdx, x, create_graph = True)\n",
    "print(ddfdxdx)\n"
   ]
  },
  {
   "cell_type": "code",
   "execution_count": null,
   "metadata": {},
   "outputs": [],
   "source": []
  }
 ],
 "metadata": {
  "kernelspec": {
   "display_name": "env_neural",
   "language": "python",
   "name": "env_neural"
  },
  "language_info": {
   "codemirror_mode": {
    "name": "ipython",
    "version": 3
   },
   "file_extension": ".py",
   "mimetype": "text/x-python",
   "name": "python",
   "nbconvert_exporter": "python",
   "pygments_lexer": "ipython3",
   "version": "3.6.9"
  }
 },
 "nbformat": 4,
 "nbformat_minor": 2
}
