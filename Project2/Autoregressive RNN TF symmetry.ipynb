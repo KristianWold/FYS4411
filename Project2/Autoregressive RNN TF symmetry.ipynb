{
 "cells": [
  {
   "cell_type": "code",
   "execution_count": 14,
   "metadata": {},
   "outputs": [],
   "source": [
    "import tensorflow as tf\n",
    "import numpy as np\n",
    "import matplotlib.pyplot as plt\n",
    "from tqdm import tqdm_notebook as tqdm\n",
    "from ipywidgets import interact, interactive, fixed, interact_manual\n",
    "import ipywidgets as widgets\n",
    "import warnings\n",
    "\n",
    "warnings.filterwarnings(\"ignore\")"
   ]
  },
  {
   "cell_type": "code",
   "execution_count": 20,
   "metadata": {},
   "outputs": [],
   "source": [
    "tf.keras.backend.set_floatx(\"float64\")\n",
    "h = 3\n",
    "\n",
    "class DNModel(tf.keras.Model):\n",
    "    def __init__(self, N):\n",
    "        super().__init__()\n",
    "        \n",
    "        \n",
    "        self.N = N\n",
    "        self.iteration = 0\n",
    "        \n",
    "        self.dense1 = tf.keras.layers.Dense(64)\n",
    "        self.dense2 = tf.keras.layers.Dense(64)\n",
    "        self.out = tf.keras.layers.Dense(1)\n",
    "        \n",
    "        self.w = tf.keras.layers.Dense(h)\n",
    "        self.hidden_initial = tf.Variable(tf.random.normal((1,h), mean=0.0, stddev=1.0, dtype=tf.dtypes.float64))\n",
    "        self.hidden = tf.repeat(self.hidden_initial, N, axis=0)\n",
    "        \n",
    "    def call(self, x):\n",
    "        if self.iteration == 0:\n",
    "            return self.forward(x)\n",
    "        \n",
    "        else:\n",
    "            self.hidden_reset()\n",
    "            psi1 = self.forward(self.x1)\n",
    "            psi2 = self.forward(x)\n",
    "            \n",
    "            self.rnn_forward(self.x1)\n",
    "            psi3 = self.forward(x)\n",
    "            \n",
    "            self.hidden_reset()\n",
    "            self.rnn_forward(x)\n",
    "            psi4 = self.forward(self.x1)\n",
    "            \n",
    "            return psi3 + psi2/psi1*psi4 \n",
    "    \n",
    "    def forward(self, x):\n",
    "        x = tf.concat((self.hidden, x), axis=1)  \n",
    "        x = tf.nn.tanh(self.dense1(x))\n",
    "        x = tf.nn.tanh(self.dense2(x))\n",
    "\n",
    "        return tf.math.exp(self.out(x))\n",
    "        \n",
    "    def rnn_forward(self, x):\n",
    "        self.iteration += 1\n",
    "        self.x1 = x\n",
    "        x = tf.concat((self.hidden, x), axis=1)\n",
    "        self.hidden = tf.tanh(self.w(x))\n",
    "    \n",
    "    def hidden_reset(self):\n",
    "        self.hidden = tf.repeat(self.hidden_initial, N, axis=0)\n",
    "        self.iteration = 0\n",
    "        \n",
    "    \n",
    "    \n",
    "    \n",
    "@tf.function\n",
    "def loss(model, x1, x2):\n",
    "    \n",
    "    with tf.GradientTape() as g:\n",
    "        g.watch(x1)\n",
    "        with tf.GradientTape() as gg:\n",
    "            gg.watch(x1)\n",
    "            \n",
    "            model.hidden_reset()\n",
    "            psi = model.call(x1)\n",
    "            \n",
    "            model.rnn_forward(x1)\n",
    "            psi *= model.call(x2)\n",
    "\n",
    "        d_psi = gg.gradient(psi, x1)\n",
    "    d2_psi1 = g.gradient(d_psi, x1)\n",
    "    \n",
    "    with tf.GradientTape() as g:\n",
    "        g.watch(x2)\n",
    "        with tf.GradientTape() as gg:\n",
    "            gg.watch(x2)\n",
    "            \n",
    "            model.hidden_reset()\n",
    "            psi = model.call(x1)\n",
    "            \n",
    "            model.rnn_forward(x1)\n",
    "            psi *= model.call(x2)\n",
    "\n",
    "        d_psi = gg.gradient(psi, x2)\n",
    "    d2_psi2 = g.gradient(d_psi, x2)\n",
    "    \n",
    "    lap = d2_psi1 + d2_psi2\n",
    "    \n",
    "    model.hidden_reset()\n",
    "    psi = model.call(x1)\n",
    "            \n",
    "    model.rnn_forward(x1)\n",
    "    psi *= model.call(x2)\n",
    "    \n",
    "    E_L = -0.5/psi*lap + 0.5*(x1**2 + x2**2) + 1/tf.math.sqrt((x1-x2)**2 + 0.1**2)\n",
    "    \n",
    "    E_L = tf.stop_gradient(E_L)\n",
    "    E = tf.math.reduce_mean(E_L)\n",
    "    \n",
    "    \n",
    "    psi_detach = tf.stop_gradient(psi)\n",
    "    return E, 2*(tf.math.reduce_mean(psi/psi_detach*E_L) - tf.math.reduce_mean(psi/psi_detach)*E)\n",
    "\n",
    "\n",
    "@tf.function\n",
    "def grad(model, x1, x2):\n",
    "    with tf.GradientTape() as tape:\n",
    "        E, loss_value = loss(model, x1, x2)\n",
    "\n",
    "    return E, tape.gradient(loss_value, model.trainable_variables)\n",
    "\n",
    "\n",
    "\n",
    "def sample(model, N, n):\n",
    "    total = 0\n",
    "    x_old = tf.random.uniform((N,1), minval=-2, maxval=2, dtype=tf.dtypes.float64)\n",
    "    psi_old = model(x_old).numpy()\n",
    "    \n",
    "    for i in range(n):\n",
    "        x_new = x_old + tf.random.uniform((N,1), minval=-1, maxval=1, dtype=tf.dtypes.float64)\n",
    "        psi_new = model(x_new).numpy()\n",
    "      \n",
    "    \n",
    "        U = np.random.uniform(0, 1, (N,1))\n",
    "        mask = ((psi_new/psi_old)**2 > U) #vectorized acceptance criterion\n",
    "        x_old = x_old.numpy()\n",
    "        x_new = x_new.numpy()\n",
    "        \n",
    "        x_old[mask]   = x_new[mask]  #move walkers\n",
    "        psi_old[mask] = psi_new[mask]\n",
    "        x_old = tf.convert_to_tensor(x_old, dtype=tf.dtypes.float64)\n",
    "        total += np.sum(mask)\n",
    "    \n",
    "    return x_old, total"
   ]
  },
  {
   "cell_type": "code",
   "execution_count": 21,
   "metadata": {},
   "outputs": [],
   "source": [
    "N = 5000\n",
    "\n",
    "energy = []\n",
    "\n",
    "tf.random.set_seed(42)\n",
    "np.random.seed(42)\n",
    "model = DNModel(N)\n",
    "optimizer = tf.keras.optimizers.Adam(epsilon=1e-08)"
   ]
  },
  {
   "cell_type": "code",
   "execution_count": 22,
   "metadata": {},
   "outputs": [
    {
     "data": {
      "application/vnd.jupyter.widget-view+json": {
       "model_id": "e9b7e21049bb4790985b4cfd65ebc9aa",
       "version_major": 2,
       "version_minor": 0
      },
      "text/plain": [
       "HBox(children=(FloatProgress(value=0.0, max=3000.0), HTML(value='')))"
      ]
     },
     "metadata": {},
     "output_type": "display_data"
    },
    {
     "name": "stdout",
     "output_type": "stream",
     "text": [
      "epoch: 0, Energy: 8.001753726942574\n",
      "epoch: 100, Energy: 3.751943262432776\n",
      "epoch: 200, Energy: 1.8272592635496676\n",
      "epoch: 300, Energy: 3.2417268032275866\n",
      "epoch: 400, Energy: -11.648798135375682\n",
      "epoch: 500, Energy: 4.603235081957826\n",
      "epoch: 600, Energy: 6.470727055282735\n",
      "epoch: 700, Energy: 6.422428646708572\n",
      "epoch: 800, Energy: 5.808584075996381\n",
      "epoch: 900, Energy: 5.154289156506549\n",
      "epoch: 1000, Energy: 4.685509370434743\n",
      "epoch: 1100, Energy: 4.2503142612774285\n",
      "epoch: 1200, Energy: 4.093895581010194\n",
      "epoch: 1300, Energy: 3.86124592011704\n",
      "epoch: 1400, Energy: 3.7956036156476016\n",
      "epoch: 1500, Energy: 3.8437693761133502\n",
      "epoch: 1600, Energy: 3.7769343028209135\n",
      "epoch: 1700, Energy: 3.6848640849365095\n",
      "epoch: 1800, Energy: 3.7334888881567427\n",
      "epoch: 1900, Energy: 3.674094612934503\n",
      "epoch: 2000, Energy: 3.6568322753160043\n",
      "epoch: 2100, Energy: 3.745910204997727\n",
      "epoch: 2200, Energy: 3.671477222399182\n",
      "epoch: 2300, Energy: 3.677477887014093\n",
      "epoch: 2400, Energy: 3.558751432599387\n",
      "epoch: 2500, Energy: 3.5446535135116575\n",
      "epoch: 2600, Energy: 3.5038459271819686\n",
      "epoch: 2700, Energy: 3.4609604214401175\n",
      "epoch: 2800, Energy: 3.5245000924073224\n",
      "epoch: 2900, Energy: 3.391699300766105\n",
      "\n"
     ]
    }
   ],
   "source": [
    "num_epochs = 3000\n",
    "\n",
    "for epoch in tqdm(range(num_epochs)):\n",
    "    \n",
    "    model.hidden_reset()\n",
    "    x1 = sample(model, N, 15)[0]\n",
    "    model.rnn_forward(x1)\n",
    "    x2 = sample(model, N, 15)[0]\n",
    "\n",
    "    E, gradients = grad(model, x1, x2)\n",
    "    energy.append(E)\n",
    "    \n",
    "    optimizer.apply_gradients(zip(gradients, model.trainable_variables))\n",
    "    \n",
    "    \n",
    "    if epoch%100 == 0: \n",
    "        print(f\"epoch: {epoch}, Energy: {E}\")"
   ]
  },
  {
   "cell_type": "code",
   "execution_count": 23,
   "metadata": {},
   "outputs": [
    {
     "data": {
      "image/png": "[encoded data removed]",
      "text/plain": [
       "<Figure size 432x288 with 1 Axes>"
      ]
     },
     "metadata": {
      "needs_background": "light"
     },
     "output_type": "display_data"
    }
   ],
   "source": [
    "plt.plot(energy)\n",
    "plt.show()"
   ]
  },
  {
   "cell_type": "code",
   "execution_count": 24,
   "metadata": {},
   "outputs": [
    {
     "data": {
      "application/vnd.jupyter.widget-view+json": {
       "model_id": "4eb47af49b4f4572969eb0bf6ab2562a",
       "version_major": 2,
       "version_minor": 0
      },
      "text/plain": [
       "interactive(children=(FloatSlider(value=0.0, description='x', max=4.0, min=-4.0), Output()), _dom_classes=('wi…"
      ]
     },
     "metadata": {},
     "output_type": "display_data"
    },
    {
     "data": {
      "text/plain": [
       "<function __main__.f(x)>"
      ]
     },
     "execution_count": 24,
     "metadata": {},
     "output_type": "execute_result"
    }
   ],
   "source": [
    "def f(x):\n",
    "    x_lin = np.linspace(-4, 4, N)\n",
    "    dx = x_lin[1] - x_lin[0]\n",
    "    tf_x_lin = tf.convert_to_tensor(x_lin.reshape(-1,1), dtype=tf.dtypes.float64)\n",
    "\n",
    "    x1 = tf.convert_to_tensor(x*np.ones((N,1)), dtype=tf.dtypes.float64)\n",
    "\n",
    "    model.hidden_reset()\n",
    "    psi1 = model(tf_x_lin).numpy()[:, 0]\n",
    "    \n",
    "    model.rnn_forward(x1)\n",
    "    psi2 = model(tf_x_lin).numpy()[:, 0]\n",
    "    \n",
    "    psi3 = np.exp(-0.5*x_lin**2)\n",
    "\n",
    "    plt.plot(x_lin, 1/dx*psi1**2/np.sum(psi1**2))\n",
    "    plt.plot(x_lin, 1/dx*psi2**2/np.sum(psi2**2))\n",
    "    plt.plot(x_lin, 1/dx*psi3**2/np.sum(psi3**2), \"--\")\n",
    "    \n",
    "    plt.plot(x, 0.01, \"bo\")\n",
    "    plt.ylim(0, 0.8)\n",
    "    plt.show()\n",
    "\n",
    "interact(f, x=(-4.0, 4., 0.1))"
   ]
  },
  {
   "cell_type": "markdown",
   "metadata": {},
   "source": [
    "#### Estimate energy"
   ]
  },
  {
   "cell_type": "code",
   "execution_count": 25,
   "metadata": {},
   "outputs": [
    {
     "name": "stdout",
     "output_type": "stream",
     "text": [
      "tf.Tensor(3.5484998456371306, shape=(), dtype=float64)\n"
     ]
    }
   ],
   "source": [
    "N = 1000000\n",
    "model.hidden_reset()\n",
    "x1 = sample(model, N, 20)[0]\n",
    "model.rnn_forward(x1)\n",
    "x2 = sample(model, N, 20)[0]\n",
    "\n",
    "with tf.GradientTape() as g:\n",
    "    g.watch(x1)\n",
    "    with tf.GradientTape() as gg:\n",
    "        gg.watch(x1)\n",
    "\n",
    "        model.hidden_reset()\n",
    "        psi = model.call(x1)\n",
    "\n",
    "        model.rnn_forward(x1)\n",
    "        psi *= model.call(x2)\n",
    "\n",
    "    d_psi = gg.gradient(psi, x1)\n",
    "d2_psi1 = g.gradient(d_psi, x1)\n",
    "\n",
    "with tf.GradientTape() as g:\n",
    "    g.watch(x2)\n",
    "    with tf.GradientTape() as gg:\n",
    "        gg.watch(x2)\n",
    "\n",
    "        model.hidden_reset()\n",
    "        psi = model.call(x1)\n",
    "\n",
    "        model.rnn_forward(x1)\n",
    "        psi *= model.call(x2)\n",
    "\n",
    "    d_psi = gg.gradient(psi, x2)\n",
    "d2_psi2 = g.gradient(d_psi, x2)\n",
    "\n",
    "lap = d2_psi1 + d2_psi2\n",
    "\n",
    "model.hidden_reset()\n",
    "psi = model.call(x1)\n",
    "\n",
    "model.rnn_forward(x1)\n",
    "psi *= model.call(x2)\n",
    "\n",
    "E_L = -0.5/psi*lap + 0.5*(x1**2 + x2**2) + 1/tf.math.sqrt((x1-x2)**2 + 0.1**2)\n",
    "\n",
    "E_L = tf.stop_gradient(E_L)\n",
    "E = tf.math.reduce_mean(E_L)\n",
    "\n",
    "print(E)"
   ]
  },
  {
   "cell_type": "code",
   "execution_count": null,
   "metadata": {},
   "outputs": [],
   "source": []
  }
 ],
 "metadata": {
  "kernelspec": {
   "display_name": "env_neural",
   "language": "python",
   "name": "env_neural"
  },
  "language_info": {
   "codemirror_mode": {
    "name": "ipython",
    "version": 3
   },
   "file_extension": ".py",
   "mimetype": "text/x-python",
   "name": "python",
   "nbconvert_exporter": "python",
   "pygments_lexer": "ipython3",
   "version": "3.6.9"
  }
 },
 "nbformat": 4,
 "nbformat_minor": 2
}
