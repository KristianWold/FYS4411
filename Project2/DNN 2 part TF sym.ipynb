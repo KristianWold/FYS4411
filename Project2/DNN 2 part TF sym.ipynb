{
 "cells": [
  {
   "cell_type": "code",
   "execution_count": 96,
   "metadata": {},
   "outputs": [],
   "source": [
    "import tensorflow as tf\n",
    "import numpy as np\n",
    "import matplotlib.pyplot as plt\n",
    "from tqdm import tqdm_notebook as tqdm\n",
    "from ipywidgets import interact, interactive, fixed, interact_manual\n",
    "import ipywidgets as widgets\n",
    "import warnings\n",
    "\n",
    "warnings.filterwarnings(\"ignore\")"
   ]
  },
  {
   "cell_type": "code",
   "execution_count": 97,
   "metadata": {},
   "outputs": [],
   "source": [
    "tf.keras.backend.set_floatx(\"float64\")\n",
    "\n",
    "class Dist(tf.keras.Model):\n",
    "    def __init__(self):\n",
    "        super().__init__()\n",
    "        \n",
    "        self.dense1 = tf.keras.layers.Dense(64)\n",
    "        self.dense2 = tf.keras.layers.Dense(64)\n",
    "        self.out = tf.keras.layers.Dense(1)\n",
    "           \n",
    "    def call(self, x):\n",
    "        x = tf.nn.tanh(self.dense1(x))\n",
    "        x = tf.nn.tanh(self.dense2(x))\n",
    "        \n",
    "        return tf.math.exp(self.out(x))\n",
    "\n",
    "    \n",
    "class DNModel(tf.keras.Model):\n",
    "    def __init__(self):\n",
    "        super().__init__()\n",
    "        \n",
    "        self.dist1 = Dist()\n",
    "        self.dist2 = Dist()\n",
    "        \n",
    "    def call(self, x):\n",
    "        psi1 = self.dist1(tf.reshape(x[:,0], (-1,1)))\n",
    "        psi2 = self.dist2(x)\n",
    "        \n",
    "        psi3 = self.dist1(tf.reshape(x[:,1], (-1,1)))\n",
    "        psi4 = self.dist2(tf.reverse(x, axis=[1]))\n",
    "        \n",
    "        return psi1*psi2 + psi3*psi4\n",
    "    \n",
    "    def cond(self, x):\n",
    "        psi1 = self.dist1(tf.reshape(x[:,0], (-1,1)))\n",
    "        psi2 = self.dist2(x)\n",
    "        \n",
    "        psi3 = self.dist1(tf.reshape(x[:,1], (-1,1)))\n",
    "        psi4 = self.dist2(tf.reverse(x, axis=[1]))\n",
    "        \n",
    "        return psi2 + psi3/psi1*psi4\n",
    "    \n",
    "    \n",
    "    \n",
    "@tf.function\n",
    "def loss(model, x):\n",
    "    \n",
    "    _x = tf.unstack(x, axis=1)\n",
    "    _x_ = [tf.expand_dims(tmp, axis = 1) for tmp in _x]\n",
    "    _x2 = tf.transpose(tf.stack(_x_))[0]\n",
    "    \n",
    "    psi = model(_x2)\n",
    "    \n",
    "    d_psi = [tf.squeeze(tf.gradients(psi, tmp)) for tmp in _x]\n",
    "    d2_psi = 0\n",
    "    for ii in range(2):\n",
    "        d2_psi += tf.stack(tf.gradients(d_psi[ii], _x_[ii]))[0]\n",
    "        \n",
    "    lap = 1/psi*(d2_psi)    \n",
    "    \n",
    "    E_L = -0.5*lap + 0.5*tf.reshape(tf.reduce_sum(x**2, axis=1), (-1,1))\n",
    "    E_L += tf.reshape(1/tf.math.sqrt((x[:,0] - x[:,1])**2 + 0.1**2), (-1,1))\n",
    "    \n",
    "    E_L = tf.stop_gradient(E_L)\n",
    "    E = tf.math.reduce_mean(E_L)\n",
    "    \n",
    "    \n",
    "    psi_detach = tf.stop_gradient(psi)\n",
    "    return E, 2*(tf.math.reduce_mean(psi/psi_detach*E_L) - tf.math.reduce_mean(psi/psi_detach)*E)\n",
    "\n",
    "\n",
    "@tf.function\n",
    "def grad(model, x):\n",
    "    with tf.GradientTape() as tape:\n",
    "        E, loss_value = loss(model, x)\n",
    "\n",
    "    return E, tape.gradient(loss_value, model.trainable_variables)\n",
    "\n",
    "\n",
    "\n",
    "def sample1(model, N, n):\n",
    "    total = 0\n",
    "    x_old = tf.random.uniform((N,1), minval=-2, maxval=2, dtype=tf.dtypes.float64)\n",
    "    psi_old = model.dist1(x_old).numpy()\n",
    "    \n",
    "    for i in range(n):\n",
    "        x_new = x_old + tf.random.uniform((N,1), minval=-1, maxval=1, dtype=tf.dtypes.float64)\n",
    "        psi_new = model.dist1(x_new).numpy()\n",
    "      \n",
    "    \n",
    "        U = np.random.uniform(0, 1, (N,1))\n",
    "        mask = ((psi_new/psi_old)**2 > U) #vectorized acceptance criterion\n",
    "        x_old = x_old.numpy()\n",
    "        x_new = x_new.numpy()\n",
    "        \n",
    "        x_old[mask]   = x_new[mask]  #move walkers\n",
    "        psi_old[mask] = psi_new[mask]\n",
    "        x_old = tf.convert_to_tensor(x_old, dtype=tf.dtypes.float64)\n",
    "        total += np.sum(mask)\n",
    "    \n",
    "    return x_old, total\n",
    "\n",
    "def sample2(model, N, n, x1):\n",
    "    total = 0\n",
    "    x_old = tf.random.uniform((N,1), minval=-2, maxval=2, dtype=tf.dtypes.float64)\n",
    "    x = tf.concat((x1, x_old), axis=1)\n",
    "    psi_old = model.cond(x).numpy()\n",
    "    \n",
    "    for i in range(n):\n",
    "        x_new = x_old + tf.random.uniform((N,1), minval=-1, maxval=1, dtype=tf.dtypes.float64)\n",
    "        x = tf.concat((x1, x_new), axis=1)\n",
    "        psi_new = model.cond(x).numpy()\n",
    "      \n",
    "    \n",
    "        U = np.random.uniform(0, 1, (N,1))\n",
    "        mask = ((psi_new/psi_old)**2 > U) #vectorized acceptance criterion\n",
    "        x_old = x_old.numpy()\n",
    "        x_new = x_new.numpy()\n",
    "        \n",
    "        x_old[mask]   = x_new[mask]  #move walkers\n",
    "        psi_old[mask] = psi_new[mask]\n",
    "        x_old = tf.convert_to_tensor(x_old, dtype=tf.dtypes.float64)\n",
    "        total += np.sum(mask)\n",
    "    \n",
    "    return x_old, total"
   ]
  },
  {
   "cell_type": "code",
   "execution_count": 109,
   "metadata": {},
   "outputs": [],
   "source": [
    "N = 1000\n",
    "num_epochs = 5000\n",
    "energy = []\n",
    "\n",
    "tf.random.set_seed(42)\n",
    "np.random.seed(42)\n",
    "model = DNModel()\n",
    "optimizer = tf.keras.optimizers.Adam(epsilon=1e-08)"
   ]
  },
  {
   "cell_type": "code",
   "execution_count": 110,
   "metadata": {},
   "outputs": [
    {
     "data": {
      "application/vnd.jupyter.widget-view+json": {
       "model_id": "990e567e65ee4a668a502e92d9012e32",
       "version_major": 2,
       "version_minor": 0
      },
      "text/plain": [
       "HBox(children=(FloatProgress(value=0.0, max=5000.0), HTML(value='')))"
      ]
     },
     "metadata": {},
     "output_type": "display_data"
    },
    {
     "name": "stdout",
     "output_type": "stream",
     "text": [
      "epoch: 0, Energy: 9.083688600304495\n",
      "epoch: 100, Energy: 5.531420203380758\n",
      "epoch: 200, Energy: 3.321707231661835\n",
      "epoch: 300, Energy: 3.2106026099546874\n",
      "epoch: 400, Energy: 2.6009169069229525\n",
      "epoch: 500, Energy: 2.5693124365032918\n",
      "epoch: 600, Energy: 2.588422812653753\n",
      "epoch: 700, Energy: 2.5746298241977157\n",
      "epoch: 800, Energy: 2.5642708486913954\n",
      "epoch: 900, Energy: 2.5626297579240926\n",
      "epoch: 1000, Energy: 2.5723575469473494\n",
      "epoch: 1100, Energy: 2.566049677344204\n",
      "epoch: 1200, Energy: 2.5546503041031086\n",
      "epoch: 1300, Energy: 2.5594444226193596\n",
      "epoch: 1400, Energy: 2.591635543357014\n",
      "epoch: 1500, Energy: 2.5860792948408715\n",
      "epoch: 1600, Energy: 2.553602035695395\n",
      "epoch: 1700, Energy: 2.535808497549474\n",
      "epoch: 1800, Energy: 2.567915240905347\n",
      "epoch: 1900, Energy: 2.577345243542335\n",
      "epoch: 2000, Energy: 2.5831803761509664\n",
      "epoch: 2100, Energy: 2.5676537194497944\n",
      "epoch: 2200, Energy: 2.5696597847510607\n",
      "epoch: 2300, Energy: 2.542542525279377\n",
      "epoch: 2400, Energy: 2.5559285191607937\n",
      "epoch: 2500, Energy: 2.5770330074870555\n",
      "epoch: 2600, Energy: 2.5607605042805663\n",
      "epoch: 2700, Energy: 2.553788838325204\n",
      "epoch: 2800, Energy: 2.5366211923661206\n",
      "epoch: 2900, Energy: 2.5893392742033248\n",
      "epoch: 3000, Energy: 2.561664242332063\n",
      "epoch: 3100, Energy: 2.530981833415075\n",
      "epoch: 3200, Energy: 2.536158256442056\n",
      "epoch: 3300, Energy: 2.5560185275265765\n",
      "epoch: 3400, Energy: 2.5616635001275343\n",
      "epoch: 3500, Energy: 2.5565461537544145\n",
      "epoch: 3600, Energy: 2.549160636727754\n",
      "epoch: 3700, Energy: 2.545909152144002\n",
      "epoch: 3800, Energy: 2.5465357214331386\n",
      "epoch: 3900, Energy: 2.543602176264599\n",
      "epoch: 4000, Energy: 2.5454509320459895\n",
      "epoch: 4100, Energy: 2.5404924796751183\n",
      "epoch: 4200, Energy: 2.5455688607257105\n",
      "epoch: 4300, Energy: 2.5548096500401694\n",
      "epoch: 4400, Energy: 2.5398948265234584\n",
      "epoch: 4500, Energy: 2.547867081667635\n",
      "epoch: 4600, Energy: 2.5408233109225113\n",
      "epoch: 4700, Energy: 2.5459166746891357\n",
      "epoch: 4800, Energy: 2.555059874518637\n",
      "epoch: 4900, Energy: 2.545117978091437\n",
      "\n"
     ]
    }
   ],
   "source": [
    "for epoch in tqdm(range(num_epochs)):\n",
    "    x1 = sample1(model, N, 20)[0]\n",
    "    x2 = sample2(model, N, 20, x1)[0]\n",
    "    x = tf.concat((x1, x2), axis=1)\n",
    "\n",
    "    E, gradients = grad(model, x)\n",
    "    energy.append(E)\n",
    "    \n",
    "    optimizer.apply_gradients(zip(gradients, model.trainable_variables))\n",
    "    \n",
    "    if epoch%100 == 0: \n",
    "        print(f\"epoch: {epoch}, Energy: {E}\")"
   ]
  },
  {
   "cell_type": "code",
   "execution_count": 111,
   "metadata": {},
   "outputs": [
    {
     "data": {
      "image/png": "[encoded data removed]",
      "text/plain": [
       "<Figure size 432x288 with 1 Axes>"
      ]
     },
     "metadata": {
      "needs_background": "light"
     },
     "output_type": "display_data"
    }
   ],
   "source": [
    "plt.plot(energy)\n",
    "plt.show()"
   ]
  },
  {
   "cell_type": "code",
   "execution_count": 112,
   "metadata": {},
   "outputs": [
    {
     "data": {
      "application/vnd.jupyter.widget-view+json": {
       "model_id": "86a092c9356d45bcb6339f790b7878fe",
       "version_major": 2,
       "version_minor": 0
      },
      "text/plain": [
       "interactive(children=(FloatSlider(value=0.0, description='x', max=4.0, min=-4.0), Output()), _dom_classes=('wi…"
      ]
     },
     "metadata": {},
     "output_type": "display_data"
    },
    {
     "data": {
      "text/plain": [
       "<function __main__.f(x)>"
      ]
     },
     "execution_count": 112,
     "metadata": {},
     "output_type": "execute_result"
    }
   ],
   "source": [
    "def f(x):\n",
    "    x_lin = np.linspace(-4, 4, 1000)\n",
    "    dx = x_lin[1] - x_lin[0]\n",
    "    tf_x_lin = tf.convert_to_tensor(x_lin.reshape(-1,1), dtype=tf.dtypes.float64)\n",
    "\n",
    "    x1 = tf.convert_to_tensor(x*np.ones((1000,1)), dtype=tf.dtypes.float64)\n",
    "\n",
    "    x_con = tf.concat((x1, tf_x_lin), axis=1)\n",
    "\n",
    "    psi1 = model.dist1(tf_x_lin).numpy()[:, 0]\n",
    "    psi2 = model.cond(x_con).numpy()[:, 0]\n",
    "    \n",
    "    psi_anal = np.exp(-0.5*x_lin**2)\n",
    "\n",
    "\n",
    "    plt.plot(x_lin, 1/dx*psi1**2/np.sum(psi1**2))\n",
    "    plt.plot(x_lin, 1/dx*psi2**2/np.sum(psi2**2))\n",
    "    plt.plot(x_lin, 1/dx*psi_anal**2/np.sum(psi_anal**2), \"--\")\n",
    "    \n",
    "    plt.plot(x, 0.01, \"bo\")\n",
    "    plt.ylim(0, 0.8)\n",
    "    plt.show()\n",
    "\n",
    "interact(f, x=(-4.0, 4., 0.1))"
   ]
  },
  {
   "cell_type": "code",
   "execution_count": 113,
   "metadata": {},
   "outputs": [
    {
     "data": {
      "image/png": "[encoded data removed]",
      "text/plain": [
       "<Figure size 432x288 with 1 Axes>"
      ]
     },
     "metadata": {
      "needs_background": "light"
     },
     "output_type": "display_data"
    }
   ],
   "source": [
    "N = 1000000\n",
    "\n",
    "x1 = sample1(model, N, 20)[0]\n",
    "x2 = sample2(model, N, 20, x1)[0]\n",
    "x = tf.concat((x1, x2), axis=1)\n",
    "\n",
    "x = tf.concat(x, axis=1)\n",
    "x = tf.reshape(x, (-1,1)).numpy()\n",
    "\n",
    "\n",
    "bins = np.linspace(-3, 3, 200)\n",
    "plt.hist(x, bins=bins)\n",
    "plt.show()"
   ]
  },
  {
   "cell_type": "code",
   "execution_count": null,
   "metadata": {},
   "outputs": [],
   "source": []
  }
 ],
 "metadata": {
  "kernelspec": {
   "display_name": "env_neural",
   "language": "python",
   "name": "env_neural"
  },
  "language_info": {
   "codemirror_mode": {
    "name": "ipython",
    "version": 3
   },
   "file_extension": ".py",
   "mimetype": "text/x-python",
   "name": "python",
   "nbconvert_exporter": "python",
   "pygments_lexer": "ipython3",
   "version": "3.6.9"
  }
 },
 "nbformat": 4,
 "nbformat_minor": 2
}
