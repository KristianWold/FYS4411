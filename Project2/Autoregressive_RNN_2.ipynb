{
 "cells": [
  {
   "cell_type": "code",
   "execution_count": 8,
   "metadata": {},
   "outputs": [],
   "source": [
    "import torch\n",
    "import torch.nn as nn\n",
    "import numpy as np\n",
    "import matplotlib.pyplot as plt\n",
    "from tqdm import tqdm_notebook as tqdm\n",
    "from ipywidgets import interact, interactive, fixed, interact_manual\n",
    "import ipywidgets as widgets\n",
    "import warnings\n",
    "\n",
    "warnings.filterwarnings(\"ignore\")"
   ]
  },
  {
   "cell_type": "code",
   "execution_count": 9,
   "metadata": {},
   "outputs": [],
   "source": [
    "hn = 64 #hidden state dim\n",
    "\n",
    "class Model(nn.Module):\n",
    "     \n",
    "    def __init__(self, N):\n",
    "        super().__init__()\n",
    "        self.N = N\n",
    "        self.stepLength = 2        \n",
    "        self.hidden_initial = nn.Parameter(torch.empty(1, hn).normal_(mean=0, std=1)) #make inital hidden trainable\n",
    "        self.hidden = self.hidden_initial.repeat((self.N, 1))  \n",
    "        \n",
    "        self.Whh = nn.Linear(hn, hn)\n",
    "        self.Whx = nn.Linear(1, hn, bias = False)\n",
    "        \n",
    "        self.layer1 = nn.Linear(1, 64)\n",
    "        self.layer2 = nn.Linear(64, hn)\n",
    "        self.layer3 = nn.Linear(hn, hn)\n",
    "        self.layer4 = nn.Linear(hn, 1)\n",
    "        \n",
    "  \n",
    "    \n",
    "    def forward_DNN(self, x):\n",
    "        \"\"\"Approximate wave function\"\"\"\n",
    "        \n",
    "        #concatenate hidden state to input of DNN\n",
    "        #if self.hidden.shape[0] == x.shape[0]:\n",
    "        #    y = torch.cat((self.hidden, x), 1)\n",
    "        #else:\n",
    "        #    y = torch.cat((self.hidden[0].repeat(x.shape[0], 1), x), 1)\n",
    "            \n",
    "        y = torch.tanh(self.layer1(x))\n",
    "        y = torch.tanh(self.layer2(y))*self.hidden\n",
    "        y = torch.tanh(self.layer3(y))\n",
    "        y = self.layer4(y)\n",
    "     \n",
    "        return y\n",
    "    \n",
    "    \n",
    "    def forward_RNN(self, x):\n",
    "        \"\"\"Encode correlation in hidden state\"\"\"\n",
    "        self.hidden = torch.tanh(self.Whh(self.hidden) + self.Whx(x))\n",
    "    \n",
    "    \n",
    "    def sample(self, N, n):\n",
    "        total = 0\n",
    "        x = torch.Tensor(4*np.random.random((N,1)) - 2)\n",
    "        psi_old = self.forward_DNN(x)\n",
    "        \n",
    "        for i in range(n):\n",
    "            x_new = x + self.stepLength*torch.Tensor(2*np.random.random((N,1)) - 1)\n",
    "            psi_new = self.forward_DNN(x_new)\n",
    "            \n",
    "            idx = (psi_new/psi_old)**2 > torch.Tensor(np.random.random((N,1)))\n",
    "            \n",
    "            \n",
    "            x[idx] = x_new[idx]\n",
    "            psi_old[idx] = psi_new[idx]\n",
    "            total += torch.sum(idx)\n",
    "            \n",
    "        return x, total\n",
    "    \n",
    "    def resetHidden(self, N=0):\n",
    "        if N == 0: N = self.N\n",
    "        self.hidden = self.hidden_initial.repeat((N, 1))"
   ]
  },
  {
   "cell_type": "code",
   "execution_count": 10,
   "metadata": {},
   "outputs": [],
   "source": [
    "N = 5000 #Batch size\n",
    "n = 10  #Metropolis step\n",
    "h = 0.01\n",
    "\n",
    "torch.manual_seed(42)\n",
    "np.random.seed(42)\n",
    "model = Model(N)\n",
    "optimizer = torch.optim.Adam(model.parameters())"
   ]
  },
  {
   "cell_type": "markdown",
   "metadata": {},
   "source": [
    "### Training"
   ]
  },
  {
   "cell_type": "code",
   "execution_count": 11,
   "metadata": {},
   "outputs": [
    {
     "data": {
      "application/vnd.jupyter.widget-view+json": {
       "model_id": "0f03c2c60ec64e81bdefe3efc2b9d6bc",
       "version_major": 2,
       "version_minor": 0
      },
      "text/plain": [
       "HBox(children=(FloatProgress(value=0.0, max=2000.0), HTML(value='')))"
      ]
     },
     "metadata": {},
     "output_type": "display_data"
    },
    {
     "name": "stdout",
     "output_type": "stream",
     "text": [
      "epoch: 0, Energy: 13.867956161499023\n",
      "epoch: 100, Energy: 3.134580373764038\n",
      "epoch: 200, Energy: 3.085866689682007\n",
      "epoch: 300, Energy: 2.9974920749664307\n",
      "epoch: 400, Energy: 3.0106682777404785\n",
      "epoch: 500, Energy: 2.862800359725952\n",
      "epoch: 600, Energy: 2.980201244354248\n",
      "epoch: 700, Energy: 2.752120018005371\n",
      "epoch: 800, Energy: 2.7345693111419678\n",
      "epoch: 900, Energy: 2.6492741107940674\n",
      "epoch: 1000, Energy: 2.663769245147705\n",
      "epoch: 1100, Energy: 2.6458234786987305\n",
      "epoch: 1200, Energy: 2.6510846614837646\n",
      "epoch: 1300, Energy: 2.6246235370635986\n",
      "epoch: 1400, Energy: 2.601755142211914\n",
      "epoch: 1500, Energy: 2.607555627822876\n",
      "epoch: 1600, Energy: 2.591341972351074\n",
      "epoch: 1700, Energy: 2.618914842605591\n",
      "epoch: 1800, Energy: 2.6432974338531494\n",
      "epoch: 1900, Energy: 2.587520122528076\n",
      "\n"
     ]
    }
   ],
   "source": [
    "epochs = 2000\n",
    "\n",
    "for epoch in tqdm(range(epochs)):\n",
    "    PE_acc = 0\n",
    "    P_acc = 0\n",
    "    E_acc = 0\n",
    "        \n",
    "    model.resetHidden() \n",
    "    x1 = model.sample(N, n)[0].detach() #sample N positions for first particle\n",
    "    psi1 = model.forward_DNN(x1)\n",
    "    \n",
    "    model.forward_RNN(x1)               #Advance hidden state based on previous sampled positions\n",
    "    x2 = model.sample(N, n)[0].detach() #Sample positions for second particle, corrolated with first particle\n",
    "    psi2 = model.forward_DNN(x2)        \n",
    "    \n",
    "    psi_total = psi1*psi2               #Total wave function\n",
    "    \n",
    "    \n",
    "    #Numerical laplacian\n",
    "    model.resetHidden()\n",
    "    psi1_plus = model.forward_DNN(x1+h) #Change particle 1 coordinate, holding particle 2 constant. \n",
    "    model.forward_RNN(x1+h)           #however, psi2 still changes because of corrolation\n",
    "    psi2_plus = model.forward_DNN(x2)\n",
    "    \n",
    "    model.resetHidden()\n",
    "    psi1_minus = model.forward_DNN(x1-h)\n",
    "    model.forward_RNN(x1 - h)\n",
    "    psi2_minus = model.forward_DNN(x2)\n",
    "\n",
    "    lap1 = 1/psi_total*(psi1_plus*psi2_plus - 2*psi_total + psi1_minus*psi2_minus)/h**2\n",
    "    \n",
    "    model.resetHidden()\n",
    "    model.forward_RNN(x1)\n",
    "    psi2_plus = model.forward_DNN(x2+h) #Change particle 2 coordinate, holding particle 1 constant.\n",
    "    psi2_minus = model.forward_DNN(x2-h)\n",
    "    \n",
    "    lap2 = 1/psi2*(psi2_plus - 2*psi2 + psi2_minus)/h**2    #psi1 factor here, since it is constant\n",
    "    \n",
    "\n",
    "    E_L = (-0.5*(lap1 + lap2) + 0.5*(x1**2 + x2**2) + 1/torch.sqrt((x1 - x2)**2 + 0.1**2)).detach()\n",
    "\n",
    "    PE = torch.mean(torch.log(psi_total)*E_L)\n",
    "    P  = torch.mean(torch.log(psi_total))\n",
    "    E  = torch.mean(E_L)  \n",
    "    \n",
    "    loss = 2*(PE - P*E)\n",
    "    \n",
    "    optimizer.zero_grad()\n",
    "    loss.backward()\n",
    "    optimizer.step()\n",
    "    \n",
    "    \n",
    "    if epoch%100 == 0: \n",
    "        print(f\"epoch: {epoch}, Energy: {E.item()}\")"
   ]
  },
  {
   "cell_type": "code",
   "execution_count": 12,
   "metadata": {},
   "outputs": [
    {
     "data": {
      "application/vnd.jupyter.widget-view+json": {
       "model_id": "60139b2a69b04e6a9bacc6eb3d1c4c02",
       "version_major": 2,
       "version_minor": 0
      },
      "text/plain": [
       "interactive(children=(FloatSlider(value=0.0, description='x', max=4.0, min=-4.0, step=0.05), Output()), _dom_c…"
      ]
     },
     "metadata": {},
     "output_type": "display_data"
    },
    {
     "data": {
      "application/vnd.jupyter.widget-view+json": {
       "model_id": "dd7a430331b34d478105c1f302f59499",
       "version_major": 2,
       "version_minor": 0
      },
      "text/plain": [
       "interactive(children=(FloatSlider(value=0.0, description='x', max=4.0, min=-4.0), Output()), _dom_classes=('wi…"
      ]
     },
     "metadata": {},
     "output_type": "display_data"
    }
   ],
   "source": [
    "def f(x):\n",
    "    x_lin = torch.linspace(-8, 8, N).reshape(N,-1)\n",
    "    dx = x_lin[1] - x_lin[0] \n",
    "    model.resetHidden()\n",
    "    psi1 = model.forward_DNN(x_lin)[:,0].detach().numpy()\n",
    "\n",
    "    x = torch.Tensor([[x]])\n",
    "    \n",
    "    model.forward_RNN(x)\n",
    "    psi2 = model.forward_DNN(x_lin)[:,0].detach().numpy()\n",
    "\n",
    "    plt.plot(x_lin[:,0], 1/dx*psi1**2/np.sum(psi1**2), \"b\")\n",
    "    plt.plot(x_lin[:,0], 1/dx*psi2**2/np.sum(psi2**2), \"r\")\n",
    "    plt.plot(x, 0.01, \"bo\")\n",
    "    plt.ylim((0, 0.8))\n",
    "\n",
    "    plt.show()\n",
    "    \n",
    "def g(x):\n",
    "    model.resetHidden()\n",
    "\n",
    "    x = torch.Tensor([[x]])\n",
    "\n",
    "    plt.plot(model.hidden[0].detach().numpy(), \"bo\")\n",
    "    model.forward_RNN(x)\n",
    "\n",
    "    plt.plot(model.hidden[0].detach().numpy(), \"ro\")\n",
    "    plt.ylim((-1, 1))\n",
    "\n",
    "    plt.show()\n",
    "\n",
    "interact(f, x=(-4.0, 4., 0.05));\n",
    "interact(g, x=(-4.0, 4., 0.1));"
   ]
  },
  {
   "cell_type": "markdown",
   "metadata": {},
   "source": [
    "### Check metropolis sampling"
   ]
  },
  {
   "cell_type": "code",
   "execution_count": 6,
   "metadata": {},
   "outputs": [
    {
     "ename": "RuntimeError",
     "evalue": "The size of tensor a (100) must match the size of tensor b (5000) at non-singleton dimension 0",
     "output_type": "error",
     "traceback": [
      "\u001b[0;31m---------------------------------------------------------------------------\u001b[0m",
      "\u001b[0;31mRuntimeError\u001b[0m                              Traceback (most recent call last)",
      "\u001b[0;32m<ipython-input-6-896ca519dcf6>\u001b[0m in \u001b[0;36m<module>\u001b[0;34m\u001b[0m\n\u001b[1;32m      5\u001b[0m \u001b[0;34m\u001b[0m\u001b[0m\n\u001b[1;32m      6\u001b[0m \u001b[0mmodel\u001b[0m\u001b[0;34m.\u001b[0m\u001b[0mforward_RNN\u001b[0m\u001b[0;34m(\u001b[0m\u001b[0mtorch\u001b[0m\u001b[0;34m.\u001b[0m\u001b[0mTensor\u001b[0m\u001b[0;34m(\u001b[0m\u001b[0;34m[\u001b[0m\u001b[0;34m[\u001b[0m\u001b[0;36m0.4\u001b[0m\u001b[0;34m]\u001b[0m\u001b[0;34m]\u001b[0m\u001b[0;34m)\u001b[0m\u001b[0;34m)\u001b[0m\u001b[0;34m\u001b[0m\u001b[0;34m\u001b[0m\u001b[0m\n\u001b[0;32m----> 7\u001b[0;31m \u001b[0mpsi\u001b[0m \u001b[0;34m=\u001b[0m \u001b[0mmodel\u001b[0m\u001b[0;34m.\u001b[0m\u001b[0mforward_DNN\u001b[0m\u001b[0;34m(\u001b[0m\u001b[0mx_lin\u001b[0m\u001b[0;34m)\u001b[0m\u001b[0;34m[\u001b[0m\u001b[0;34m:\u001b[0m\u001b[0;34m,\u001b[0m\u001b[0;36m0\u001b[0m\u001b[0;34m]\u001b[0m\u001b[0;34m.\u001b[0m\u001b[0mdetach\u001b[0m\u001b[0;34m(\u001b[0m\u001b[0;34m)\u001b[0m\u001b[0;34m.\u001b[0m\u001b[0mnumpy\u001b[0m\u001b[0;34m(\u001b[0m\u001b[0;34m)\u001b[0m\u001b[0;34m\u001b[0m\u001b[0;34m\u001b[0m\u001b[0m\n\u001b[0m\u001b[1;32m      8\u001b[0m \u001b[0;34m\u001b[0m\u001b[0m\n\u001b[1;32m      9\u001b[0m \u001b[0mx\u001b[0m \u001b[0;34m=\u001b[0m \u001b[0mmodel\u001b[0m\u001b[0;34m.\u001b[0m\u001b[0msample\u001b[0m\u001b[0;34m(\u001b[0m\u001b[0mN\u001b[0m\u001b[0;34m,\u001b[0m \u001b[0;36m10\u001b[0m\u001b[0;34m)\u001b[0m\u001b[0;34m[\u001b[0m\u001b[0;36m0\u001b[0m\u001b[0;34m]\u001b[0m\u001b[0;34m.\u001b[0m\u001b[0mdetach\u001b[0m\u001b[0;34m(\u001b[0m\u001b[0;34m)\u001b[0m\u001b[0;34m.\u001b[0m\u001b[0mnumpy\u001b[0m\u001b[0;34m(\u001b[0m\u001b[0;34m)\u001b[0m\u001b[0;34m\u001b[0m\u001b[0;34m\u001b[0m\u001b[0m\n",
      "\u001b[0;32m<ipython-input-2-47deda870d7c>\u001b[0m in \u001b[0;36mforward_DNN\u001b[0;34m(self, x)\u001b[0m\n\u001b[1;32m     30\u001b[0m \u001b[0;34m\u001b[0m\u001b[0m\n\u001b[1;32m     31\u001b[0m         \u001b[0my\u001b[0m \u001b[0;34m=\u001b[0m \u001b[0mtorch\u001b[0m\u001b[0;34m.\u001b[0m\u001b[0mtanh\u001b[0m\u001b[0;34m(\u001b[0m\u001b[0mself\u001b[0m\u001b[0;34m.\u001b[0m\u001b[0mlayer1\u001b[0m\u001b[0;34m(\u001b[0m\u001b[0mx\u001b[0m\u001b[0;34m)\u001b[0m\u001b[0;34m)\u001b[0m\u001b[0;34m\u001b[0m\u001b[0;34m\u001b[0m\u001b[0m\n\u001b[0;32m---> 32\u001b[0;31m         \u001b[0my\u001b[0m \u001b[0;34m=\u001b[0m \u001b[0mtorch\u001b[0m\u001b[0;34m.\u001b[0m\u001b[0mtanh\u001b[0m\u001b[0;34m(\u001b[0m\u001b[0mself\u001b[0m\u001b[0;34m.\u001b[0m\u001b[0mlayer2\u001b[0m\u001b[0;34m(\u001b[0m\u001b[0my\u001b[0m\u001b[0;34m)\u001b[0m\u001b[0;34m)\u001b[0m\u001b[0;34m*\u001b[0m\u001b[0mself\u001b[0m\u001b[0;34m.\u001b[0m\u001b[0mhidden\u001b[0m\u001b[0;34m\u001b[0m\u001b[0;34m\u001b[0m\u001b[0m\n\u001b[0m\u001b[1;32m     33\u001b[0m         \u001b[0my\u001b[0m \u001b[0;34m=\u001b[0m \u001b[0mtorch\u001b[0m\u001b[0;34m.\u001b[0m\u001b[0mtanh\u001b[0m\u001b[0;34m(\u001b[0m\u001b[0mself\u001b[0m\u001b[0;34m.\u001b[0m\u001b[0mlayer3\u001b[0m\u001b[0;34m(\u001b[0m\u001b[0my\u001b[0m\u001b[0;34m)\u001b[0m\u001b[0;34m)\u001b[0m\u001b[0;34m\u001b[0m\u001b[0;34m\u001b[0m\u001b[0m\n\u001b[1;32m     34\u001b[0m         \u001b[0my\u001b[0m \u001b[0;34m=\u001b[0m \u001b[0mself\u001b[0m\u001b[0;34m.\u001b[0m\u001b[0mlayer4\u001b[0m\u001b[0;34m(\u001b[0m\u001b[0my\u001b[0m\u001b[0;34m)\u001b[0m\u001b[0;34m\u001b[0m\u001b[0;34m\u001b[0m\u001b[0m\n",
      "\u001b[0;31mRuntimeError\u001b[0m: The size of tensor a (100) must match the size of tensor b (5000) at non-singleton dimension 0"
     ]
    }
   ],
   "source": [
    "N = 100000\n",
    "model.resetHidden()\n",
    "x_lin = torch.linspace(-3, 3, 100).reshape(100,-1)\n",
    "dx = x_lin[1] - x_lin[0]\n",
    "\n",
    "model.forward_RNN(torch.Tensor([[0.4]]))\n",
    "psi = model.forward_DNN(x_lin)[:,0].detach().numpy()\n",
    "\n",
    "x = model.sample(N, 10)[0].detach().numpy()\n",
    "\n",
    "bins = np.linspace(-3, 3, 100)\n",
    "plt.hist(x, bins=bins)\n",
    "plt.plot(x_lin[:,0], N*psi**2/np.sum(psi**2), \"r\")\n",
    "plt.show()"
   ]
  },
  {
   "cell_type": "markdown",
   "metadata": {},
   "source": [
    "## Estimating energy"
   ]
  },
  {
   "cell_type": "code",
   "execution_count": 13,
   "metadata": {},
   "outputs": [
    {
     "name": "stdout",
     "output_type": "stream",
     "text": [
      "2.5921294689178467\n"
     ]
    }
   ],
   "source": [
    "N = 100000\n",
    "\n",
    "model.resetHidden(N) \n",
    "x1 = model.sample(N, n)[0].detach() #sample N positions for first particle\n",
    "psi1 = model.forward_DNN(x1)\n",
    "\n",
    "model.forward_RNN(x1)               #Advance hidden state based on previous sampled positions\n",
    "x2 = model.sample(N, n)[0].detach() #Sample positions for second particle, corrolated with first particle\n",
    "psi2 = model.forward_DNN(x2)        \n",
    "\n",
    "psi_total = psi1*psi2               #Total wave function\n",
    "\n",
    "#Numerical laplacian\n",
    "model.resetHidden(N)\n",
    "psi1_plus = model.forward_DNN(x1+h) #Change particle 1 coordinate, holding particle 2 constant. \n",
    "model.forward_RNN(x1 + h)           #however, psi2 still changes because of corrolation\n",
    "psi2_plus = model.forward_DNN(x2)\n",
    "\n",
    "model.resetHidden(N)\n",
    "psi1_minus = model.forward_DNN(x1-h)\n",
    "model.forward_RNN(x1 - h)\n",
    "psi2_minus = model.forward_DNN(x2)\n",
    "\n",
    "lap1 = 1/psi_total*(psi1_plus*psi2_plus - 2*psi_total + psi1_minus*psi2_minus)/h**2\n",
    "\n",
    "model.resetHidden(N)\n",
    "model.forward_RNN(x1)\n",
    "psi2_plus = model.forward_DNN(x2+h) #Change particle 2 coordinate, holding particle 1 constant.\n",
    "psi2_minus = model.forward_DNN(x2-h)\n",
    "\n",
    "lap2 = 1/psi2*(psi2_plus - 2*psi2 + psi2_minus)/h**2    #psi1 factor here, since it is constant\n",
    "\n",
    "\n",
    "E = (-0.5*(lap1 + lap2) + 0.5*(x1**2 + x2**2) + 1/torch.sqrt((x1 - x2)**2 + 0.1**2))\n",
    "E = torch.mean(E)\n",
    "print(E.item())\n",
    "\n",
    "x = torch.cat((x1, x2), 0).numpy()"
   ]
  },
  {
   "cell_type": "code",
   "execution_count": 14,
   "metadata": {},
   "outputs": [
    {
     "data": {
      "image/png": "[encoded data removed]",
      "text/plain": [
       "<Figure size 432x288 with 1 Axes>"
      ]
     },
     "metadata": {
      "needs_background": "light"
     },
     "output_type": "display_data"
    }
   ],
   "source": [
    "bins = np.linspace(-3, 3, 100)\n",
    "\n",
    "plt.hist(x, bins=bins)\n",
    "plt.show()"
   ]
  },
  {
   "cell_type": "code",
   "execution_count": null,
   "metadata": {},
   "outputs": [],
   "source": []
  }
 ],
 "metadata": {
  "kernelspec": {
   "display_name": "env_neural",
   "language": "python",
   "name": "env_neural"
  },
  "language_info": {
   "codemirror_mode": {
    "name": "ipython",
    "version": 3
   },
   "file_extension": ".py",
   "mimetype": "text/x-python",
   "name": "python",
   "nbconvert_exporter": "python",
   "pygments_lexer": "ipython3",
   "version": "3.6.9"
  }
 },
 "nbformat": 4,
 "nbformat_minor": 2
}
