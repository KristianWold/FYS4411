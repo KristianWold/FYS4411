{
 "cells": [
  {
   "cell_type": "code",
   "execution_count": 1,
   "metadata": {},
   "outputs": [],
   "source": [
    "import sys\n",
    "sys.path.append(\"..\")\n",
    "import tensorflow as tf\n",
    "import numpy as np\n",
    "import matplotlib.pyplot as plt\n",
    "from system import *"
   ]
  },
  {
   "cell_type": "code",
   "execution_count": 2,
   "metadata": {},
   "outputs": [],
   "source": [
    "from tqdm.notebook import tqdm\n",
    "from ipywidgets import interact, interactive, fixed, interact_manual\n",
    "import ipywidgets as widgets\n",
    "import warnings\n",
    "\n",
    "warnings.filterwarnings(\"ignore\")\n",
    "tf.keras.backend.set_floatx(\"float64\")\n",
    "\n",
    "plt.style.use(\"../lib/rapport.mplstyle\")\n",
    "%load_ext autoreload\n",
    "%autoreload 2\n",
    "\n",
    "def saveto(fig, path, ncol=2):\n",
    "    lgd = fig.legend(loc='lower left',# mode='expand',-\n",
    "                     ncol=ncol,\n",
    "                     bbox_to_anchor=(0.3, 1.02, 1, 0.2))\n",
    "    fig.savefig(f\"../latex/figures/{path}.pdf\", bbox_inches='tight') "
   ]
  },
  {
   "cell_type": "code",
   "execution_count": 3,
   "metadata": {},
   "outputs": [],
   "source": [
    "import logging\n",
    "import os\n",
    "os.environ['TF_CPP_MIN_LOG_LEVEL'] = '3'  # FATAL\n",
    "logging.getLogger('tensorflow').setLevel(logging.FATAL)"
   ]
  },
  {
   "cell_type": "code",
   "execution_count": 4,
   "metadata": {},
   "outputs": [],
   "source": [
    "class Ansatz(tf.keras.Model):\n",
    "    def __init__(self, nodes, hidden_units):\n",
    "        super().__init__()\n",
    "        \n",
    "        self.Layers = []\n",
    "        for node in nodes:\n",
    "            self.Layers.append(tf.keras.layers.Dense(node))\n",
    "        \n",
    "        self.out = tf.keras.layers.Dense(1)\n",
    "        \n",
    "        self.w = tf.keras.layers.Dense(hidden_units)\n",
    "        self.hidden_initial = tf.Variable(tf.ones((1, hidden_units), dtype=tf.dtypes.float64))\n",
    "    \n",
    "    \n",
    "    def call(self, x):\n",
    "        y = tf.concat((self.hidden, x), axis=1)\n",
    "        for layer in self.Layers:\n",
    "            y = tf.math.tanh(layer(y))\n",
    "\n",
    "        return tf.math.exp(self.out(y))\n",
    "\n",
    "    \n",
    "    def rnn_forward(self, x):\n",
    "        x = tf.concat((self.hidden, x), axis=1)\n",
    "        self.hidden = tf.tanh(self.w(x))\n",
    "    \n",
    "    \n",
    "    def hidden_reset(self, batch_size):\n",
    "        self.hidden = tf.repeat(self.hidden_initial, batch_size, axis=0)\n",
    "           \n",
    "    \n",
    "@tf.function\n",
    "def loss(system, x):\n",
    "    batch_size = x.shape[0]\n",
    "    num_part = system.num_part\n",
    "    dim = system.dim\n",
    "    \n",
    "    _x = tf.unstack(x, axis=1)\n",
    "    _x_ = [tf.expand_dims(tmp, axis = 1) for tmp in _x]\n",
    "    _x2 = tf.transpose(tf.stack(_x_))[0]\n",
    "    \n",
    "    psi = 1\n",
    "    system.Ansatz.hidden_reset(batch_size)\n",
    "    for i in range(num_part):\n",
    "        psi *= system.Ansatz(_x2[:,i*dim:(i+1)*dim])\n",
    "        system.Ansatz.rnn_forward(_x2[:,i*dim:(i+1)*dim])\n",
    "    \n",
    "    d_psi = [tf.squeeze(tf.gradients(psi, tmp)) for tmp in _x]\n",
    "    d2_psi = 0\n",
    "    for ii in range(num_part*dim):\n",
    "        d2_psi += tf.stack(tf.gradients(d_psi[ii], _x_[ii]))[0]\n",
    "    \n",
    "    lap = 1/psi*(d2_psi)\n",
    "    \n",
    "    E_L = -0.5*lap + system.External(x) + system.Internal(x, num_part, dim)\n",
    "\n",
    "    E_L = tf.stop_gradient(E_L)\n",
    "    E = tf.math.reduce_mean(E_L)\n",
    "    \n",
    "    loss_value = 2*(tf.math.reduce_mean(tf.math.log(psi)*E_L) - tf.math.reduce_mean(tf.math.log(psi))*E)\n",
    "    \n",
    "    return E, loss_value, E_L\n",
    "\n",
    "\n",
    "@tf.function\n",
    "def grad(system, x):\n",
    "    with tf.GradientTape() as tape:\n",
    "        E, loss_value, _ = loss(system, x)\n",
    "\n",
    "    return E, tape.gradient(loss_value, system.Ansatz.trainable_variables)\n",
    "\n",
    "\n",
    "def train(system, num_epochs, batch_size, optimizer, verbose = True):\n",
    "    energy = []\n",
    "    \n",
    "    for epoch in tqdm(range(num_epochs)):\n",
    "        x = []\n",
    "        \n",
    "        system.Ansatz.hidden_reset(batch_size)\n",
    "        for i in range(system.num_part):\n",
    "            x.append(system.Sampler(batch_size)[0])\n",
    "            system.Ansatz.rnn_forward(x[-1])\n",
    "\n",
    "        x = tf.concat(x, axis=1)\n",
    "        \n",
    "        E, gradients = grad(system, x)\n",
    "        energy.append(E.numpy())\n",
    "\n",
    "        optimizer.apply_gradients(zip(gradients, system.Ansatz.trainable_variables))\n",
    "        \n",
    "        if verbose:\n",
    "            if epoch%100 == 0: \n",
    "                print(f\"epoch: {epoch}, Energy: {E}\")\n",
    "    \n",
    "    return energy\n",
    "\n",
    "\n",
    "def observables(system, batch_size, x = None):\n",
    "    if (x == None):\n",
    "        x = system.Sampler(batch_size)\n",
    "    \n",
    "    _, _, E_L = loss(system, x)\n",
    "    E = tf.math.reduce_mean(E_L).numpy()\n",
    "    E2 = tf.math.reduce_mean(E_L**2).numpy()\n",
    "    Var = E2 - E**2\n",
    "    return E, Var\n",
    "\n",
    "\n",
    "optimizer = tf.keras.optimizers.Adam(0.01)"
   ]
  },
  {
   "cell_type": "markdown",
   "metadata": {},
   "source": [
    "# Non-interacting Bosons in 2D Harmonic Trap"
   ]
  },
  {
   "cell_type": "markdown",
   "metadata": {},
   "source": [
    "### N = 2"
   ]
  },
  {
   "cell_type": "code",
   "execution_count": 5,
   "metadata": {},
   "outputs": [],
   "source": [
    "tf.random.set_seed(42)\n",
    "np.random.seed(42)\n",
    "\n",
    "\n",
    "ansatz = Ansatz(nodes = (32, 32), hidden_units=5)\n",
    "external = HarmonicOsc(omega=1)\n",
    "internal = Coulomb(alpha=0, beta=0)\n",
    "sampler = Metropolis(step_length=1, steps=20)\n",
    "\n",
    "system = System(num_part = 2,\n",
    "                 dim = 2,\n",
    "                 Ansatz=ansatz,\n",
    "                 External=external,\n",
    "                 Internal=internal,\n",
    "                 Sampler=sampler\n",
    "                 )"
   ]
  },
  {
   "cell_type": "code",
   "execution_count": 6,
   "metadata": {},
   "outputs": [
    {
     "data": {
      "application/vnd.jupyter.widget-view+json": {
       "model_id": "5067f605bd2946cc955e686bec320525",
       "version_major": 2,
       "version_minor": 0
      },
      "text/plain": [
       "HBox(children=(FloatProgress(value=0.0, max=500.0), HTML(value='')))"
      ]
     },
     "metadata": {},
     "output_type": "display_data"
    },
    {
     "name": "stdout",
     "output_type": "stream",
     "text": [
      "epoch: 0, Energy: 14.805463208055155\n",
      "epoch: 100, Energy: 2.016578121835096\n",
      "epoch: 200, Energy: 2.0034608017630804\n",
      "epoch: 300, Energy: 2.0083584186707277\n",
      "epoch: 400, Energy: 2.0011967117298117\n",
      "\n"
     ]
    }
   ],
   "source": [
    "num_epochs = 500\n",
    "batch_size = 1000\n",
    "\n",
    "energy1 = train(system, num_epochs, batch_size, optimizer, verbose = True)"
   ]
  },
  {
   "cell_type": "code",
   "execution_count": 7,
   "metadata": {},
   "outputs": [
    {
     "data": {
      "image/png": "[encoded data removed]",
      "text/plain": [
       "<Figure size 232.229x143.525 with 1 Axes>"
      ]
     },
     "metadata": {},
     "output_type": "display_data"
    }
   ],
   "source": [
    "epochs = [i for i in range(num_epochs)]\n",
    "plt.plot(epochs, energy1)\n",
    "plt.xlabel(\"Epoch\")\n",
    "plt.ylabel(\"Energy\")\n",
    "plt.grid()\n",
    "plt.show()\n"
   ]
  },
  {
   "cell_type": "code",
   "execution_count": 8,
   "metadata": {},
   "outputs": [
    {
     "name": "stdout",
     "output_type": "stream",
     "text": [
      "0.604107\n"
     ]
    }
   ],
   "source": [
    "N = 100000\n",
    "system.Ansatz.hidden_reset(N)\n",
    "print(f\"{system.Sampler(N)[1]/(20*N)}\")"
   ]
  },
  {
   "cell_type": "markdown",
   "metadata": {},
   "source": [
    "#### Estimate energy"
   ]
  },
  {
   "cell_type": "code",
   "execution_count": 9,
   "metadata": {},
   "outputs": [],
   "source": [
    "N = 100000\n",
    "system.Ansatz.hidden_reset(N)\n",
    "x = []\n",
    "\n",
    "for i in range(system.num_part):   \n",
    "    x.append(system.Sampler(N)[0])\n",
    "    system.Ansatz.rnn_forward(x[-1])\n",
    "\n",
    "x = tf.concat(x, axis=1)\n",
    "E, _, E_L = loss(system, x)\n",
    "\n",
    "E2 = tf.math.reduce_mean(E_L**2)\n",
    "Var = E2 - E**2"
   ]
  },
  {
   "cell_type": "code",
   "execution_count": 10,
   "metadata": {},
   "outputs": [
    {
     "name": "stdout",
     "output_type": "stream",
     "text": [
      "E=2.00169+-0.00045\n",
      "Var=0.02047\n"
     ]
    }
   ],
   "source": [
    "print(f\"E={E:.5f}+-{np.sqrt(Var/N):.5f}\")\n",
    "print(f\"Var={Var:.5f}\")"
   ]
  },
  {
   "cell_type": "markdown",
   "metadata": {},
   "source": [
    "### N = 6"
   ]
  },
  {
   "cell_type": "code",
   "execution_count": 11,
   "metadata": {},
   "outputs": [],
   "source": [
    "tf.random.set_seed(42)\n",
    "np.random.seed(42)\n",
    "\n",
    "ansatz = Ansatz(nodes = (32, 32), hidden_units=5)\n",
    "external = HarmonicOsc(omega=1)\n",
    "internal = Coulomb(alpha=0, beta=0)\n",
    "sampler = Metropolis(step_length=1, steps=20)\n",
    "\n",
    "system = System(num_part = 6,\n",
    "                 dim = 2,\n",
    "                 Ansatz=ansatz,\n",
    "                 External=external,\n",
    "                 Internal=internal,\n",
    "                 Sampler=sampler\n",
    "                 )"
   ]
  },
  {
   "cell_type": "code",
   "execution_count": 12,
   "metadata": {},
   "outputs": [
    {
     "data": {
      "application/vnd.jupyter.widget-view+json": {
       "model_id": "ea691d3fdd5c4b21ac6f0bbf2eeca4bd",
       "version_major": 2,
       "version_minor": 0
      },
      "text/plain": [
       "HBox(children=(FloatProgress(value=0.0, max=500.0), HTML(value='')))"
      ]
     },
     "metadata": {},
     "output_type": "display_data"
    },
    {
     "name": "stdout",
     "output_type": "stream",
     "text": [
      "epoch: 0, Energy: 44.94935501272508\n",
      "epoch: 100, Energy: 6.049790839302297\n",
      "epoch: 200, Energy: 6.005151407253175\n",
      "epoch: 300, Energy: 6.013533027139949\n",
      "epoch: 400, Energy: 5.9872899439251075\n",
      "\n"
     ]
    }
   ],
   "source": [
    "num_epochs = 500\n",
    "batch_size = 1000\n",
    "\n",
    "energy2 = train(system, num_epochs, batch_size, optimizer, verbose = True)"
   ]
  },
  {
   "cell_type": "code",
   "execution_count": 13,
   "metadata": {},
   "outputs": [
    {
     "data": {
      "image/png": "[encoded data removed]",
      "text/plain": [
       "<Figure size 232.229x143.525 with 1 Axes>"
      ]
     },
     "metadata": {},
     "output_type": "display_data"
    }
   ],
   "source": [
    "epochs = [i for i in range(num_epochs)]\n",
    "plt.plot(epochs, energy2)\n",
    "plt.xlabel(\"Epoch\")\n",
    "plt.ylabel(\"Energy\")\n",
    "plt.grid()\n",
    "plt.show()"
   ]
  },
  {
   "cell_type": "code",
   "execution_count": 14,
   "metadata": {},
   "outputs": [
    {
     "name": "stdout",
     "output_type": "stream",
     "text": [
      "0.597178\n"
     ]
    }
   ],
   "source": [
    "N = 100000\n",
    "system.Ansatz.hidden_reset(N)\n",
    "print(f\"{system.Sampler(N)[1]/(20*N)}\")"
   ]
  },
  {
   "cell_type": "markdown",
   "metadata": {},
   "source": [
    "#### Estimate Energy"
   ]
  },
  {
   "cell_type": "code",
   "execution_count": 15,
   "metadata": {},
   "outputs": [],
   "source": [
    "N = 100000\n",
    "system.Ansatz.hidden_reset(N)\n",
    "x = []\n",
    "\n",
    "for i in range(system.num_part):   \n",
    "    x.append(system.Sampler(N)[0])\n",
    "    system.Ansatz.rnn_forward(x[-1])\n",
    "\n",
    "x = tf.concat(x, axis=1)\n",
    "E, _, E_L = loss(system, x)\n",
    "\n",
    "E2 = tf.math.reduce_mean(E_L**2)\n",
    "Var = E2 - E**2"
   ]
  },
  {
   "cell_type": "code",
   "execution_count": 16,
   "metadata": {
    "scrolled": true
   },
   "outputs": [
    {
     "name": "stdout",
     "output_type": "stream",
     "text": [
      "E=6.00442+-0.00075\n",
      "Var=0.05613\n"
     ]
    }
   ],
   "source": [
    "print(f\"E={E:.5f}+-{np.sqrt(Var/N):.5f}\")\n",
    "print(f\"Var={Var:.5f}\")"
   ]
  },
  {
   "cell_type": "markdown",
   "metadata": {},
   "source": [
    "# Non-interacting Bosons in 3D Harmonic Trap"
   ]
  },
  {
   "cell_type": "markdown",
   "metadata": {},
   "source": [
    "### N=2"
   ]
  },
  {
   "cell_type": "code",
   "execution_count": 17,
   "metadata": {},
   "outputs": [],
   "source": [
    "tf.random.set_seed(42)\n",
    "np.random.seed(42)\n",
    "\n",
    "ansatz = Ansatz(nodes = (32, 32), hidden_units=5)\n",
    "external = HarmonicOsc(omega=1)\n",
    "internal = Coulomb(alpha=0, beta=0)\n",
    "sampler = Metropolis(step_length=1, steps=20)\n",
    "\n",
    "system = System(num_part = 2,\n",
    "                 dim = 3,\n",
    "                 Ansatz=ansatz,\n",
    "                 External=external,\n",
    "                 Internal=internal,\n",
    "                 Sampler=sampler\n",
    "                 )"
   ]
  },
  {
   "cell_type": "code",
   "execution_count": 18,
   "metadata": {},
   "outputs": [
    {
     "data": {
      "application/vnd.jupyter.widget-view+json": {
       "model_id": "c6818bfe4d3340b1bdfe7ca4a7c7c6e2",
       "version_major": 2,
       "version_minor": 0
      },
      "text/plain": [
       "HBox(children=(FloatProgress(value=0.0, max=500.0), HTML(value='')))"
      ]
     },
     "metadata": {},
     "output_type": "display_data"
    },
    {
     "name": "stdout",
     "output_type": "stream",
     "text": [
      "epoch: 0, Energy: 21.91457104901991\n",
      "epoch: 100, Energy: 3.0305405041637634\n",
      "epoch: 200, Energy: 3.0025723290849173\n",
      "epoch: 300, Energy: 3.0032749089848263\n",
      "epoch: 400, Energy: 2.994681940144333\n",
      "\n"
     ]
    }
   ],
   "source": [
    "num_epochs = 500\n",
    "batch_size = 1000\n",
    "\n",
    "energy3 = train(system, num_epochs, batch_size, optimizer, verbose = True)"
   ]
  },
  {
   "cell_type": "code",
   "execution_count": 19,
   "metadata": {},
   "outputs": [
    {
     "data": {
      "image/png": "[encoded data removed]",
      "text/plain": [
       "<Figure size 232.229x143.525 with 1 Axes>"
      ]
     },
     "metadata": {},
     "output_type": "display_data"
    }
   ],
   "source": [
    "epochs = [i for i in range(num_epochs)]\n",
    "#plt.figure(figsize=(20,10))\n",
    "plt.plot(epochs, energy3)\n",
    "plt.xlabel(\"Epoch\")\n",
    "plt.ylabel(\"Energy\")\n",
    "plt.grid()\n",
    "plt.show()"
   ]
  },
  {
   "cell_type": "code",
   "execution_count": 20,
   "metadata": {},
   "outputs": [
    {
     "name": "stdout",
     "output_type": "stream",
     "text": [
      "0.5122285\n"
     ]
    }
   ],
   "source": [
    "N = 100000\n",
    "system.Ansatz.hidden_reset(N)\n",
    "print(f\"{system.Sampler(N)[1]/(20*N)}\")"
   ]
  },
  {
   "cell_type": "markdown",
   "metadata": {},
   "source": [
    "#### Estimate Energy"
   ]
  },
  {
   "cell_type": "code",
   "execution_count": 21,
   "metadata": {},
   "outputs": [],
   "source": [
    "N = 100000\n",
    "system.Ansatz.hidden_reset(N)\n",
    "x = []\n",
    "\n",
    "for i in range(system.num_part):   \n",
    "    x.append(system.Sampler(N)[0])\n",
    "    system.Ansatz.rnn_forward(x[-1])\n",
    "\n",
    "x = tf.concat(x, axis=1)\n",
    "E, _, E_L = loss(system, x)\n",
    "\n",
    "E2 = tf.math.reduce_mean(E_L**2)\n",
    "Var = E2 - E**2"
   ]
  },
  {
   "cell_type": "code",
   "execution_count": 22,
   "metadata": {},
   "outputs": [
    {
     "name": "stdout",
     "output_type": "stream",
     "text": [
      "E=3.00206+-0.00054\n",
      "Var=0.02954\n"
     ]
    }
   ],
   "source": [
    "print(f\"E={E:.5f}+-{np.sqrt(Var/N):.5f}\")\n",
    "print(f\"Var={Var:.5f}\")"
   ]
  },
  {
   "cell_type": "markdown",
   "metadata": {},
   "source": [
    "### N=6"
   ]
  },
  {
   "cell_type": "code",
   "execution_count": 23,
   "metadata": {},
   "outputs": [],
   "source": [
    "tf.random.set_seed(42)\n",
    "np.random.seed(42)\n",
    "\n",
    "ansatz = Ansatz(nodes = (32, 32), hidden_units=5)\n",
    "external = HarmonicOsc(omega=1)\n",
    "internal = Coulomb(alpha=0, beta=0)\n",
    "sampler = Metropolis(step_length=1, steps=20)\n",
    "\n",
    "system = System(num_part = 6,\n",
    "                 dim = 3,\n",
    "                 Ansatz=ansatz,\n",
    "                 External=external,\n",
    "                 Internal=internal,\n",
    "                 Sampler=sampler\n",
    "                 )"
   ]
  },
  {
   "cell_type": "code",
   "execution_count": 24,
   "metadata": {},
   "outputs": [
    {
     "data": {
      "application/vnd.jupyter.widget-view+json": {
       "model_id": "957a1a5f7b654e70b60a6fdd9e9291b3",
       "version_major": 2,
       "version_minor": 0
      },
      "text/plain": [
       "HBox(children=(FloatProgress(value=0.0, max=1000.0), HTML(value='')))"
      ]
     },
     "metadata": {},
     "output_type": "display_data"
    },
    {
     "name": "stdout",
     "output_type": "stream",
     "text": [
      "epoch: 0, Energy: 66.29183977006753\n",
      "epoch: 100, Energy: 9.196254471947741\n",
      "epoch: 200, Energy: 9.030672407948034\n",
      "epoch: 300, Energy: 9.0366406733763\n",
      "epoch: 400, Energy: 9.029453370132165\n",
      "epoch: 500, Energy: 9.03103264656306\n",
      "epoch: 600, Energy: 9.018106952136655\n",
      "epoch: 700, Energy: 9.030706559447566\n",
      "epoch: 800, Energy: 9.031197154093102\n",
      "epoch: 900, Energy: 9.014128776377209\n",
      "\n"
     ]
    }
   ],
   "source": [
    "num_epochs = 1000\n",
    "batch_size = 1000\n",
    "\n",
    "energy4 = train(system, num_epochs, batch_size, optimizer, verbose = True)"
   ]
  },
  {
   "cell_type": "code",
   "execution_count": 25,
   "metadata": {},
   "outputs": [
    {
     "name": "stdout",
     "output_type": "stream",
     "text": [
      "0.51163\n"
     ]
    }
   ],
   "source": [
    "N = 100000\n",
    "system.Ansatz.hidden_reset(N)\n",
    "print(f\"{system.Sampler(N)[1]/(20*N)}\")"
   ]
  },
  {
   "cell_type": "code",
   "execution_count": 26,
   "metadata": {},
   "outputs": [
    {
     "data": {
      "image/png": "[encoded data removed]",
      "text/plain": [
       "<Figure size 232.229x143.525 with 1 Axes>"
      ]
     },
     "metadata": {},
     "output_type": "display_data"
    }
   ],
   "source": [
    "epochs = [i for i in range(500)]\n",
    "\n",
    "fig = plt.figure()\n",
    "plt.plot(epochs, energy1, label = \"N=2, 2D\")\n",
    "plt.plot(epochs, energy3, label = \"N=2, 3D\")\n",
    "plt.ylim([1.5, 6])\n",
    "plt.xlabel(\"Epoch\")\n",
    "plt.ylabel(\"Energy\")\n",
    "plt.grid()\n",
    "saveto(fig, \"many_part_nonint_training1\", ncol=2)\n",
    "plt.show()"
   ]
  },
  {
   "cell_type": "code",
   "execution_count": 27,
   "metadata": {},
   "outputs": [
    {
     "data": {
      "image/png": "[encoded data removed]",
      "text/plain": [
       "<Figure size 232.229x143.525 with 1 Axes>"
      ]
     },
     "metadata": {},
     "output_type": "display_data"
    }
   ],
   "source": [
    "fig = plt.figure()\n",
    "plt.plot(epochs, energy2, label = \"N=6, 2D\")\n",
    "plt.plot(epochs, energy4[:500], label = \"N=6, 3D\")\n",
    "plt.ylim([5, 15])\n",
    "plt.xlabel(\"Epoch\")\n",
    "plt.ylabel(\"Energy\")\n",
    "plt.grid()\n",
    "saveto(fig, \"many_part_nonint_training2\", ncol=2)\n",
    "plt.show()"
   ]
  },
  {
   "cell_type": "markdown",
   "metadata": {},
   "source": [
    "#### Estimate Energy"
   ]
  },
  {
   "cell_type": "code",
   "execution_count": 28,
   "metadata": {},
   "outputs": [],
   "source": [
    "N = 100000\n",
    "system.Ansatz.hidden_reset(N)\n",
    "x = []\n",
    "\n",
    "for i in range(system.num_part):   \n",
    "    x.append(system.Sampler(N)[0])\n",
    "    system.Ansatz.rnn_forward(x[-1])\n",
    "\n",
    "x = tf.concat(x, axis=1)\n",
    "E, _, E_L = loss(system, x)\n",
    "\n",
    "E2 = tf.math.reduce_mean(E_L**2)\n",
    "Var = E2 - E**2"
   ]
  },
  {
   "cell_type": "code",
   "execution_count": 29,
   "metadata": {},
   "outputs": [
    {
     "name": "stdout",
     "output_type": "stream",
     "text": [
      "E=9.01209+-0.00105\n",
      "Var=0.10971\n"
     ]
    }
   ],
   "source": [
    "print(f\"E={E:.5f}+-{np.sqrt(Var/N):.5f}\")\n",
    "print(f\"Var={Var:.5f}\")"
   ]
  },
  {
   "cell_type": "markdown",
   "metadata": {},
   "source": [
    "# Two Interacting Bosons in 1D Harmonic Trap"
   ]
  },
  {
   "cell_type": "code",
   "execution_count": 71,
   "metadata": {},
   "outputs": [],
   "source": [
    "tf.random.set_seed(42)\n",
    "np.random.seed(42)\n",
    "\n",
    "ansatz = Ansatz(nodes = (64, 32), hidden_units=5)\n",
    "external = HarmonicOsc(omega=1)\n",
    "internal = Coulomb(alpha=1, beta=0.1)\n",
    "sampler = Metropolis(step_length=1, steps=20)\n",
    "\n",
    "system = System(num_part = 2,\n",
    "                 dim = 1,\n",
    "                 Ansatz=ansatz,\n",
    "                 External=external,\n",
    "                 Internal=internal,\n",
    "                 Sampler=sampler\n",
    "                 )"
   ]
  },
  {
   "cell_type": "code",
   "execution_count": 72,
   "metadata": {},
   "outputs": [
    {
     "data": {
      "application/vnd.jupyter.widget-view+json": {
       "model_id": "951f0069a60a43e9948c30bc86e9e236",
       "version_major": 2,
       "version_minor": 0
      },
      "text/plain": [
       "HBox(children=(FloatProgress(value=0.0, max=2000.0), HTML(value='')))"
      ]
     },
     "metadata": {},
     "output_type": "display_data"
    },
    {
     "name": "stdout",
     "output_type": "stream",
     "text": [
      "epoch: 0, Energy: 8.651561972462135\n",
      "epoch: 100, Energy: 2.819850844431851\n",
      "epoch: 200, Energy: 2.610093672029968\n",
      "epoch: 300, Energy: 2.5811620275970317\n",
      "epoch: 400, Energy: 2.594511858006279\n",
      "epoch: 500, Energy: 2.5715874471005056\n",
      "epoch: 600, Energy: 2.535263222612012\n",
      "epoch: 700, Energy: 2.552845596310441\n",
      "epoch: 800, Energy: 2.54617144014202\n",
      "epoch: 900, Energy: 2.537620386490214\n",
      "epoch: 1000, Energy: 2.554176246035817\n",
      "epoch: 1100, Energy: 2.557354155583611\n",
      "epoch: 1200, Energy: 2.541006600446504\n",
      "epoch: 1300, Energy: 2.5539318642002726\n",
      "epoch: 1400, Energy: 2.5288684438086717\n",
      "epoch: 1500, Energy: 2.5549885050743715\n",
      "epoch: 1600, Energy: 2.5461491007281603\n",
      "epoch: 1700, Energy: 2.5572299768016453\n",
      "epoch: 1800, Energy: 2.5613881063631396\n",
      "epoch: 1900, Energy: 2.5335653260290063\n",
      "\n"
     ]
    }
   ],
   "source": [
    "num_epochs = 2000\n",
    "batch_size = 2000\n",
    "\n",
    "energy = train(system, num_epochs, batch_size, optimizer, verbose = True)"
   ]
  },
  {
   "cell_type": "code",
   "execution_count": 73,
   "metadata": {},
   "outputs": [
    {
     "name": "stderr",
     "output_type": "stream",
     "text": [
      "No handles with labels found to put in legend.\n"
     ]
    },
    {
     "data": {
      "image/png": "[encoded data removed]",
      "text/plain": [
       "<Figure size 232.229x143.525 with 1 Axes>"
      ]
     },
     "metadata": {},
     "output_type": "display_data"
    }
   ],
   "source": [
    "epochs = [i for i in range(num_epochs)]\n",
    "fig = plt.figure()\n",
    "plt.plot(epochs[10:], energy[10:])\n",
    "plt.xlabel(\"Epoch\")\n",
    "plt.ylabel(\"Energy\")\n",
    "plt.grid()\n",
    "saveto(fig, \"many_part_int_training1\", ncol=2)\n",
    "plt.show()"
   ]
  },
  {
   "cell_type": "markdown",
   "metadata": {},
   "source": [
    "#### Estimate Energy"
   ]
  },
  {
   "cell_type": "code",
   "execution_count": 74,
   "metadata": {},
   "outputs": [],
   "source": [
    "N = 100000\n",
    "system.Ansatz.hidden_reset(N)\n",
    "x = []\n",
    "\n",
    "for i in range(system.num_part):   \n",
    "    x.append(system.Sampler(N)[0])\n",
    "    system.Ansatz.rnn_forward(x[-1])\n",
    "\n",
    "x = tf.concat(x, axis=1)\n",
    "E, _, E_L = loss(system, x)\n",
    "\n",
    "E2 = tf.math.reduce_mean(E_L**2)\n",
    "Var = E2 - E**2"
   ]
  },
  {
   "cell_type": "code",
   "execution_count": 75,
   "metadata": {},
   "outputs": [
    {
     "name": "stdout",
     "output_type": "stream",
     "text": [
      "E=2.55192+-0.00097\n",
      "Var=0.09480\n"
     ]
    }
   ],
   "source": [
    "print(f\"E={E:.5f}+-{np.sqrt(Var/N):.5f}\")\n",
    "print(f\"Var={Var:.5f}\")"
   ]
  },
  {
   "cell_type": "markdown",
   "metadata": {},
   "source": [
    "#### One-Body Density"
   ]
  },
  {
   "cell_type": "code",
   "execution_count": 76,
   "metadata": {},
   "outputs": [
    {
     "data": {
      "application/vnd.jupyter.widget-view+json": {
       "model_id": "cf3fddc04de34a43938150b9f7829356",
       "version_major": 2,
       "version_minor": 0
      },
      "text/plain": [
       "HBox(children=(FloatProgress(value=0.0, max=800000.0), HTML(value='')))"
      ]
     },
     "metadata": {},
     "output_type": "display_data"
    },
    {
     "name": "stdout",
     "output_type": "stream",
     "text": [
      "\n"
     ]
    }
   ],
   "source": [
    "tf.random.set_seed(42)\n",
    "np.random.seed(42)\n",
    "\n",
    "N = 400000\n",
    "system.Ansatz.hidden_reset(N)\n",
    "x = []\n",
    "\n",
    "for i in range(system.num_part):   \n",
    "    x.append(system.Sampler(N)[0])\n",
    "    system.Ansatz.rnn_forward(x[-1])\n",
    "\n",
    "pos = tf.concat(x, axis=0)\n",
    "bins = np.linspace(-8, 8, 100)\n",
    "density = oneBodyDensity(pos, bins, mode=\"1D\")/N"
   ]
  },
  {
   "cell_type": "code",
   "execution_count": 78,
   "metadata": {},
   "outputs": [
    {
     "name": "stderr",
     "output_type": "stream",
     "text": [
      "No handles with labels found to put in legend.\n"
     ]
    },
    {
     "data": {
      "image/png": "[encoded data removed]",
      "text/plain": [
       "<Figure size 232.229x143.525 with 1 Axes>"
      ]
     },
     "metadata": {},
     "output_type": "display_data"
    }
   ],
   "source": [
    "fig = plt.figure()\n",
    "plt.plot(bins, density)\n",
    "plt.xlabel(\"Position\")\n",
    "plt.ylabel(\"Ampltitude\")\n",
    "saveto(fig, \"many_part_int_training1\", ncol=2)\n",
    "plt.show()"
   ]
  },
  {
   "cell_type": "markdown",
   "metadata": {},
   "source": [
    "### Conditional Distributions"
   ]
  },
  {
   "cell_type": "code",
   "execution_count": 83,
   "metadata": {},
   "outputs": [
    {
     "data": {
      "image/png": "[encoded data removed]",
      "text/plain": [
       "<Figure size 232.229x143.525 with 1 Axes>"
      ]
     },
     "metadata": {},
     "output_type": "display_data"
    },
    {
     "data": {
      "image/png": "[encoded data removed]",
      "text/plain": [
       "<Figure size 232.229x143.525 with 1 Axes>"
      ]
     },
     "metadata": {},
     "output_type": "display_data"
    }
   ],
   "source": [
    "N = 1000\n",
    "x = np.linspace(-8, 8, N).reshape(-1,1)\n",
    "dx = x[1] - x[0]\n",
    "x = tf.convert_to_tensor(x, dtype=tf.dtypes.float64)\n",
    "system.Ansatz.hidden_reset(N)\n",
    "P1 = system.Ansatz(x).numpy()**2\n",
    "P1 = P1/(dx*np.sum(P1))\n",
    "\n",
    "\n",
    "x_a = 0\n",
    "system.Ansatz.rnn_forward(x_a*tf.ones((N,1), dtype=tf.dtypes.float64))\n",
    "P2_a = system.Ansatz(x).numpy()**2\n",
    "P2_a = P2_a/(dx*np.sum(P2_a))\n",
    "\n",
    "system.Ansatz.hidden_reset(N)\n",
    "x_b = 0.5\n",
    "system.Ansatz.rnn_forward(x_b*tf.ones((N,1), dtype=tf.dtypes.float64))\n",
    "P2_b = system.Ansatz(x).numpy()**2\n",
    "P2_b = P2_b/(dx*np.sum(P2_b))\n",
    "\n",
    "system.Ansatz.hidden_reset(N)\n",
    "x_c = -0.5\n",
    "system.Ansatz.rnn_forward(x_c*tf.ones((N,1), dtype=tf.dtypes.float64))\n",
    "P2_c = system.Ansatz(x).numpy()**2\n",
    "P2_c = P2_c/(dx*np.sum(P2_c))\n",
    "\n",
    "\n",
    "fig = plt.figure()\n",
    "plt.plot(x, P1, label = \"P(x1)\")\n",
    "plt.xlabel(\"Position\")\n",
    "plt.ylabel(\"Probability Density\")\n",
    "plt.grid()\n",
    "saveto(fig, \"many_part_con1\", ncol=2)\n",
    "plt.show()\n",
    "\n",
    "\n",
    "fig = plt.figure()\n",
    "plt.plot(x, P2_a, \"b\", label = \"P(x2|x1)\")\n",
    "plt.plot(x_a, 0, \"bo\", label = \"x1=0\")\n",
    "plt.plot(x, P2_b, \"r\", label = \"P(x2|x1)\")\n",
    "plt.plot(x_b, 0, \"ro\", label = \"x1=0.5\")\n",
    "plt.plot(x, P2_c, \"y\", label = \"P(x2|x1)\")\n",
    "plt.plot(x_c, 0, \"yo\", label = \"x1=-0.5\")\n",
    "plt.xlabel(\"Position\")\n",
    "plt.ylabel(\"Probability Density\")\n",
    "plt.grid()\n",
    "saveto(fig, \"many_part_con2\", ncol=2)\n",
    "plt.show()"
   ]
  },
  {
   "cell_type": "markdown",
   "metadata": {},
   "source": [
    "### Metropolis Sampling"
   ]
  },
  {
   "cell_type": "code",
   "execution_count": 38,
   "metadata": {},
   "outputs": [
    {
     "data": {
      "application/vnd.jupyter.widget-view+json": {
       "model_id": "6093c3ae72214e47968668e8de5edac3",
       "version_major": 2,
       "version_minor": 0
      },
      "text/plain": [
       "HBox(children=(FloatProgress(value=0.0, max=100000.0), HTML(value='')))"
      ]
     },
     "metadata": {},
     "output_type": "display_data"
    },
    {
     "name": "stdout",
     "output_type": "stream",
     "text": [
      "\n"
     ]
    },
    {
     "data": {
      "application/vnd.jupyter.widget-view+json": {
       "model_id": "94a31422f98a40e1a9b3f9da000f04f4",
       "version_major": 2,
       "version_minor": 0
      },
      "text/plain": [
       "HBox(children=(FloatProgress(value=0.0, max=100000.0), HTML(value='')))"
      ]
     },
     "metadata": {},
     "output_type": "display_data"
    },
    {
     "name": "stdout",
     "output_type": "stream",
     "text": [
      "\n"
     ]
    },
    {
     "data": {
      "application/vnd.jupyter.widget-view+json": {
       "model_id": "1519e6dc89f046fc942b2224c0ff8c3f",
       "version_major": 2,
       "version_minor": 0
      },
      "text/plain": [
       "HBox(children=(FloatProgress(value=0.0, max=100000.0), HTML(value='')))"
      ]
     },
     "metadata": {},
     "output_type": "display_data"
    },
    {
     "name": "stdout",
     "output_type": "stream",
     "text": [
      "\n"
     ]
    }
   ],
   "source": [
    "N = 100\n",
    "x = np.linspace(-4, 4, N).reshape(-1,1)\n",
    "dx = x[1] - x[0]\n",
    "x = tf.convert_to_tensor(x, dtype=tf.dtypes.float64)\n",
    "\n",
    "x1 = 0.5\n",
    "system.Ansatz.hidden_reset(N)\n",
    "system.Ansatz.rnn_forward(x1*tf.ones((N,1), dtype=tf.dtypes.float64))\n",
    "P2 = system.Ansatz(x).numpy()**2\n",
    "P2 = P2/(dx*np.sum(P2))\n",
    "\n",
    "M = 100000\n",
    "system.Ansatz.hidden_reset(M)\n",
    "system.Ansatz.rnn_forward(x1*tf.ones((M,1), dtype=tf.dtypes.float64))\n",
    "\n",
    "system.Sampler.steps = 10\n",
    "sample1 = system.Sampler(M)[0]\n",
    "\n",
    "system.Sampler.steps = 20\n",
    "sample2 = system.Sampler(M)[0]\n",
    "\n",
    "system.Sampler.steps = 50\n",
    "sample3 = system.Sampler(M)[0]\n",
    "\n",
    "density1 = oneBodyDensity(sample1, x, mode=\"1D\")/M\n",
    "density2 = oneBodyDensity(sample2, x, mode=\"1D\")/M\n",
    "density3 = oneBodyDensity(sample3, x, mode=\"1D\")/M"
   ]
  },
  {
   "cell_type": "code",
   "execution_count": 39,
   "metadata": {},
   "outputs": [
    {
     "data": {
      "image/png": "[encoded data removed]",
      "text/plain": [
       "<Figure size 232.229x143.525 with 1 Axes>"
      ]
     },
     "metadata": {},
     "output_type": "display_data"
    }
   ],
   "source": [
    "plt.plot(x, P2)\n",
    "plt.plot(x, density1, \"--\")\n",
    "plt.plot(x, density2, \"--\")\n",
    "plt.plot(x, density3, \"--\")\n",
    "plt.xlabel(\"x\")\n",
    "plt.ylabel(\"Amplitude\")\n",
    "plt.legend([\"P(x2|x1)\", \"Metropolis, steps=10\", \"Metropolis, steps=30\", \"Metropolis, steps=100\"])\n",
    "plt.grid()\n",
    "plt.show()"
   ]
  },
  {
   "cell_type": "markdown",
   "metadata": {},
   "source": [
    "# Two Interacting Bosons in 2D Harmonic Trap"
   ]
  },
  {
   "cell_type": "code",
   "execution_count": 40,
   "metadata": {},
   "outputs": [],
   "source": [
    "tf.random.set_seed(42)\n",
    "np.random.seed(42)\n",
    "\n",
    "ansatz = Ansatz(nodes = (32, 32), hidden_units=10)\n",
    "external = HarmonicOsc(omega=1)\n",
    "internal = Coulomb(alpha=1, beta=0)\n",
    "sampler = Metropolis(step_length=1, steps=20)\n",
    "\n",
    "system = System(num_part = 2,\n",
    "                 dim = 2,\n",
    "                 Ansatz=ansatz,\n",
    "                 External=external,\n",
    "                 Internal=internal,\n",
    "                 Sampler=sampler\n",
    "                 )"
   ]
  },
  {
   "cell_type": "code",
   "execution_count": 41,
   "metadata": {},
   "outputs": [
    {
     "data": {
      "application/vnd.jupyter.widget-view+json": {
       "model_id": "a7a1306b6c454062a8f8ed92e4e9976b",
       "version_major": 2,
       "version_minor": 0
      },
      "text/plain": [
       "HBox(children=(FloatProgress(value=0.0, max=1000.0), HTML(value='')))"
      ]
     },
     "metadata": {},
     "output_type": "display_data"
    },
    {
     "name": "stdout",
     "output_type": "stream",
     "text": [
      "epoch: 0, Energy: 16.20887408510816\n",
      "epoch: 100, Energy: 3.1008916358678937\n",
      "epoch: 200, Energy: 3.094719195695554\n",
      "epoch: 300, Energy: 3.0473743054970863\n",
      "epoch: 400, Energy: 3.0388947874242973\n",
      "epoch: 500, Energy: 3.0136752907780737\n",
      "epoch: 600, Energy: 3.002580513590165\n",
      "epoch: 700, Energy: 3.040039634424844\n",
      "epoch: 800, Energy: 2.9885632583752018\n",
      "epoch: 900, Energy: 3.0022059775795995\n",
      "\n"
     ]
    }
   ],
   "source": [
    "num_epochs = 1000\n",
    "batch_size = 4000\n",
    "\n",
    "energy = train(system, num_epochs, batch_size, optimizer, verbose = True)"
   ]
  },
  {
   "cell_type": "code",
   "execution_count": 42,
   "metadata": {},
   "outputs": [
    {
     "data": {
      "image/png": "[encoded data removed]",
      "text/plain": [
       "<Figure size 232.229x143.525 with 1 Axes>"
      ]
     },
     "metadata": {},
     "output_type": "display_data"
    }
   ],
   "source": [
    "epochs = [i for i in range(num_epochs)]\n",
    "plt.plot(epochs[10:], energy[10:])\n",
    "plt.xlabel(\"Epoch\")\n",
    "plt.ylabel(\"Energy\")\n",
    "plt.grid()\n",
    "plt.show()"
   ]
  },
  {
   "cell_type": "code",
   "execution_count": 43,
   "metadata": {},
   "outputs": [
    {
     "name": "stdout",
     "output_type": "stream",
     "text": [
      "130885/200000\n"
     ]
    }
   ],
   "source": [
    "N = 10000\n",
    "system.Ansatz.hidden_reset(N)\n",
    "print(f\"{system.Sampler(N)[1]}/{20*N}\")"
   ]
  },
  {
   "cell_type": "markdown",
   "metadata": {},
   "source": [
    "#### Estimate Energy"
   ]
  },
  {
   "cell_type": "code",
   "execution_count": 44,
   "metadata": {},
   "outputs": [],
   "source": [
    "N = 10000\n",
    "system.Ansatz.hidden_reset(N)\n",
    "x = []\n",
    "\n",
    "for i in range(system.num_part):   \n",
    "    x.append(system.Sampler(N)[0])\n",
    "    system.Ansatz.rnn_forward(x[-1])\n",
    "\n",
    "x = tf.concat(x, axis=1)\n",
    "E, _, E_L = loss(system, x)\n",
    "\n",
    "E2 = tf.math.reduce_mean(E_L**2)\n",
    "Var = E2 - E**2"
   ]
  },
  {
   "cell_type": "code",
   "execution_count": 45,
   "metadata": {},
   "outputs": [
    {
     "name": "stdout",
     "output_type": "stream",
     "text": [
      "E=3.01657+-0.00541\n",
      "Var=0.29251\n"
     ]
    }
   ],
   "source": [
    "print(f\"E={E:.5f}+-{np.sqrt(Var/N):.5f}\")\n",
    "print(f\"Var={Var:.5f}\")"
   ]
  },
  {
   "cell_type": "markdown",
   "metadata": {},
   "source": [
    "# Two Interacting Bosons in 3D Harmonic Trap"
   ]
  },
  {
   "cell_type": "code",
   "execution_count": 46,
   "metadata": {},
   "outputs": [],
   "source": [
    "tf.random.set_seed(42)\n",
    "np.random.seed(42)\n",
    "\n",
    "ansatz = Ansatz(nodes = (64, 32), hidden_units=15)\n",
    "external = HarmonicOsc(omega=1)\n",
    "internal = Coulomb(alpha=1, beta=0)\n",
    "sampler = Metropolis(step_length=1, steps=20)\n",
    "\n",
    "system = System(num_part = 2,\n",
    "                 dim = 3,\n",
    "                 Ansatz=ansatz,\n",
    "                 External=external,\n",
    "                 Internal=internal,\n",
    "                 Sampler=sampler\n",
    "                 )"
   ]
  },
  {
   "cell_type": "code",
   "execution_count": 47,
   "metadata": {},
   "outputs": [
    {
     "data": {
      "application/vnd.jupyter.widget-view+json": {
       "model_id": "9a22d56f97b1481da002e6ffd3d2a2df",
       "version_major": 2,
       "version_minor": 0
      },
      "text/plain": [
       "HBox(children=(FloatProgress(value=0.0, max=1000.0), HTML(value='')))"
      ]
     },
     "metadata": {},
     "output_type": "display_data"
    },
    {
     "name": "stdout",
     "output_type": "stream",
     "text": [
      "epoch: 0, Energy: 22.735042125015564\n",
      "epoch: 100, Energy: 3.791365964698627\n",
      "epoch: 200, Energy: 3.7584059379636803\n",
      "epoch: 300, Energy: 3.767281370539332\n",
      "epoch: 400, Energy: 3.749969362425228\n",
      "epoch: 500, Energy: 3.768536902722535\n",
      "epoch: 600, Energy: 3.7563729464540585\n",
      "epoch: 700, Energy: 3.7573082804288624\n",
      "epoch: 800, Energy: 3.7593651797883867\n",
      "epoch: 900, Energy: 3.744413039104372\n",
      "\n"
     ]
    }
   ],
   "source": [
    "num_epochs = 1000\n",
    "batch_size = 4000\n",
    "\n",
    "energy = train(system, num_epochs, batch_size, optimizer, verbose = True)"
   ]
  },
  {
   "cell_type": "code",
   "execution_count": 48,
   "metadata": {},
   "outputs": [
    {
     "data": {
      "image/png": "[encoded data removed]",
      "text/plain": [
       "<Figure size 232.229x143.525 with 1 Axes>"
      ]
     },
     "metadata": {},
     "output_type": "display_data"
    }
   ],
   "source": [
    "epochs = [i for i in range(num_epochs)]\n",
    "plt.plot(epochs[10:], energy[10:])\n",
    "plt.xlabel(\"Epoch\")\n",
    "plt.ylabel(\"Energy\")\n",
    "plt.grid()\n",
    "plt.show()"
   ]
  },
  {
   "cell_type": "code",
   "execution_count": 49,
   "metadata": {},
   "outputs": [],
   "source": [
    "N = 100000\n",
    "system.Ansatz.hidden_reset(N)\n",
    "x = []\n",
    "\n",
    "for i in range(system.num_part):   \n",
    "    x.append(system.Sampler(N)[0])\n",
    "    system.Ansatz.rnn_forward(x[-1])\n",
    "\n",
    "x = tf.concat(x, axis=1)\n",
    "E, _, E_L = loss(system, x)\n",
    "\n",
    "E2 = tf.math.reduce_mean(E_L**2)\n",
    "Var = E2 - E**2"
   ]
  },
  {
   "cell_type": "code",
   "execution_count": 50,
   "metadata": {},
   "outputs": [
    {
     "name": "stdout",
     "output_type": "stream",
     "text": [
      "E=3.74831+-0.00129\n",
      "Var=0.16751\n"
     ]
    }
   ],
   "source": [
    "print(f\"E={E:.5f}+-{np.sqrt(Var/N):.5f}\")\n",
    "print(f\"Var={Var:.5f}\")"
   ]
  },
  {
   "cell_type": "markdown",
   "metadata": {},
   "source": [
    "### One-Body Density"
   ]
  },
  {
   "cell_type": "code",
   "execution_count": 51,
   "metadata": {},
   "outputs": [
    {
     "data": {
      "application/vnd.jupyter.widget-view+json": {
       "model_id": "b75f4089f1424970862d66c2614d5e81",
       "version_major": 2,
       "version_minor": 0
      },
      "text/plain": [
       "HBox(children=(FloatProgress(value=0.0, max=2000000.0), HTML(value='')))"
      ]
     },
     "metadata": {},
     "output_type": "display_data"
    },
    {
     "name": "stdout",
     "output_type": "stream",
     "text": [
      "\n"
     ]
    }
   ],
   "source": [
    "tf.random.set_seed(42)\n",
    "np.random.seed(42)\n",
    "\n",
    "N = 1000000\n",
    "system.Ansatz.hidden_reset(N)\n",
    "x = []\n",
    "\n",
    "for i in range(system.num_part):   \n",
    "    x.append(system.Sampler(N)[0])\n",
    "    system.Ansatz.rnn_forward(x[-1])\n",
    "\n",
    "pos = tf.concat(x, axis=0)\n",
    "bins = np.linspace(0, 3, 100)\n",
    "density = oneBodyDensity(pos, bins, mode=\"radial3D\")/N"
   ]
  },
  {
   "cell_type": "code",
   "execution_count": 52,
   "metadata": {},
   "outputs": [
    {
     "data": {
      "image/png": "[encoded data removed]",
      "text/plain": [
       "<Figure size 232.229x143.525 with 1 Axes>"
      ]
     },
     "metadata": {},
     "output_type": "display_data"
    }
   ],
   "source": [
    "plt.plot(bins, density)\n",
    "plt.grid()\n",
    "plt.show()"
   ]
  },
  {
   "cell_type": "code",
   "execution_count": null,
   "metadata": {},
   "outputs": [],
   "source": []
  }
 ],
 "metadata": {
  "kernelspec": {
   "display_name": "env_neural",
   "language": "python",
   "name": "env_neural"
  },
  "language_info": {
   "codemirror_mode": {
    "name": "ipython",
    "version": 3
   },
   "file_extension": ".py",
   "mimetype": "text/x-python",
   "name": "python",
   "nbconvert_exporter": "python",
   "pygments_lexer": "ipython3",
   "version": "3.6.9"
  }
 },
 "nbformat": 4,
 "nbformat_minor": 2
}
