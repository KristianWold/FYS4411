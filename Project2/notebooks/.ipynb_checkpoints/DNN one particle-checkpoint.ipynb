{
 "cells": [
  {
   "cell_type": "markdown",
   "metadata": {},
   "source": [
    "# DNN Model for One Particle in Harmonic Oscillator"
   ]
  },
  {
   "cell_type": "code",
   "execution_count": 1,
   "metadata": {},
   "outputs": [],
   "source": [
    "import sys\n",
    "sys.path.append(\"..\")\n",
    "import tensorflow as tf\n",
    "import numpy as np\n",
    "import matplotlib.pyplot as plt\n",
    "from system import *"
   ]
  },
  {
   "cell_type": "code",
   "execution_count": 2,
   "metadata": {},
   "outputs": [],
   "source": [
    "from tqdm.notebook import tqdm\n",
    "from ipywidgets import interact, interactive, fixed, interact_manual\n",
    "import ipywidgets as widgets\n",
    "import warnings\n",
    "\n",
    "warnings.filterwarnings(\"ignore\")\n",
    "tf.keras.backend.set_floatx(\"float64\")\n",
    "\n",
    "plt.style.use(\"../lib/rapport.mplstyle\")\n",
    "%load_ext autoreload\n",
    "%autoreload 2\n",
    "\n",
    "def saveto(fig, path, ncol=2,  bbox_to_anchor=(0.3, 1.02, 1, 0.2)):\n",
    "    lgd = fig.legend(loc='lower left',# mode='expand',-\n",
    "                     ncol=ncol,\n",
    "                     bbox_to_anchor=bbox_to_anchor)\n",
    "    fig.savefig(f\"../latex/figures/{path}.pdf\", bbox_inches='tight') "
   ]
  },
  {
   "cell_type": "code",
   "execution_count": 3,
   "metadata": {},
   "outputs": [],
   "source": [
    "import logging\n",
    "import os\n",
    "os.environ['TF_CPP_MIN_LOG_LEVEL'] = '3'  # FATAL\n",
    "logging.getLogger('tensorflow').setLevel(logging.FATAL)"
   ]
  },
  {
   "cell_type": "code",
   "execution_count": 4,
   "metadata": {},
   "outputs": [],
   "source": [
    "class Ansatz(tf.keras.Model):\n",
    "    def __init__(self, nodes, activation = \"tanh\"):\n",
    "        super().__init__()\n",
    "        self.activation = activation\n",
    "        \n",
    "        self.Layers = []\n",
    "        for node in nodes:\n",
    "            self.Layers.append(tf.keras.layers.Dense(node))\n",
    "    \n",
    "        self.out = tf.keras.layers.Dense(1)\n",
    "\n",
    "    def call(self, x):\n",
    "        for layer in self.Layers:\n",
    "            if self.activation == \"tanh\":\n",
    "                x = tf.math.tanh(layer(x))\n",
    "            \n",
    "            if self.activation == \"relu\":\n",
    "                x = tf.nn.relu(layer(x))\n",
    "                \n",
    "        return tf.math.exp(self.out(x))   \n",
    "    \n",
    "  \n",
    "@tf.function\n",
    "def loss(system, x):\n",
    "    batch_size = x.shape[1]\n",
    "    _x = tf.unstack(x, axis=1)\n",
    "    _x_ = [tf.expand_dims(tmp, axis = 1) for tmp in _x]\n",
    "    _x2 = tf.transpose(tf.stack(_x_))[0]\n",
    "\n",
    "\n",
    "    psi = system.Ansatz(_x2)\n",
    "    d_psi = [tf.squeeze(tf.gradients(psi, tmp)) for tmp in _x]\n",
    "    d2_psi = 0\n",
    "    for ii in range(batch_size):\n",
    "        d2_psi += tf.stack(tf.gradients(d_psi[ii], _x_[ii]))[0]\n",
    "    \n",
    "    K_L = -0.5*d2_psi/psi\n",
    "    \n",
    "    E_L = K_L + system.External(x) \n",
    "    E_L = tf.stop_gradient(E_L)\n",
    "    E = tf.math.reduce_mean(E_L)\n",
    "    \n",
    "    loss_value = 2*(tf.math.reduce_mean(tf.math.log(psi)*E_L) - tf.math.reduce_mean(tf.math.log(psi))*E)\n",
    "    \n",
    "    return E, loss_value, E_L, K_L\n",
    "\n",
    "\n",
    "@tf.function\n",
    "def grad(system, x):\n",
    "    with tf.GradientTape() as tape:\n",
    "        E, loss_value, _, _  = loss(system, x)\n",
    "\n",
    "    return E, tape.gradient(loss_value, system.Ansatz.trainable_variables)\n",
    "\n",
    "\n",
    "def train(system, num_epochs, batch_size, optimizer, verbose = True):\n",
    "    energy = []\n",
    "    \n",
    "    for epoch in tqdm(range(num_epochs)):\n",
    "        x = system.Sampler(batch_size)[0]\n",
    "\n",
    "        E, gradients = grad(system, x)\n",
    "        energy.append(E)\n",
    "\n",
    "        optimizer.apply_gradients(zip(gradients, system.Ansatz.trainable_variables))\n",
    "        \n",
    "        if verbose:\n",
    "            if epoch%100 == 0: \n",
    "                print(f\"epoch: {epoch}, Energy: {E}\")\n",
    "    \n",
    "    return energy\n",
    "\n",
    "\n",
    "def observables(system, batch_size, x = None):\n",
    "    if (x == None):\n",
    "        x = system.Sampler(batch_size)\n",
    "    \n",
    "    _, _, E_L, K_L = loss(system, x)\n",
    "    E = tf.math.reduce_mean(E_L).numpy()\n",
    "    E2 = tf.math.reduce_mean(E_L**2).numpy()\n",
    "    Var = E2 - E**2\n",
    "    return E, Var, K_L\n",
    "\n",
    "\n",
    "optimizer = tf.keras.optimizers.Adam(0.01)"
   ]
  },
  {
   "cell_type": "markdown",
   "metadata": {},
   "source": [
    "## 1D"
   ]
  },
  {
   "cell_type": "markdown",
   "metadata": {},
   "source": [
    "### Smooth activation function (tanh)"
   ]
  },
  {
   "cell_type": "markdown",
   "metadata": {},
   "source": [
    "#### Model paramters"
   ]
  },
  {
   "cell_type": "code",
   "execution_count": 5,
   "metadata": {},
   "outputs": [],
   "source": [
    "tf.random.set_seed(42)\n",
    "np.random.seed(42)\n",
    "\n",
    "ansatz = Ansatz(nodes = (32, 32))\n",
    "external = HarmonicOsc(1)\n",
    "sampler = Metropolis(2, 20)\n",
    "\n",
    "system = System(num_part = 1,\n",
    "                 dim = 1,\n",
    "                 Ansatz=ansatz,\n",
    "                 External=external,\n",
    "                 Internal=None,\n",
    "                 Sampler=sampler\n",
    "                 )"
   ]
  },
  {
   "cell_type": "markdown",
   "metadata": {},
   "source": [
    "#### Training"
   ]
  },
  {
   "cell_type": "code",
   "execution_count": 6,
   "metadata": {},
   "outputs": [
    {
     "data": {
      "application/vnd.jupyter.widget-view+json": {
       "model_id": "24998a06b2a1453e934ce1671fb707e0",
       "version_major": 2,
       "version_minor": 0
      },
      "text/plain": [
       "HBox(children=(FloatProgress(value=0.0, max=500.0), HTML(value='')))"
      ]
     },
     "metadata": {},
     "output_type": "display_data"
    },
    {
     "name": "stdout",
     "output_type": "stream",
     "text": [
      "epoch: 0, Energy: 17.304247703594108\n",
      "epoch: 100, Energy: 0.6841054991451108\n",
      "epoch: 200, Energy: 0.5018349982690065\n",
      "epoch: 300, Energy: 0.5003625587901629\n",
      "epoch: 400, Energy: 0.5008422415888774\n",
      "\n"
     ]
    }
   ],
   "source": [
    "num_epochs = 500\n",
    "batch_size = 500\n",
    "\n",
    "energy1 = train(system, num_epochs, batch_size, optimizer, verbose = True)"
   ]
  },
  {
   "cell_type": "code",
   "execution_count": 7,
   "metadata": {},
   "outputs": [
    {
     "name": "stdout",
     "output_type": "stream",
     "text": [
      "0.5189155\n"
     ]
    }
   ],
   "source": [
    "tf.random.set_seed(42)\n",
    "np.random.seed(42)\n",
    "\n",
    "N = 100000\n",
    "_, accepted = system.Sampler(N)\n",
    "print(f\"{accepted/(20*N)}\")"
   ]
  },
  {
   "cell_type": "code",
   "execution_count": 8,
   "metadata": {},
   "outputs": [],
   "source": [
    "x = tf.convert_to_tensor(np.linspace(-5, 5, 1000).reshape(-1,1), dtype=tf.dtypes.float64)\n",
    "dx = x[1] - x[0]\n",
    "\n",
    "psi1 = system.Ansatz(x).numpy()\n",
    "psi1 *= np.sqrt(1/(dx*np.sum(psi1**2)))\n",
    "psi_analytical = np.pi**(-0.25)*np.exp(-0.5*x**2)\n",
    "\n",
    "_, _, _, K_L1 = loss(system, x)\n",
    "K_L_analytical = 0.5 - 0.5*x**2 "
   ]
  },
  {
   "cell_type": "markdown",
   "metadata": {},
   "source": [
    "#### Numerical vs Analytical Wave Function"
   ]
  },
  {
   "cell_type": "code",
   "execution_count": 9,
   "metadata": {},
   "outputs": [
    {
     "data": {
      "image/png": "[encoded data removed]",
      "text/plain": [
       "<Figure size 232.229x143.525 with 1 Axes>"
      ]
     },
     "metadata": {},
     "output_type": "display_data"
    }
   ],
   "source": [
    "fig = plt.figure()\n",
    "plt.plot(x, psi1)\n",
    "plt.plot(x, psi_analytical, \"--\")\n",
    "plt.legend([\"Numerical\", \"Analytical\"])\n",
    "plt.xlabel(\"Position\")\n",
    "plt.ylabel(\"Amplitude\")\n",
    "plt.grid()\n",
    "\n",
    "plt.show()"
   ]
  },
  {
   "cell_type": "markdown",
   "metadata": {},
   "source": [
    "#### Local Kinetic Energy Using Tanh as Activation"
   ]
  },
  {
   "cell_type": "code",
   "execution_count": 10,
   "metadata": {},
   "outputs": [
    {
     "data": {
      "image/png": "[encoded data removed]",
      "text/plain": [
       "<Figure size 232.229x143.525 with 1 Axes>"
      ]
     },
     "metadata": {},
     "output_type": "display_data"
    }
   ],
   "source": [
    "fig = plt.figure()\n",
    "plt.plot(x, K_L1)\n",
    "plt.plot(x, K_L_analytical, \"r--\")\n",
    "plt.xlabel(\"Position\")\n",
    "plt.ylabel(\"Local Kinetic Energy\")\n",
    "plt.legend([\"Numerical, Tanh\", \"Analytical\"])\n",
    "plt.ylim([-8,1])\n",
    "plt.xlim([-5,5])\n",
    "plt.grid()\n",
    "plt.show()"
   ]
  },
  {
   "cell_type": "markdown",
   "metadata": {},
   "source": [
    "#### Ground state energy"
   ]
  },
  {
   "cell_type": "code",
   "execution_count": 11,
   "metadata": {},
   "outputs": [
    {
     "name": "stdout",
     "output_type": "stream",
     "text": [
      "Energy: 0.5015015875631356+-0.00023438336068043513\n",
      "Var:  0.054935559763854946\n"
     ]
    }
   ],
   "source": [
    "N = 1000000\n",
    "x, _ = system.Sampler(N)\n",
    "E, Var, _ = observables(system, N, x)\n",
    "print(f\"Energy: {E}+-{np.sqrt(Var/N)}\")\n",
    "print(\"Var: \", Var)"
   ]
  },
  {
   "cell_type": "markdown",
   "metadata": {},
   "source": [
    "# Testing Relu activation"
   ]
  },
  {
   "cell_type": "markdown",
   "metadata": {},
   "source": [
    "#### Model Parameters"
   ]
  },
  {
   "cell_type": "code",
   "execution_count": 12,
   "metadata": {},
   "outputs": [],
   "source": [
    "tf.random.set_seed(42)\n",
    "np.random.seed(42)\n",
    "\n",
    "nodes = (32, 32)\n",
    "\n",
    "ansatz = Ansatz(nodes, activation = \"relu\")\n",
    "external = HarmonicOsc(1)\n",
    "sampler = Metropolis(2, 20)\n",
    "\n",
    "system = System(num_part = 1,\n",
    "                 dim = 1,\n",
    "                 Ansatz=ansatz,\n",
    "                 External=external,\n",
    "                 Internal=None,\n",
    "                 Sampler=sampler\n",
    "                 )"
   ]
  },
  {
   "cell_type": "markdown",
   "metadata": {},
   "source": [
    "#### Training"
   ]
  },
  {
   "cell_type": "code",
   "execution_count": 13,
   "metadata": {},
   "outputs": [
    {
     "data": {
      "application/vnd.jupyter.widget-view+json": {
       "model_id": "717c14c1e4154680831df45b04940031",
       "version_major": 2,
       "version_minor": 0
      },
      "text/plain": [
       "HBox(children=(FloatProgress(value=0.0, max=500.0), HTML(value='')))"
      ]
     },
     "metadata": {},
     "output_type": "display_data"
    },
    {
     "name": "stdout",
     "output_type": "stream",
     "text": [
      "epoch: 0, Energy: 17.06300837224865\n",
      "epoch: 100, Energy: 0.06716596095869175\n",
      "epoch: 200, Energy: 0.14989070156451695\n",
      "epoch: 300, Energy: -0.3052162971087315\n",
      "epoch: 400, Energy: 0.22284285734323916\n",
      "\n"
     ]
    }
   ],
   "source": [
    "num_epochs = 500\n",
    "batch_size = 500\n",
    "\n",
    "energy2 = train(system, num_epochs, batch_size, optimizer, verbose = True)"
   ]
  },
  {
   "cell_type": "code",
   "execution_count": 14,
   "metadata": {},
   "outputs": [
    {
     "data": {
      "image/png": "[encoded data removed]",
      "text/plain": [
       "<Figure size 232.229x143.525 with 1 Axes>"
      ]
     },
     "metadata": {},
     "output_type": "display_data"
    }
   ],
   "source": [
    "fig = plt.figure()\n",
    "plt.plot(energy1, label = \"Tanh\")\n",
    "plt.plot(energy2, label =\"ReLu\")\n",
    "plt.xlabel(\"epochs\")\n",
    "plt.ylabel(\"$<E>$\")\n",
    "plt.grid()\n",
    "saveto(fig, \"one_part_training1\", ncol=2)\n",
    "\n",
    "plt.show()"
   ]
  },
  {
   "cell_type": "code",
   "execution_count": 15,
   "metadata": {},
   "outputs": [],
   "source": [
    "x = tf.convert_to_tensor(np.linspace(-5, 5, 1000).reshape(-1,1), dtype=tf.dtypes.float64)\n",
    "dx = x[1] - x[0]\n",
    "\n",
    "psi2 = system.Ansatz(x).numpy()\n",
    "psi2 *= np.sqrt(1/(dx*np.sum(psi2**2)))\n",
    "\n",
    "_, _, _, K_L2 = loss(system, x)\n",
    "K_L_analytical = 0.5 - 0.5*x**2 "
   ]
  },
  {
   "cell_type": "markdown",
   "metadata": {},
   "source": [
    "#### Numerical vs Analytical Wave Function"
   ]
  },
  {
   "cell_type": "code",
   "execution_count": 16,
   "metadata": {},
   "outputs": [
    {
     "data": {
      "image/png": "[encoded data removed]",
      "text/plain": [
       "<Figure size 232.229x143.525 with 1 Axes>"
      ]
     },
     "metadata": {},
     "output_type": "display_data"
    }
   ],
   "source": [
    "fig = plt.figure()\n",
    "plt.plot(x, psi1, label = \"Tanh\")\n",
    "plt.plot(x, psi2, label = \"ReLu\")\n",
    "plt.plot(x, psi_analytical, \"g--\", label = \"Analytical\")\n",
    "plt.xlabel(\"Position\")\n",
    "plt.ylabel(\"Amplitude\")\n",
    "plt.grid()\n",
    "saveto(fig, \"one_part_wavefunc\", ncol=2, bbox_to_anchor=(0.2, 1.02, 1, 0.2))\n",
    "\n",
    "plt.show()"
   ]
  },
  {
   "cell_type": "markdown",
   "metadata": {},
   "source": [
    "#### Local Kinetic Energy Using Tanh vs Relu"
   ]
  },
  {
   "cell_type": "code",
   "execution_count": 17,
   "metadata": {},
   "outputs": [
    {
     "data": {
      "image/png": "[encoded data removed]",
      "text/plain": [
       "<Figure size 232.229x143.525 with 1 Axes>"
      ]
     },
     "metadata": {},
     "output_type": "display_data"
    }
   ],
   "source": [
    "fig = plt.figure()\n",
    "plt.plot(x, K_L1, label = \"Tanh\")\n",
    "plt.plot(x, K_L2, label = \"Relu\")\n",
    "plt.plot(x, K_L_analytical, \"g--\", label = \"Analytical\")\n",
    "plt.xlabel(\"Position\")\n",
    "plt.ylabel(\"Local Kinetic Energy\")\n",
    "plt.ylim([-8,1])\n",
    "plt.xlim([-5,5])\n",
    "plt.grid()\n",
    "\n",
    "saveto(fig, \"one_part_local_kinetic\", ncol=2)\n",
    "plt.show()"
   ]
  },
  {
   "cell_type": "markdown",
   "metadata": {},
   "source": [
    "#### Ground State Energy"
   ]
  },
  {
   "cell_type": "code",
   "execution_count": 18,
   "metadata": {},
   "outputs": [
    {
     "name": "stdout",
     "output_type": "stream",
     "text": [
      "Energy: 0.003171950507923693+-0.0002298957234341679\n",
      "Var:  0.052852043653319414\n"
     ]
    }
   ],
   "source": [
    "N = 1000000\n",
    "x, _ = system.Sampler(N)\n",
    "E, Var, _ = observables(system, N, x)\n",
    "print(f\"Energy: {E}+-{np.sqrt(Var/N)}\")\n",
    "print(\"Var: \", Var)"
   ]
  },
  {
   "cell_type": "markdown",
   "metadata": {},
   "source": [
    "## 2D"
   ]
  },
  {
   "cell_type": "markdown",
   "metadata": {},
   "source": [
    "#### Model Parameters"
   ]
  },
  {
   "cell_type": "code",
   "execution_count": 19,
   "metadata": {},
   "outputs": [],
   "source": [
    "tf.random.set_seed(42)\n",
    "np.random.seed(42)\n",
    "\n",
    "nodes = (32, 32)\n",
    "\n",
    "ansatz = Ansatz(nodes)\n",
    "external = HarmonicOsc(1)\n",
    "sampler = Metropolis(1, 20)\n",
    "\n",
    "system = System(num_part = 1,\n",
    "                 dim = 2,\n",
    "                 Ansatz=ansatz,\n",
    "                 External=external,\n",
    "                 Internal=None,\n",
    "                 Sampler=sampler\n",
    "                 )\n",
    "\n",
    "optimizer = tf.keras.optimizers.Adam(0.01)"
   ]
  },
  {
   "cell_type": "markdown",
   "metadata": {},
   "source": [
    "#### Training"
   ]
  },
  {
   "cell_type": "code",
   "execution_count": 20,
   "metadata": {},
   "outputs": [
    {
     "data": {
      "application/vnd.jupyter.widget-view+json": {
       "model_id": "05e86196a78f4179934b01c4ec6e78e8",
       "version_major": 2,
       "version_minor": 0
      },
      "text/plain": [
       "HBox(children=(FloatProgress(value=0.0, max=500.0), HTML(value='')))"
      ]
     },
     "metadata": {},
     "output_type": "display_data"
    },
    {
     "name": "stdout",
     "output_type": "stream",
     "text": [
      "epoch: 0, Energy: 7.8405731216775205\n",
      "epoch: 100, Energy: 1.001446949834111\n",
      "epoch: 200, Energy: 1.0041219334164606\n",
      "epoch: 300, Energy: 1.0008306968129774\n",
      "epoch: 400, Energy: 1.00779653161216\n",
      "\n"
     ]
    }
   ],
   "source": [
    "num_epochs = 500\n",
    "batch_size = 500\n",
    "\n",
    "energy1 = train(system, num_epochs, batch_size, optimizer, verbose = True)"
   ]
  },
  {
   "cell_type": "code",
   "execution_count": 21,
   "metadata": {},
   "outputs": [
    {
     "name": "stdout",
     "output_type": "stream",
     "text": [
      "Energy: 1.0015400334530606+-0.0001030788573197962\n",
      "Var:  0.010625250826354904\n",
      "0.05189155\n"
     ]
    }
   ],
   "source": [
    "tf.random.set_seed(42)\n",
    "np.random.seed(42)\n",
    "\n",
    "N = 1000000\n",
    "x, _ = system.Sampler(N)\n",
    "E, Var, _ = observables(system, N, x)\n",
    "print(f\"Energy: {E}+-{np.sqrt(Var/N)}\")\n",
    "print(\"Var: \", Var)\n",
    "print(f\"{accepted/(20*N)}\")"
   ]
  },
  {
   "cell_type": "code",
   "execution_count": 22,
   "metadata": {},
   "outputs": [
    {
     "data": {
      "application/vnd.jupyter.widget-view+json": {
       "model_id": "44c5172ee0a34af989bba296e98f761a",
       "version_major": 2,
       "version_minor": 0
      },
      "text/plain": [
       "HBox(children=(FloatProgress(value=0.0, max=1000000.0), HTML(value='')))"
      ]
     },
     "metadata": {},
     "output_type": "display_data"
    },
    {
     "name": "stdout",
     "output_type": "stream",
     "text": [
      "\n"
     ]
    }
   ],
   "source": [
    "bins = np.linspace(0, 3, 100)\n",
    "density = oneBodyDensity(x, bins, mode = \"radial2D\")/N\n",
    "density_analytical = 1/np.pi*np.exp(-bins**2)"
   ]
  },
  {
   "cell_type": "code",
   "execution_count": 23,
   "metadata": {},
   "outputs": [
    {
     "data": {
      "image/png": "[encoded data removed]",
      "text/plain": [
       "<Figure size 232.229x143.525 with 1 Axes>"
      ]
     },
     "metadata": {},
     "output_type": "display_data"
    }
   ],
   "source": [
    "fig = plt.figure()\n",
    "plt.plot(bins, density, label = \"Numerical\")\n",
    "plt.plot(bins, density_analytical, \"--\", label = \"Analytical\")\n",
    "plt.xlabel(\"r\")\n",
    "plt.ylabel(\"Density\")\n",
    "plt.grid()\n",
    "saveto(fig, \"one_part_2D_dens\", ncol=2, bbox_to_anchor=(0.2, 1.02, 1, 0.2))\n",
    "\n",
    "plt.show()"
   ]
  },
  {
   "cell_type": "markdown",
   "metadata": {},
   "source": [
    "## 3D"
   ]
  },
  {
   "cell_type": "markdown",
   "metadata": {},
   "source": [
    "#### Model Parameters"
   ]
  },
  {
   "cell_type": "code",
   "execution_count": 24,
   "metadata": {},
   "outputs": [],
   "source": [
    "tf.random.set_seed(42)\n",
    "np.random.seed(42)\n",
    "\n",
    "nodes = (32, 32)\n",
    "\n",
    "ansatz = Ansatz(nodes)\n",
    "external = HarmonicOsc(1)\n",
    "sampler = Metropolis(1, 20)\n",
    "\n",
    "system = System(num_part = 1,\n",
    "                 dim = 3,\n",
    "                 Ansatz=ansatz,\n",
    "                 External=external,\n",
    "                 Internal=None,\n",
    "                 Sampler=sampler\n",
    "                 )\n",
    "\n",
    "optimizer = tf.keras.optimizers.Adam(0.01)"
   ]
  },
  {
   "cell_type": "markdown",
   "metadata": {},
   "source": [
    "#### Training"
   ]
  },
  {
   "cell_type": "code",
   "execution_count": 25,
   "metadata": {},
   "outputs": [
    {
     "data": {
      "application/vnd.jupyter.widget-view+json": {
       "model_id": "47ff9578164e41a69055b24f0b2bc399",
       "version_major": 2,
       "version_minor": 0
      },
      "text/plain": [
       "HBox(children=(FloatProgress(value=0.0, max=500.0), HTML(value='')))"
      ]
     },
     "metadata": {},
     "output_type": "display_data"
    },
    {
     "name": "stdout",
     "output_type": "stream",
     "text": [
      "epoch: 0, Energy: 11.20739719256565\n",
      "epoch: 100, Energy: 1.5203512391568046\n",
      "epoch: 200, Energy: 1.5221706091990896\n",
      "epoch: 300, Energy: 1.5083389862439984\n",
      "epoch: 400, Energy: 1.4999072354628369\n",
      "\n"
     ]
    }
   ],
   "source": [
    "num_epochs = 500\n",
    "batch_size = 500\n",
    "\n",
    "energy2 = train(system, num_epochs, batch_size, optimizer, verbose = True)"
   ]
  },
  {
   "cell_type": "code",
   "execution_count": 26,
   "metadata": {},
   "outputs": [
    {
     "data": {
      "image/png": "[encoded data removed]",
      "text/plain": [
       "<Figure size 232.229x143.525 with 1 Axes>"
      ]
     },
     "metadata": {},
     "output_type": "display_data"
    }
   ],
   "source": [
    "fig = plt.figure()\n",
    "plt.plot(np.arange(50,500), energy1[50:], label = \"2D\")\n",
    "plt.plot(np.arange(50,500), energy2[50:], label = \"3D\")\n",
    "plt.xlabel(\"epochs\")\n",
    "plt.ylabel(\"$<E>$\")\n",
    "plt.grid()\n",
    "saveto(fig, \"one_part_training2\", ncol=2)\n",
    "\n",
    "plt.show()"
   ]
  },
  {
   "cell_type": "code",
   "execution_count": 27,
   "metadata": {},
   "outputs": [
    {
     "name": "stdout",
     "output_type": "stream",
     "text": [
      "Energy: 1.5046184771813047+-0.00014951047372228993\n",
      "Var:  0.022353381752663548\n",
      "0.05189155\n"
     ]
    }
   ],
   "source": [
    "tf.random.set_seed(42)\n",
    "np.random.seed(42)\n",
    "\n",
    "N = 1000000\n",
    "x, _ = system.Sampler(N)\n",
    "E, Var, _ = observables(system, N, x)\n",
    "print(f\"Energy: {E}+-{np.sqrt(Var/N)}\")\n",
    "print(\"Var: \", Var)\n",
    "print(f\"{accepted/(20*N)}\")"
   ]
  },
  {
   "cell_type": "code",
   "execution_count": 28,
   "metadata": {},
   "outputs": [
    {
     "data": {
      "application/vnd.jupyter.widget-view+json": {
       "model_id": "088ef7b2b25c4fd8822414e3e9e02a7d",
       "version_major": 2,
       "version_minor": 0
      },
      "text/plain": [
       "HBox(children=(FloatProgress(value=0.0, max=1000000.0), HTML(value='')))"
      ]
     },
     "metadata": {},
     "output_type": "display_data"
    },
    {
     "name": "stdout",
     "output_type": "stream",
     "text": [
      "\n"
     ]
    }
   ],
   "source": [
    "bins = np.linspace(0, 3, 100)\n",
    "density = oneBodyDensity(x, bins, mode = \"radial3D\")/N\n",
    "density_analytical = 1/(2*np.pi)*np.exp(-bins**2)"
   ]
  },
  {
   "cell_type": "code",
   "execution_count": 29,
   "metadata": {},
   "outputs": [
    {
     "data": {
      "image/png": "[encoded data removed]",
      "text/plain": [
       "<Figure size 232.229x143.525 with 1 Axes>"
      ]
     },
     "metadata": {},
     "output_type": "display_data"
    }
   ],
   "source": [
    "fig = plt.figure()\n",
    "plt.plot(bins, density, label = \"Numerical\")\n",
    "plt.plot(bins, density_analytical, \"--\", label = \"Analytical\")\n",
    "plt.xlabel(\"r\")\n",
    "plt.ylabel(\"Density\")\n",
    "plt.grid()\n",
    "saveto(fig, \"one_part_3D_dens\", ncol=2, bbox_to_anchor=(0.2, 1.02, 1, 0.2))\n",
    "\n",
    "plt.show()"
   ]
  },
  {
   "cell_type": "code",
   "execution_count": null,
   "metadata": {},
   "outputs": [],
   "source": []
  }
 ],
 "metadata": {
  "kernelspec": {
   "display_name": "env_neural",
   "language": "python",
   "name": "env_neural"
  },
  "language_info": {
   "codemirror_mode": {
    "name": "ipython",
    "version": 3
   },
   "file_extension": ".py",
   "mimetype": "text/x-python",
   "name": "python",
   "nbconvert_exporter": "python",
   "pygments_lexer": "ipython3",
   "version": "3.6.9"
  }
 },
 "nbformat": 4,
 "nbformat_minor": 2
}
