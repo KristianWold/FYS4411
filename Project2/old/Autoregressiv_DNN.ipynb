{
 "cells": [
  {
   "cell_type": "code",
   "execution_count": 15,
   "metadata": {},
   "outputs": [],
   "source": [
    "import torch\n",
    "import torch.nn as nn\n",
    "import numpy as np\n",
    "import matplotlib.pyplot as plt\n",
    "from tqdm import tqdm_notebook as tqdm\n",
    "from ipywidgets import interact, interactive, fixed, interact_manual\n",
    "import ipywidgets as widgets\n",
    "import warnings\n",
    "\n",
    "warnings.filterwarnings(\"ignore\")"
   ]
  },
  {
   "cell_type": "code",
   "execution_count": 16,
   "metadata": {},
   "outputs": [],
   "source": [
    "class Model(nn.Module):\n",
    "     \n",
    "    def __init__(self, N):\n",
    "        super().__init__()\n",
    "        self.N = N\n",
    "        self.stepLength = 2\n",
    "        \n",
    "        self.layer1 = nn.Linear(1, 64)\n",
    "        self.layer2 = nn.Linear(64, 64)\n",
    "        self.layer3 = nn.Linear(64, 1)\n",
    "        \n",
    "        self.layer4 = nn.Linear(2, 64)\n",
    "        self.layer5 = nn.Linear(64, 64)\n",
    "        self.layer6 = nn.Linear(64, 1)\n",
    "  \n",
    "    \n",
    "    def forward1(self, x):\n",
    "        \"\"\"Approximate wave function\"\"\"\n",
    "            \n",
    "        y = torch.tanh(self.layer1(x))\n",
    "        y = torch.tanh(self.layer2(y))\n",
    "        y = self.layer3(y)\n",
    "     \n",
    "        return y\n",
    "    \n",
    "    def forward2(self, x2, x1):\n",
    "        \"\"\"Approximate wave function\"\"\"\n",
    "        \n",
    "        y = torch.cat((x2, x1), 1)\n",
    "        y = torch.tanh(self.layer4(y))\n",
    "        y = torch.tanh(self.layer5(y))\n",
    "        y = self.layer6(y)\n",
    "     \n",
    "        return y\n",
    "    \n",
    "    \n",
    "    def sample1(self, N, n):\n",
    "        total = 0\n",
    "        x = torch.Tensor(4*np.random.random((N,1)) - 2)\n",
    "        psi_old = self.forward1(x)\n",
    "        \n",
    "        for i in range(n):\n",
    "            x_new = x + self.stepLength*torch.Tensor(2*np.random.random((N,1)) - 1)\n",
    "            psi_new = self.forward1(x_new)\n",
    "            \n",
    "            idx = (psi_new/psi_old)**2 > torch.Tensor(np.random.random((N,1)))\n",
    "             \n",
    "            x[idx] = x_new[idx]\n",
    "            psi_old[idx] = psi_new[idx]\n",
    "            total += torch.sum(idx)\n",
    "            \n",
    "        return x, total\n",
    "    \n",
    "    def sample2(self, N, n, x1):\n",
    "        total = 0\n",
    "        x = torch.Tensor(4*np.random.random((N,1)) - 2)\n",
    "        psi_old = self.forward2(x, x1)\n",
    "        \n",
    "        for i in range(n):\n",
    "            x_new = x + self.stepLength*torch.Tensor(2*np.random.random((N,1)) - 1)\n",
    "            psi_new = self.forward2(x_new, x1)\n",
    "            \n",
    "            idx = (psi_new/psi_old)**2 > torch.Tensor(np.random.random((N,1)))\n",
    "            \n",
    "            \n",
    "            x[idx] = x_new[idx]\n",
    "            psi_old[idx] = psi_new[idx]\n",
    "            total += torch.sum(idx)\n",
    "            \n",
    "        return x, total"
   ]
  },
  {
   "cell_type": "code",
   "execution_count": 17,
   "metadata": {},
   "outputs": [],
   "source": [
    "N = 5000 #Batch size\n",
    "n = 20  #Metropolis step\n",
    "h = 0.01\n",
    "\n",
    "torch.manual_seed(42)\n",
    "np.random.seed(42)\n",
    "model = Model(N)\n",
    "optimizer = torch.optim.Adam(model.parameters())"
   ]
  },
  {
   "cell_type": "markdown",
   "metadata": {},
   "source": [
    "### Training"
   ]
  },
  {
   "cell_type": "code",
   "execution_count": 18,
   "metadata": {},
   "outputs": [
    {
     "data": {
      "application/vnd.jupyter.widget-view+json": {
       "model_id": "88a76d4ae87842d29ee6d1e50646b519",
       "version_major": 2,
       "version_minor": 0
      },
      "text/plain": [
       "HBox(children=(FloatProgress(value=0.0, max=4000.0), HTML(value='')))"
      ]
     },
     "metadata": {},
     "output_type": "display_data"
    },
    {
     "name": "stdout",
     "output_type": "stream",
     "text": [
      "epoch: 0, Energy: 42.122413635253906\n",
      "epoch: 100, Energy: 3.401301860809326\n",
      "epoch: 200, Energy: 3.280672311782837\n",
      "epoch: 300, Energy: 3.217418670654297\n",
      "epoch: 400, Energy: 3.0890941619873047\n",
      "epoch: 500, Energy: 3.093859910964966\n",
      "epoch: 600, Energy: 3.0577645301818848\n",
      "epoch: 700, Energy: 3.049659490585327\n",
      "epoch: 800, Energy: 2.9329476356506348\n",
      "epoch: 900, Energy: 2.9451775550842285\n",
      "epoch: 1000, Energy: 3.6411941051483154\n",
      "epoch: 1100, Energy: 2.9457743167877197\n",
      "epoch: 1200, Energy: 3.0711300373077393\n",
      "epoch: 1300, Energy: 2.7897841930389404\n",
      "epoch: 1400, Energy: 2.791516065597534\n",
      "epoch: 1500, Energy: 2.7703983783721924\n",
      "epoch: 1600, Energy: 2.6975791454315186\n",
      "epoch: 1700, Energy: 2.722041130065918\n",
      "epoch: 1800, Energy: 2.893770217895508\n",
      "epoch: 1900, Energy: 2.634640693664551\n",
      "epoch: 2000, Energy: 2.6863577365875244\n",
      "epoch: 2100, Energy: 2.6033592224121094\n",
      "epoch: 2200, Energy: 2.610963821411133\n",
      "epoch: 2300, Energy: 2.618511199951172\n",
      "epoch: 2400, Energy: 2.712844133377075\n",
      "epoch: 2500, Energy: 2.613170862197876\n",
      "epoch: 2600, Energy: 2.578779935836792\n",
      "epoch: 2700, Energy: 2.6313037872314453\n",
      "epoch: 2800, Energy: 2.5916407108306885\n",
      "epoch: 2900, Energy: 2.6275746822357178\n",
      "epoch: 3000, Energy: 2.598050117492676\n",
      "epoch: 3100, Energy: 2.5983221530914307\n",
      "epoch: 3200, Energy: 2.5867080688476562\n",
      "epoch: 3300, Energy: 2.787153720855713\n",
      "epoch: 3400, Energy: 2.6339590549468994\n",
      "epoch: 3500, Energy: 2.6265852451324463\n",
      "epoch: 3600, Energy: 2.584505081176758\n",
      "epoch: 3700, Energy: 2.6575145721435547\n",
      "epoch: 3800, Energy: 2.602492332458496\n",
      "epoch: 3900, Energy: 2.5930733680725098\n",
      "\n"
     ]
    }
   ],
   "source": [
    "epochs = 4000\n",
    "energy = []\n",
    "\n",
    "for epoch in tqdm(range(epochs)):\n",
    "    PE_acc = 0\n",
    "    P_acc = 0\n",
    "    E_acc = 0\n",
    "        \n",
    "    x1 = model.sample1(N, n)[0].detach() #sample N positions for first particle\n",
    "    psi1 = model.forward1(x1)\n",
    "    \n",
    "    x2 = model.sample2(N, n, x1)[0].detach() #Sample positions for second particle, corrolated with first particle\n",
    "    psi2 = model.forward2(x2, x1)        \n",
    "    \n",
    "    psi_total = psi1*psi2               #Total wave function\n",
    "    \n",
    "    \n",
    "    #Numerical laplacian\n",
    "    psi1_plus = model.forward1(x1+h)   #Change particle 1 coordinate, holding particle 2 constant.            \n",
    "    psi2_plus = model.forward2(x2, x1+h)  #however, psi2 still changes because of corrolation\n",
    "    \n",
    "    psi1_minus = model.forward1(x1-h)\n",
    "    psi2_minus = model.forward2(x2, x1-h)\n",
    "\n",
    "    lap1 = 1/psi_total*(psi1_plus*psi2_plus - 2*psi_total + psi1_minus*psi2_minus)/h**2\n",
    "    \n",
    "    psi2_plus = model.forward2(x2+h, x1) #Change particle 2 coordinate, holding particle 1 constant.\n",
    "    psi2_minus = model.forward2(x2-h, x1)\n",
    "    \n",
    "    lap2 = 1/psi2*(psi2_plus - 2*psi2 + psi2_minus)/h**2    #psi1 factor here, since it is constant\n",
    "    \n",
    "\n",
    "    E_L = (-0.5*(lap1 + lap2) + 0.5*(x1**2 + x2**2) + 1/torch.sqrt((x1 - x2)**2 + 0.1**2)).detach()\n",
    "\n",
    "    PE = torch.mean(psi_total/psi_total.detach()*E_L)\n",
    "    P  = torch.mean(psi_total/psi_total.detach())\n",
    "    E  = torch.mean(E_L)  \n",
    "    \n",
    "    loss = 2*(PE - P*E)\n",
    "    \n",
    "    optimizer.zero_grad()\n",
    "    loss.backward()\n",
    "    optimizer.step()\n",
    "    \n",
    "    energy.append(E.item())\n",
    "    \n",
    "    if epoch%100 == 0: \n",
    "        print(f\"epoch: {epoch}, Energy: {E.item()}\")"
   ]
  },
  {
   "cell_type": "code",
   "execution_count": 19,
   "metadata": {},
   "outputs": [
    {
     "data": {
      "image/png": "[encoded data removed]",
      "text/plain": [
       "<Figure size 432x288 with 1 Axes>"
      ]
     },
     "metadata": {
      "needs_background": "light"
     },
     "output_type": "display_data"
    }
   ],
   "source": [
    "plt.plot(energy)\n",
    "plt.show()"
   ]
  },
  {
   "cell_type": "code",
   "execution_count": 20,
   "metadata": {},
   "outputs": [
    {
     "data": {
      "application/vnd.jupyter.widget-view+json": {
       "model_id": "37bfc4d5df524ee19dd3a880b6207ff6",
       "version_major": 2,
       "version_minor": 0
      },
      "text/plain": [
       "interactive(children=(FloatSlider(value=0.0, description='x', max=4.0, min=-4.0, step=0.05), Output()), _dom_c…"
      ]
     },
     "metadata": {},
     "output_type": "display_data"
    }
   ],
   "source": [
    "def f(x):\n",
    "    x_lin = torch.linspace(-8, 8, 5000).reshape(5000,-1)\n",
    "    dx = x_lin[1] - x_lin[0] \n",
    "    psi1 = model.forward1(x_lin)[:,0].detach().numpy()\n",
    "\n",
    "    x = torch.Tensor([[x]]).repeat(5000,1)\n",
    "    \n",
    "    psi2 = model.forward2(x_lin, x)[:,0].detach().numpy()\n",
    "\n",
    "    plt.plot(x_lin[:,0], 1/dx*psi1**2/np.sum(psi1**2), \"b\")\n",
    "    plt.plot(x_lin[:,0], 1/dx*psi2**2/np.sum(psi2**2), \"r\")\n",
    "    plt.plot(x[0], 0.01, \"bo\")\n",
    "    plt.ylim((0, 0.8))\n",
    "\n",
    "    plt.show()\n",
    "    \n",
    "interact(f, x=(-4.0, 4., 0.05));"
   ]
  },
  {
   "cell_type": "markdown",
   "metadata": {},
   "source": [
    "### Check metropolis sampling"
   ]
  },
  {
   "cell_type": "code",
   "execution_count": null,
   "metadata": {},
   "outputs": [],
   "source": [
    "N = 100000\n",
    "x_lin = torch.linspace(-3, 3, 100).reshape(100,-1)\n",
    "dx = x_lin[1] - x_lin[0]\n",
    "\n",
    "x_a = torch.Tensor([[0.2]]).repeat(100,1)\n",
    "x_b = torch.Tensor([[0.2]]).repeat(N,1)\n",
    "\n",
    "psi = model.forward2(x_lin, x_a)[:,0].detach().numpy()\n",
    "\n",
    "x = model.sample2(N, 20, x_b)[0].detach().numpy()\n",
    "\n",
    "bins = np.linspace(-3, 3, 100)\n",
    "plt.hist(x, bins=bins)\n",
    "plt.plot(x_lin[:,0], N*psi**2/np.sum(psi**2), \"r\")\n",
    "plt.show()"
   ]
  },
  {
   "cell_type": "markdown",
   "metadata": {},
   "source": [
    "## Estimating energy"
   ]
  },
  {
   "cell_type": "code",
   "execution_count": null,
   "metadata": {},
   "outputs": [],
   "source": [
    "N = 100000\n",
    "\n",
    "x1 = model.sample1(N, n)[0].detach() #sample N positions for first particle\n",
    "psi1 = model.forward1(x1)\n",
    "\n",
    "x2 = model.sample2(N, n, x1)[0].detach() #Sample positions for second particle, corrolated with first particle\n",
    "psi2 = model.forward2(x2, x1)        \n",
    "\n",
    "psi_total = psi1*psi2               #Total wave function\n",
    "\n",
    "\n",
    "#Numerical laplacian\n",
    "psi1_plus = model.forward1(x1+h)   #Change particle 1 coordinate, holding particle 2 constant.            \n",
    "psi2_plus = model.forward2(x2, x1+h)  #however, psi2 still changes because of corrolation\n",
    "\n",
    "psi1_minus = model.forward1(x1-h)\n",
    "psi2_minus = model.forward2(x2, x1-h)\n",
    "\n",
    "lap1 = 1/psi_total*(psi1_plus*psi2_plus - 2*psi_total + psi1_minus*psi2_minus)/h**2\n",
    "\n",
    "psi2_plus = model.forward2(x2+h, x1) #Change particle 2 coordinate, holding particle 1 constant.\n",
    "psi2_minus = model.forward2(x2-h, x1)\n",
    "\n",
    "lap2 = 1/psi2*(psi2_plus - 2*psi2 + psi2_minus)/h**2    #psi1 factor here, since it is constant\n",
    "\n",
    "\n",
    "E = (-0.5*(lap1 + lap2) + 0.5*(x1**2 + x2**2) + 0/torch.sqrt((x1 - x2)**2 + 0.1**2)).detach()\n",
    "E = torch.mean(E)\n",
    "print(E)\n",
    "\n",
    "x = torch.cat((x1, x2), 0).numpy()"
   ]
  },
  {
   "cell_type": "code",
   "execution_count": null,
   "metadata": {},
   "outputs": [],
   "source": [
    "bins = np.linspace(-3, 3, 100)\n",
    "\n",
    "plt.hist(x, bins=bins)\n",
    "plt.show()"
   ]
  },
  {
   "cell_type": "code",
   "execution_count": null,
   "metadata": {},
   "outputs": [],
   "source": []
  }
 ],
 "metadata": {
  "kernelspec": {
   "display_name": "env_neural",
   "language": "python",
   "name": "env_neural"
  },
  "language_info": {
   "codemirror_mode": {
    "name": "ipython",
    "version": 3
   },
   "file_extension": ".py",
   "mimetype": "text/x-python",
   "name": "python",
   "nbconvert_exporter": "python",
   "pygments_lexer": "ipython3",
   "version": "3.6.9"
  }
 },
 "nbformat": 4,
 "nbformat_minor": 2
}
