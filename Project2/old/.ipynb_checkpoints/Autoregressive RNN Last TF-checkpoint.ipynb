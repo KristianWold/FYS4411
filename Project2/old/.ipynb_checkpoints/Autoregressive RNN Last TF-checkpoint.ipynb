{
 "cells": [
  {
   "cell_type": "code",
   "execution_count": 6,
   "metadata": {},
   "outputs": [],
   "source": [
    "import tensorflow as tf\n",
    "import numpy as np\n",
    "import matplotlib.pyplot as plt\n",
    "from tqdm import tqdm_notebook as tqdm\n",
    "from ipywidgets import interact, interactive, fixed, interact_manual\n",
    "import ipywidgets as widgets\n",
    "import warnings\n",
    "\n",
    "warnings.filterwarnings(\"ignore\")"
   ]
  },
  {
   "cell_type": "code",
   "execution_count": 7,
   "metadata": {},
   "outputs": [],
   "source": [
    "tf.keras.backend.set_floatx(\"float64\")\n",
    "h = 32\n",
    "\n",
    "class DNModel(tf.keras.Model):\n",
    "    def __init__(self, N, n):\n",
    "        super().__init__()\n",
    "        \n",
    "        self.N = N\n",
    "        self.n = n\n",
    "        \n",
    "        self.dense1 = tf.keras.layers.Dense(32)\n",
    "        self.dense2 = tf.keras.layers.Dense(32)\n",
    "        #self.dense3 = tf.keras.layers.Dense(32)\n",
    "        self.out = tf.keras.layers.Dense(1)\n",
    "        \n",
    "        self.w = tf.keras.layers.Dense(h)\n",
    "        self.hidden_initial = tf.Variable(tf.random.normal((1,h), mean=0.0, stddev=1.0, dtype=tf.dtypes.float64))\n",
    "        self.hidden = tf.repeat(self.hidden_initial, N, axis=0)\n",
    "        \n",
    "    def call(self, x):\n",
    "        x = tf.nn.tanh(self.dense1(x))\n",
    "        x = tf.nn.tanh(self.dense2(x))*self.hidden\n",
    "        #x = tf.nn.tanh(self.dense3(x))\n",
    "\n",
    "        return tf.math.exp(self.out(x))\n",
    "\n",
    "    def rnn_forward(self, x):\n",
    "        x = tf.concat((self.hidden, x), axis=1)\n",
    "        self.hidden = tf.tanh(self.w(x))\n",
    "    \n",
    "    def hidden_reset(self, N=0):\n",
    "        if N != 0:\n",
    "            self.N = N\n",
    "        self.hidden = tf.repeat(self.hidden_initial, self.N, axis=0)\n",
    "        \n",
    "\n",
    "def hamiltonian(model, x):\n",
    "    _x = tf.unstack(x, axis=1)\n",
    "    _x_ = [tf.expand_dims(tmp, axis = 1) for tmp in _x]\n",
    "    _x2 = tf.transpose(tf.stack(_x_))[0]\n",
    "    \n",
    "    model.hidden_reset()\n",
    "    psi = 1\n",
    "    for i in range(model.n):\n",
    "        psi *= model.call(tf.reshape(_x2[:,i],(-1,1)))\n",
    "        model.rnn_forward(tf.reshape(_x2[:,i],(-1,1)))\n",
    "    \n",
    "    d_psi = [tf.squeeze(tf.gradients(psi, tmp)) for tmp in _x]\n",
    "    d2_psi = 0\n",
    "    for ii in range(model.n):\n",
    "        d2_psi += tf.stack(tf.gradients(d_psi[ii], _x_[ii]))[0]\n",
    "    \n",
    "    lap = 1/psi*(d2_psi)\n",
    "    \n",
    "    E_L = -0.5*lap + 0.5*tf.reshape(tf.reduce_sum(x**2, axis=1), (-1,1))\n",
    "    E_L += tf.reshape(1/tf.math.sqrt((x[:,0] - x[:,1])**2 + 0.1**2), (-1,1))\n",
    "    \n",
    "    return E_L, psi\n",
    "    \n",
    "    \n",
    "@tf.function\n",
    "def loss(model, x): \n",
    "       \n",
    "    E_L, psi = hamiltonian(model, x)\n",
    "    E = tf.math.reduce_mean(E_L)\n",
    "    \n",
    "    \n",
    "    psi_detach = tf.stop_gradient(psi)\n",
    "    return E, 2*(tf.math.reduce_mean(psi/psi_detach*E_L) - tf.math.reduce_mean(psi/psi_detach)*E)\n",
    "\n",
    "\n",
    "@tf.function\n",
    "def grad(model, x):\n",
    "    with tf.GradientTape() as tape:\n",
    "        E, loss_value = loss(model, x)\n",
    "\n",
    "    return E, tape.gradient(loss_value, model.trainable_variables)\n",
    "\n",
    "\n",
    "\n",
    "def sample(model, N, n):\n",
    "    total = 0\n",
    "    x_old = tf.random.uniform((N,1), minval=-2, maxval=2, dtype=tf.dtypes.float64)\n",
    "    psi_old = model(x_old).numpy()\n",
    "    \n",
    "    for i in range(n):\n",
    "        x_new = x_old + 2*tf.random.uniform((N,1), minval=-1, maxval=1, dtype=tf.dtypes.float64)\n",
    "        psi_new = model(x_new).numpy()\n",
    "      \n",
    "    \n",
    "        U = np.random.uniform(0, 1, (N,1))\n",
    "        mask = ((psi_new/psi_old)**2 > U) #vectorized acceptance criterion\n",
    "        x_old = x_old.numpy()\n",
    "        x_new = x_new.numpy()\n",
    "        \n",
    "        x_old[mask]   = x_new[mask]  #move walkers\n",
    "        psi_old[mask] = psi_new[mask]\n",
    "        x_old = tf.convert_to_tensor(x_old, dtype=tf.dtypes.float64)\n",
    "        total += np.sum(mask)\n",
    "    \n",
    "    return x_old, total"
   ]
  },
  {
   "cell_type": "code",
   "execution_count": 8,
   "metadata": {},
   "outputs": [],
   "source": [
    "N = 2000\n",
    "n = 2\n",
    "\n",
    "energy = []\n",
    "\n",
    "tf.random.set_seed(42)\n",
    "np.random.seed(42)\n",
    "model = DNModel(N, n)\n",
    "\n",
    "optimizer = tf.keras.optimizers.Adam(epsilon=1e-08)"
   ]
  },
  {
   "cell_type": "code",
   "execution_count": 9,
   "metadata": {
    "scrolled": true
   },
   "outputs": [
    {
     "data": {
      "application/vnd.jupyter.widget-view+json": {
       "model_id": "c8b9961335984961ac9d2b0ad93c0981",
       "version_major": 2,
       "version_minor": 0
      },
      "text/plain": [
       "HBox(children=(FloatProgress(value=0.0, max=2000.0), HTML(value='')))"
      ]
     },
     "metadata": {},
     "output_type": "display_data"
    },
    {
     "name": "stdout",
     "output_type": "stream",
     "text": [
      "epoch: 0, Energy: 28.100012818923155\n",
      "epoch: 100, Energy: 10.687202538772482\n",
      "epoch: 200, Energy: 4.454144589564612\n",
      "epoch: 300, Energy: 3.5413336388337275\n",
      "epoch: 400, Energy: 3.030699182481275\n",
      "epoch: 500, Energy: 3.0036435382467817\n",
      "epoch: 600, Energy: 2.9320426282938907\n",
      "epoch: 700, Energy: 2.873139944797571\n",
      "epoch: 800, Energy: 2.7895916793831312\n",
      "epoch: 900, Energy: 2.6806524138139483\n",
      "epoch: 1000, Energy: 2.6431821058923615\n",
      "epoch: 1100, Energy: 2.6657334744818524\n",
      "epoch: 1200, Energy: 2.6334990776736342\n",
      "epoch: 1300, Energy: 2.6695071498263916\n",
      "epoch: 1400, Energy: 2.6303823112915903\n",
      "epoch: 1500, Energy: 2.617569772954059\n",
      "epoch: 1600, Energy: 2.627702830973234\n",
      "epoch: 1700, Energy: 2.592049349473624\n",
      "epoch: 1800, Energy: 2.615805340097126\n",
      "epoch: 1900, Energy: 2.564032144742542\n",
      "\n"
     ]
    }
   ],
   "source": [
    "num_epochs = 4000\n",
    "\n",
    "steps = 20\n",
    "for epoch in tqdm(range(num_epochs)):  \n",
    "    x = []\n",
    "    model.hidden_reset()\n",
    "    for i in range(model.n):\n",
    "        x.append(sample(model, model.N, steps)[0])\n",
    "        model.rnn_forward(x[-1])\n",
    "    \n",
    "    x = tf.concat(x, axis=1)\n",
    "\n",
    "    E, gradients = grad(model, x)\n",
    "    energy.append(E)\n",
    "    \n",
    "    optimizer.apply_gradients(zip(gradients, model.trainable_variables))\n",
    "    \n",
    "    \n",
    "    if epoch%100 == 0: \n",
    "        print(f\"epoch: {epoch}, Energy: {E}\")"
   ]
  },
  {
   "cell_type": "code",
   "execution_count": 10,
   "metadata": {},
   "outputs": [
    {
     "data": {
      "image/png": "[encoded data removed]",
      "text/plain": [
       "<Figure size 432x288 with 1 Axes>"
      ]
     },
     "metadata": {
      "needs_background": "light"
     },
     "output_type": "display_data"
    }
   ],
   "source": [
    "plt.plot(energy)\n",
    "plt.show()\n",
    "#print(np.mean(np.array(energy[-200:])))"
   ]
  },
  {
   "cell_type": "code",
   "execution_count": null,
   "metadata": {},
   "outputs": [],
   "source": [
    "print(sample(model, 2000, 20)[1])"
   ]
  },
  {
   "cell_type": "code",
   "execution_count": null,
   "metadata": {},
   "outputs": [],
   "source": [
    "N = 1000000\n",
    "x = []\n",
    "model.hidden_reset(N)\n",
    "for i in range(model.n):\n",
    "    x.append(sample(model, N, 20)[0])\n",
    "    model.rnn_forward(x[-1])\n",
    "\n",
    "\n",
    "x = tf.concat(x, axis=1)\n",
    "\n",
    "#E = tf.math.reduce_mean(hamiltonian(model, x)).numpy()\n",
    "#print(E)\n",
    "\n",
    "x = tf.reshape(x, (-1,1)).numpy()\n",
    "\n",
    "\n",
    "\n",
    "bins = np.linspace(-3, 3, 200)\n",
    "plt.hist(x, bins=bins)\n",
    "plt.show()"
   ]
  },
  {
   "cell_type": "code",
   "execution_count": null,
   "metadata": {},
   "outputs": [],
   "source": []
  }
 ],
 "metadata": {
  "kernelspec": {
   "display_name": "env_neural",
   "language": "python",
   "name": "env_neural"
  },
  "language_info": {
   "codemirror_mode": {
    "name": "ipython",
    "version": 3
   },
   "file_extension": ".py",
   "mimetype": "text/x-python",
   "name": "python",
   "nbconvert_exporter": "python",
   "pygments_lexer": "ipython3",
   "version": "3.6.9"
  }
 },
 "nbformat": 4,
 "nbformat_minor": 2
}
