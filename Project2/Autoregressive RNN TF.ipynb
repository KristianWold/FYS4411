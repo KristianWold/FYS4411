{
 "cells": [
  {
   "cell_type": "code",
   "execution_count": 1,
   "metadata": {},
   "outputs": [],
   "source": [
    "import tensorflow as tf\n",
    "import numpy as np\n",
    "import matplotlib.pyplot as plt\n",
    "from tqdm import tqdm_notebook as tqdm\n",
    "from ipywidgets import interact, interactive, fixed, interact_manual\n",
    "import ipywidgets as widgets\n",
    "import warnings\n",
    "\n",
    "warnings.filterwarnings(\"ignore\")"
   ]
  },
  {
   "cell_type": "code",
   "execution_count": 2,
   "metadata": {},
   "outputs": [],
   "source": [
    "tf.keras.backend.set_floatx(\"float64\")\n",
    "h = 3\n",
    "\n",
    "class DNModel(tf.keras.Model):\n",
    "    def __init__(self, N):\n",
    "        super().__init__()\n",
    "        \n",
    "        \n",
    "        self.N = N\n",
    "        self.iteration = 0\n",
    "        \n",
    "        self.dense1 = tf.keras.layers.Dense(64)\n",
    "        self.dense2 = tf.keras.layers.Dense(64)\n",
    "        self.out = tf.keras.layers.Dense(1)\n",
    "        \n",
    "        self.w = tf.keras.layers.Dense(h)\n",
    "        self.hidden_initial = tf.Variable(tf.random.normal((1,h), mean=0.0, stddev=1.0, dtype=tf.dtypes.float64))\n",
    "        self.hidden = tf.repeat(self.hidden_initial, N, axis=0)\n",
    "        \n",
    "    def call(self, x):\n",
    "        x = tf.concat((self.hidden, x), axis=1)  \n",
    "        x = tf.nn.tanh(self.dense1(x))\n",
    "        x = tf.nn.tanh(self.dense2(x))\n",
    "\n",
    "        return tf.math.exp(self.out(x))\n",
    "\n",
    "    def rnn_forward(self, x):\n",
    "        self.iteration += 1\n",
    "        x = tf.concat((self.hidden, x), axis=1)\n",
    "        self.hidden = tf.tanh(self.w(x))\n",
    "    \n",
    "    def hidden_reset(self):\n",
    "        self.hidden = tf.repeat(self.hidden_initial, N, axis=0)\n",
    "        self.iteration = 0\n",
    "        \n",
    "    \n",
    "    \n",
    "    \n",
    "@tf.function\n",
    "def loss(model, x1, x2):\n",
    "    \n",
    "    with tf.GradientTape() as g:\n",
    "        g.watch(x1)\n",
    "        with tf.GradientTape() as gg:\n",
    "            gg.watch(x1)\n",
    "            \n",
    "            model.hidden_reset()\n",
    "            psi = model.call(x1)\n",
    "            \n",
    "            model.rnn_forward(x1)\n",
    "            psi *= model.call(x2)\n",
    "\n",
    "        d_psi = gg.gradient(psi, x1)\n",
    "    d2_psi1 = g.gradient(d_psi, x1)\n",
    "    \n",
    "    with tf.GradientTape() as g:\n",
    "        g.watch(x2)\n",
    "        with tf.GradientTape() as gg:\n",
    "            gg.watch(x2)\n",
    "            \n",
    "            model.hidden_reset()\n",
    "            psi = model.call(x1)\n",
    "            \n",
    "            model.rnn_forward(x1)\n",
    "            psi *= model.call(x2)\n",
    "\n",
    "        d_psi = gg.gradient(psi, x2)\n",
    "    d2_psi2 = g.gradient(d_psi, x2)\n",
    "    \n",
    "    lap = d2_psi1 + d2_psi2\n",
    "    \n",
    "    model.hidden_reset()\n",
    "    psi = model.call(x1)\n",
    "            \n",
    "    model.rnn_forward(x1)\n",
    "    psi *= model.call(x2)\n",
    "    \n",
    "    E_L = -0.5/psi*lap + 0.5*(x1**2 + x2**2) + 1/tf.math.sqrt((x1-x2)**2 + 0.01**2)\n",
    "    \n",
    "    E_L = tf.stop_gradient(E_L)\n",
    "    E = tf.math.reduce_mean(E_L)\n",
    "    \n",
    "    \n",
    "    psi_detach = tf.stop_gradient(psi)\n",
    "    return E, 2*(tf.math.reduce_mean(psi/psi_detach*E_L) - tf.math.reduce_mean(psi/psi_detach)*E)\n",
    "\n",
    "\n",
    "@tf.function\n",
    "def grad(model, x1, x2):\n",
    "    with tf.GradientTape() as tape:\n",
    "        E, loss_value = loss(model, x1, x2)\n",
    "\n",
    "    return E, tape.gradient(loss_value, model.trainable_variables)\n",
    "\n",
    "\n",
    "\n",
    "def sample(model, N, n):\n",
    "    total = 0\n",
    "    x_old = tf.random.uniform((N,1), minval=-2, maxval=2, dtype=tf.dtypes.float64)\n",
    "    psi_old = model(x_old).numpy()\n",
    "    \n",
    "    for i in range(n):\n",
    "        x_new = x_old + tf.random.uniform((N,1), minval=-1, maxval=1, dtype=tf.dtypes.float64)\n",
    "        psi_new = model(x_new).numpy()\n",
    "      \n",
    "    \n",
    "        U = np.random.uniform(0, 1, (N,1))\n",
    "        mask = ((psi_new/psi_old)**2 > U) #vectorized acceptance criterion\n",
    "        x_old = x_old.numpy()\n",
    "        x_new = x_new.numpy()\n",
    "        \n",
    "        x_old[mask]   = x_new[mask]  #move walkers\n",
    "        psi_old[mask] = psi_new[mask]\n",
    "        x_old = tf.convert_to_tensor(x_old, dtype=tf.dtypes.float64)\n",
    "        total += np.sum(mask)\n",
    "    \n",
    "    return x_old, total"
   ]
  },
  {
   "cell_type": "code",
   "execution_count": 3,
   "metadata": {},
   "outputs": [],
   "source": [
    "N = 5000\n",
    "\n",
    "energy = []\n",
    "\n",
    "tf.random.set_seed(42)\n",
    "np.random.seed(42)\n",
    "model = DNModel(N)\n",
    "optimizer = tf.keras.optimizers.Adam(epsilon=1e-08)"
   ]
  },
  {
   "cell_type": "code",
   "execution_count": 4,
   "metadata": {},
   "outputs": [
    {
     "data": {
      "application/vnd.jupyter.widget-view+json": {
       "model_id": "de0ebc19ceb54b5db510bb3ec259eec3",
       "version_major": 2,
       "version_minor": 0
      },
      "text/plain": [
       "HBox(children=(FloatProgress(value=0.0, max=4000.0), HTML(value='')))"
      ]
     },
     "metadata": {},
     "output_type": "display_data"
    },
    {
     "name": "stdout",
     "output_type": "stream",
     "text": [
      "epoch: 0, Energy: 6.523959968250252\n",
      "epoch: 100, Energy: 4.2467177446279925\n",
      "epoch: 200, Energy: 2.9719236507297495\n",
      "epoch: 300, Energy: 3.008926497975158\n",
      "epoch: 400, Energy: 2.895282725273321\n",
      "epoch: 500, Energy: 2.975537775024855\n",
      "epoch: 600, Energy: 2.8332401841088775\n",
      "epoch: 700, Energy: 2.7716521411355117\n",
      "epoch: 800, Energy: 2.8292528701301225\n",
      "epoch: 900, Energy: 2.817740882880071\n",
      "epoch: 1000, Energy: 2.689448300012698\n",
      "epoch: 1100, Energy: 2.8738951964544603\n",
      "epoch: 1200, Energy: 2.654214557149192\n",
      "epoch: 1300, Energy: 2.63847368595564\n",
      "epoch: 1400, Energy: 2.7050918752382342\n",
      "epoch: 1500, Energy: 2.683325681998022\n",
      "epoch: 1600, Energy: 2.6516328432935303\n",
      "epoch: 1700, Energy: 2.640987521817782\n",
      "epoch: 1800, Energy: 2.7074731622931134\n",
      "epoch: 1900, Energy: 2.718635504410567\n",
      "epoch: 2000, Energy: 2.6408086074733945\n",
      "epoch: 2100, Energy: 2.6685601221033743\n",
      "epoch: 2200, Energy: 2.6970227345887143\n",
      "epoch: 2300, Energy: 2.7796615670034375\n",
      "epoch: 2400, Energy: 2.658578556295164\n",
      "epoch: 2500, Energy: 2.6720427702616516\n",
      "epoch: 2600, Energy: 2.653766481755524\n",
      "epoch: 2700, Energy: 2.6467081334031923\n",
      "epoch: 2800, Energy: 2.64469633912374\n",
      "epoch: 2900, Energy: 2.6506541072380547\n",
      "epoch: 3000, Energy: 2.629544729744778\n",
      "epoch: 3100, Energy: 2.6549598433757207\n",
      "epoch: 3200, Energy: 2.651879682544369\n",
      "epoch: 3300, Energy: 2.65116473068103\n",
      "epoch: 3400, Energy: 2.6499153929581554\n",
      "epoch: 3500, Energy: 2.649221740838307\n",
      "epoch: 3600, Energy: 2.672615302571994\n",
      "epoch: 3700, Energy: 2.6635165427683445\n",
      "epoch: 3800, Energy: 2.619632562078239\n",
      "epoch: 3900, Energy: 2.658049450233562\n",
      "\n"
     ]
    }
   ],
   "source": [
    "num_epochs = 4000\n",
    "n = 20\n",
    "for epoch in tqdm(range(num_epochs)):\n",
    "    \n",
    "    model.hidden_reset()\n",
    "    x1 = sample(model, N, n)[0]\n",
    "    model.rnn_forward(x1)\n",
    "    x2 = sample(model, N, n)[0]\n",
    "\n",
    "    E, gradients = grad(model, x1, x2)\n",
    "    energy.append(E)\n",
    "    \n",
    "    optimizer.apply_gradients(zip(gradients, model.trainable_variables))\n",
    "    \n",
    "    \n",
    "    if epoch%100 == 0: \n",
    "        print(f\"epoch: {epoch}, Energy: {E}\")"
   ]
  },
  {
   "cell_type": "code",
   "execution_count": 5,
   "metadata": {},
   "outputs": [
    {
     "data": {
      "image/png": "[encoded data removed]",
      "text/plain": [
       "<Figure size 432x288 with 1 Axes>"
      ]
     },
     "metadata": {
      "needs_background": "light"
     },
     "output_type": "display_data"
    }
   ],
   "source": [
    "plt.plot(energy)\n",
    "plt.show()"
   ]
  },
  {
   "cell_type": "code",
   "execution_count": 6,
   "metadata": {},
   "outputs": [
    {
     "data": {
      "application/vnd.jupyter.widget-view+json": {
       "model_id": "fbf0ab700fc347c0aae87692a81a0c53",
       "version_major": 2,
       "version_minor": 0
      },
      "text/plain": [
       "interactive(children=(FloatSlider(value=0.0, description='x', max=4.0, min=-4.0), Output()), _dom_classes=('wi…"
      ]
     },
     "metadata": {},
     "output_type": "display_data"
    },
    {
     "data": {
      "text/plain": [
       "<function __main__.f(x)>"
      ]
     },
     "execution_count": 6,
     "metadata": {},
     "output_type": "execute_result"
    }
   ],
   "source": [
    "def f(x):\n",
    "    x_lin = np.linspace(-4, 4, N)\n",
    "    dx = x_lin[1] - x_lin[0]\n",
    "    tf_x_lin = tf.convert_to_tensor(x_lin.reshape(-1,1), dtype=tf.dtypes.float64)\n",
    "\n",
    "    x1 = tf.convert_to_tensor(x*np.ones((N,1)), dtype=tf.dtypes.float64)\n",
    "\n",
    "    model.hidden_reset()\n",
    "    psi1 = model(tf_x_lin).numpy()[:, 0]\n",
    "    \n",
    "    model.rnn_forward(x1)\n",
    "    psi2 = model(tf_x_lin).numpy()[:, 0]\n",
    "    \n",
    "    psi3 = np.exp(-0.5*x_lin**2)\n",
    "\n",
    "    plt.plot(x_lin, 1/dx*psi1**2/np.sum(psi1**2))\n",
    "    plt.plot(x_lin, 1/dx*psi2**2/np.sum(psi2**2))\n",
    "    plt.plot(x_lin, 1/dx*psi3**2/np.sum(psi3**2), \"--\")\n",
    "    \n",
    "    plt.plot(x, 0.01, \"bo\")\n",
    "    plt.ylim(0, 0.8)\n",
    "    plt.show()\n",
    "\n",
    "interact(f, x=(-4.0, 4., 0.1))"
   ]
  },
  {
   "cell_type": "markdown",
   "metadata": {},
   "source": [
    "#### Estimate energy"
   ]
  },
  {
   "cell_type": "code",
   "execution_count": 7,
   "metadata": {},
   "outputs": [
    {
     "name": "stdout",
     "output_type": "stream",
     "text": [
      "tf.Tensor(2.5756125808816033, shape=(), dtype=float64)\n"
     ]
    }
   ],
   "source": [
    "N = 1000000\n",
    "model.hidden_reset()\n",
    "x1 = sample(model, N, 20)[0]\n",
    "model.rnn_forward(x1)\n",
    "x2 = sample(model, N, 20)[0]\n",
    "\n",
    "with tf.GradientTape() as g:\n",
    "    g.watch(x1)\n",
    "    with tf.GradientTape() as gg:\n",
    "        gg.watch(x1)\n",
    "\n",
    "        model.hidden_reset()\n",
    "        psi = model.call(x1)\n",
    "\n",
    "        model.rnn_forward(x1)\n",
    "        psi *= model.call(x2)\n",
    "\n",
    "    d_psi = gg.gradient(psi, x1)\n",
    "d2_psi1 = g.gradient(d_psi, x1)\n",
    "\n",
    "with tf.GradientTape() as g:\n",
    "    g.watch(x2)\n",
    "    with tf.GradientTape() as gg:\n",
    "        gg.watch(x2)\n",
    "\n",
    "        model.hidden_reset()\n",
    "        psi = model.call(x1)\n",
    "\n",
    "        model.rnn_forward(x1)\n",
    "        psi *= model.call(x2)\n",
    "\n",
    "    d_psi = gg.gradient(psi, x2)\n",
    "d2_psi2 = g.gradient(d_psi, x2)\n",
    "\n",
    "lap = d2_psi1 + d2_psi2\n",
    "\n",
    "model.hidden_reset()\n",
    "psi = model.call(x1)\n",
    "\n",
    "model.rnn_forward(x1)\n",
    "psi *= model.call(x2)\n",
    "\n",
    "E_L = -0.5/psi*lap + 0.5*(x1**2 + x2**2) + 1/tf.math.sqrt((x1-x2)**2 + 0.1**2)\n",
    "\n",
    "E_L = tf.stop_gradient(E_L)\n",
    "E = tf.math.reduce_mean(E_L)\n",
    "\n",
    "print(E)\n",
    "x = tf.concat((x1, x2), axis=0).numpy()"
   ]
  },
  {
   "cell_type": "code",
   "execution_count": 8,
   "metadata": {},
   "outputs": [
    {
     "data": {
      "image/png": "[encoded data removed]",
      "text/plain": [
       "<Figure size 432x288 with 1 Axes>"
      ]
     },
     "metadata": {
      "needs_background": "light"
     },
     "output_type": "display_data"
    }
   ],
   "source": [
    "bins = np.linspace(-3, 3, 200)\n",
    "\n",
    "plt.hist(x, bins=bins)\n",
    "plt.show()"
   ]
  },
  {
   "cell_type": "code",
   "execution_count": null,
   "metadata": {},
   "outputs": [],
   "source": []
  }
 ],
 "metadata": {
  "kernelspec": {
   "display_name": "env_neural",
   "language": "python",
   "name": "env_neural"
  },
  "language_info": {
   "codemirror_mode": {
    "name": "ipython",
    "version": 3
   },
   "file_extension": ".py",
   "mimetype": "text/x-python",
   "name": "python",
   "nbconvert_exporter": "python",
   "pygments_lexer": "ipython3",
   "version": "3.6.9"
  }
 },
 "nbformat": 4,
 "nbformat_minor": 2
}
