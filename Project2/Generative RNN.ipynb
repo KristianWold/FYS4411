{
 "cells": [
  {
   "cell_type": "code",
   "execution_count": 1,
   "metadata": {},
   "outputs": [],
   "source": [
    "import torch\n",
    "import torch.nn as nn\n",
    "import numpy as np\n",
    "import matplotlib.pyplot as plt\n",
    "from tqdm import tqdm"
   ]
  },
  {
   "cell_type": "code",
   "execution_count": 2,
   "metadata": {},
   "outputs": [],
   "source": [
    "class Model(nn.Module):\n",
    "     \n",
    "    def __init__(self):\n",
    "        super().__init__()\n",
    "        self.Whh = nn.Linear(2, 2)\n",
    "        self.Whx = nn.Linear(1, 2, bias = False)\n",
    "        \n",
    "        self.layer1 = nn.Linear(2 + 1, 64)\n",
    "        self.layer2 = nn.Linear(64, 16)\n",
    "        self.layer3 = nn.Linear(16, 1)\n",
    "              \n",
    "    \n",
    "    def forward_RNN(self, x, hidden):\n",
    "        \n",
    "        hidden_next = torch.tanh(self.Whh(hidden) + self.Whx(x))\n",
    "        return hidden_next\n",
    "    \n",
    "\n",
    "    def forward_DNN(self, x, hidden):\n",
    "        \n",
    "        X = torch.cat((x, hidden), 1)\n",
    "        X = self.layer1(X).clamp(min = 0)\n",
    "        X = self.layer2(X).clamp(min = 0)\n",
    "        X = self.layer3(X)\n",
    "        return X*(x-2)*(x+2)\n",
    "\n",
    "    \n",
    "def metropolis(hidden, model):\n",
    "    total = 0\n",
    "    x = torch.zeros((1,1))\n",
    "    for i in range(50):\n",
    "        psi_old = model.forward_DNN(x, hidden)\n",
    "        \n",
    "        x_new = x + torch.Tensor((2*np.random.random((1,1)) - 1))\n",
    "        psi_new = model.forward_DNN(x_new, hidden)\n",
    "\n",
    "        if (psi_new/psi_old)**2 > np.random.random():\n",
    "            x = x_new\n",
    "            total += 1\n",
    "    return x.detach(), total"
   ]
  },
  {
   "cell_type": "code",
   "execution_count": 3,
   "metadata": {},
   "outputs": [],
   "source": [
    "model = Model()\n",
    "hidden = torch.zeros((1,2))\n",
    "x = torch.zeros((1,1))\n",
    "model.forward_RNN(x, hidden)\n",
    "\n",
    "y = model.forward_DNN(x, hidden)\n",
    "y.backward()"
   ]
  },
  {
   "cell_type": "code",
   "execution_count": 4,
   "metadata": {},
   "outputs": [],
   "source": [
    "torch.manual_seed(42)\n",
    "model = Model()\n",
    "optimizer = torch.optim.Adam(model.parameters())\n",
    "\n",
    "epochs = 10\n",
    "h = 0.01\n",
    "#print(list(model.parameters()))"
   ]
  },
  {
   "cell_type": "code",
   "execution_count": 26,
   "metadata": {},
   "outputs": [
    {
     "name": "stdout",
     "output_type": "stream",
     "text": [
      "epoch: 0, loss: 1004.6961059570312\n",
      "epoch: 1, loss: 3145.35107421875\n",
      "epoch: 2, loss: 6617.986328125\n",
      "epoch: 3, loss: 5348.17578125\n",
      "epoch: 4, loss: 8297.263671875\n",
      "epoch: 5, loss: 3949.00439453125\n",
      "epoch: 6, loss: 10971.0625\n",
      "epoch: 7, loss: 4685.73388671875\n",
      "epoch: 8, loss: 4234.69921875\n",
      "epoch: 9, loss: 4245.8623046875\n"
     ]
    }
   ],
   "source": [
    "for epoch in range(epochs):\n",
    "    P_acc = len(list(model.parameters()))*[0]\n",
    "    E_acc = 0\n",
    "    PE_acc = len(list(model.parameters()))*[0]\n",
    "    N = 1000\n",
    "    grad = 0\n",
    "    for i in range(N):\n",
    "        psi_total = 1\n",
    "        hidden = torch.zeros((1,2))\n",
    "        x = torch.zeros((1,1))\n",
    "\n",
    "        hidden = model.forward_RNN(x, hidden)\n",
    "        x = metropolis(hidden, model)[0]\n",
    "\n",
    "        psi_plus  = model.forward_DNN(x+h, hidden) \n",
    "        psi       = model.forward_DNN(x, hidden)\n",
    "        psi_minus = model.forward_DNN(x-h, hidden)\n",
    "        \n",
    "        psi_total *= psi\n",
    "        \n",
    "        lap1 = 1/psi*(psi_plus - 2*psi + psi_minus)/h**2\n",
    "        pot1 = 0.5*x**2\n",
    "\n",
    "        hidden = model.forward_RNN(x, hidden)\n",
    "        x = metropolis(hidden, model)[0]\n",
    "\n",
    "        psi_plus  = model.forward_DNN(x+h, hidden) \n",
    "        psi       = model.forward_DNN(x, hidden)\n",
    "        psi_minus = model.forward_DNN(x-h, hidden)\n",
    "        psi_total *= psi\n",
    "        \n",
    "        lap2 = 1/psi*(psi_plus - 2*psi + psi_minus)/h**2\n",
    "        pot2 = 0.5*x**2\n",
    "        \n",
    "        E_L = (-0.5*(lap1 + lap2) + pot1 + pot2)[0]\n",
    "        E_acc += E_L\n",
    "        \n",
    "        optimizer.zero_grad()\n",
    "        psi_total.backward()\n",
    "\n",
    "        for i, param in enumerate(model.parameters()):\n",
    "            P_acc[i] += param.grad/psi_total[0]\n",
    "            PE_acc[i] += E_L*param.grad/psi_total[0]\n",
    "    \n",
    "    E_acc = E_acc/N\n",
    "    \n",
    "    for i, param in enumerate(model.parameters()):\n",
    "        #print(param.grad.shape)\n",
    "        #print(PE_acc[i].shape)\n",
    "        #print(P_acc[i].shape)\n",
    "        #print(E_acc.shape)\n",
    "        param.grad = 2/N*(PE_acc[i] - P_acc[i]*E_acc)\n",
    "        grad += torch.sum(param.grad**2)\n",
    "    \n",
    "    optimizer.step()\n",
    "    print(f\"epoch: {epoch}, loss: {grad}\")"
   ]
  },
  {
   "cell_type": "code",
   "execution_count": 13,
   "metadata": {},
   "outputs": [
    {
     "name": "stdout",
     "output_type": "stream",
     "text": [
      "(tensor([[-0.5157]]), 28)\n"
     ]
    }
   ],
   "source": [
    "hidden = torch.zeros((1,2))\n",
    "x = torch.zeros((1,1))\n",
    "hidden = model.forward_RNN(x, hidden)\n",
    "\n",
    "print(metropolis(hidden, model))"
   ]
  },
  {
   "cell_type": "code",
   "execution_count": 7,
   "metadata": {},
   "outputs": [
    {
     "name": "stderr",
     "output_type": "stream",
     "text": [
      "100%|██████████| 1000/1000 [00:19<00:00, 51.17it/s]\n"
     ]
    }
   ],
   "source": [
    "x1_array = []\n",
    "x2_array = []\n",
    "for i in tqdm(range(1000)):\n",
    "    hidden = torch.zeros((1,2))\n",
    "    x = torch.zeros((1,1))\n",
    "    \n",
    "    hidden = model.forward_RNN(x, hidden)\n",
    "    \n",
    "    x = metropolis(hidden, model)[0]\n",
    "    x1_array.append(x)\n",
    "    \n",
    "    hidden = model.forward_RNN(x, hidden)\n",
    "    x = metropolis(hidden, model)[0]\n",
    "    x2_array.append(x)\n",
    "    \n"
   ]
  },
  {
   "cell_type": "code",
   "execution_count": 8,
   "metadata": {},
   "outputs": [
    {
     "data": {
      "image/png": "[encoded data removed]",
      "text/plain": [
       "<Figure size 432x288 with 1 Axes>"
      ]
     },
     "metadata": {
      "needs_background": "light"
     },
     "output_type": "display_data"
    },
    {
     "data": {
      "image/png": "[encoded data removed]",
      "text/plain": [
       "<Figure size 432x288 with 1 Axes>"
      ]
     },
     "metadata": {
      "needs_background": "light"
     },
     "output_type": "display_data"
    }
   ],
   "source": [
    "x1_array = np.array(x1_array)\n",
    "x2_array = np.array(x2_array)\n",
    "\n",
    "bins = np.linspace(-2, 2, 100)\n",
    "dx = bins[1] - bins[0]\n",
    "\n",
    "plt.hist(x1_array, bins=bins)\n",
    "plt.plot(bins, 1000*dx/np.sqrt(np.pi)*np.exp(-bins**2))\n",
    "plt.show()\n",
    "\n",
    "plt.hist(x2_array, bins=bins)\n",
    "plt.plot(bins, 1000*dx/np.sqrt(np.pi)*np.exp(-bins**2))\n",
    "plt.show()"
   ]
  },
  {
   "cell_type": "code",
   "execution_count": 46,
   "metadata": {},
   "outputs": [
    {
     "data": {
      "text/plain": [
       "[<matplotlib.lines.Line2D at 0x7efb1fe96550>]"
      ]
     },
     "execution_count": 46,
     "metadata": {},
     "output_type": "execute_result"
    },
    {
     "data": {
      "image/png": "[encoded data removed]",
      "text/plain": [
       "<Figure size 432x288 with 1 Axes>"
      ]
     },
     "metadata": {
      "needs_background": "light"
     },
     "output_type": "display_data"
    }
   ],
   "source": [
    "x_lin = torch.linspace(-3, 3, 100).reshape(100,-1)\n",
    "\n",
    "x = torch.zeros((100,1))\n",
    "hidden = torch.zeros((100,2))\n",
    "hidden = model.forward_RNN(x, hidden)\n",
    "\n",
    "psi1 = model.forward_DNN(x_lin, hidden)[:,0].detach().numpy()\n",
    "\n",
    "x = torch.zeros((1,1))\n",
    "hidden = torch.zeros((1,2))\n",
    "hidden = model.forward_RNN(x, hidden)\n",
    "x = metropolis(hidden, model)[0]\n",
    "hidden = model.forward_RNN(x, hidden)\n",
    "hidden = hidden.repeat((100,1))\n",
    "\n",
    "psi2 = model.forward_DNN(x_lin, hidden)[:,0].detach().numpy()\n",
    "\n",
    "\n",
    "plt.plot(x_lin[:,0], psi1)\n",
    "plt.plot(x_lin[:,0], psi2)\n",
    "plt.plot(x_lin[:,0], 1/np.sqrt(np.pi)*np.exp(-x_lin[:,0]**2))"
   ]
  },
  {
   "cell_type": "code",
   "execution_count": null,
   "metadata": {},
   "outputs": [],
   "source": []
  }
 ],
 "metadata": {
  "kernelspec": {
   "display_name": "env_neural",
   "language": "python",
   "name": "env_neural"
  },
  "language_info": {
   "codemirror_mode": {
    "name": "ipython",
    "version": 3
   },
   "file_extension": ".py",
   "mimetype": "text/x-python",
   "name": "python",
   "nbconvert_exporter": "python",
   "pygments_lexer": "ipython3",
   "version": "3.6.9"
  }
 },
 "nbformat": 4,
 "nbformat_minor": 2
}
