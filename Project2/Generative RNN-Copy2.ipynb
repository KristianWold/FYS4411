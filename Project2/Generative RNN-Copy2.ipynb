{
 "cells": [
  {
   "cell_type": "code",
   "execution_count": 1,
   "metadata": {},
   "outputs": [],
   "source": [
    "import torch\n",
    "import torch.nn as nn\n",
    "import numpy as np\n",
    "import matplotlib.pyplot as plt\n",
    "from tqdm import tqdm"
   ]
  },
  {
   "cell_type": "code",
   "execution_count": 2,
   "metadata": {},
   "outputs": [],
   "source": [
    "hn = 5\n",
    "class Model(nn.Module):\n",
    "     \n",
    "    def __init__(self):\n",
    "        super().__init__()\n",
    "        self.hidden = torch.zeros((1, hn))\n",
    "        self.stepLength = 1.2\n",
    "        \n",
    "        #RNN\n",
    "        self.Whh = nn.Linear(hn, hn)\n",
    "        self.Whx = nn.Linear(1, hn, bias = False)\n",
    "        self.Why = nn.Linear(hn, 1)\n",
    "        \n",
    "        #DNN\n",
    "        self.layer1 = nn.Linear(1, 16)\n",
    "        self.layer2 = nn.Linear(16, 4)\n",
    "        self.layer3 = nn.Linear(4, 1)\n",
    "        \n",
    "\n",
    "    def forward_RNN(self, x):\n",
    "        \n",
    "        self.hidden = torch.tanh(self.Whh(self.hidden) + self.Whx(x))\n",
    "    \n",
    "\n",
    "    def forward_DNN(self, x):\n",
    "        \n",
    "        y = self.Why(self.hidden.repeat((x.shape[0], 1)))\n",
    "        \n",
    "        #X = torch.cat((x, y), 1)\n",
    "        X = torch.tanh(self.layer1(x))\n",
    "        X = torch.tanh(self.layer2(X))\n",
    "        X = self.layer3(X)\n",
    "\n",
    "        \n",
    "        return X*torch.exp(-0.5*x**2)\n",
    "\n",
    "    def sample(self):\n",
    "        total = 0\n",
    "        x = torch.Tensor((2*np.random.random((1, 1)) - 1))\n",
    "        psi_old = self.forward_DNN(x)\n",
    "\n",
    "        for i in range(20):\n",
    "            x_new = x + self.stepLength*torch.Tensor((2*np.random.random((1, 1)) - 1))\n",
    "            psi_new = model.forward_DNN(x_new)\n",
    "\n",
    "            if (psi_new/psi_old)**2 > np.random.random():\n",
    "                x = x_new\n",
    "                psi_old = psi_new\n",
    "                total += 1\n",
    "        \n",
    "        x = x.detach()\n",
    "           \n",
    "        return x, total\n",
    "    \n",
    "    def resetHidden(self):\n",
    "        self.hidden = torch.zeros((1, hn))\n",
    "        "
   ]
  },
  {
   "cell_type": "code",
   "execution_count": 3,
   "metadata": {},
   "outputs": [],
   "source": [
    "torch.manual_seed(42)\n",
    "np.random.seed(42)\n",
    "model = Model()\n",
    "optimizer = torch.optim.SGD(model.parameters(), lr = 0.0001)\n",
    "\n",
    "\n",
    "#print(list(model.parameters()))"
   ]
  },
  {
   "cell_type": "code",
   "execution_count": 4,
   "metadata": {},
   "outputs": [
    {
     "name": "stderr",
     "output_type": "stream",
     "text": [
      "  0%|          | 1/1000 [00:00<03:52,  4.31it/s]"
     ]
    },
    {
     "name": "stdout",
     "output_type": "stream",
     "text": [
      "epoch: 0, L2-norm of gradient: 17.863990783691406, L2-norm of gradient: tensor([[-0.7258]])\n"
     ]
    },
    {
     "name": "stderr",
     "output_type": "stream",
     "text": [
      "  1%|          | 11/1000 [00:02<03:20,  4.93it/s]"
     ]
    },
    {
     "name": "stdout",
     "output_type": "stream",
     "text": [
      "epoch: 10, L2-norm of gradient: 13.227448463439941, L2-norm of gradient: tensor([[-1.9583]])\n"
     ]
    },
    {
     "name": "stderr",
     "output_type": "stream",
     "text": [
      "  2%|▏         | 22/1000 [00:04<03:04,  5.31it/s]"
     ]
    },
    {
     "name": "stdout",
     "output_type": "stream",
     "text": [
      "epoch: 20, L2-norm of gradient: 10.050806999206543, L2-norm of gradient: tensor([[-0.6118]])\n"
     ]
    },
    {
     "name": "stderr",
     "output_type": "stream",
     "text": [
      "  3%|▎         | 32/1000 [00:06<02:59,  5.38it/s]"
     ]
    },
    {
     "name": "stdout",
     "output_type": "stream",
     "text": [
      "epoch: 30, L2-norm of gradient: 11.614012718200684, L2-norm of gradient: tensor([[-1.0036]])\n"
     ]
    },
    {
     "name": "stderr",
     "output_type": "stream",
     "text": [
      "  4%|▍         | 42/1000 [00:08<03:00,  5.31it/s]"
     ]
    },
    {
     "name": "stdout",
     "output_type": "stream",
     "text": [
      "epoch: 40, L2-norm of gradient: 15.464585304260254, L2-norm of gradient: tensor([[-1.4995]])\n"
     ]
    },
    {
     "name": "stderr",
     "output_type": "stream",
     "text": [
      "  5%|▌         | 52/1000 [00:10<03:03,  5.18it/s]"
     ]
    },
    {
     "name": "stdout",
     "output_type": "stream",
     "text": [
      "epoch: 50, L2-norm of gradient: 14.515748977661133, L2-norm of gradient: tensor([[-2.2510]])\n"
     ]
    },
    {
     "name": "stderr",
     "output_type": "stream",
     "text": [
      "  6%|▌         | 62/1000 [00:11<02:58,  5.26it/s]"
     ]
    },
    {
     "name": "stdout",
     "output_type": "stream",
     "text": [
      "epoch: 60, L2-norm of gradient: 42.27482223510742, L2-norm of gradient: tensor([[-2.3062]])\n"
     ]
    },
    {
     "name": "stderr",
     "output_type": "stream",
     "text": [
      "  7%|▋         | 72/1000 [00:13<02:57,  5.23it/s]"
     ]
    },
    {
     "name": "stdout",
     "output_type": "stream",
     "text": [
      "epoch: 70, L2-norm of gradient: 12.626391410827637, L2-norm of gradient: tensor([[-2.5783]])\n"
     ]
    },
    {
     "name": "stderr",
     "output_type": "stream",
     "text": [
      "  8%|▊         | 82/1000 [00:15<02:57,  5.17it/s]"
     ]
    },
    {
     "name": "stdout",
     "output_type": "stream",
     "text": [
      "epoch: 80, L2-norm of gradient: 18.535207748413086, L2-norm of gradient: tensor([[-3.1294]])\n"
     ]
    },
    {
     "name": "stderr",
     "output_type": "stream",
     "text": [
      "  9%|▉         | 92/1000 [00:17<02:54,  5.19it/s]"
     ]
    },
    {
     "name": "stdout",
     "output_type": "stream",
     "text": [
      "epoch: 90, L2-norm of gradient: 2.2340188026428223, L2-norm of gradient: tensor([[-3.9192]])\n"
     ]
    },
    {
     "name": "stderr",
     "output_type": "stream",
     "text": [
      " 10%|█         | 102/1000 [00:19<02:53,  5.17it/s]"
     ]
    },
    {
     "name": "stdout",
     "output_type": "stream",
     "text": [
      "epoch: 100, L2-norm of gradient: 4.422989368438721, L2-norm of gradient: tensor([[-3.9851]])\n"
     ]
    },
    {
     "name": "stderr",
     "output_type": "stream",
     "text": [
      " 11%|█         | 112/1000 [00:21<02:57,  5.00it/s]"
     ]
    },
    {
     "name": "stdout",
     "output_type": "stream",
     "text": [
      "epoch: 110, L2-norm of gradient: 7.218674659729004, L2-norm of gradient: tensor([[-3.7950]])\n"
     ]
    },
    {
     "name": "stderr",
     "output_type": "stream",
     "text": [
      " 12%|█▏        | 122/1000 [00:23<02:47,  5.25it/s]"
     ]
    },
    {
     "name": "stdout",
     "output_type": "stream",
     "text": [
      "epoch: 120, L2-norm of gradient: 7.340940952301025, L2-norm of gradient: tensor([[-4.3192]])\n"
     ]
    },
    {
     "name": "stderr",
     "output_type": "stream",
     "text": [
      " 13%|█▎        | 132/1000 [00:25<02:46,  5.22it/s]"
     ]
    },
    {
     "name": "stdout",
     "output_type": "stream",
     "text": [
      "epoch: 130, L2-norm of gradient: 3.597301721572876, L2-norm of gradient: tensor([[-3.9633]])\n"
     ]
    },
    {
     "name": "stderr",
     "output_type": "stream",
     "text": [
      " 14%|█▍        | 142/1000 [00:27<02:44,  5.22it/s]"
     ]
    },
    {
     "name": "stdout",
     "output_type": "stream",
     "text": [
      "epoch: 140, L2-norm of gradient: 7.892820358276367, L2-norm of gradient: tensor([[-2.9997]])\n"
     ]
    },
    {
     "name": "stderr",
     "output_type": "stream",
     "text": [
      " 15%|█▌        | 152/1000 [00:29<02:41,  5.25it/s]"
     ]
    },
    {
     "name": "stdout",
     "output_type": "stream",
     "text": [
      "epoch: 150, L2-norm of gradient: 11.11611270904541, L2-norm of gradient: tensor([[-6.2111]])\n"
     ]
    },
    {
     "name": "stderr",
     "output_type": "stream",
     "text": [
      " 16%|█▌        | 162/1000 [00:31<02:41,  5.19it/s]"
     ]
    },
    {
     "name": "stdout",
     "output_type": "stream",
     "text": [
      "epoch: 160, L2-norm of gradient: 3.304328203201294, L2-norm of gradient: tensor([[-3.8645]])\n"
     ]
    },
    {
     "name": "stderr",
     "output_type": "stream",
     "text": [
      " 17%|█▋        | 172/1000 [00:33<02:39,  5.20it/s]"
     ]
    },
    {
     "name": "stdout",
     "output_type": "stream",
     "text": [
      "epoch: 170, L2-norm of gradient: 6.3271870613098145, L2-norm of gradient: tensor([[-4.0557]])\n"
     ]
    },
    {
     "name": "stderr",
     "output_type": "stream",
     "text": [
      " 18%|█▊        | 181/1000 [00:35<02:41,  5.07it/s]"
     ]
    },
    {
     "name": "stdout",
     "output_type": "stream",
     "text": [
      "epoch: 180, L2-norm of gradient: 5.545813083648682, L2-norm of gradient: tensor([[-4.0446]])\n"
     ]
    },
    {
     "name": "stderr",
     "output_type": "stream",
     "text": [
      " 19%|█▉        | 192/1000 [00:37<02:36,  5.16it/s]"
     ]
    },
    {
     "name": "stdout",
     "output_type": "stream",
     "text": [
      "epoch: 190, L2-norm of gradient: 47.076576232910156, L2-norm of gradient: tensor([[-13.2715]])\n"
     ]
    },
    {
     "name": "stderr",
     "output_type": "stream",
     "text": [
      " 20%|██        | 201/1000 [00:38<02:38,  5.04it/s]"
     ]
    },
    {
     "name": "stdout",
     "output_type": "stream",
     "text": [
      "epoch: 200, L2-norm of gradient: 30.268373489379883, L2-norm of gradient: tensor([[-7.6204]])\n"
     ]
    },
    {
     "name": "stderr",
     "output_type": "stream",
     "text": [
      " 21%|██        | 212/1000 [00:41<02:35,  5.07it/s]"
     ]
    },
    {
     "name": "stdout",
     "output_type": "stream",
     "text": [
      "epoch: 210, L2-norm of gradient: 11.725126266479492, L2-norm of gradient: tensor([[-7.1746]])\n"
     ]
    },
    {
     "name": "stderr",
     "output_type": "stream",
     "text": [
      " 22%|██▏       | 222/1000 [00:43<02:32,  5.10it/s]"
     ]
    },
    {
     "name": "stdout",
     "output_type": "stream",
     "text": [
      "epoch: 220, L2-norm of gradient: 7.637379169464111, L2-norm of gradient: tensor([[-3.4822]])\n"
     ]
    },
    {
     "name": "stderr",
     "output_type": "stream",
     "text": [
      " 23%|██▎       | 232/1000 [00:44<02:25,  5.28it/s]"
     ]
    },
    {
     "name": "stdout",
     "output_type": "stream",
     "text": [
      "epoch: 230, L2-norm of gradient: 17.859272003173828, L2-norm of gradient: tensor([[-3.4754]])\n"
     ]
    },
    {
     "name": "stderr",
     "output_type": "stream",
     "text": [
      " 24%|██▍       | 242/1000 [00:46<02:22,  5.32it/s]"
     ]
    },
    {
     "name": "stdout",
     "output_type": "stream",
     "text": [
      "epoch: 240, L2-norm of gradient: 3.1497836112976074, L2-norm of gradient: tensor([[-2.8684]])\n"
     ]
    },
    {
     "name": "stderr",
     "output_type": "stream",
     "text": [
      " 25%|██▌       | 252/1000 [00:48<02:21,  5.27it/s]"
     ]
    },
    {
     "name": "stdout",
     "output_type": "stream",
     "text": [
      "epoch: 250, L2-norm of gradient: 4.337399482727051, L2-norm of gradient: tensor([[-4.6821]])\n"
     ]
    },
    {
     "name": "stderr",
     "output_type": "stream",
     "text": [
      " 26%|██▌       | 262/1000 [00:50<02:24,  5.10it/s]"
     ]
    },
    {
     "name": "stdout",
     "output_type": "stream",
     "text": [
      "epoch: 260, L2-norm of gradient: 2.5818521976470947, L2-norm of gradient: tensor([[-3.6656]])\n"
     ]
    },
    {
     "name": "stderr",
     "output_type": "stream",
     "text": [
      " 27%|██▋       | 271/1000 [00:52<02:27,  4.96it/s]"
     ]
    },
    {
     "name": "stdout",
     "output_type": "stream",
     "text": [
      "epoch: 270, L2-norm of gradient: 2.818889617919922, L2-norm of gradient: tensor([[-3.2781]])\n"
     ]
    },
    {
     "name": "stderr",
     "output_type": "stream",
     "text": [
      " 28%|██▊       | 281/1000 [00:54<02:19,  5.16it/s]"
     ]
    },
    {
     "name": "stdout",
     "output_type": "stream",
     "text": [
      "epoch: 280, L2-norm of gradient: 2.3679089546203613, L2-norm of gradient: tensor([[-3.1001]])\n"
     ]
    },
    {
     "name": "stderr",
     "output_type": "stream",
     "text": [
      " 29%|██▉       | 292/1000 [00:56<02:19,  5.08it/s]"
     ]
    },
    {
     "name": "stdout",
     "output_type": "stream",
     "text": [
      "epoch: 290, L2-norm of gradient: 6.719094753265381, L2-norm of gradient: tensor([[-3.7721]])\n"
     ]
    },
    {
     "name": "stderr",
     "output_type": "stream",
     "text": [
      " 30%|███       | 302/1000 [00:58<02:16,  5.12it/s]"
     ]
    },
    {
     "name": "stdout",
     "output_type": "stream",
     "text": [
      "epoch: 300, L2-norm of gradient: 3.9773199558258057, L2-norm of gradient: tensor([[-3.7417]])\n"
     ]
    },
    {
     "name": "stderr",
     "output_type": "stream",
     "text": [
      " 31%|███       | 312/1000 [01:00<02:10,  5.28it/s]"
     ]
    },
    {
     "name": "stdout",
     "output_type": "stream",
     "text": [
      "epoch: 310, L2-norm of gradient: 12.583723068237305, L2-norm of gradient: tensor([[-4.0942]])\n"
     ]
    },
    {
     "name": "stderr",
     "output_type": "stream",
     "text": [
      " 32%|███▏      | 321/1000 [01:02<02:16,  4.97it/s]"
     ]
    },
    {
     "name": "stdout",
     "output_type": "stream",
     "text": [
      "epoch: 320, L2-norm of gradient: 5.110087871551514, L2-norm of gradient: tensor([[-3.5196]])\n"
     ]
    },
    {
     "name": "stderr",
     "output_type": "stream",
     "text": [
      " 33%|███▎      | 331/1000 [01:04<02:17,  4.86it/s]"
     ]
    },
    {
     "name": "stdout",
     "output_type": "stream",
     "text": [
      "epoch: 330, L2-norm of gradient: 2.3095273971557617, L2-norm of gradient: tensor([[-3.5106]])\n"
     ]
    },
    {
     "name": "stderr",
     "output_type": "stream",
     "text": [
      " 34%|███▍      | 342/1000 [01:06<02:05,  5.26it/s]"
     ]
    },
    {
     "name": "stdout",
     "output_type": "stream",
     "text": [
      "epoch: 340, L2-norm of gradient: 1.4984883069992065, L2-norm of gradient: tensor([[-3.6782]])\n"
     ]
    },
    {
     "name": "stderr",
     "output_type": "stream",
     "text": [
      " 35%|███▌      | 352/1000 [01:08<02:03,  5.24it/s]"
     ]
    },
    {
     "name": "stdout",
     "output_type": "stream",
     "text": [
      "epoch: 350, L2-norm of gradient: 21.881179809570312, L2-norm of gradient: tensor([[-6.5781]])\n"
     ]
    },
    {
     "name": "stderr",
     "output_type": "stream",
     "text": [
      " 36%|███▌      | 362/1000 [01:10<02:01,  5.27it/s]"
     ]
    },
    {
     "name": "stdout",
     "output_type": "stream",
     "text": [
      "epoch: 360, L2-norm of gradient: 8.708208084106445, L2-norm of gradient: tensor([[-3.8437]])\n"
     ]
    },
    {
     "name": "stderr",
     "output_type": "stream",
     "text": [
      " 37%|███▋      | 372/1000 [01:12<01:58,  5.31it/s]"
     ]
    },
    {
     "name": "stdout",
     "output_type": "stream",
     "text": [
      "epoch: 370, L2-norm of gradient: 8.615843772888184, L2-norm of gradient: tensor([[-5.0733]])\n"
     ]
    },
    {
     "name": "stderr",
     "output_type": "stream",
     "text": [
      " 38%|███▊      | 382/1000 [01:14<01:58,  5.23it/s]"
     ]
    },
    {
     "name": "stdout",
     "output_type": "stream",
     "text": [
      "epoch: 380, L2-norm of gradient: 1.9464397430419922, L2-norm of gradient: tensor([[-3.9489]])\n"
     ]
    },
    {
     "name": "stderr",
     "output_type": "stream",
     "text": [
      " 39%|███▉      | 392/1000 [01:16<01:57,  5.19it/s]"
     ]
    },
    {
     "name": "stdout",
     "output_type": "stream",
     "text": [
      "epoch: 390, L2-norm of gradient: 11.839956283569336, L2-norm of gradient: tensor([[-3.7206]])\n"
     ]
    },
    {
     "name": "stderr",
     "output_type": "stream",
     "text": [
      " 40%|████      | 402/1000 [01:17<01:50,  5.42it/s]"
     ]
    },
    {
     "name": "stdout",
     "output_type": "stream",
     "text": [
      "epoch: 400, L2-norm of gradient: 1.2232617139816284, L2-norm of gradient: tensor([[-3.2634]])\n"
     ]
    },
    {
     "name": "stderr",
     "output_type": "stream",
     "text": [
      " 41%|████      | 412/1000 [01:19<01:50,  5.32it/s]"
     ]
    },
    {
     "name": "stdout",
     "output_type": "stream",
     "text": [
      "epoch: 410, L2-norm of gradient: 6.9582648277282715, L2-norm of gradient: tensor([[-3.8171]])\n"
     ]
    },
    {
     "name": "stderr",
     "output_type": "stream",
     "text": [
      " 42%|████▏     | 422/1000 [01:21<01:49,  5.26it/s]"
     ]
    },
    {
     "name": "stdout",
     "output_type": "stream",
     "text": [
      "epoch: 420, L2-norm of gradient: 11.49394702911377, L2-norm of gradient: tensor([[-3.3433]])\n"
     ]
    },
    {
     "name": "stderr",
     "output_type": "stream",
     "text": [
      " 43%|████▎     | 432/1000 [01:23<01:47,  5.29it/s]"
     ]
    },
    {
     "name": "stdout",
     "output_type": "stream",
     "text": [
      "epoch: 430, L2-norm of gradient: 2.5001120567321777, L2-norm of gradient: tensor([[-3.7973]])\n"
     ]
    },
    {
     "name": "stderr",
     "output_type": "stream",
     "text": [
      " 44%|████▍     | 442/1000 [01:25<01:45,  5.27it/s]"
     ]
    },
    {
     "name": "stdout",
     "output_type": "stream",
     "text": [
      "epoch: 440, L2-norm of gradient: 8.556519508361816, L2-norm of gradient: tensor([[-4.2932]])\n"
     ]
    },
    {
     "name": "stderr",
     "output_type": "stream",
     "text": [
      " 45%|████▌     | 452/1000 [01:27<01:41,  5.40it/s]"
     ]
    },
    {
     "name": "stdout",
     "output_type": "stream",
     "text": [
      "epoch: 450, L2-norm of gradient: 2.822413921356201, L2-norm of gradient: tensor([[-4.5107]])\n"
     ]
    },
    {
     "name": "stderr",
     "output_type": "stream",
     "text": [
      " 46%|████▌     | 462/1000 [01:29<01:43,  5.20it/s]"
     ]
    },
    {
     "name": "stdout",
     "output_type": "stream",
     "text": [
      "epoch: 460, L2-norm of gradient: 12.192919731140137, L2-norm of gradient: tensor([[-3.7289]])\n"
     ]
    },
    {
     "name": "stderr",
     "output_type": "stream",
     "text": [
      " 47%|████▋     | 472/1000 [01:31<01:40,  5.24it/s]"
     ]
    },
    {
     "name": "stdout",
     "output_type": "stream",
     "text": [
      "epoch: 470, L2-norm of gradient: 1.3338253498077393, L2-norm of gradient: tensor([[-3.5003]])\n"
     ]
    },
    {
     "name": "stderr",
     "output_type": "stream",
     "text": [
      " 48%|████▊     | 482/1000 [01:33<01:37,  5.31it/s]"
     ]
    },
    {
     "name": "stdout",
     "output_type": "stream",
     "text": [
      "epoch: 480, L2-norm of gradient: 4.256536483764648, L2-norm of gradient: tensor([[-3.8530]])\n"
     ]
    },
    {
     "name": "stderr",
     "output_type": "stream",
     "text": [
      " 49%|████▉     | 492/1000 [01:35<01:36,  5.26it/s]"
     ]
    },
    {
     "name": "stdout",
     "output_type": "stream",
     "text": [
      "epoch: 490, L2-norm of gradient: 3.2404274940490723, L2-norm of gradient: tensor([[-4.0708]])\n"
     ]
    },
    {
     "name": "stderr",
     "output_type": "stream",
     "text": [
      " 50%|█████     | 502/1000 [01:37<01:34,  5.28it/s]"
     ]
    },
    {
     "name": "stdout",
     "output_type": "stream",
     "text": [
      "epoch: 500, L2-norm of gradient: 1.9981210231781006, L2-norm of gradient: tensor([[-2.9686]])\n"
     ]
    },
    {
     "name": "stderr",
     "output_type": "stream",
     "text": [
      " 51%|█████     | 512/1000 [01:38<01:35,  5.09it/s]"
     ]
    },
    {
     "name": "stdout",
     "output_type": "stream",
     "text": [
      "epoch: 510, L2-norm of gradient: 5.717190742492676, L2-norm of gradient: tensor([[-3.2134]])\n"
     ]
    },
    {
     "name": "stderr",
     "output_type": "stream",
     "text": [
      " 52%|█████▏    | 522/1000 [01:40<01:33,  5.11it/s]"
     ]
    },
    {
     "name": "stdout",
     "output_type": "stream",
     "text": [
      "epoch: 520, L2-norm of gradient: 23.088985443115234, L2-norm of gradient: tensor([[-5.9227]])\n"
     ]
    },
    {
     "name": "stderr",
     "output_type": "stream",
     "text": [
      " 53%|█████▎    | 532/1000 [01:42<01:29,  5.22it/s]"
     ]
    },
    {
     "name": "stdout",
     "output_type": "stream",
     "text": [
      "epoch: 530, L2-norm of gradient: 4.683748722076416, L2-norm of gradient: tensor([[-3.5843]])\n"
     ]
    },
    {
     "name": "stderr",
     "output_type": "stream",
     "text": [
      " 54%|█████▍    | 542/1000 [01:44<01:28,  5.16it/s]"
     ]
    },
    {
     "name": "stdout",
     "output_type": "stream",
     "text": [
      "epoch: 540, L2-norm of gradient: 3.1940743923187256, L2-norm of gradient: tensor([[-3.9107]])\n"
     ]
    },
    {
     "name": "stderr",
     "output_type": "stream",
     "text": [
      " 55%|█████▌    | 552/1000 [01:46<01:27,  5.14it/s]"
     ]
    },
    {
     "name": "stdout",
     "output_type": "stream",
     "text": [
      "epoch: 550, L2-norm of gradient: 9.385566711425781, L2-norm of gradient: tensor([[-4.2220]])\n"
     ]
    },
    {
     "name": "stderr",
     "output_type": "stream",
     "text": [
      " 56%|█████▌    | 562/1000 [01:48<01:27,  5.03it/s]"
     ]
    },
    {
     "name": "stdout",
     "output_type": "stream",
     "text": [
      "epoch: 560, L2-norm of gradient: 8.07534408569336, L2-norm of gradient: tensor([[-4.8882]])\n"
     ]
    },
    {
     "name": "stderr",
     "output_type": "stream",
     "text": [
      " 57%|█████▋    | 572/1000 [01:50<01:21,  5.28it/s]"
     ]
    },
    {
     "name": "stdout",
     "output_type": "stream",
     "text": [
      "epoch: 570, L2-norm of gradient: 6.368744850158691, L2-norm of gradient: tensor([[-3.2011]])\n"
     ]
    },
    {
     "name": "stderr",
     "output_type": "stream",
     "text": [
      " 58%|█████▊    | 582/1000 [01:52<01:20,  5.22it/s]"
     ]
    },
    {
     "name": "stdout",
     "output_type": "stream",
     "text": [
      "epoch: 580, L2-norm of gradient: 2.1658668518066406, L2-norm of gradient: tensor([[-4.1694]])\n"
     ]
    },
    {
     "name": "stderr",
     "output_type": "stream",
     "text": [
      " 59%|█████▉    | 592/1000 [01:54<01:17,  5.26it/s]"
     ]
    },
    {
     "name": "stdout",
     "output_type": "stream",
     "text": [
      "epoch: 590, L2-norm of gradient: 8.31763744354248, L2-norm of gradient: tensor([[-5.5022]])\n"
     ]
    },
    {
     "name": "stderr",
     "output_type": "stream",
     "text": [
      " 60%|██████    | 602/1000 [01:56<01:17,  5.13it/s]"
     ]
    },
    {
     "name": "stdout",
     "output_type": "stream",
     "text": [
      "epoch: 600, L2-norm of gradient: 3.588519811630249, L2-norm of gradient: tensor([[-4.7053]])\n"
     ]
    },
    {
     "name": "stderr",
     "output_type": "stream",
     "text": [
      " 61%|██████    | 612/1000 [01:58<01:16,  5.07it/s]"
     ]
    },
    {
     "name": "stdout",
     "output_type": "stream",
     "text": [
      "epoch: 610, L2-norm of gradient: 4.221796989440918, L2-norm of gradient: tensor([[-3.2687]])\n"
     ]
    },
    {
     "name": "stderr",
     "output_type": "stream",
     "text": [
      " 62%|██████▏   | 622/1000 [02:00<01:12,  5.24it/s]"
     ]
    },
    {
     "name": "stdout",
     "output_type": "stream",
     "text": [
      "epoch: 620, L2-norm of gradient: 9.793059349060059, L2-norm of gradient: tensor([[-4.7200]])\n"
     ]
    },
    {
     "name": "stderr",
     "output_type": "stream",
     "text": [
      " 63%|██████▎   | 632/1000 [02:02<01:10,  5.22it/s]"
     ]
    },
    {
     "name": "stdout",
     "output_type": "stream",
     "text": [
      "epoch: 630, L2-norm of gradient: 2.344212532043457, L2-norm of gradient: tensor([[-3.2189]])\n"
     ]
    },
    {
     "name": "stderr",
     "output_type": "stream",
     "text": [
      " 64%|██████▍   | 642/1000 [02:04<01:07,  5.29it/s]"
     ]
    },
    {
     "name": "stdout",
     "output_type": "stream",
     "text": [
      "epoch: 640, L2-norm of gradient: 5.604552268981934, L2-norm of gradient: tensor([[-3.2701]])\n"
     ]
    },
    {
     "name": "stderr",
     "output_type": "stream",
     "text": [
      " 65%|██████▌   | 652/1000 [02:05<01:06,  5.25it/s]"
     ]
    },
    {
     "name": "stdout",
     "output_type": "stream",
     "text": [
      "epoch: 650, L2-norm of gradient: 3.9034249782562256, L2-norm of gradient: tensor([[-4.0906]])\n"
     ]
    },
    {
     "name": "stderr",
     "output_type": "stream",
     "text": [
      " 66%|██████▌   | 662/1000 [02:07<01:04,  5.24it/s]"
     ]
    },
    {
     "name": "stdout",
     "output_type": "stream",
     "text": [
      "epoch: 660, L2-norm of gradient: 2.5484161376953125, L2-norm of gradient: tensor([[-3.8932]])\n"
     ]
    },
    {
     "name": "stderr",
     "output_type": "stream",
     "text": [
      " 67%|██████▋   | 672/1000 [02:09<01:01,  5.30it/s]"
     ]
    },
    {
     "name": "stdout",
     "output_type": "stream",
     "text": [
      "epoch: 670, L2-norm of gradient: 15.56372356414795, L2-norm of gradient: tensor([[-4.4353]])\n"
     ]
    },
    {
     "name": "stderr",
     "output_type": "stream",
     "text": [
      " 68%|██████▊   | 682/1000 [02:11<01:00,  5.22it/s]"
     ]
    },
    {
     "name": "stdout",
     "output_type": "stream",
     "text": [
      "epoch: 680, L2-norm of gradient: 9.256147384643555, L2-norm of gradient: tensor([[-4.4127]])\n"
     ]
    },
    {
     "name": "stderr",
     "output_type": "stream",
     "text": [
      " 69%|██████▉   | 692/1000 [02:13<00:59,  5.22it/s]"
     ]
    },
    {
     "name": "stdout",
     "output_type": "stream",
     "text": [
      "epoch: 690, L2-norm of gradient: 3.7217400074005127, L2-norm of gradient: tensor([[-3.3276]])\n"
     ]
    },
    {
     "name": "stderr",
     "output_type": "stream",
     "text": [
      " 70%|███████   | 702/1000 [02:15<00:57,  5.20it/s]"
     ]
    },
    {
     "name": "stdout",
     "output_type": "stream",
     "text": [
      "epoch: 700, L2-norm of gradient: 4.373945236206055, L2-norm of gradient: tensor([[-3.7393]])\n"
     ]
    },
    {
     "name": "stderr",
     "output_type": "stream",
     "text": [
      " 71%|███████   | 712/1000 [02:17<00:54,  5.24it/s]"
     ]
    },
    {
     "name": "stdout",
     "output_type": "stream",
     "text": [
      "epoch: 710, L2-norm of gradient: 1.7405035495758057, L2-norm of gradient: tensor([[-3.7569]])\n"
     ]
    },
    {
     "name": "stderr",
     "output_type": "stream",
     "text": [
      " 72%|███████▏  | 722/1000 [02:19<00:50,  5.49it/s]"
     ]
    },
    {
     "name": "stdout",
     "output_type": "stream",
     "text": [
      "epoch: 720, L2-norm of gradient: 8.126947402954102, L2-norm of gradient: tensor([[-4.4094]])\n"
     ]
    },
    {
     "name": "stderr",
     "output_type": "stream",
     "text": [
      " 73%|███████▎  | 732/1000 [02:21<00:51,  5.25it/s]"
     ]
    },
    {
     "name": "stdout",
     "output_type": "stream",
     "text": [
      "epoch: 730, L2-norm of gradient: 1.4763474464416504, L2-norm of gradient: tensor([[-3.0677]])\n"
     ]
    },
    {
     "name": "stderr",
     "output_type": "stream",
     "text": [
      " 74%|███████▍  | 742/1000 [02:23<00:49,  5.24it/s]"
     ]
    },
    {
     "name": "stdout",
     "output_type": "stream",
     "text": [
      "epoch: 740, L2-norm of gradient: 3.7165234088897705, L2-norm of gradient: tensor([[-4.4947]])\n"
     ]
    },
    {
     "name": "stderr",
     "output_type": "stream",
     "text": [
      " 75%|███████▌  | 752/1000 [02:24<00:47,  5.25it/s]"
     ]
    },
    {
     "name": "stdout",
     "output_type": "stream",
     "text": [
      "epoch: 750, L2-norm of gradient: 5.937556743621826, L2-norm of gradient: tensor([[-3.5298]])\n"
     ]
    },
    {
     "name": "stderr",
     "output_type": "stream",
     "text": [
      " 76%|███████▌  | 762/1000 [02:26<00:44,  5.40it/s]"
     ]
    },
    {
     "name": "stdout",
     "output_type": "stream",
     "text": [
      "epoch: 760, L2-norm of gradient: 2.898860454559326, L2-norm of gradient: tensor([[-4.1351]])\n"
     ]
    },
    {
     "name": "stderr",
     "output_type": "stream",
     "text": [
      " 77%|███████▋  | 772/1000 [02:28<00:43,  5.24it/s]"
     ]
    },
    {
     "name": "stdout",
     "output_type": "stream",
     "text": [
      "epoch: 770, L2-norm of gradient: 8.637657165527344, L2-norm of gradient: tensor([[-6.3713]])\n"
     ]
    },
    {
     "name": "stderr",
     "output_type": "stream",
     "text": [
      " 78%|███████▊  | 782/1000 [02:30<00:41,  5.28it/s]"
     ]
    },
    {
     "name": "stdout",
     "output_type": "stream",
     "text": [
      "epoch: 780, L2-norm of gradient: 11.122893333435059, L2-norm of gradient: tensor([[-4.6925]])\n"
     ]
    },
    {
     "name": "stderr",
     "output_type": "stream",
     "text": [
      " 79%|███████▉  | 792/1000 [02:32<00:39,  5.21it/s]"
     ]
    },
    {
     "name": "stdout",
     "output_type": "stream",
     "text": [
      "epoch: 790, L2-norm of gradient: 5.084130764007568, L2-norm of gradient: tensor([[-5.1034]])\n"
     ]
    },
    {
     "name": "stderr",
     "output_type": "stream",
     "text": [
      " 80%|████████  | 802/1000 [02:34<00:38,  5.17it/s]"
     ]
    },
    {
     "name": "stdout",
     "output_type": "stream",
     "text": [
      "epoch: 800, L2-norm of gradient: 10.296647071838379, L2-norm of gradient: tensor([[-4.8321]])\n"
     ]
    },
    {
     "name": "stderr",
     "output_type": "stream",
     "text": [
      " 81%|████████  | 812/1000 [02:36<00:36,  5.13it/s]"
     ]
    },
    {
     "name": "stdout",
     "output_type": "stream",
     "text": [
      "epoch: 810, L2-norm of gradient: 6.962090492248535, L2-norm of gradient: tensor([[-4.2470]])\n"
     ]
    },
    {
     "name": "stderr",
     "output_type": "stream",
     "text": [
      " 82%|████████▏ | 822/1000 [02:38<00:34,  5.15it/s]"
     ]
    },
    {
     "name": "stdout",
     "output_type": "stream",
     "text": [
      "epoch: 820, L2-norm of gradient: 7.997623920440674, L2-norm of gradient: tensor([[-4.0197]])\n"
     ]
    },
    {
     "name": "stderr",
     "output_type": "stream",
     "text": [
      " 83%|████████▎ | 831/1000 [02:40<00:33,  5.12it/s]"
     ]
    },
    {
     "name": "stdout",
     "output_type": "stream",
     "text": [
      "epoch: 830, L2-norm of gradient: 10.58332633972168, L2-norm of gradient: tensor([[-3.3593]])\n"
     ]
    },
    {
     "name": "stderr",
     "output_type": "stream",
     "text": [
      " 84%|████████▍ | 842/1000 [02:42<00:30,  5.13it/s]"
     ]
    },
    {
     "name": "stdout",
     "output_type": "stream",
     "text": [
      "epoch: 840, L2-norm of gradient: 8.002115249633789, L2-norm of gradient: tensor([[-4.0038]])\n"
     ]
    },
    {
     "name": "stderr",
     "output_type": "stream",
     "text": [
      " 85%|████████▌ | 851/1000 [02:43<00:29,  5.12it/s]"
     ]
    },
    {
     "name": "stdout",
     "output_type": "stream",
     "text": [
      "epoch: 850, L2-norm of gradient: 9.228958129882812, L2-norm of gradient: tensor([[-3.8437]])\n"
     ]
    },
    {
     "name": "stderr",
     "output_type": "stream",
     "text": [
      " 86%|████████▌ | 862/1000 [02:46<00:26,  5.21it/s]"
     ]
    },
    {
     "name": "stdout",
     "output_type": "stream",
     "text": [
      "epoch: 860, L2-norm of gradient: 10.05731201171875, L2-norm of gradient: tensor([[-3.8168]])\n"
     ]
    },
    {
     "name": "stderr",
     "output_type": "stream",
     "text": [
      " 87%|████████▋ | 872/1000 [02:48<00:24,  5.13it/s]"
     ]
    },
    {
     "name": "stdout",
     "output_type": "stream",
     "text": [
      "epoch: 870, L2-norm of gradient: 3.7522315979003906, L2-norm of gradient: tensor([[-4.8273]])\n"
     ]
    },
    {
     "name": "stderr",
     "output_type": "stream",
     "text": [
      " 88%|████████▊ | 882/1000 [02:50<00:23,  5.11it/s]"
     ]
    },
    {
     "name": "stdout",
     "output_type": "stream",
     "text": [
      "epoch: 880, L2-norm of gradient: 12.507457733154297, L2-norm of gradient: tensor([[-5.3434]])\n"
     ]
    },
    {
     "name": "stderr",
     "output_type": "stream",
     "text": [
      " 89%|████████▉ | 892/1000 [02:52<00:21,  5.10it/s]"
     ]
    },
    {
     "name": "stdout",
     "output_type": "stream",
     "text": [
      "epoch: 890, L2-norm of gradient: 54.511558532714844, L2-norm of gradient: tensor([[-7.6641]])\n"
     ]
    },
    {
     "name": "stderr",
     "output_type": "stream",
     "text": [
      " 90%|█████████ | 902/1000 [02:53<00:19,  5.12it/s]"
     ]
    },
    {
     "name": "stdout",
     "output_type": "stream",
     "text": [
      "epoch: 900, L2-norm of gradient: 8.742623329162598, L2-norm of gradient: tensor([[-4.1224]])\n"
     ]
    },
    {
     "name": "stderr",
     "output_type": "stream",
     "text": [
      " 91%|█████████ | 912/1000 [02:55<00:16,  5.20it/s]"
     ]
    },
    {
     "name": "stdout",
     "output_type": "stream",
     "text": [
      "epoch: 910, L2-norm of gradient: 4.668215751647949, L2-norm of gradient: tensor([[-5.3115]])\n"
     ]
    },
    {
     "name": "stderr",
     "output_type": "stream",
     "text": [
      " 92%|█████████▏| 922/1000 [02:57<00:14,  5.25it/s]"
     ]
    },
    {
     "name": "stdout",
     "output_type": "stream",
     "text": [
      "epoch: 920, L2-norm of gradient: 24.038436889648438, L2-norm of gradient: tensor([[-6.0016]])\n"
     ]
    },
    {
     "name": "stderr",
     "output_type": "stream",
     "text": [
      " 93%|█████████▎| 932/1000 [02:59<00:12,  5.35it/s]"
     ]
    },
    {
     "name": "stdout",
     "output_type": "stream",
     "text": [
      "epoch: 930, L2-norm of gradient: 5.359736919403076, L2-norm of gradient: tensor([[-3.9151]])\n"
     ]
    },
    {
     "name": "stderr",
     "output_type": "stream",
     "text": [
      " 94%|█████████▍| 942/1000 [03:01<00:10,  5.45it/s]"
     ]
    },
    {
     "name": "stdout",
     "output_type": "stream",
     "text": [
      "epoch: 940, L2-norm of gradient: 1.1410150527954102, L2-norm of gradient: tensor([[-3.7284]])\n"
     ]
    },
    {
     "name": "stderr",
     "output_type": "stream",
     "text": [
      " 95%|█████████▌| 952/1000 [03:03<00:09,  5.12it/s]"
     ]
    },
    {
     "name": "stdout",
     "output_type": "stream",
     "text": [
      "epoch: 950, L2-norm of gradient: 3.0118401050567627, L2-norm of gradient: tensor([[-5.2477]])\n"
     ]
    },
    {
     "name": "stderr",
     "output_type": "stream",
     "text": [
      " 96%|█████████▌| 962/1000 [03:05<00:07,  5.23it/s]"
     ]
    },
    {
     "name": "stdout",
     "output_type": "stream",
     "text": [
      "epoch: 960, L2-norm of gradient: 6.768966197967529, L2-norm of gradient: tensor([[-4.4074]])\n"
     ]
    },
    {
     "name": "stderr",
     "output_type": "stream",
     "text": [
      " 97%|█████████▋| 972/1000 [03:07<00:05,  5.31it/s]"
     ]
    },
    {
     "name": "stdout",
     "output_type": "stream",
     "text": [
      "epoch: 970, L2-norm of gradient: 26.03990936279297, L2-norm of gradient: tensor([[-6.6826]])\n"
     ]
    },
    {
     "name": "stderr",
     "output_type": "stream",
     "text": [
      " 98%|█████████▊| 982/1000 [03:09<00:03,  5.29it/s]"
     ]
    },
    {
     "name": "stdout",
     "output_type": "stream",
     "text": [
      "epoch: 980, L2-norm of gradient: 7.146566390991211, L2-norm of gradient: tensor([[-5.5389]])\n"
     ]
    },
    {
     "name": "stderr",
     "output_type": "stream",
     "text": [
      " 99%|█████████▉| 992/1000 [03:11<00:01,  5.31it/s]"
     ]
    },
    {
     "name": "stdout",
     "output_type": "stream",
     "text": [
      "epoch: 990, L2-norm of gradient: 10.328160285949707, L2-norm of gradient: tensor([[-4.8308]])\n"
     ]
    },
    {
     "name": "stderr",
     "output_type": "stream",
     "text": [
      "100%|██████████| 1000/1000 [03:12<00:00,  5.19it/s]\n"
     ]
    }
   ],
   "source": [
    "epochs = 1000\n",
    "N = 50\n",
    "for epoch in tqdm(range(epochs)):\n",
    "    P_acc = 0\n",
    "    E_acc = 0\n",
    "    PE_acc = 0\n",
    "    grad = 0\n",
    "\n",
    "    for i in range(N):\n",
    "        psi_total = 1\n",
    "        \n",
    "        model.resetHidden()\n",
    "        x1 = model.sample()[0]\n",
    "        x1_ = x1.detach().requires_grad_()\n",
    "        \n",
    "        psi = model.forward_DNN(x1_)\n",
    "        dfdx, = torch.autograd.grad(psi, x1_, create_graph=True)\n",
    "        d2fdx2, = torch.autograd.grad(dfdx, x1_, create_graph=True)\n",
    "        \n",
    "        lap1 = 1/psi*d2fdx2.grad_fn(x1_)[1]\n",
    "        pot1 = 0.5*x1**2\n",
    "        psi_total *= psi\n",
    "\n",
    "        #model.forward_RNN(x1)\n",
    "        #x2 = model.sample()[0]\n",
    "        #x2_ = x2.detach().requires_grad_()\n",
    "        \n",
    "        #psi = model.forward_DNN(x2_)\n",
    "        #dfdx, = torch.autograd.grad(psi, x2_, create_graph=True)\n",
    "        #d2fdx2, = torch.autograd.grad(dfdx, x2_, create_graph=True)\n",
    "        \n",
    "        #lap2 = 1/psi*d2fdx2.grad_fn(x2_)[1]\n",
    "        #pot2 = 0.5*x2**2\n",
    "        #psi_total *= psi\n",
    "        \n",
    "        #E_L = (-0.5*(lap1 + lap2) + pot1 + pot2).detach()\n",
    "        E_L = (-0.5*(lap1) + pot1).detach()\n",
    "        E_acc  += E_L\n",
    "        PE_acc += psi_total/(psi_total.detach())*E_L\n",
    "        P_acc  += psi_total/(psi_total.detach())\n",
    "        \n",
    "    E_acc  /= N\n",
    "    PE_acc /= N\n",
    "    P_acc  /= N\n",
    "    \n",
    "    E = 2*(PE_acc - P_acc*E_acc)\n",
    "    \n",
    "    optimizer.zero_grad()\n",
    "    E.backward()\n",
    "    optimizer.step()\n",
    "    \n",
    "    for param in model.parameters():\n",
    "        try:\n",
    "            grad += torch.sum(param.grad**2)\n",
    "        except:\n",
    "            pass\n",
    "    \n",
    "    grad = torch.sqrt(grad)\n",
    "    \n",
    "    if (epoch%10 == 0):\n",
    "        print(f\"epoch: {epoch}, L2-norm of gradient: {grad}, L2-norm of gradient: {E_acc}\")"
   ]
  },
  {
   "cell_type": "code",
   "execution_count": 5,
   "metadata": {},
   "outputs": [
    {
     "name": "stdout",
     "output_type": "stream",
     "text": [
      "(tensor([[-0.8314]]), 11)\n"
     ]
    }
   ],
   "source": [
    "print(model.sample())"
   ]
  },
  {
   "cell_type": "code",
   "execution_count": 6,
   "metadata": {},
   "outputs": [
    {
     "name": "stderr",
     "output_type": "stream",
     "text": [
      "100%|██████████| 1000/1000 [00:02<00:00, 365.16it/s]\n"
     ]
    }
   ],
   "source": [
    "x_array = []\n",
    "for i in tqdm(range(1000)):\n",
    "    model.resetHidden()\n",
    "    x = model.sample()[0]\n",
    "    x_array.append(x)"
   ]
  },
  {
   "cell_type": "code",
   "execution_count": 7,
   "metadata": {},
   "outputs": [
    {
     "data": {
      "image/png": "[encoded data removed]",
      "text/plain": [
       "<Figure size 432x288 with 1 Axes>"
      ]
     },
     "metadata": {
      "needs_background": "light"
     },
     "output_type": "display_data"
    }
   ],
   "source": [
    "x_array = np.array(x_array)\n",
    "\n",
    "bins = np.linspace(-2, 2, 100)\n",
    "dx = bins[1] - bins[0]\n",
    "\n",
    "plt.hist(x_array, bins=bins)\n",
    "plt.plot(bins, 1000*dx/np.sqrt(np.pi)*np.exp(-bins**2))\n",
    "plt.show()"
   ]
  },
  {
   "cell_type": "code",
   "execution_count": 8,
   "metadata": {},
   "outputs": [
    {
     "data": {
      "text/plain": [
       "[<matplotlib.lines.Line2D at 0x7efb56bf2be0>]"
      ]
     },
     "execution_count": 8,
     "metadata": {},
     "output_type": "execute_result"
    },
    {
     "data": {
      "image/png": "[encoded data removed]",
      "text/plain": [
       "<Figure size 432x288 with 1 Axes>"
      ]
     },
     "metadata": {
      "needs_background": "light"
     },
     "output_type": "display_data"
    }
   ],
   "source": [
    "x_lin = torch.linspace(-4, 4, 100).reshape(100,-1)\n",
    "\n",
    "model.resetHidden()\n",
    "psi1 = model.forward_DNN(x_lin)[:,0].detach().numpy()\n",
    "\n",
    "x = torch.Tensor([0])\n",
    "model.forward_RNN(x)\n",
    "\n",
    "#psi2 = model.forward_DNN(x_lin)[:,0].detach().numpy()\n",
    "\n",
    "\n",
    "plt.plot(x_lin[:,0], psi1)\n",
    "plt.plot(x, 0.01, \"o\")\n",
    "#plt.plot(x_lin[:,0], psi2)"
   ]
  },
  {
   "cell_type": "code",
   "execution_count": 9,
   "metadata": {},
   "outputs": [
    {
     "name": "stdout",
     "output_type": "stream",
     "text": [
      "tensor([75.], grad_fn=<MulBackward0>)\n",
      "tensor([30.], grad_fn=<MulBackward0>)\n"
     ]
    }
   ],
   "source": [
    "x = torch.Tensor([5]).requires_grad_()\n",
    "y = torch.Tensor([5]).requires_grad_()\n",
    "\n",
    "f = x**3 + y**3\n",
    "\n",
    "dfdx, = torch.autograd.grad(f, x, create_graph=True)\n",
    "print(dfdx)\n",
    "ddfdxdx, = torch.autograd.grad(dfdx, x, create_graph=True)\n",
    "print(ddfdxdx.grad_fn(x)[1])"
   ]
  }
 ],
 "metadata": {
  "kernelspec": {
   "display_name": "env_neural",
   "language": "python",
   "name": "env_neural"
  },
  "language_info": {
   "codemirror_mode": {
    "name": "ipython",
    "version": 3
   },
   "file_extension": ".py",
   "mimetype": "text/x-python",
   "name": "python",
   "nbconvert_exporter": "python",
   "pygments_lexer": "ipython3",
   "version": "3.6.9"
  }
 },
 "nbformat": 4,
 "nbformat_minor": 2
}
