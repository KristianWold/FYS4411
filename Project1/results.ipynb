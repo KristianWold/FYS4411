{
 "cells": [
  {
   "cell_type": "markdown",
   "metadata": {},
   "source": [
    "# Analysis"
   ]
  },
  {
   "cell_type": "code",
   "execution_count": 1,
   "metadata": {},
   "outputs": [],
   "source": [
    "import numpy as np\n",
    "import matplotlib.pyplot as plt\n",
    "import src.analysis as src\n",
    "%load_ext autoreload\n",
    "%autoreload 2"
   ]
  },
  {
   "cell_type": "code",
   "execution_count": 2,
   "metadata": {},
   "outputs": [],
   "source": [
    "conf = {}\n",
    "conf[\"numPart\"] = 1\n",
    "conf[\"numDim\"] = 1\n",
    "conf[\"numSteps\"] = 100000\n",
    "conf[\"stepLength\"] = 1\n",
    "conf[\"alpha\"] = 0.5"
   ]
  },
  {
   "cell_type": "code",
   "execution_count": 5,
   "metadata": {},
   "outputs": [],
   "source": [
    "alpha = np.linspace(0.3, 0.8, 21)\n",
    "E = []\n",
    "var = []\n",
    "for a in alpha:\n",
    "    conf[\"alpha\"] = a\n",
    "    src.runner(conf)\n",
    "    localEnergies = np.loadtxt(\"localEnergies.txt\")\n",
    "    meanE, varE = src.statistics(localEnergies)\n",
    "    E.append(meanE)\n",
    "    var.append(varE)"
   ]
  },
  {
   "cell_type": "code",
   "execution_count": 6,
   "metadata": {},
   "outputs": [
    {
     "data": {
      "image/png": "[encoded data removed]",
      "text/plain": [
       "<Figure size 432x288 with 1 Axes>"
      ]
     },
     "metadata": {
      "needs_background": "light"
     },
     "output_type": "display_data"
    },
    {
     "data": {
      "image/png": "[encoded data removed]",
      "text/plain": [
       "<Figure size 432x288 with 1 Axes>"
      ]
     },
     "metadata": {
      "needs_background": "light"
     },
     "output_type": "display_data"
    }
   ],
   "source": [
    "plt.plot(alpha, E)\n",
    "plt.xlabel(\"alpha\")\n",
    "plt.ylabel(\"<E>\")\n",
    "plt.show()\n",
    "\n",
    "plt.plot(alpha, var)\n",
    "plt.xlabel(\"alpha\")\n",
    "plt.ylabel(\"<var>\")\n",
    "plt.show()"
   ]
  },
  {
   "cell_type": "code",
   "execution_count": null,
   "metadata": {},
   "outputs": [],
   "source": [
    "plt.plot(alpha, E)\n",
    "plt.xlabel(\"alpha\")\n",
    "plt.ylabel(\"<E>\")\n",
    "plt.show()\n",
    "\n",
    "plt.plot(alpha, var)\n",
    "plt.xlabel(\"alpha\")\n",
    "plt.ylabel(\"<var>\")\n",
    "plt.show()"
   ]
  },
  {
   "cell_type": "code",
   "execution_count": null,
   "metadata": {},
   "outputs": [],
   "source": [
    "conf = {}\n",
    "conf[\"numPart\"] = 10\n",
    "conf[\"numDim\"] = 3\n",
    "conf[\"numSteps\"] = 100000\n",
    "conf[\"stepLength\"] = 0.1\n",
    "conf[\"alpha\"] = 0.5\n",
    "\n",
    "src.runner(conf)\n",
    "localEnergies = np.loadtxt(\"localEnergies.txt\")\n",
    "configurations = np.loadtxt(\"configuration.txt\").reshape((conf[\"numSteps\"], conf[\"numPart\"], conf[\"numDim\"]))"
   ]
  },
  {
   "cell_type": "code",
   "execution_count": null,
   "metadata": {},
   "outputs": [],
   "source": [
    "r = np.linspace(0, 3, 20)\n",
    "density = src.oneBodyDensity(configurations, r)"
   ]
  },
  {
   "cell_type": "code",
   "execution_count": null,
   "metadata": {},
   "outputs": [],
   "source": [
    "plt.plot(r, density, \"o\")\n",
    "plt.show()"
   ]
  },
  {
   "cell_type": "code",
   "execution_count": null,
   "metadata": {},
   "outputs": [],
   "source": [
    "np.random.seed(42)\n",
    "N = 1000\n",
    "signal = np.zeros(N)\n",
    "signal[0] = np.random.normal(0,1)\n",
    "for i in range(1, N):\n",
    "    signal[i] = 0.5*np.random.normal(0,1) + 0.5*signal[i-1]"
   ]
  },
  {
   "cell_type": "code",
   "execution_count": null,
   "metadata": {},
   "outputs": [],
   "source": [
    "plt.plot(signal[:1000])"
   ]
  },
  {
   "cell_type": "code",
   "execution_count": null,
   "metadata": {},
   "outputs": [],
   "source": [
    "var = np.std(signal)**2\n",
    "print(var)\n",
    "print(np.sqrt(var/N))"
   ]
  },
  {
   "cell_type": "code",
   "execution_count": null,
   "metadata": {},
   "outputs": [],
   "source": [
    "mean = np.mean(signal)\n",
    "print(mean)"
   ]
  },
  {
   "cell_type": "code",
   "execution_count": null,
   "metadata": {},
   "outputs": [],
   "source": [
    "corr = 0\n",
    "for i in range(1000):\n",
    "    for j in range(i,1000):\n",
    "        corr += (signal[i] - mean)*(signal[j] - mean)\n",
    "corr /= 1000\n",
    "\n",
    "print(corr)"
   ]
  },
  {
   "cell_type": "code",
   "execution_count": null,
   "metadata": {},
   "outputs": [],
   "source": [
    "corr = np.correlate(signal, signal, mode=\"full\")"
   ]
  },
  {
   "cell_type": "code",
   "execution_count": null,
   "metadata": {},
   "outputs": [],
   "source": [
    "plt.plot(corr[999:])"
   ]
  },
  {
   "cell_type": "code",
   "execution_count": null,
   "metadata": {},
   "outputs": [],
   "source": [
    "conf = {}\n",
    "conf[\"numPart\"] = 10\n",
    "conf[\"numDim\"] = 3\n",
    "conf[\"numSteps\"] = 2**20\n",
    "conf[\"stepLength\"] = 0.1\n",
    "conf[\"alpha\"] = 0.4\n",
    "\n",
    "src.runner(conf)\n",
    "localEnergies = np.loadtxt(\"localEnergies.txt\")"
   ]
  },
  {
   "cell_type": "code",
   "execution_count": null,
   "metadata": {},
   "outputs": [],
   "source": [
    "x = np.copy(localEnergies)\n",
    "ting = [np.std(x)/np.sqrt(len(x))]\n",
    "for i in range(16):\n",
    "    x = src.blocking(x)\n",
    "    ting.append(np.std(x)/np.sqrt(len(x)))"
   ]
  },
  {
   "cell_type": "code",
   "execution_count": null,
   "metadata": {},
   "outputs": [],
   "source": [
    "plt.plot(ting)"
   ]
  },
  {
   "cell_type": "code",
   "execution_count": null,
   "metadata": {},
   "outputs": [],
   "source": [
    "conf = {}\n",
    "conf[\"numPart\"] = 1\n",
    "conf[\"numDim\"] = 1\n",
    "conf[\"numSteps\"] = 1000\n",
    "conf[\"stepLength\"] = 1\n",
    "conf[\"alpha\"] = 0.4\n",
    "\n",
    "src.runner(conf)\n",
    "localEnergies = np.loadtxt(\"localEnergies.txt\")\n",
    "plt.plot(localEnergies)"
   ]
  },
  {
   "cell_type": "code",
   "execution_count": null,
   "metadata": {},
   "outputs": [],
   "source": []
  }
 ],
 "metadata": {
  "kernelspec": {
   "display_name": "Python 3",
   "language": "python",
   "name": "python3"
  },
  "language_info": {
   "codemirror_mode": {
    "name": "ipython",
    "version": 3
   },
   "file_extension": ".py",
   "mimetype": "text/x-python",
   "name": "python",
   "nbconvert_exporter": "python",
   "pygments_lexer": "ipython3",
   "version": "3.6.9"
  }
 },
 "nbformat": 4,
 "nbformat_minor": 2
}
