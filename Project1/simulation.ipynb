{
 "cells": [
  {
   "cell_type": "markdown",
   "metadata": {},
   "source": [
    "# Elliptical Trap Simulation"
   ]
  },
  {
   "cell_type": "code",
   "execution_count": 1,
   "metadata": {},
   "outputs": [],
   "source": [
    "import numpy as np\n",
    "import matplotlib.pyplot as plt\n",
    "import src.analysis as src\n",
    "from multiprocessing import Process, Queue\n",
    "import pandas as pd\n",
    "import time\n",
    "from tqdm import tqdm\n",
    "\n",
    "plt.gcf().subplots_adjust(bottom=0.15)\n",
    "%load_ext autoreload\n",
    "%autoreload 2"
   ]
  },
  {
   "cell_type": "markdown",
   "metadata": {},
   "source": [
    "### 10 Particles"
   ]
  },
  {
   "cell_type": "code",
   "execution_count": 2,
   "metadata": {},
   "outputs": [],
   "source": [
    "conf = src.config()\n",
    "cutoff = 500\n",
    "\n",
    "conf[\"directory\"] = \"elliptical_10_interacting\"\n",
    "conf[\"threads\"] = 12\n",
    "\n",
    "conf[\"numPart\"] = 10\n",
    "conf[\"numDim\"] = 3\n",
    "conf[\"numSteps\"] = 2**20 + cutoff\n",
    "conf[\"stepLength\"] = 0.5\n",
    "conf[\"importanceSampling\"] = 1\n",
    "\n",
    "conf[\"alpha\"] = 0.5\n",
    "conf[\"a\"] = 0.0043\n",
    "\n",
    "conf[\"InitialState\"] = \"HardshellInitial\"\n",
    "conf[\"Wavefunction\"] = \"EllipticalHardshellWavefunction\"\n",
    "conf[\"Hamiltonian\"] = \"EllipticalOscillator\""
   ]
  },
  {
   "cell_type": "markdown",
   "metadata": {},
   "source": [
    "#### Gradient decent"
   ]
  },
  {
   "cell_type": "code",
   "execution_count": 3,
   "metadata": {},
   "outputs": [
    {
     "name": "stdout",
     "output_type": "stream",
     "text": [
      "gradient: 0.25912. alpha: 0.49741. acceptance rate: 0.62735.\n",
      "gradient: -0.00247. alpha: 0.49743. acceptance rate: 0.62978.\n",
      "gradient: 0.00085. alpha: 0.49743. acceptance rate: 0.62976.\n",
      "gradient: -0.00100. alpha: 0.49744. acceptance rate: 0.62977.\n",
      "gradient: 0.00098. alpha: 0.49743. acceptance rate: 0.62976.\n"
     ]
    }
   ],
   "source": [
    "mu = 0.01\n",
    "\n",
    "for i in range(5):\n",
    "    src.runner(conf)\n",
    "    localEnergies, _, psiGrad, acceptanceRate = src.readData(conf)\n",
    "    gradient = src.calculateGradient(localEnergies, psiGrad)\n",
    "    conf[\"alpha\"] -= mu*gradient\n",
    "    print(f\"gradient: {gradient:.5f}. alpha: {conf['alpha']:.5f}. acceptance rate: {acceptanceRate[0]:.5f}.\")"
   ]
  },
  {
   "cell_type": "markdown",
   "metadata": {},
   "source": [
    "#### Using optimal alpha"
   ]
  },
  {
   "cell_type": "code",
   "execution_count": 4,
   "metadata": {},
   "outputs": [],
   "source": [
    "conf[\"numSteps\"] = 2**20 + cutoff\n",
    "conf[\"alpha\"] = 0.49752"
   ]
  },
  {
   "cell_type": "code",
   "execution_count": 5,
   "metadata": {},
   "outputs": [
    {
     "name": "stdout",
     "output_type": "stream",
     "text": [
      "Starting simulation\n",
      "numPart: 10\n",
      "numDim: 3\n",
      "numSteps: 1049076\n",
      "stepLength: 0.5\n",
      "importanceSampling: 1\n",
      "alpha: 0.49752\n",
      "a: 0.0043\n",
      "omega: 1\n",
      "InitialState: HardshellInitial\n",
      "WaveFunction: EllipticalHardshellWavefunction\n",
      "Hamiltonian: EllipticalOscillator\n",
      "Done!\n",
      "------------\n"
     ]
    }
   ],
   "source": [
    "src.runner(conf, verbose = True)"
   ]
  },
  {
   "cell_type": "code",
   "execution_count": 6,
   "metadata": {},
   "outputs": [
    {
     "name": "stderr",
     "output_type": "stream",
     "text": [
      "100%|██████████| 10490760/10490760 [00:13<00:00, 804815.28it/s]\n",
      "100%|██████████| 10490760/10490760 [00:13<00:00, 782361.19it/s]\n",
      "100%|██████████| 10490760/10490760 [00:13<00:00, 791580.97it/s]\n",
      "100%|██████████| 10490760/10490760 [00:13<00:00, 802576.34it/s]\n",
      "100%|██████████| 10490760/10490760 [00:13<00:00, 792780.22it/s]\n",
      "100%|██████████| 10490760/10490760 [00:13<00:00, 780909.19it/s]\n",
      "100%|██████████| 10490760/10490760 [00:13<00:00, 783451.00it/s]\n",
      "100%|██████████| 10490760/10490760 [00:13<00:00, 782549.22it/s]\n",
      " 96%|█████████▌| 10080280/10490760 [00:13<00:00, 907208.88it/s]\n",
      "100%|██████████| 10490760/10490760 [00:13<00:00, 782257.96it/s]\n",
      "100%|██████████| 10490760/10490760 [00:13<00:00, 764280.88it/s]\n",
      "100%|██████████| 10490760/10490760 [00:13<00:00, 754741.29it/s]\n"
     ]
    }
   ],
   "source": [
    "localEnergies, _, psiGrad, acceptanceRate = src.readData(conf, cutoff, readPos = False)\n",
    "localEnergies = np.concatenate(localEnergies)\n",
    "\n",
    "bins = np.linspace(0, 3, 200)\n",
    "densityInteracting = src.densityParallel(conf, bins)/conf[\"numSteps\"]"
   ]
  },
  {
   "cell_type": "code",
   "execution_count": 7,
   "metadata": {},
   "outputs": [],
   "source": [
    "conf[\"directory\"] = \"elliptical_10_noninteracting\"\n",
    "conf[\"a\"] = 0 "
   ]
  },
  {
   "cell_type": "code",
   "execution_count": 8,
   "metadata": {},
   "outputs": [
    {
     "name": "stdout",
     "output_type": "stream",
     "text": [
      "Starting simulation\n",
      "numPart: 10\n",
      "numDim: 3\n",
      "numSteps: 1049076\n",
      "stepLength: 0.5\n",
      "importanceSampling: 1\n",
      "alpha: 0.49752\n",
      "a: 0\n",
      "omega: 1\n",
      "InitialState: HardshellInitial\n",
      "WaveFunction: EllipticalHardshellWavefunction\n",
      "Hamiltonian: EllipticalOscillator\n",
      "Done!\n",
      "------------\n"
     ]
    }
   ],
   "source": [
    "src.runner(conf, verbose = True)"
   ]
  },
  {
   "cell_type": "code",
   "execution_count": 9,
   "metadata": {},
   "outputs": [
    {
     "name": "stderr",
     "output_type": "stream",
     "text": [
      "100%|██████████| 10490760/10490760 [00:12<00:00, 836497.52it/s]\n",
      " 93%|█████████▎| 9807413/10490760 [00:12<00:00, 729700.87it/s]]\n",
      "100%|██████████| 10490760/10490760 [00:12<00:00, 826853.98it/s]\n",
      "100%|██████████| 10490760/10490760 [00:12<00:00, 815504.06it/s]\n",
      "100%|██████████| 10490760/10490760 [00:12<00:00, 812735.23it/s]\n",
      "100%|██████████| 10490760/10490760 [00:13<00:00, 799394.90it/s]\n",
      "100%|██████████| 10490760/10490760 [00:13<00:00, 794229.90it/s]\n",
      "100%|██████████| 10490760/10490760 [00:13<00:00, 790797.40it/s]\n",
      "100%|██████████| 10490760/10490760 [00:13<00:00, 799509.52it/s]\n",
      "100%|██████████| 10490760/10490760 [00:13<00:00, 784127.73it/s]\n",
      "100%|██████████| 10490760/10490760 [00:13<00:00, 787103.65it/s]\n",
      "100%|██████████| 10490760/10490760 [00:13<00:00, 782260.81it/s]\n"
     ]
    }
   ],
   "source": [
    "bins = np.linspace(0, 3, 200)\n",
    "densityNonInteracting = src.densityParallel(conf, bins)/conf[\"numSteps\"]"
   ]
  },
  {
   "cell_type": "markdown",
   "metadata": {},
   "source": [
    "#### Estimation of energy and uncertainty"
   ]
  },
  {
   "cell_type": "code",
   "execution_count": 10,
   "metadata": {},
   "outputs": [
    {
     "name": "stderr",
     "output_type": "stream",
     "text": [
      "100%|██████████| 18/18 [00:52<00:00,  2.91s/it]\n"
     ]
    }
   ],
   "source": [
    "E = np.mean(localEnergies)\n",
    "Var = src.blocking(localEnergies, 18)"
   ]
  },
  {
   "cell_type": "code",
   "execution_count": 11,
   "metadata": {},
   "outputs": [
    {
     "data": {
      "image/png": "[encoded data removed]",
      "text/plain": [
       "<Figure size 432x288 with 1 Axes>"
      ]
     },
     "metadata": {
      "needs_background": "light"
     },
     "output_type": "display_data"
    }
   ],
   "source": [
    "plt.plot(Var)\n",
    "plt.show()"
   ]
  },
  {
   "cell_type": "code",
   "execution_count": 12,
   "metadata": {},
   "outputs": [
    {
     "name": "stdout",
     "output_type": "stream",
     "text": [
      "<E> = 24.398477790886265 +- 0.0011886200428013818\n"
     ]
    }
   ],
   "source": [
    "print(f\"<E> = {E} +- {np.sqrt(Var[9])}\")"
   ]
  },
  {
   "cell_type": "markdown",
   "metadata": {},
   "source": [
    "#### Radial onebody density"
   ]
  },
  {
   "cell_type": "code",
   "execution_count": 13,
   "metadata": {},
   "outputs": [
    {
     "data": {
      "image/png": "[encoded data removed]",
      "text/plain": [
       "<Figure size 432x288 with 1 Axes>"
      ]
     },
     "metadata": {
      "needs_background": "light"
     },
     "output_type": "display_data"
    }
   ],
   "source": [
    "fig = plt.figure()\n",
    "plt.plot(bins, densityNonInteracting)\n",
    "plt.plot(bins, densityInteracting, \"--\")\n",
    "plt.xlabel(\"R\")\n",
    "plt.ylabel(\"number of particles per R\")\n",
    "plt.grid()\n",
    "plt.show()\n",
    "fig.savefig(\"figures/density10.pdf\", bbox_inches = \"tight\")"
   ]
  },
  {
   "cell_type": "markdown",
   "metadata": {},
   "source": [
    "### 50 particles"
   ]
  },
  {
   "cell_type": "code",
   "execution_count": 14,
   "metadata": {},
   "outputs": [],
   "source": [
    "conf = src.config()\n",
    "cutoff = 2000\n",
    "\n",
    "conf[\"threads\"] = 12\n",
    "\n",
    "conf[\"numPart\"] = 50\n",
    "conf[\"numDim\"] = 3\n",
    "conf[\"numSteps\"] = 2**20 + cutoff\n",
    "conf[\"stepLength\"] = 0.5\n",
    "conf[\"importanceSampling\"] = 1\n",
    "\n",
    "conf[\"alpha\"] = 0.49752\n",
    "conf[\"a\"] = 0.0043\n",
    "\n",
    "conf[\"InitialState\"] = \"HardshellInitial\"\n",
    "conf[\"Wavefunction\"] = \"EllipticalHardshellWavefunction\"\n",
    "conf[\"Hamiltonian\"] = \"EllipticalOscillator\""
   ]
  },
  {
   "cell_type": "code",
   "execution_count": 15,
   "metadata": {},
   "outputs": [
    {
     "name": "stdout",
     "output_type": "stream",
     "text": [
      "gradient: 4.12064. alpha: 0.49340. acceptance rate: 0.64611.\n",
      "gradient: 2.27719. alpha: 0.49112. acceptance rate: 0.64988.\n",
      "gradient: 0.93448. alpha: 0.49019. acceptance rate: 0.65196.\n",
      "gradient: 1.08126. alpha: 0.48911. acceptance rate: 0.65279.\n",
      "gradient: 0.07514. alpha: 0.48903. acceptance rate: 0.65379.\n"
     ]
    }
   ],
   "source": [
    "mu = 0.001\n",
    "\n",
    "for i in range(5):\n",
    "    src.runner(conf)\n",
    "    localEnergies, _, psiGrad, acceptanceRate = src.readData(conf, cutoff, readPos = False)\n",
    "    gradient = src.calculateGradient(localEnergies, psiGrad)\n",
    "    conf[\"alpha\"] -= mu*gradient\n",
    "    print(f\"gradient: {gradient:.5f}. alpha: {conf['alpha']:.5f}. acceptance rate: {acceptanceRate[0]:.5f}.\")"
   ]
  },
  {
   "cell_type": "markdown",
   "metadata": {},
   "source": [
    "#### Using optimal alpha"
   ]
  },
  {
   "cell_type": "code",
   "execution_count": 16,
   "metadata": {},
   "outputs": [],
   "source": [
    "conf[\"directory\"] = \"elliptical_50_interacting\"\n",
    "conf[\"alpha\"] = 0.48903"
   ]
  },
  {
   "cell_type": "code",
   "execution_count": 17,
   "metadata": {},
   "outputs": [
    {
     "name": "stdout",
     "output_type": "stream",
     "text": [
      "Starting simulation\n",
      "numPart: 50\n",
      "numDim: 3\n",
      "numSteps: 1050576\n",
      "stepLength: 0.5\n",
      "importanceSampling: 1\n",
      "alpha: 0.48903\n",
      "a: 0.0043\n",
      "omega: 1\n",
      "InitialState: HardshellInitial\n",
      "WaveFunction: EllipticalHardshellWavefunction\n",
      "Hamiltonian: EllipticalOscillator\n",
      "Done!\n",
      "------------\n"
     ]
    }
   ],
   "source": [
    "src.runner(conf, verbose = True)"
   ]
  },
  {
   "cell_type": "code",
   "execution_count": 18,
   "metadata": {},
   "outputs": [
    {
     "name": "stderr",
     "output_type": "stream",
     "text": [
      "100%|██████████| 52528800/52528800 [00:53<00:00, 988645.51it/s] \n",
      "100%|██████████| 52528800/52528800 [00:53<00:00, 988049.88it/s]\n",
      "100%|██████████| 52528800/52528800 [00:53<00:00, 986767.90it/s] \n",
      "100%|██████████| 52528800/52528800 [00:53<00:00, 978015.05it/s]]\n",
      "100%|██████████| 52528800/52528800 [00:53<00:00, 974733.53it/s] \n",
      "100%|██████████| 52528800/52528800 [00:55<00:00, 949862.40it/s] \n"
     ]
    }
   ],
   "source": [
    "localEnergies, _, psiGrad, acceptanceRate = src.readData(conf, cutoff, readPos = False)\n",
    "localEnergies = np.concatenate(localEnergies)\n",
    "\n",
    "bins = np.linspace(0, 3, 200)\n",
    "conf[\"threads\"] = 6 #downscale, to avoid using too much memory\n",
    "densityInteracting = src.densityParallel(conf, bins)/conf[\"numSteps\"]"
   ]
  },
  {
   "cell_type": "code",
   "execution_count": 19,
   "metadata": {},
   "outputs": [],
   "source": [
    "conf[\"directory\"] = \"elliptical_50_noninteracting\"\n",
    "conf[\"alpha\"] = 0.48903\n",
    "conf[\"a\"] = 0"
   ]
  },
  {
   "cell_type": "code",
   "execution_count": 20,
   "metadata": {},
   "outputs": [
    {
     "name": "stdout",
     "output_type": "stream",
     "text": [
      "Starting simulation\n",
      "numPart: 50\n",
      "numDim: 3\n",
      "numSteps: 1050576\n",
      "stepLength: 0.5\n",
      "importanceSampling: 1\n",
      "alpha: 0.48903\n",
      "a: 0\n",
      "omega: 1\n",
      "InitialState: HardshellInitial\n",
      "WaveFunction: EllipticalHardshellWavefunction\n",
      "Hamiltonian: EllipticalOscillator\n",
      "Done!\n",
      "------------\n"
     ]
    }
   ],
   "source": [
    "src.runner(conf, verbose = True)"
   ]
  },
  {
   "cell_type": "code",
   "execution_count": 21,
   "metadata": {},
   "outputs": [
    {
     "name": "stderr",
     "output_type": "stream",
     "text": [
      "100%|██████████| 52528800/52528800 [00:52<00:00, 998134.09it/s]]\n",
      "100%|██████████| 52528800/52528800 [00:52<00:00, 999670.98it/s] \n",
      "100%|██████████| 52528800/52528800 [00:53<00:00, 990613.62it/s] \n",
      "100%|██████████| 52528800/52528800 [00:53<00:00, 985571.48it/s]\n",
      "100%|██████████| 52528800/52528800 [00:54<00:00, 962114.46it/s] \n",
      "100%|██████████| 52528800/52528800 [00:54<00:00, 959578.33it/s] \n"
     ]
    }
   ],
   "source": [
    "bins = np.linspace(0, 3, 200)\n",
    "densityNonInteracting = src.densityParallel(conf, bins)/conf[\"numSteps\"]"
   ]
  },
  {
   "cell_type": "markdown",
   "metadata": {},
   "source": [
    "#### Estimation of energy and uncertainty"
   ]
  },
  {
   "cell_type": "code",
   "execution_count": 22,
   "metadata": {},
   "outputs": [
    {
     "name": "stderr",
     "output_type": "stream",
     "text": [
      "100%|██████████| 18/18 [00:51<00:00,  2.87s/it]\n"
     ]
    }
   ],
   "source": [
    "E = np.mean(localEnergies)\n",
    "Var = src.blocking(localEnergies, 18)"
   ]
  },
  {
   "cell_type": "code",
   "execution_count": 23,
   "metadata": {},
   "outputs": [
    {
     "data": {
      "image/png": "[encoded data removed]",
      "text/plain": [
       "<Figure size 432x288 with 1 Axes>"
      ]
     },
     "metadata": {
      "needs_background": "light"
     },
     "output_type": "display_data"
    }
   ],
   "source": [
    "plt.plot(Var)\n",
    "plt.show()"
   ]
  },
  {
   "cell_type": "code",
   "execution_count": 24,
   "metadata": {},
   "outputs": [
    {
     "name": "stdout",
     "output_type": "stream",
     "text": [
      "<E> = 127.37989862150846 +- 0.12304662071136907\n"
     ]
    }
   ],
   "source": [
    "print(f\"<E> = {E} +- {np.sqrt(Var[13])}\")"
   ]
  },
  {
   "cell_type": "markdown",
   "metadata": {},
   "source": [
    "#### Radial onebody density"
   ]
  },
  {
   "cell_type": "code",
   "execution_count": 25,
   "metadata": {},
   "outputs": [
    {
     "data": {
      "image/png": "[encoded data removed]",
      "text/plain": [
       "<Figure size 432x288 with 1 Axes>"
      ]
     },
     "metadata": {
      "needs_background": "light"
     },
     "output_type": "display_data"
    }
   ],
   "source": [
    "fig = plt.figure()\n",
    "plt.plot(bins, densityNonInteracting)\n",
    "plt.plot(bins, densityInteracting, \"--\")\n",
    "plt.xlabel(\"R\")\n",
    "plt.ylabel(\"number of particles per R\")\n",
    "plt.grid()\n",
    "plt.show()\n",
    "fig.savefig(\"figures/density50.pdf\", bbox_inches = \"tight\")"
   ]
  },
  {
   "cell_type": "markdown",
   "metadata": {},
   "source": [
    "### 100 Particles"
   ]
  },
  {
   "cell_type": "code",
   "execution_count": 26,
   "metadata": {},
   "outputs": [],
   "source": [
    "conf = src.config()\n",
    "cutoff = 2000\n",
    "\n",
    "conf[\"threads\"] = 12\n",
    "\n",
    "conf[\"numPart\"] = 100\n",
    "conf[\"numDim\"] = 3\n",
    "conf[\"numSteps\"] = 2**20 + cutoff\n",
    "conf[\"stepLength\"] = 0.5\n",
    "conf[\"importanceSampling\"] = 1\n",
    "\n",
    "conf[\"alpha\"] = 0.48903\n",
    "conf[\"a\"] = 0.0043\n",
    "\n",
    "conf[\"InitialState\"] = \"HardshellInitial\"\n",
    "conf[\"Wavefunction\"] = \"EllipticalHardshellWavefunction\"\n",
    "conf[\"Hamiltonian\"] = \"EllipticalOscillator\""
   ]
  },
  {
   "cell_type": "code",
   "execution_count": 27,
   "metadata": {},
   "outputs": [
    {
     "name": "stdout",
     "output_type": "stream",
     "text": [
      "gradient: 8.97470. alpha: 0.48006. acceptance rate: 0.66570.\n",
      "gradient: -2.12743. alpha: 0.48218. acceptance rate: 0.67375.\n",
      "gradient: 0.93860. alpha: 0.48124. acceptance rate: 0.67187.\n",
      "gradient: 2.76470. alpha: 0.47848. acceptance rate: 0.67276.\n",
      "gradient: -3.11632. alpha: 0.48160. acceptance rate: 0.67520.\n"
     ]
    }
   ],
   "source": [
    "mu = 0.001\n",
    "\n",
    "for i in range(5):\n",
    "    src.runner(conf)\n",
    "    localEnergies, _, psiGrad, acceptanceRate = src.readData(conf, cutoff, readPos = False)\n",
    "    gradient = src.calculateGradient(localEnergies, psiGrad)\n",
    "    conf[\"alpha\"] -= mu*gradient\n",
    "    print(f\"gradient: {gradient:.5f}. alpha: {conf['alpha']:.5f}. acceptance rate: {acceptanceRate[0]:.5f}.\")"
   ]
  },
  {
   "cell_type": "markdown",
   "metadata": {},
   "source": [
    "#### Using optimal alpha"
   ]
  },
  {
   "cell_type": "code",
   "execution_count": 28,
   "metadata": {},
   "outputs": [],
   "source": [
    "conf[\"directory\"] = \"elliptical_100_interacting\"\n",
    "conf[\"alpha\"] = 0.48160"
   ]
  },
  {
   "cell_type": "code",
   "execution_count": 29,
   "metadata": {},
   "outputs": [
    {
     "name": "stdout",
     "output_type": "stream",
     "text": [
      "Starting simulation\n",
      "numPart: 100\n",
      "numDim: 3\n",
      "numSteps: 1050576\n",
      "stepLength: 0.5\n",
      "importanceSampling: 1\n",
      "alpha: 0.4816\n",
      "a: 0.0043\n",
      "omega: 1\n",
      "InitialState: HardshellInitial\n",
      "WaveFunction: EllipticalHardshellWavefunction\n",
      "Hamiltonian: EllipticalOscillator\n",
      "Done!\n",
      "------------\n"
     ]
    }
   ],
   "source": [
    "src.runner(conf, verbose = True)"
   ]
  },
  {
   "cell_type": "code",
   "execution_count": 30,
   "metadata": {},
   "outputs": [
    {
     "name": "stderr",
     "output_type": "stream",
     "text": [
      "100%|██████████| 105057600/105057600 [01:42<00:00, 1026485.03it/s]\n",
      "100%|██████████| 105057600/105057600 [01:42<00:00, 1022264.09it/s]\n",
      "100%|██████████| 105057600/105057600 [01:42<00:00, 1022141.10it/s]\n"
     ]
    }
   ],
   "source": [
    "localEnergies, _, psiGrad, acceptanceRate = src.readData(conf, cutoff, readPos = False)\n",
    "localEnergies = np.concatenate(localEnergies)\n",
    "\n",
    "bins = np.linspace(0, 3, 200)\n",
    "conf[\"threads\"] = 3 #downscale, to avoid using too much memory\n",
    "densityInteracting = src.densityParallel(conf, bins)/conf[\"numSteps\"]"
   ]
  },
  {
   "cell_type": "code",
   "execution_count": 31,
   "metadata": {},
   "outputs": [],
   "source": [
    "conf[\"directory\"] = \"elliptical_100_noninteracting\"\n",
    "conf[\"alpha\"] = 0.48160\n",
    "conf[\"a\"] = 0"
   ]
  },
  {
   "cell_type": "code",
   "execution_count": 32,
   "metadata": {},
   "outputs": [
    {
     "name": "stdout",
     "output_type": "stream",
     "text": [
      "Starting simulation\n",
      "numPart: 100\n",
      "numDim: 3\n",
      "numSteps: 1050576\n",
      "stepLength: 0.5\n",
      "importanceSampling: 1\n",
      "alpha: 0.4816\n",
      "a: 0\n",
      "omega: 1\n",
      "InitialState: HardshellInitial\n",
      "WaveFunction: EllipticalHardshellWavefunction\n",
      "Hamiltonian: EllipticalOscillator\n",
      "Done!\n",
      "------------\n"
     ]
    }
   ],
   "source": [
    "src.runner(conf, verbose = True)"
   ]
  },
  {
   "cell_type": "code",
   "execution_count": 33,
   "metadata": {},
   "outputs": [
    {
     "name": "stderr",
     "output_type": "stream",
     "text": [
      "100%|██████████| 105057600/105057600 [01:41<00:00, 1032170.78it/s]\n",
      "100%|██████████| 105057600/105057600 [01:43<00:00, 1014826.16it/s]\n",
      "100%|██████████| 105057600/105057600 [01:44<00:00, 1009077.33it/s]\n"
     ]
    }
   ],
   "source": [
    "bins = np.linspace(0, 3, 200)\n",
    "densityNonInteracting = src.densityParallel(conf, bins)/conf[\"numSteps\"]"
   ]
  },
  {
   "cell_type": "markdown",
   "metadata": {},
   "source": [
    "#### Estiamtion of Energy and Uncertainty"
   ]
  },
  {
   "cell_type": "code",
   "execution_count": 34,
   "metadata": {},
   "outputs": [
    {
     "name": "stderr",
     "output_type": "stream",
     "text": [
      "100%|██████████| 18/18 [00:52<00:00,  2.94s/it]\n"
     ]
    },
    {
     "data": {
      "text/plain": [
       "[<matplotlib.lines.Line2D at 0x7efbd7fac518>]"
      ]
     },
     "execution_count": 34,
     "metadata": {},
     "output_type": "execute_result"
    },
    {
     "data": {
      "image/png": "[encoded data removed]",
      "text/plain": [
       "<Figure size 432x288 with 1 Axes>"
      ]
     },
     "metadata": {
      "needs_background": "light"
     },
     "output_type": "display_data"
    }
   ],
   "source": [
    "E = np.mean(localEnergies)\n",
    "Var = src.blocking(localEnergies, 18)\n",
    "plt.plot(Var)"
   ]
  },
  {
   "cell_type": "code",
   "execution_count": 37,
   "metadata": {},
   "outputs": [
    {
     "name": "stdout",
     "output_type": "stream",
     "text": [
      "<E> = 265.5433074826718 +- 0.4914128178006312\n"
     ]
    }
   ],
   "source": [
    "print(f\"<E> = {E} +- {np.sqrt(Var[15])}\")"
   ]
  },
  {
   "cell_type": "markdown",
   "metadata": {},
   "source": [
    "#### Radial Onebody Density"
   ]
  },
  {
   "cell_type": "code",
   "execution_count": 36,
   "metadata": {},
   "outputs": [
    {
     "data": {
      "image/png": "[encoded data removed]",
      "text/plain": [
       "<Figure size 432x288 with 1 Axes>"
      ]
     },
     "metadata": {
      "needs_background": "light"
     },
     "output_type": "display_data"
    }
   ],
   "source": [
    "fig = plt.figure()\n",
    "plt.plot(bins, densityNonInteracting)\n",
    "plt.plot(bins, densityInteracting, \"--\")\n",
    "plt.xlabel(\"R\")\n",
    "plt.ylabel(\"number of particles per R\")\n",
    "plt.grid()\n",
    "plt.show()\n",
    "fig.savefig(\"figures/density100.pdf\", bbox_inches = \"tight\")"
   ]
  },
  {
   "cell_type": "code",
   "execution_count": null,
   "metadata": {},
   "outputs": [],
   "source": []
  }
 ],
 "metadata": {
  "kernelspec": {
   "display_name": "Python 3",
   "language": "python",
   "name": "python3"
  },
  "language_info": {
   "codemirror_mode": {
    "name": "ipython",
    "version": 3
   },
   "file_extension": ".py",
   "mimetype": "text/x-python",
   "name": "python",
   "nbconvert_exporter": "python",
   "pygments_lexer": "ipython3",
   "version": "3.6.9"
  }
 },
 "nbformat": 4,
 "nbformat_minor": 2
}
