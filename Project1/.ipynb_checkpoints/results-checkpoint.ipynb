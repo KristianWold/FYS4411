{
 "cells": [
  {
   "cell_type": "markdown",
   "metadata": {},
   "source": [
    "# Analysis and testing"
   ]
  },
  {
   "cell_type": "markdown",
   "metadata": {},
   "source": [
    "This notebooks contains the generation, analysis and visualisation of the data accompying Project 1 in FYS4411. Several tests and sanity-checks for the various methods are also included."
   ]
  },
  {
   "cell_type": "code",
   "execution_count": 1,
   "metadata": {},
   "outputs": [],
   "source": [
    "import numpy as np\n",
    "import matplotlib.pyplot as plt\n",
    "import src.analysis as src\n",
    "from multiprocessing import Process, Queue\n",
    "import pandas as pd\n",
    "import time\n",
    "from tqdm import tqdm\n",
    "\n",
    "%load_ext autoreload\n",
    "%autoreload 2"
   ]
  },
  {
   "cell_type": "markdown",
   "metadata": {},
   "source": [
    "#### Testing of blocking method:"
   ]
  },
  {
   "cell_type": "markdown",
   "metadata": {},
   "source": [
    "For testing, we generate a time-series of random variables that are normally distribued as $X_i = N(0,1)$, but highly corrolated as $X_i = 0.5X_{i-1} + 0.5z$,  $z = N(0,1)$."
   ]
  },
  {
   "cell_type": "code",
   "execution_count": null,
   "metadata": {},
   "outputs": [],
   "source": [
    "np.random.seed(42)\n",
    "N= 2**18\n",
    "X = [np.random.normal(0,1)]\n",
    "for i in range(1, N):\n",
    "    X.append(0.5*X[-1] + 0.5*np.random.normal(0,1))\n",
    "X = np.array(X)"
   ]
  },
  {
   "cell_type": "code",
   "execution_count": null,
   "metadata": {},
   "outputs": [],
   "source": [
    "plt.plot(X[:100])\n",
    "plt.xlabel(\"t\")\n",
    "plt.ylabel(\"Amplitude\")\n",
    "plt.grid()\n",
    "plt.show()"
   ]
  },
  {
   "cell_type": "code",
   "execution_count": null,
   "metadata": {},
   "outputs": [],
   "source": [
    "estimatedVar = src.blocking(X, degree = 10)"
   ]
  },
  {
   "cell_type": "code",
   "execution_count": null,
   "metadata": {},
   "outputs": [],
   "source": [
    "plt.plot(estimatedVar)\n",
    "plt.plot((0,10), (1/N,1/N))\n",
    "plt.xlabel(\"Degree of blocking\")\n",
    "plt.ylabel(r\"$V(\\bar{X})$\")\n",
    "plt.legend([\"Estimated variance of mean\", \"Analytical variance of mean\"])\n",
    "plt.grid()\n",
    "plt.show()"
   ]
  },
  {
   "cell_type": "markdown",
   "metadata": {},
   "source": [
    "#### Investigating the one body density produced when simulating the 1 particle, 1 dimmension system with harmonic oscillator. Brute force and importance sampling are compared to analytical results."
   ]
  },
  {
   "cell_type": "code",
   "execution_count": null,
   "metadata": {},
   "outputs": [],
   "source": [
    "conf = src.config()\n",
    "conf[\"numPart\"] = 1\n",
    "conf[\"numDim\"] = 1\n",
    "conf[\"numSteps\"] = 1000000\n",
    "conf[\"stepLength\"] = 0.5\n",
    "conf[\"importanceSampling\"] = 0 #using bruteforce sampling\n",
    "\n",
    "conf[\"alpha\"] = 0.5\n",
    "conf[\"omega\"] = 1\n",
    "\n",
    "conf[\"InitialState\"] = \"RandomUniform\"\n",
    "conf[\"Wavefunction\"] = \"SimpleGaussian\"\n",
    "conf[\"Hamiltonian\"] = \"HarmonicOscillator\""
   ]
  },
  {
   "cell_type": "code",
   "execution_count": null,
   "metadata": {},
   "outputs": [],
   "source": [
    "src.runner(conf)\n",
    "_, posBruteForce, _, _ = src.readData(conf)\n",
    "\n",
    "conf[\"importanceSampling\"] = 1  #switching to importance sampling\n",
    "src.runner(conf)\n",
    "_, posImportance, _, _ = src.readData(conf)"
   ]
  },
  {
   "cell_type": "markdown",
   "metadata": {},
   "source": [
    "Calculating and plotting the densities:"
   ]
  },
  {
   "cell_type": "code",
   "execution_count": null,
   "metadata": {},
   "outputs": [],
   "source": [
    "bins = np.linspace(-3, 3, 200)\n",
    "dx = bins[1] - bins[0]\n",
    "densityBruteForce = src.oneBodyDensity(posBruteForce[0], bins, mode = \"1D\")\n",
    "densityImportance = src.oneBodyDensity(posImportance[0], bins, mode = \"1D\")"
   ]
  },
  {
   "cell_type": "code",
   "execution_count": null,
   "metadata": {},
   "outputs": [],
   "source": [
    "plt.plot(bins, densityBruteForce)\n",
    "plt.plot(bins, 1/np.sqrt(np.pi)*np.exp(-bins**2))\n",
    "plt.xlabel(\"L\")\n",
    "plt.ylabel(\"particles per L\")\n",
    "plt.legend([\"Brute Force Sampling\", \"Analytical\"])\n",
    "plt.grid()\n",
    "plt.show()\n",
    "\n",
    "plt.plot(bins, densityImportance)\n",
    "plt.plot(bins, 1/np.sqrt(np.pi)*np.exp(-bins**2))\n",
    "plt.xlabel(\"L\")\n",
    "plt.ylabel(\"particles per L\")\n",
    "plt.legend([\"Importance Sampling\", \"Analytical\"])\n",
    "plt.grid()\n",
    "plt.show()"
   ]
  },
  {
   "cell_type": "markdown",
   "metadata": {},
   "source": [
    "### Investigation of the local energi as a function of alpha for 2 particles, 3 dimmensions in harmonic oscillator. Brute force and importance sampling are used and checked against analytical results to verify the methods works correctly in higher dimmension."
   ]
  },
  {
   "cell_type": "markdown",
   "metadata": {},
   "source": [
    "#### Brute force sampling:"
   ]
  },
  {
   "cell_type": "code",
   "execution_count": null,
   "metadata": {},
   "outputs": [],
   "source": [
    "conf = src.config()\n",
    "conf[\"numPart\"] = 2\n",
    "conf[\"numDim\"] = 3\n",
    "conf[\"numSteps\"] = 2**17\n",
    "conf[\"stepLength\"] = 0.5\n",
    "conf[\"importanceSampling\"] = 0 #using bruteforce sampling\n",
    "\n",
    "conf[\"alpha\"] = 0.5\n",
    "conf[\"omega\"] = 1\n",
    "\n",
    "conf[\"InitialState\"] = \"RandomUniform\"\n",
    "conf[\"Wavefunction\"] = \"SimpleGaussian\"\n",
    "conf[\"Hamiltonian\"] = \"HarmonicOscillator\""
   ]
  },
  {
   "cell_type": "code",
   "execution_count": null,
   "metadata": {},
   "outputs": [],
   "source": [
    "x = np.linspace(0.3, 0.8, 21)\n",
    "E = []\n",
    "Var = []\n",
    "for alpha in x:\n",
    "    conf[\"alpha\"] = alpha\n",
    "    src.runner(conf)\n",
    "    localEnergies, _, _, acceptanceRate = src.readData(conf)\n",
    "    E.append(np.mean(localEnergies[0]))\n",
    "    Var.append(src.blocking(localEnergies[0], degree=15))\n",
    "print(\"Done!\")\n",
    "print(f\"Acceptance Rate: {acceptanceRate[0]}\")"
   ]
  },
  {
   "cell_type": "markdown",
   "metadata": {},
   "source": [
    "#### Checking appropriate degree of blocking"
   ]
  },
  {
   "cell_type": "code",
   "execution_count": null,
   "metadata": {},
   "outputs": [],
   "source": [
    "plt.plot(Var[0])\n",
    "plt.grid()\n",
    "plt.show()"
   ]
  },
  {
   "cell_type": "markdown",
   "metadata": {},
   "source": [
    "#### Plotting estimated energy as a function of alpha for 2 paricles in 3 dimmensions, harmonic oscillator:"
   ]
  },
  {
   "cell_type": "code",
   "execution_count": null,
   "metadata": {},
   "outputs": [],
   "source": [
    "E = np.array(E)\n",
    "Var = np.array(Var)\n",
    "std = np.sqrt(Var[:,13])\n",
    "\n",
    "plt.errorbar(x, E, std)\n",
    "plt.plot(x, 6*(1/(8*x) + 1/2*x), \"--\")\n",
    "plt.xlabel(\"Alpha\")\n",
    "plt.ylabel(\"<E>\")\n",
    "plt.legend([ \"Analytical\",\"Brute Force Sampling\"])\n",
    "\n",
    "plt.grid()\n",
    "plt.show()"
   ]
  },
  {
   "cell_type": "markdown",
   "metadata": {},
   "source": [
    "#### Importance Sampling:"
   ]
  },
  {
   "cell_type": "code",
   "execution_count": null,
   "metadata": {},
   "outputs": [],
   "source": [
    "conf = src.config()\n",
    "conf[\"numPart\"] = 2\n",
    "conf[\"numDim\"] = 3\n",
    "conf[\"numSteps\"] = 2**17\n",
    "conf[\"stepLength\"] = 0.5\n",
    "conf[\"importanceSampling\"] = 1 #importance sampling\n",
    "\n",
    "conf[\"alpha\"] = 0.5\n",
    "conf[\"omega\"] = 1\n",
    "\n",
    "conf[\"InitialState\"] = \"RandomUniform\"\n",
    "conf[\"Wavefunction\"] = \"SimpleGaussian\"\n",
    "conf[\"Hamiltonian\"] = \"HarmonicOscillator\""
   ]
  },
  {
   "cell_type": "code",
   "execution_count": null,
   "metadata": {},
   "outputs": [],
   "source": [
    "x = np.linspace(0.3, 0.8, 21)\n",
    "E = []\n",
    "Var = []\n",
    "for alpha in x:\n",
    "    conf[\"alpha\"] = alpha\n",
    "    src.runner(conf)\n",
    "    localEnergies, _, _, acceptanceRate = src.readData(conf)\n",
    "    E.append(np.mean(localEnergies[0]))\n",
    "    Var.append(src.blocking(localEnergies[0], degree=15))\n",
    "print(\"Done!\")\n",
    "print(f\"Acceptance Rate: {acceptanceRate[0]}\")"
   ]
  },
  {
   "cell_type": "code",
   "execution_count": null,
   "metadata": {},
   "outputs": [],
   "source": [
    "plt.plot(Var[0])\n",
    "plt.grid()\n",
    "plt.show()"
   ]
  },
  {
   "cell_type": "code",
   "execution_count": null,
   "metadata": {},
   "outputs": [],
   "source": [
    "E = np.array(E)\n",
    "Var = np.array(Var)\n",
    "std = np.sqrt(Var[:,11])\n",
    "\n",
    "plt.errorbar(x, E, std)\n",
    "plt.plot(x, 6*(1/(8*x) + 1/2*x), \"--\")\n",
    "plt.xlabel(\"Alpha\")\n",
    "plt.ylabel(\"<E>\")\n",
    "plt.legend([ \"Analytical\",\"Brute Force Sampling\"])\n",
    "\n",
    "plt.grid()\n",
    "plt.show()"
   ]
  },
  {
   "cell_type": "markdown",
   "metadata": {},
   "source": [
    "### Repeated analysis for numerically calculated laplacian"
   ]
  },
  {
   "cell_type": "code",
   "execution_count": null,
   "metadata": {},
   "outputs": [],
   "source": [
    "conf = src.config()\n",
    "conf[\"numPart\"] = 2\n",
    "conf[\"numDim\"] = 3\n",
    "conf[\"numSteps\"] = 2**17\n",
    "conf[\"stepLength\"] = 0.5\n",
    "conf[\"importanceSampling\"] = 0\n",
    "\n",
    "conf[\"alpha\"] = 0.5\n",
    "conf[\"omega\"] = 1\n",
    "\n",
    "conf[\"InitialState\"] = \"RandomUniform\"\n",
    "conf[\"Wavefunction\"] = \"SimpleGaussianNumerical\" #numerical laplacian\n",
    "conf[\"Hamiltonian\"] = \"HarmonicOscillator\""
   ]
  },
  {
   "cell_type": "code",
   "execution_count": null,
   "metadata": {},
   "outputs": [],
   "source": [
    "x = np.linspace(0.3, 0.8, 21)\n",
    "E = []\n",
    "Var = []\n",
    "for alpha in x:\n",
    "    conf[\"alpha\"] = alpha\n",
    "    src.runner(conf)\n",
    "    localEnergies, _, _, acceptanceRate = src.readData(conf)\n",
    "    E.append(np.mean(localEnergies[0]))\n",
    "    Var.append(src.blocking(localEnergies[0], degree=15))\n",
    "print(\"Done!\")\n",
    "print(f\"Acceptance Rate: {acceptanceRate[0]}\")"
   ]
  },
  {
   "cell_type": "code",
   "execution_count": null,
   "metadata": {},
   "outputs": [],
   "source": [
    "E = np.array(E)\n",
    "Var = np.array(Var)\n",
    "std = np.sqrt(Var[:,13])\n",
    "\n",
    "plt.errorbar(x, E, std)\n",
    "plt.plot(x, 6*(1/(8*x) + 1/2*x), \"--\")\n",
    "plt.xlabel(\"Alpha\")\n",
    "plt.ylabel(\"<E>\")\n",
    "plt.legend([ \"Analytical\",\"Numerical Laplacian\"])\n",
    "\n",
    "plt.grid()\n",
    "plt.show()"
   ]
  },
  {
   "cell_type": "markdown",
   "metadata": {},
   "source": [
    "### Thermalization of many particals, using Brute Force Sampling and Importance Sampling"
   ]
  },
  {
   "cell_type": "code",
   "execution_count": null,
   "metadata": {},
   "outputs": [],
   "source": [
    "conf = src.config()\n",
    "conf[\"numDim\"] = 3\n",
    "conf[\"numSteps\"] = 10000\n",
    "conf[\"stepLength\"] = 1\n",
    "conf[\"importanceSampling\"] = 0 #importance sampling\n",
    "\n",
    "conf[\"alpha\"] = 0.3\n",
    "conf[\"omega\"] = 1\n",
    "\n",
    "conf[\"InitialState\"] = \"RandomUniform\"\n",
    "conf[\"Wavefunction\"] = \"SimpleGaussian\"\n",
    "conf[\"Hamiltonian\"] = \"HarmonicOscillator\""
   ]
  },
  {
   "cell_type": "code",
   "execution_count": null,
   "metadata": {},
   "outputs": [],
   "source": [
    "conf[\"numPart\"] = 1\n",
    "src.runner(conf)\n",
    "localEnergies1, _, _, acceptanceRate = src.readData(conf)\n",
    "print(acceptanceRate[0])\n",
    "\n",
    "conf[\"numPart\"] = 10\n",
    "src.runner(conf)\n",
    "localEnergies2, _, _, acceptanceRate = src.readData(conf)\n",
    "print(acceptanceRate[0])\n",
    "\n",
    "conf[\"numPart\"] = 20\n",
    "src.runner(conf)\n",
    "localEnergies3, _, _, acceptanceRate = src.readData(conf)\n",
    "print(acceptanceRate[0])\n",
    "\n",
    "conf[\"numPart\"] = 100\n",
    "src.runner(conf)\n",
    "localEnergies4, _, _, acceptanceRate = src.readData(conf)\n",
    "print(acceptanceRate[0])"
   ]
  },
  {
   "cell_type": "code",
   "execution_count": null,
   "metadata": {},
   "outputs": [],
   "source": [
    "plt.plot(localEnergies1[0][:200])\n",
    "plt.xlabel(\"cycles\")\n",
    "plt.ylabel(\"$E_L$\")\n",
    "plt.grid()\n",
    "plt.show()\n",
    "\n",
    "plt.plot(localEnergies2[0][:2000])\n",
    "plt.xlabel(\"cycles\")\n",
    "plt.ylabel(\"$E_L$\")\n",
    "plt.grid()\n",
    "plt.show()\n",
    "\n",
    "plt.plot(localEnergies3[0][:5000])\n",
    "plt.xlabel(\"cycles\")\n",
    "plt.ylabel(\"$E_L$\")\n",
    "plt.grid()\n",
    "plt.show()\n",
    "\n",
    "plt.plot(localEnergies4[0])\n",
    "plt.xlabel(\"cycles\")\n",
    "plt.ylabel(\"$E_L$\")\n",
    "plt.grid()\n",
    "plt.show()"
   ]
  },
  {
   "cell_type": "code",
   "execution_count": null,
   "metadata": {},
   "outputs": [],
   "source": [
    "conf[\"numPart\"] = 100\n",
    "conf[\"importanceSampling\"] = 1\n",
    "conf[\"stepLength\"] = 1.6\n",
    "src.runner(conf, verbose = True)\n",
    "localEnergies, _, _, acceptanceRate = src.readData(conf)\n",
    "print(f\"Acceptance Rate: {acceptanceRate}\")"
   ]
  },
  {
   "cell_type": "code",
   "execution_count": null,
   "metadata": {},
   "outputs": [],
   "source": [
    "plt.plot(localEnergies[0])\n",
    "plt.xlabel(\"cycles\")\n",
    "plt.ylabel(\"$E_L$\")\n",
    "plt.grid()\n",
    "plt.show()"
   ]
  },
  {
   "cell_type": "markdown",
   "metadata": {},
   "source": [
    "#### CPU-time differences between analytical and numerical laplacian"
   ]
  },
  {
   "cell_type": "code",
   "execution_count": null,
   "metadata": {},
   "outputs": [],
   "source": [
    "conf = src.config()\n",
    "conf[\"numDim\"] = 3\n",
    "conf[\"stepLength\"] = 1\n",
    "conf[\"importanceSampling\"] = 0\n",
    "\n",
    "conf[\"alpha\"] = 0.5\n",
    "conf[\"omega\"] = 1\n",
    "\n",
    "conf[\"InitialState\"] = \"RandomUniform\"\n",
    "conf[\"Hamiltonian\"] = \"HarmonicOscillator\""
   ]
  },
  {
   "cell_type": "code",
   "execution_count": null,
   "metadata": {},
   "outputs": [],
   "source": [
    "timeAnalytic = []\n",
    "timeNumeric = []\n",
    "cycles = 4000000\n",
    "N = np.array([1, 3, 10, 30, 100, 300])\n",
    "for n in tqdm(N):\n",
    "    conf[\"numDim\"] = n\n",
    "    conf[\"numSteps\"] = cycles/n\n",
    "    conf[\"Wavefunction\"] = \"SimpleGaussian\"\n",
    "    \n",
    "    start = time.time()\n",
    "    src.runner(conf)\n",
    "    end = time.time()\n",
    "    timeAnalytic.append((end - start)/conf[\"numSteps\"])\n",
    "    \n",
    "    conf[\"Wavefunction\"] = \"SimpleGaussianNumerical\"\n",
    "    \n",
    "    start = time.time()\n",
    "    src.runner(conf)\n",
    "    end = time.time()\n",
    "    timeNumeric.append((end - start)/conf[\"numSteps\"])"
   ]
  },
  {
   "cell_type": "code",
   "execution_count": null,
   "metadata": {},
   "outputs": [],
   "source": [
    "plt.plot(np.log10(N), np.log10(timeAnalytic))\n",
    "plt.plot(np.log10(N), np.log10(timeNumeric))\n",
    "plt.xlabel(\"log(number of particles)\")\n",
    "plt.xlabel(\"log(time per cycle)\")\n",
    "\n",
    "plt.grid()\n",
    "plt.show()"
   ]
  },
  {
   "cell_type": "markdown",
   "metadata": {},
   "source": [
    "### One-body density for two interacting particles in 1D, harmonic oscillator"
   ]
  },
  {
   "cell_type": "code",
   "execution_count": 23,
   "metadata": {},
   "outputs": [],
   "source": [
    "conf = src.config()\n",
    "conf[\"numPart\"] = 2\n",
    "conf[\"numDim\"] = 1\n",
    "conf[\"numSteps\"] = 1000000\n",
    "conf[\"stepLength\"] = 0.1\n",
    "conf[\"importanceSampling\"] = 1\n",
    "\n",
    "conf[\"alpha\"] = 0.5\n",
    "conf[\"omega\"] = 1\n",
    "\n",
    "conf[\"InitialState\"] = \"HardshellInitial\"\n",
    "conf[\"Wavefunction\"] = \"HardshellWavefunction\"\n",
    "conf[\"Hamiltonian\"] = \"HarmonicOscillator\""
   ]
  },
  {
   "cell_type": "code",
   "execution_count": 26,
   "metadata": {},
   "outputs": [
    {
     "name": "stdout",
     "output_type": "stream",
     "text": [
      "Acceptance Rate: [0.992724]\n",
      "Acceptance Rate: [0.73903]\n",
      "Acceptance Rate: [0.552456]\n"
     ]
    }
   ],
   "source": [
    "conf[\"a\"] = 0\n",
    "src.runner(conf)\n",
    "_, posNoninteracting, _, acceptanceRate = src.readData(conf)\n",
    "print(f\"Acceptance Rate: {acceptanceRate}\")\n",
    "\n",
    "conf[\"a\"] = 1\n",
    "src.runner(conf)\n",
    "_, posInteracting, _, acceptanceRate = src.readData(conf)\n",
    "print(f\"Acceptance Rate: {acceptanceRate}\")\n",
    "\n",
    "conf[\"numPart\"] = 3\n",
    "src.runner(conf)\n",
    "_, posInteracting3Part, _, acceptanceRate = src.readData(conf)\n",
    "print(f\"Acceptance Rate: {acceptanceRate}\")"
   ]
  },
  {
   "cell_type": "code",
   "execution_count": 27,
   "metadata": {},
   "outputs": [
    {
     "name": "stderr",
     "output_type": "stream",
     "text": [
      "100%|██████████| 2000000/2000000 [00:10<00:00, 191667.95it/s]\n",
      "100%|██████████| 2000000/2000000 [00:10<00:00, 193777.53it/s]\n",
      "100%|██████████| 3000000/3000000 [00:14<00:00, 200907.69it/s]\n"
     ]
    }
   ],
   "source": [
    "bins = np.linspace(-3, 3, 200)\n",
    "densityNoninteracting = src.oneBodyDensity(posNoninteracting[0], bins, mode = \"1D\")/conf[\"numSteps\"]\n",
    "densityInteracting = src.oneBodyDensity(posInteracting[0], bins, mode = \"1D\")/conf[\"numSteps\"]\n",
    "densityInteracting3Part = src.oneBodyDensity(posInteracting3Part[0], bins, mode = \"1D\")/conf[\"numSteps\"]"
   ]
  },
  {
   "cell_type": "code",
   "execution_count": 21,
   "metadata": {},
   "outputs": [
    {
     "data": {
      "image/png": "[encoded data removed]",
      "text/plain": [
       "<Figure size 432x288 with 1 Axes>"
      ]
     },
     "metadata": {
      "needs_background": "light"
     },
     "output_type": "display_data"
    }
   ],
   "source": [
    "plt.plot(bins, densityNoninteracting)\n",
    "plt.plot(bins, 2/np.sqrt(np.pi)*np.exp(-bins**2), \"--\")\n",
    "plt.xlabel(\"L\")\n",
    "plt.ylabel(\"number of particles per L\")\n",
    "plt.grid()\n",
    "plt.show()"
   ]
  },
  {
   "cell_type": "code",
   "execution_count": 28,
   "metadata": {},
   "outputs": [
    {
     "name": "stdout",
     "output_type": "stream",
     "text": [
      "1.999792\n"
     ]
    },
    {
     "data": {
      "image/png": "[encoded data removed]",
      "text/plain": [
       "<Figure size 432x288 with 1 Axes>"
      ]
     },
     "metadata": {
      "needs_background": "light"
     },
     "output_type": "display_data"
    }
   ],
   "source": [
    "plt.plot(bins, densityInteracting)\n",
    "plt.plot(bins, 2/np.sqrt(np.pi)*np.exp(-bins**2), \"--\")\n",
    "plt.xlabel(\"L\")\n",
    "plt.ylabel(\"number of particles per L\")\n",
    "plt.grid()\n",
    "plt.show()"
   ]
  },
  {
   "cell_type": "code",
   "execution_count": 30,
   "metadata": {},
   "outputs": [
    {
     "data": {
      "image/png": "[encoded data removed]",
      "text/plain": [
       "<Figure size 432x288 with 1 Axes>"
      ]
     },
     "metadata": {
      "needs_background": "light"
     },
     "output_type": "display_data"
    }
   ],
   "source": [
    "plt.plot(bins, densityInteracting3Part)\n",
    "plt.plot(bins, 2/np.sqrt(np.pi)*np.exp(-bins**2), \"--\")\n",
    "plt.xlabel(\"L\")\n",
    "plt.ylabel(\"number of particles per L\")\n",
    "plt.grid()\n",
    "plt.show()"
   ]
  },
  {
   "cell_type": "code",
   "execution_count": null,
   "metadata": {},
   "outputs": [],
   "source": [
    "localEnergies, _, _, _ = src.readData(conf)"
   ]
  },
  {
   "cell_type": "code",
   "execution_count": null,
   "metadata": {},
   "outputs": [],
   "source": [
    "print(np.mean(localEnergies[0]))\n",
    "print(acceptanceRate)\n",
    "#plt.plot(localEnergies)\n",
    "#plt.show()"
   ]
  },
  {
   "cell_type": "code",
   "execution_count": null,
   "metadata": {},
   "outputs": [],
   "source": [
    "pos = np.loadtxt(\"dataHardshell/configuration_0.txt\")\n",
    "x = np.linspace(-3,3,100)\n",
    "density = src.oneBodyDensity(pos, x, mode = \"1D\")\n",
    "plt.plot(x, density)\n",
    "plt.show()"
   ]
  },
  {
   "cell_type": "code",
   "execution_count": null,
   "metadata": {},
   "outputs": [],
   "source": [
    "conf = {}\n",
    "conf[\"directory\"] = \"data1\"\n",
    "conf[\"numPart\"] = 1\n",
    "conf[\"numDim\"] = 1\n",
    "conf[\"numSteps\"] = 1000000\n",
    "conf[\"stepLength\"] = 1\n",
    "conf[\"alpha\"] = 0.5\n",
    "conf[\"a\"] = 1\n",
    "conf[\"omega\"] = 1"
   ]
  },
  {
   "cell_type": "code",
   "execution_count": null,
   "metadata": {},
   "outputs": [],
   "source": [
    "src.runner(conf)"
   ]
  },
  {
   "cell_type": "code",
   "execution_count": null,
   "metadata": {},
   "outputs": [],
   "source": [
    "localEnergies = np.loadtxt(\"data1/localEnergies_0.txt\")\n",
    "configurations = np.loadtxt(\"data1/configuration_0.txt\")\n",
    "\n",
    "plt.plot(localEnergies)\n",
    "plt.show()\n",
    "\n",
    "plt.plot(configurations)\n",
    "plt.show()\n",
    "\n",
    "x = np.linspace(-4, 4, 200)\n",
    "dx = x[1] - x[0]\n",
    "\n",
    "density = src.oneBodyDensity(configurations, x, mode = \"1D\")\n",
    "plt.plot(x, density/dx)\n",
    "plt.plot(x, np.sqrt(1/np.pi)*np.exp(-x**2))\n",
    "plt.show()\n",
    "print(np.sum(density))"
   ]
  },
  {
   "cell_type": "code",
   "execution_count": null,
   "metadata": {},
   "outputs": [],
   "source": [
    "alpha = np.linspace(0.3, 0.8, 21)\n",
    "E = []\n",
    "var = []\n",
    "for a in alpha:\n",
    "    conf[\"alpha\"] = a\n",
    "    src.runner(conf)\n",
    "    localEnergies = np.loadtxt(\"data1/localEnergies_0.txt\")\n",
    "    meanE, varE = src.statistics(localEnergies)\n",
    "    E.append(meanE)\n",
    "    var.append(varE)"
   ]
  },
  {
   "cell_type": "code",
   "execution_count": null,
   "metadata": {},
   "outputs": [],
   "source": [
    "plt.plot(alpha, E)\n",
    "plt.xlabel(\"alpha\")\n",
    "plt.ylabel(\"<E>\")\n",
    "plt.show()\n",
    "\n",
    "plt.plot(alpha, var)\n",
    "plt.xlabel(\"alpha\")\n",
    "plt.ylabel(\"<var>\")\n",
    "plt.show()"
   ]
  },
  {
   "cell_type": "code",
   "execution_count": null,
   "metadata": {},
   "outputs": [],
   "source": [
    "plt.plot(alpha, E)\n",
    "plt.xlabel(\"alpha\")\n",
    "plt.ylabel(\"<E>\")\n",
    "plt.show()\n",
    "\n",
    "plt.plot(alpha, var)\n",
    "plt.xlabel(\"alpha\")\n",
    "plt.ylabel(\"<var>\")\n",
    "plt.show()"
   ]
  },
  {
   "cell_type": "code",
   "execution_count": null,
   "metadata": {},
   "outputs": [],
   "source": [
    "conf = {}\n",
    "conf[\"directory\"] = \"data1\"\n",
    "conf[\"numPart\"] = 10\n",
    "conf[\"numDim\"] = 1\n",
    "conf[\"numSteps\"] = 100000\n",
    "conf[\"stepLength\"] = 0.1\n",
    "conf[\"alpha\"] = 0.4\n",
    "conf[\"a\"] = 1\n",
    "conf[\"omega\"] = 1\n",
    "\n",
    "src.runner(conf)"
   ]
  },
  {
   "cell_type": "code",
   "execution_count": null,
   "metadata": {},
   "outputs": [],
   "source": []
  },
  {
   "cell_type": "code",
   "execution_count": null,
   "metadata": {},
   "outputs": [],
   "source": [
    "r = np.linspace(-5, 5, 200)\n",
    "\n",
    "N = 11\n",
    "\n",
    "\n",
    "def f(q,i):\n",
    "    pos = pd.read_csv(f\"data1/configuration_{i}.txt\", sep =\"\\n\", header = None).values.reshape(-1,2)\n",
    "    density = src.oneBodyDensity(pos, r, mode = \"2D\")\n",
    "    q.put(density)\n",
    "    \n",
    "q = Queue()\n",
    "    \n",
    "processes = [Process(target = f, args=(q,i)) for i in range(N)]\n",
    "\n",
    "for p in processes:\n",
    "    p.start()\n",
    " \n",
    "\n",
    "density = q.get()\n",
    "for i in range(N-1):\n",
    "    density += q.get()\n",
    "\n",
    "density /= N"
   ]
  },
  {
   "cell_type": "code",
   "execution_count": null,
   "metadata": {},
   "outputs": [],
   "source": [
    "fig = plt.figure(figsize = (8,6))\n",
    "ax = fig.add_subplot(111)\n",
    "ax.set_aspect(\"equal\")\n",
    "ax.pcolormesh(density)\n",
    "plt.show()"
   ]
  },
  {
   "cell_type": "code",
   "execution_count": null,
   "metadata": {},
   "outputs": [],
   "source": [
    "np.random.seed(42)\n",
    "N = 1000\n",
    "signal = np.zeros(N)\n",
    "signal[0] = np.random.normal(0,1)\n",
    "for i in range(1, N):\n",
    "    signal[i] = 0.5*np.random.normal(0,1) + 0.5*signal[i-1]"
   ]
  },
  {
   "cell_type": "code",
   "execution_count": null,
   "metadata": {},
   "outputs": [],
   "source": [
    "plt.plot(signal[:1000])"
   ]
  },
  {
   "cell_type": "code",
   "execution_count": null,
   "metadata": {},
   "outputs": [],
   "source": [
    "var = np.std(signal)**2\n",
    "print(var)\n",
    "print(np.sqrt(var/N))"
   ]
  },
  {
   "cell_type": "code",
   "execution_count": null,
   "metadata": {},
   "outputs": [],
   "source": [
    "mean = np.mean(signal)\n",
    "print(mean)"
   ]
  },
  {
   "cell_type": "code",
   "execution_count": null,
   "metadata": {},
   "outputs": [],
   "source": [
    "corr = 0\n",
    "for i in range(1000):\n",
    "    for j in range(i,1000):\n",
    "        corr += (signal[i] - mean)*(signal[j] - mean)\n",
    "corr /= 1000\n",
    "\n",
    "print(corr)"
   ]
  },
  {
   "cell_type": "code",
   "execution_count": null,
   "metadata": {},
   "outputs": [],
   "source": [
    "corr = np.correlate(signal, signal, mode=\"full\")"
   ]
  },
  {
   "cell_type": "code",
   "execution_count": null,
   "metadata": {},
   "outputs": [],
   "source": [
    "plt.plot(corr[999:])"
   ]
  },
  {
   "cell_type": "code",
   "execution_count": null,
   "metadata": {},
   "outputs": [],
   "source": [
    "conf = {}\n",
    "conf[\"numPart\"] = 10\n",
    "conf[\"numDim\"] = 3\n",
    "conf[\"numSteps\"] = 2**20\n",
    "conf[\"stepLength\"] = 0.1\n",
    "conf[\"alpha\"] = 0.4\n",
    "\n",
    "src.runner(conf)\n",
    "localEnergies = np.loadtxt(\"localEnergies.txt\")"
   ]
  },
  {
   "cell_type": "code",
   "execution_count": null,
   "metadata": {},
   "outputs": [],
   "source": [
    "x = np.copy(localEnergies)\n",
    "ting = [np.std(x)/np.sqrt(len(x))]\n",
    "for i in range(16):\n",
    "    x = src.blocking(x)\n",
    "    ting.append(np.std(x)/np.sqrt(len(x)))"
   ]
  },
  {
   "cell_type": "code",
   "execution_count": null,
   "metadata": {},
   "outputs": [],
   "source": [
    "plt.plot(ting)"
   ]
  },
  {
   "cell_type": "code",
   "execution_count": null,
   "metadata": {},
   "outputs": [],
   "source": [
    "conf = {}\n",
    "conf[\"numPart\"] = 10\n",
    "conf[\"numDim\"] = 1\n",
    "conf[\"numSteps\"] = 1000\n",
    "conf[\"stepLength\"] = 0.1\n",
    "conf[\"alpha\"] = 0.4\n",
    "\n",
    "mu = 0.001\n",
    "\n",
    "for i in range(100):\n",
    "    src.runner(conf)\n",
    "    gradAlpha = np.loadtxt(\"metadata.txt\")\n",
    "    print(conf[\"alpha\"])\n",
    "    conf[\"alpha\"] -= mu*gradAlpha\n",
    "    "
   ]
  },
  {
   "cell_type": "code",
   "execution_count": null,
   "metadata": {},
   "outputs": [],
   "source": []
  }
 ],
 "metadata": {
  "kernelspec": {
   "display_name": "Python 3",
   "language": "python",
   "name": "python3"
  },
  "language_info": {
   "codemirror_mode": {
    "name": "ipython",
    "version": 3
   },
   "file_extension": ".py",
   "mimetype": "text/x-python",
   "name": "python",
   "nbconvert_exporter": "python",
   "pygments_lexer": "ipython3",
   "version": "3.6.9"
  }
 },
 "nbformat": 4,
 "nbformat_minor": 2
}
