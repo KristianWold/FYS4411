{
 "cells": [
  {
   "cell_type": "markdown",
   "metadata": {},
   "source": [
    "# Elliptical Trap Simulation"
   ]
  },
  {
   "cell_type": "code",
   "execution_count": 70,
   "metadata": {},
   "outputs": [
    {
     "name": "stdout",
     "output_type": "stream",
     "text": [
      "The autoreload extension is already loaded. To reload it, use:\n",
      "  %reload_ext autoreload\n"
     ]
    },
    {
     "data": {
      "text/plain": [
       "<Figure size 432x288 with 0 Axes>"
      ]
     },
     "metadata": {},
     "output_type": "display_data"
    }
   ],
   "source": [
    "import numpy as np\n",
    "import matplotlib.pyplot as plt\n",
    "import src.analysis as src\n",
    "from multiprocessing import Process, Queue\n",
    "import pandas as pd\n",
    "import time\n",
    "from tqdm import tqdm\n",
    "\n",
    "plt.gcf().subplots_adjust(bottom=0.15)\n",
    "%load_ext autoreload\n",
    "%autoreload 2"
   ]
  },
  {
   "cell_type": "markdown",
   "metadata": {},
   "source": [
    "### 10 Particles"
   ]
  },
  {
   "cell_type": "code",
   "execution_count": 62,
   "metadata": {},
   "outputs": [],
   "source": [
    "conf = src.config()\n",
    "cutoff = 500\n",
    "\n",
    "conf[\"directory\"] = \"elliptical_10_interacting\"\n",
    "conf[\"threads\"] = 12\n",
    "\n",
    "conf[\"numPart\"] = 10\n",
    "conf[\"numDim\"] = 3\n",
    "conf[\"numSteps\"] = 2**20 + cutoff\n",
    "conf[\"stepLength\"] = 0.5\n",
    "conf[\"importanceSampling\"] = 1\n",
    "\n",
    "conf[\"alpha\"] = 0.5\n",
    "conf[\"a\"] = 0.0043\n",
    "\n",
    "conf[\"InitialState\"] = \"HardshellInitial\"\n",
    "conf[\"Wavefunction\"] = \"EllipticalHardshellWavefunction\"\n",
    "conf[\"Hamiltonian\"] = \"EllipticalOscillator\""
   ]
  },
  {
   "cell_type": "markdown",
   "metadata": {},
   "source": [
    "#### Gradient decent"
   ]
  },
  {
   "cell_type": "code",
   "execution_count": 61,
   "metadata": {},
   "outputs": [
    {
     "name": "stdout",
     "output_type": "stream",
     "text": [
      "gradient: 0.23190. alpha: 0.49768. acceptance rate: 0.62721.\n"
     ]
    },
    {
     "ename": "KeyboardInterrupt",
     "evalue": "",
     "output_type": "error",
     "traceback": [
      "\u001b[0;31m---------------------------------------------------------------------------\u001b[0m",
      "\u001b[0;31mKeyboardInterrupt\u001b[0m                         Traceback (most recent call last)",
      "\u001b[0;32m<ipython-input-61-5d105af2d8fb>\u001b[0m in \u001b[0;36m<module>\u001b[0;34m\u001b[0m\n\u001b[1;32m      3\u001b[0m \u001b[0;32mfor\u001b[0m \u001b[0mi\u001b[0m \u001b[0;32min\u001b[0m \u001b[0mrange\u001b[0m\u001b[0;34m(\u001b[0m\u001b[0;36m5\u001b[0m\u001b[0;34m)\u001b[0m\u001b[0;34m:\u001b[0m\u001b[0;34m\u001b[0m\u001b[0;34m\u001b[0m\u001b[0m\n\u001b[1;32m      4\u001b[0m     \u001b[0msrc\u001b[0m\u001b[0;34m.\u001b[0m\u001b[0mrunner\u001b[0m\u001b[0;34m(\u001b[0m\u001b[0mconf\u001b[0m\u001b[0;34m)\u001b[0m\u001b[0;34m\u001b[0m\u001b[0;34m\u001b[0m\u001b[0m\n\u001b[0;32m----> 5\u001b[0;31m     \u001b[0mlocalEnergies\u001b[0m\u001b[0;34m,\u001b[0m \u001b[0m_\u001b[0m\u001b[0;34m,\u001b[0m \u001b[0mpsiGrad\u001b[0m\u001b[0;34m,\u001b[0m \u001b[0macceptanceRate\u001b[0m \u001b[0;34m=\u001b[0m \u001b[0msrc\u001b[0m\u001b[0;34m.\u001b[0m\u001b[0mreadData\u001b[0m\u001b[0;34m(\u001b[0m\u001b[0mconf\u001b[0m\u001b[0;34m)\u001b[0m\u001b[0;34m\u001b[0m\u001b[0;34m\u001b[0m\u001b[0m\n\u001b[0m\u001b[1;32m      6\u001b[0m     \u001b[0mgradient\u001b[0m \u001b[0;34m=\u001b[0m \u001b[0msrc\u001b[0m\u001b[0;34m.\u001b[0m\u001b[0mcalculateGradient\u001b[0m\u001b[0;34m(\u001b[0m\u001b[0mlocalEnergies\u001b[0m\u001b[0;34m,\u001b[0m \u001b[0mpsiGrad\u001b[0m\u001b[0;34m)\u001b[0m\u001b[0;34m\u001b[0m\u001b[0;34m\u001b[0m\u001b[0m\n\u001b[1;32m      7\u001b[0m     \u001b[0mconf\u001b[0m\u001b[0;34m[\u001b[0m\u001b[0;34m\"alpha\"\u001b[0m\u001b[0;34m]\u001b[0m \u001b[0;34m-=\u001b[0m \u001b[0mmu\u001b[0m\u001b[0;34m*\u001b[0m\u001b[0mgradient\u001b[0m\u001b[0;34m\u001b[0m\u001b[0;34m\u001b[0m\u001b[0m\n",
      "\u001b[0;32m/media/newhd/Documents/FYS4411/Project1/src/analysis.py\u001b[0m in \u001b[0;36mreadData\u001b[0;34m(conf, cutoff, readPos)\u001b[0m\n\u001b[1;32m    143\u001b[0m             pos_temp = pd.read_csv(\n\u001b[1;32m    144\u001b[0m                 \u001b[0;34mf\"{conf['directory']}/configuration_{i}.txt\"\u001b[0m\u001b[0;34m,\u001b[0m \u001b[0msep\u001b[0m\u001b[0;34m=\u001b[0m\u001b[0;34m\"\\n\"\u001b[0m\u001b[0;34m,\u001b[0m\u001b[0;34m\u001b[0m\u001b[0;34m\u001b[0m\u001b[0m\n\u001b[0;32m--> 145\u001b[0;31m                 header=None).values\n\u001b[0m\u001b[1;32m    146\u001b[0m             \u001b[0mpos\u001b[0m\u001b[0;34m.\u001b[0m\u001b[0mappend\u001b[0m\u001b[0;34m(\u001b[0m\u001b[0mpos_temp\u001b[0m\u001b[0;34m.\u001b[0m\u001b[0mreshape\u001b[0m\u001b[0;34m(\u001b[0m\u001b[0;34m-\u001b[0m\u001b[0;36m1\u001b[0m\u001b[0;34m,\u001b[0m \u001b[0mconf\u001b[0m\u001b[0;34m[\u001b[0m\u001b[0;34m\"numDim\"\u001b[0m\u001b[0;34m]\u001b[0m\u001b[0;34m)\u001b[0m\u001b[0;34m[\u001b[0m\u001b[0mcutoff\u001b[0m\u001b[0;34m:\u001b[0m\u001b[0;34m]\u001b[0m\u001b[0;34m)\u001b[0m\u001b[0;34m\u001b[0m\u001b[0;34m\u001b[0m\u001b[0m\n\u001b[1;32m    147\u001b[0m \u001b[0;34m\u001b[0m\u001b[0m\n",
      "\u001b[0;32m~/.local/lib/python3.6/site-packages/pandas/io/parsers.py\u001b[0m in \u001b[0;36mparser_f\u001b[0;34m(filepath_or_buffer, sep, delimiter, header, names, index_col, usecols, squeeze, prefix, mangle_dupe_cols, dtype, engine, converters, true_values, false_values, skipinitialspace, skiprows, skipfooter, nrows, na_values, keep_default_na, na_filter, verbose, skip_blank_lines, parse_dates, infer_datetime_format, keep_date_col, date_parser, dayfirst, cache_dates, iterator, chunksize, compression, thousands, decimal, lineterminator, quotechar, quoting, doublequote, escapechar, comment, encoding, dialect, error_bad_lines, warn_bad_lines, delim_whitespace, low_memory, memory_map, float_precision)\u001b[0m\n\u001b[1;32m    674\u001b[0m         )\n\u001b[1;32m    675\u001b[0m \u001b[0;34m\u001b[0m\u001b[0m\n\u001b[0;32m--> 676\u001b[0;31m         \u001b[0;32mreturn\u001b[0m \u001b[0m_read\u001b[0m\u001b[0;34m(\u001b[0m\u001b[0mfilepath_or_buffer\u001b[0m\u001b[0;34m,\u001b[0m \u001b[0mkwds\u001b[0m\u001b[0;34m)\u001b[0m\u001b[0;34m\u001b[0m\u001b[0;34m\u001b[0m\u001b[0m\n\u001b[0m\u001b[1;32m    677\u001b[0m \u001b[0;34m\u001b[0m\u001b[0m\n\u001b[1;32m    678\u001b[0m     \u001b[0mparser_f\u001b[0m\u001b[0;34m.\u001b[0m\u001b[0m__name__\u001b[0m \u001b[0;34m=\u001b[0m \u001b[0mname\u001b[0m\u001b[0;34m\u001b[0m\u001b[0;34m\u001b[0m\u001b[0m\n",
      "\u001b[0;32m~/.local/lib/python3.6/site-packages/pandas/io/parsers.py\u001b[0m in \u001b[0;36m_read\u001b[0;34m(filepath_or_buffer, kwds)\u001b[0m\n\u001b[1;32m    452\u001b[0m \u001b[0;34m\u001b[0m\u001b[0m\n\u001b[1;32m    453\u001b[0m     \u001b[0;32mtry\u001b[0m\u001b[0;34m:\u001b[0m\u001b[0;34m\u001b[0m\u001b[0;34m\u001b[0m\u001b[0m\n\u001b[0;32m--> 454\u001b[0;31m         \u001b[0mdata\u001b[0m \u001b[0;34m=\u001b[0m \u001b[0mparser\u001b[0m\u001b[0;34m.\u001b[0m\u001b[0mread\u001b[0m\u001b[0;34m(\u001b[0m\u001b[0mnrows\u001b[0m\u001b[0;34m)\u001b[0m\u001b[0;34m\u001b[0m\u001b[0;34m\u001b[0m\u001b[0m\n\u001b[0m\u001b[1;32m    455\u001b[0m     \u001b[0;32mfinally\u001b[0m\u001b[0;34m:\u001b[0m\u001b[0;34m\u001b[0m\u001b[0;34m\u001b[0m\u001b[0m\n\u001b[1;32m    456\u001b[0m         \u001b[0mparser\u001b[0m\u001b[0;34m.\u001b[0m\u001b[0mclose\u001b[0m\u001b[0;34m(\u001b[0m\u001b[0;34m)\u001b[0m\u001b[0;34m\u001b[0m\u001b[0;34m\u001b[0m\u001b[0m\n",
      "\u001b[0;32m~/.local/lib/python3.6/site-packages/pandas/io/parsers.py\u001b[0m in \u001b[0;36mread\u001b[0;34m(self, nrows)\u001b[0m\n\u001b[1;32m   1131\u001b[0m     \u001b[0;32mdef\u001b[0m \u001b[0mread\u001b[0m\u001b[0;34m(\u001b[0m\u001b[0mself\u001b[0m\u001b[0;34m,\u001b[0m \u001b[0mnrows\u001b[0m\u001b[0;34m=\u001b[0m\u001b[0;32mNone\u001b[0m\u001b[0;34m)\u001b[0m\u001b[0;34m:\u001b[0m\u001b[0;34m\u001b[0m\u001b[0;34m\u001b[0m\u001b[0m\n\u001b[1;32m   1132\u001b[0m         \u001b[0mnrows\u001b[0m \u001b[0;34m=\u001b[0m \u001b[0m_validate_integer\u001b[0m\u001b[0;34m(\u001b[0m\u001b[0;34m\"nrows\"\u001b[0m\u001b[0;34m,\u001b[0m \u001b[0mnrows\u001b[0m\u001b[0;34m)\u001b[0m\u001b[0;34m\u001b[0m\u001b[0;34m\u001b[0m\u001b[0m\n\u001b[0;32m-> 1133\u001b[0;31m         \u001b[0mret\u001b[0m \u001b[0;34m=\u001b[0m \u001b[0mself\u001b[0m\u001b[0;34m.\u001b[0m\u001b[0m_engine\u001b[0m\u001b[0;34m.\u001b[0m\u001b[0mread\u001b[0m\u001b[0;34m(\u001b[0m\u001b[0mnrows\u001b[0m\u001b[0;34m)\u001b[0m\u001b[0;34m\u001b[0m\u001b[0;34m\u001b[0m\u001b[0m\n\u001b[0m\u001b[1;32m   1134\u001b[0m \u001b[0;34m\u001b[0m\u001b[0m\n\u001b[1;32m   1135\u001b[0m         \u001b[0;31m# May alter columns / col_dict\u001b[0m\u001b[0;34m\u001b[0m\u001b[0;34m\u001b[0m\u001b[0;34m\u001b[0m\u001b[0m\n",
      "\u001b[0;32m~/.local/lib/python3.6/site-packages/pandas/io/parsers.py\u001b[0m in \u001b[0;36mread\u001b[0;34m(self, nrows)\u001b[0m\n\u001b[1;32m   2035\u001b[0m     \u001b[0;32mdef\u001b[0m \u001b[0mread\u001b[0m\u001b[0;34m(\u001b[0m\u001b[0mself\u001b[0m\u001b[0;34m,\u001b[0m \u001b[0mnrows\u001b[0m\u001b[0;34m=\u001b[0m\u001b[0;32mNone\u001b[0m\u001b[0;34m)\u001b[0m\u001b[0;34m:\u001b[0m\u001b[0;34m\u001b[0m\u001b[0;34m\u001b[0m\u001b[0m\n\u001b[1;32m   2036\u001b[0m         \u001b[0;32mtry\u001b[0m\u001b[0;34m:\u001b[0m\u001b[0;34m\u001b[0m\u001b[0;34m\u001b[0m\u001b[0m\n\u001b[0;32m-> 2037\u001b[0;31m             \u001b[0mdata\u001b[0m \u001b[0;34m=\u001b[0m \u001b[0mself\u001b[0m\u001b[0;34m.\u001b[0m\u001b[0m_reader\u001b[0m\u001b[0;34m.\u001b[0m\u001b[0mread\u001b[0m\u001b[0;34m(\u001b[0m\u001b[0mnrows\u001b[0m\u001b[0;34m)\u001b[0m\u001b[0;34m\u001b[0m\u001b[0;34m\u001b[0m\u001b[0m\n\u001b[0m\u001b[1;32m   2038\u001b[0m         \u001b[0;32mexcept\u001b[0m \u001b[0mStopIteration\u001b[0m\u001b[0;34m:\u001b[0m\u001b[0;34m\u001b[0m\u001b[0;34m\u001b[0m\u001b[0m\n\u001b[1;32m   2039\u001b[0m             \u001b[0;32mif\u001b[0m \u001b[0mself\u001b[0m\u001b[0;34m.\u001b[0m\u001b[0m_first_chunk\u001b[0m\u001b[0;34m:\u001b[0m\u001b[0;34m\u001b[0m\u001b[0;34m\u001b[0m\u001b[0m\n",
      "\u001b[0;32mpandas/_libs/parsers.pyx\u001b[0m in \u001b[0;36mpandas._libs.parsers.TextReader.read\u001b[0;34m()\u001b[0m\n",
      "\u001b[0;32mpandas/_libs/parsers.pyx\u001b[0m in \u001b[0;36mpandas._libs.parsers.TextReader._read_low_memory\u001b[0;34m()\u001b[0m\n",
      "\u001b[0;32mpandas/_libs/parsers.pyx\u001b[0m in \u001b[0;36mpandas._libs.parsers.TextReader._read_rows\u001b[0;34m()\u001b[0m\n",
      "\u001b[0;32mpandas/_libs/parsers.pyx\u001b[0m in \u001b[0;36mpandas._libs.parsers.TextReader._convert_column_data\u001b[0;34m()\u001b[0m\n",
      "\u001b[0;32mpandas/_libs/parsers.pyx\u001b[0m in \u001b[0;36mpandas._libs.parsers.TextReader._convert_tokens\u001b[0;34m()\u001b[0m\n",
      "\u001b[0;32mpandas/_libs/parsers.pyx\u001b[0m in \u001b[0;36mpandas._libs.parsers.TextReader._convert_with_dtype\u001b[0;34m()\u001b[0m\n",
      "\u001b[0;32m~/.local/lib/python3.6/site-packages/pandas/core/dtypes/common.py\u001b[0m in \u001b[0;36mis_categorical_dtype\u001b[0;34m(arr_or_dtype)\u001b[0m\n\u001b[1;32m    540\u001b[0m \u001b[0;34m\u001b[0m\u001b[0m\n\u001b[1;32m    541\u001b[0m \u001b[0;34m\u001b[0m\u001b[0m\n\u001b[0;32m--> 542\u001b[0;31m \u001b[0;32mdef\u001b[0m \u001b[0mis_categorical_dtype\u001b[0m\u001b[0;34m(\u001b[0m\u001b[0marr_or_dtype\u001b[0m\u001b[0;34m)\u001b[0m \u001b[0;34m->\u001b[0m \u001b[0mbool\u001b[0m\u001b[0;34m:\u001b[0m\u001b[0;34m\u001b[0m\u001b[0;34m\u001b[0m\u001b[0m\n\u001b[0m\u001b[1;32m    543\u001b[0m     \"\"\"\n\u001b[1;32m    544\u001b[0m     \u001b[0mCheck\u001b[0m \u001b[0mwhether\u001b[0m \u001b[0man\u001b[0m \u001b[0marray\u001b[0m\u001b[0;34m-\u001b[0m\u001b[0mlike\u001b[0m \u001b[0;32mor\u001b[0m \u001b[0mdtype\u001b[0m \u001b[0;32mis\u001b[0m \u001b[0mof\u001b[0m \u001b[0mthe\u001b[0m \u001b[0mCategorical\u001b[0m \u001b[0mdtype\u001b[0m\u001b[0;34m.\u001b[0m\u001b[0;34m\u001b[0m\u001b[0;34m\u001b[0m\u001b[0m\n",
      "\u001b[0;31mKeyboardInterrupt\u001b[0m: "
     ]
    }
   ],
   "source": [
    "mu = 0.01\n",
    "\n",
    "for i in range(5):\n",
    "    src.runner(conf)\n",
    "    localEnergies, _, psiGrad, acceptanceRate = src.readData(conf)\n",
    "    gradient = src.calculateGradient(localEnergies, psiGrad)\n",
    "    conf[\"alpha\"] -= mu*gradient\n",
    "    print(f\"gradient: {gradient:.5f}. alpha: {conf['alpha']:.5f}. acceptance rate: {acceptanceRate[0]:.5f}.\")"
   ]
  },
  {
   "cell_type": "markdown",
   "metadata": {},
   "source": [
    "#### Using optimal alpha"
   ]
  },
  {
   "cell_type": "code",
   "execution_count": 5,
   "metadata": {},
   "outputs": [
    {
     "name": "stdout",
     "output_type": "stream",
     "text": [
      "Starting simulation\n",
      "numPart: 10\n",
      "numDim: 3\n",
      "numSteps: 1049076\n",
      "stepLength: 0.5\n",
      "importanceSampling: 1\n",
      "alpha: 0.49752\n",
      "a: 0.0043\n",
      "omega: 1\n",
      "InitialState: HardshellInitial\n",
      "WaveFunction: EllipticalHardshellWavefunction\n",
      "Hamiltonian: EllipticalOscillator\n",
      "Done!\n",
      "------------\n"
     ]
    }
   ],
   "source": [
    "conf[\"numSteps\"] = 2**20 + cutoff\n",
    "conf[\"alpha\"] = 0.49752"
   ]
  },
  {
   "cell_type": "code",
   "execution_count": null,
   "metadata": {},
   "outputs": [],
   "source": [
    "src.runner(conf, verbose = True)"
   ]
  },
  {
   "cell_type": "code",
   "execution_count": 6,
   "metadata": {},
   "outputs": [
    {
     "name": "stderr",
     "output_type": "stream",
     "text": [
      "100%|██████████| 10490760/10490760 [00:11<00:00, 883750.40it/s]\n",
      " 98%|█████████▊| 10244838/10490760 [00:11<00:00, 715669.11it/s]\n",
      "100%|██████████| 10490760/10490760 [00:12<00:00, 857691.06it/s]\n",
      "100%|██████████| 10490760/10490760 [00:12<00:00, 854395.50it/s]\n",
      "100%|██████████| 10490760/10490760 [00:12<00:00, 862932.11it/s]\n",
      "100%|██████████| 10490760/10490760 [00:12<00:00, 845043.96it/s]\n",
      "100%|██████████| 10490760/10490760 [00:12<00:00, 830479.35it/s]\n",
      "100%|██████████| 10490760/10490760 [00:12<00:00, 834811.87it/s]\n",
      "100%|██████████| 10490760/10490760 [00:12<00:00, 841700.34it/s]\n",
      "100%|██████████| 10490760/10490760 [00:12<00:00, 825862.06it/s]\n",
      "100%|██████████| 10490760/10490760 [00:12<00:00, 813386.83it/s]\n",
      "100%|██████████| 10490760/10490760 [00:12<00:00, 811920.09it/s]\n"
     ]
    }
   ],
   "source": [
    "localEnergies, _, psiGrad, acceptanceRate = src.readData(conf, cutoff, readPos = False)\n",
    "localEnergies = np.concatenate(localEnergies)\n",
    "\n",
    "bins = np.linspace(0, 3, 200)\n",
    "densityInteracting = src.densityParallel(conf, bins)/conf[\"numSteps\"]"
   ]
  },
  {
   "cell_type": "code",
   "execution_count": 9,
   "metadata": {},
   "outputs": [],
   "source": [
    "conf[\"directory\"] = \"elliptical_10_noninteracting\"\n",
    "conf[\"a\"] = 0 "
   ]
  },
  {
   "cell_type": "code",
   "execution_count": 10,
   "metadata": {},
   "outputs": [
    {
     "name": "stdout",
     "output_type": "stream",
     "text": [
      "Starting simulation\n",
      "numPart: 10\n",
      "numDim: 3\n",
      "numSteps: 1049076\n",
      "stepLength: 0.5\n",
      "importanceSampling: 1\n",
      "alpha: 0.49752\n",
      "a: 0\n",
      "omega: 1\n",
      "InitialState: HardshellInitial\n",
      "WaveFunction: EllipticalHardshellWavefunction\n",
      "Hamiltonian: EllipticalOscillator\n",
      "Done!\n",
      "------------\n"
     ]
    }
   ],
   "source": [
    "src.runner(conf, verbose = True)"
   ]
  },
  {
   "cell_type": "code",
   "execution_count": 11,
   "metadata": {},
   "outputs": [
    {
     "name": "stderr",
     "output_type": "stream",
     "text": [
      " 98%|█████████▊| 10243852/10490760 [00:12<00:00, 859931.55it/s]\n",
      "100%|██████████| 10490760/10490760 [00:12<00:00, 871803.36it/s]\n",
      "100%|██████████| 10490760/10490760 [00:12<00:00, 857952.82it/s]\n",
      "100%|██████████| 10490760/10490760 [00:12<00:00, 854345.43it/s]\n",
      "100%|██████████| 10490760/10490760 [00:12<00:00, 854822.80it/s]\n",
      "100%|██████████| 10490760/10490760 [00:12<00:00, 843547.22it/s]\n",
      "100%|██████████| 10490760/10490760 [00:12<00:00, 848008.39it/s]\n",
      "100%|██████████| 10490760/10490760 [00:12<00:00, 844402.45it/s]\n",
      "100%|██████████| 10490760/10490760 [00:12<00:00, 827559.82it/s]\n",
      "100%|██████████| 10490760/10490760 [00:12<00:00, 830588.19it/s]\n",
      "100%|██████████| 10490760/10490760 [00:12<00:00, 826862.03it/s]\n",
      "100%|██████████| 10490760/10490760 [00:12<00:00, 820424.38it/s]\n"
     ]
    }
   ],
   "source": [
    "bins = np.linspace(0, 3, 200)\n",
    "densityNonInteracting = src.densityParallel(conf, bins)/conf[\"numSteps\"]"
   ]
  },
  {
   "cell_type": "markdown",
   "metadata": {},
   "source": [
    "#### Estimation of energy and uncertainty"
   ]
  },
  {
   "cell_type": "code",
   "execution_count": 12,
   "metadata": {},
   "outputs": [
    {
     "name": "stderr",
     "output_type": "stream",
     "text": [
      "100%|██████████| 18/18 [00:50<00:00,  2.79s/it]\n"
     ]
    }
   ],
   "source": [
    "E = np.mean(localEnergies)\n",
    "Var = src.blocking(localEnergies, 18)"
   ]
  },
  {
   "cell_type": "code",
   "execution_count": 13,
   "metadata": {},
   "outputs": [
    {
     "data": {
      "image/png": "[encoded data removed]",
      "text/plain": [
       "<Figure size 432x288 with 1 Axes>"
      ]
     },
     "metadata": {
      "needs_background": "light"
     },
     "output_type": "display_data"
    }
   ],
   "source": [
    "plt.plot(Var)\n",
    "plt.show()"
   ]
  },
  {
   "cell_type": "code",
   "execution_count": 14,
   "metadata": {},
   "outputs": [
    {
     "name": "stdout",
     "output_type": "stream",
     "text": [
      "<E> = 24.398477790886265 +- 0.0011886200428013818\n"
     ]
    }
   ],
   "source": [
    "print(f\"<E> = {E} +- {np.sqrt(Var[9])}\")"
   ]
  },
  {
   "cell_type": "markdown",
   "metadata": {},
   "source": [
    "#### Radial onebody density"
   ]
  },
  {
   "cell_type": "code",
   "execution_count": 15,
   "metadata": {},
   "outputs": [
    {
     "data": {
      "image/png": "[encoded data removed]",
      "text/plain": [
       "<Figure size 432x288 with 1 Axes>"
      ]
     },
     "metadata": {
      "needs_background": "light"
     },
     "output_type": "display_data"
    }
   ],
   "source": [
    "fig = plt.figure()\n",
    "plt.plot(bins, densityNonInteracting)\n",
    "plt.plot(bins, densityInteracting, \"--\")\n",
    "plt.xlabel(\"R\")\n",
    "plt.ylabel(\"number of particles per R\")\n",
    "plt.grid()\n",
    "plt.show()\n",
    "fig.savefig(\"figures/density10.pdf\", bbox_inches = \"tight\")"
   ]
  },
  {
   "cell_type": "markdown",
   "metadata": {},
   "source": [
    "### 50 particles"
   ]
  },
  {
   "cell_type": "code",
   "execution_count": 19,
   "metadata": {},
   "outputs": [],
   "source": [
    "conf = src.config()\n",
    "cutoff = 2000\n",
    "\n",
    "conf[\"threads\"] = 12\n",
    "\n",
    "conf[\"numPart\"] = 50\n",
    "conf[\"numDim\"] = 3\n",
    "conf[\"numSteps\"] = 2**20 + cutoff\n",
    "conf[\"stepLength\"] = 0.5\n",
    "conf[\"importanceSampling\"] = 1\n",
    "\n",
    "conf[\"alpha\"] = 0.49752\n",
    "conf[\"a\"] = 0.0043\n",
    "\n",
    "conf[\"InitialState\"] = \"HardshellInitial\"\n",
    "conf[\"Wavefunction\"] = \"EllipticalHardshellWavefunction\"\n",
    "conf[\"Hamiltonian\"] = \"EllipticalOscillator\""
   ]
  },
  {
   "cell_type": "code",
   "execution_count": 20,
   "metadata": {},
   "outputs": [
    {
     "name": "stdout",
     "output_type": "stream",
     "text": [
      "gradient: 4.12064. alpha: 0.49340. acceptance rate: 0.64611.\n",
      "gradient: 2.27719. alpha: 0.49112. acceptance rate: 0.64988.\n",
      "gradient: 0.93448. alpha: 0.49019. acceptance rate: 0.65196.\n",
      "gradient: 1.08126. alpha: 0.48911. acceptance rate: 0.65279.\n",
      "gradient: 0.07514. alpha: 0.48903. acceptance rate: 0.65379.\n",
      "gradient: 0.67713. alpha: 0.48835. acceptance rate: 0.65385.\n",
      "gradient: 0.17743. alpha: 0.48818. acceptance rate: 0.65449.\n"
     ]
    }
   ],
   "source": [
    "mu = 0.001\n",
    "\n",
    "for i in range(5):\n",
    "    src.runner(conf)\n",
    "    localEnergies, _, psiGrad, acceptanceRate = src.readData(conf, cutoff, readPos = False)\n",
    "    gradient = src.calculateGradient(localEnergies, psiGrad)\n",
    "    conf[\"alpha\"] -= mu*gradient\n",
    "    print(f\"gradient: {gradient:.5f}. alpha: {conf['alpha']:.5f}. acceptance rate: {acceptanceRate[0]:.5f}.\")"
   ]
  },
  {
   "cell_type": "markdown",
   "metadata": {},
   "source": [
    "#### Using optimal alpha"
   ]
  },
  {
   "cell_type": "code",
   "execution_count": 21,
   "metadata": {},
   "outputs": [],
   "source": [
    "conf[\"directory\"] = \"elliptical_50_interacting\"\n",
    "conf[\"alpha\"] = 0.48903"
   ]
  },
  {
   "cell_type": "code",
   "execution_count": 22,
   "metadata": {},
   "outputs": [
    {
     "name": "stdout",
     "output_type": "stream",
     "text": [
      "Starting simulation\n",
      "numPart: 50\n",
      "numDim: 3\n",
      "numSteps: 1050576\n",
      "stepLength: 0.5\n",
      "importanceSampling: 1\n",
      "alpha: 0.48903\n",
      "a: 0.0043\n",
      "omega: 1\n",
      "InitialState: HardshellInitial\n",
      "WaveFunction: EllipticalHardshellWavefunction\n",
      "Hamiltonian: EllipticalOscillator\n",
      "Done!\n",
      "------------\n"
     ]
    }
   ],
   "source": [
    "src.runner(conf, verbose = True)"
   ]
  },
  {
   "cell_type": "code",
   "execution_count": 23,
   "metadata": {},
   "outputs": [
    {
     "name": "stderr",
     "output_type": "stream",
     "text": [
      "100%|██████████| 52528800/52528800 [00:54<00:00, 969054.33it/s] \n",
      "100%|██████████| 52528800/52528800 [00:54<00:00, 960233.30it/s]]\n",
      "100%|██████████| 52528800/52528800 [00:55<00:00, 954908.38it/s] \n",
      "100%|██████████| 52528800/52528800 [00:55<00:00, 952611.38it/s]]\n",
      "100%|██████████| 52528800/52528800 [00:54<00:00, 955146.89it/s] \n",
      "100%|██████████| 52528800/52528800 [00:55<00:00, 951378.43it/s]\n"
     ]
    }
   ],
   "source": [
    "localEnergies, _, psiGrad, acceptanceRate = src.readData(conf, cutoff, readPos = False)\n",
    "localEnergies = np.concatenate(localEnergies)\n",
    "\n",
    "bins = np.linspace(0, 3, 200)\n",
    "conf[\"threads\"] = 6 #downscale, to avoid using too much memory\n",
    "densityInteracting = src.densityParallel(conf, bins)/conf[\"numSteps\"]"
   ]
  },
  {
   "cell_type": "code",
   "execution_count": 24,
   "metadata": {},
   "outputs": [],
   "source": [
    "conf[\"directory\"] = \"elliptical_50_noninteracting\"\n",
    "conf[\"alpha\"] = 0.48903\n",
    "conf[\"a\"] = 0"
   ]
  },
  {
   "cell_type": "code",
   "execution_count": 25,
   "metadata": {},
   "outputs": [
    {
     "name": "stdout",
     "output_type": "stream",
     "text": [
      "Starting simulation\n",
      "numPart: 50\n",
      "numDim: 3\n",
      "numSteps: 1050576\n",
      "stepLength: 0.5\n",
      "importanceSampling: 1\n",
      "alpha: 0.4921689823406644\n",
      "a: 0\n",
      "omega: 1\n",
      "InitialState: HardshellInitial\n",
      "WaveFunction: EllipticalHardshellWavefunction\n",
      "Hamiltonian: EllipticalOscillator\n",
      "Done!\n",
      "------------\n"
     ]
    }
   ],
   "source": [
    "src.runner(conf, verbose = True)"
   ]
  },
  {
   "cell_type": "code",
   "execution_count": 26,
   "metadata": {},
   "outputs": [
    {
     "name": "stderr",
     "output_type": "stream",
     "text": [
      "100%|██████████| 52528800/52528800 [00:52<00:00, 991637.25it/s] \n",
      "100%|██████████| 52528800/52528800 [00:52<00:00, 995155.91it/s]]\n",
      "100%|██████████| 52528800/52528800 [00:53<00:00, 982869.93it/s] \n",
      "100%|██████████| 52528800/52528800 [00:54<00:00, 971576.90it/s]]\n",
      "100%|██████████| 52528800/52528800 [00:53<00:00, 974114.64it/s] \n",
      "100%|██████████| 52528800/52528800 [00:55<00:00, 944677.16it/s]\n"
     ]
    }
   ],
   "source": [
    "bins = np.linspace(0, 3, 200)\n",
    "densityNonInteracting = src.densityParallel(conf, bins)/conf[\"numSteps\"]"
   ]
  },
  {
   "cell_type": "markdown",
   "metadata": {},
   "source": [
    "#### Estimation of energy and uncertainty"
   ]
  },
  {
   "cell_type": "code",
   "execution_count": 27,
   "metadata": {},
   "outputs": [
    {
     "name": "stderr",
     "output_type": "stream",
     "text": [
      "100%|██████████| 18/18 [00:52<00:00,  2.92s/it]\n"
     ]
    }
   ],
   "source": [
    "E = np.mean(localEnergies)\n",
    "Var = src.blocking(localEnergies, 18)"
   ]
  },
  {
   "cell_type": "code",
   "execution_count": 28,
   "metadata": {},
   "outputs": [
    {
     "data": {
      "image/png": "[encoded data removed]",
      "text/plain": [
       "<Figure size 432x288 with 1 Axes>"
      ]
     },
     "metadata": {
      "needs_background": "light"
     },
     "output_type": "display_data"
    }
   ],
   "source": [
    "plt.plot(Var)\n",
    "plt.show()"
   ]
  },
  {
   "cell_type": "code",
   "execution_count": 29,
   "metadata": {},
   "outputs": [
    {
     "name": "stdout",
     "output_type": "stream",
     "text": [
      "<E> = 127.37989862150846 +- 0.12304662071136907\n"
     ]
    }
   ],
   "source": [
    "print(f\"<E> = {E} +- {np.sqrt(Var[13])}\")"
   ]
  },
  {
   "cell_type": "markdown",
   "metadata": {},
   "source": [
    "#### Radial onebody density"
   ]
  },
  {
   "cell_type": "code",
   "execution_count": 30,
   "metadata": {},
   "outputs": [
    {
     "data": {
      "image/png": "[encoded data removed]",
      "text/plain": [
       "<Figure size 432x288 with 1 Axes>"
      ]
     },
     "metadata": {
      "needs_background": "light"
     },
     "output_type": "display_data"
    }
   ],
   "source": [
    "fig = plt.figure()\n",
    "plt.plot(bins, densityNonInteracting)\n",
    "plt.plot(bins, densityInteracting, \"--\")\n",
    "plt.xlabel(\"R\")\n",
    "plt.ylabel(\"number of particles per R\")\n",
    "plt.grid()\n",
    "plt.show()\n",
    "fig.savefig(\"figures/density50.pdf\", bbox_inches = \"tight\")"
   ]
  },
  {
   "cell_type": "markdown",
   "metadata": {},
   "source": [
    "### 100 Particles"
   ]
  },
  {
   "cell_type": "code",
   "execution_count": 71,
   "metadata": {},
   "outputs": [],
   "source": [
    "conf = src.config()\n",
    "cutoff = 2000\n",
    "\n",
    "conf[\"threads\"] = 12\n",
    "\n",
    "conf[\"numPart\"] = 100\n",
    "conf[\"numDim\"] = 3\n",
    "conf[\"numSteps\"] = 2**20 + cutoff\n",
    "conf[\"stepLength\"] = 0.5\n",
    "conf[\"importanceSampling\"] = 1\n",
    "\n",
    "conf[\"alpha\"] = 0.48903\n",
    "conf[\"a\"] = 0.0043\n",
    "\n",
    "conf[\"InitialState\"] = \"HardshellInitial\"\n",
    "conf[\"Wavefunction\"] = \"EllipticalHardshellWavefunction\"\n",
    "conf[\"Hamiltonian\"] = \"EllipticalOscillator\""
   ]
  },
  {
   "cell_type": "code",
   "execution_count": 66,
   "metadata": {},
   "outputs": [
    {
     "name": "stdout",
     "output_type": "stream",
     "text": [
      "gradient: 8.97470. alpha: 0.48006. acceptance rate: 0.66570.\n",
      "gradient: -2.12743. alpha: 0.48218. acceptance rate: 0.67375.\n",
      "gradient: 0.93860. alpha: 0.48124. acceptance rate: 0.67187.\n",
      "gradient: 2.76470. alpha: 0.47848. acceptance rate: 0.67276.\n",
      "gradient: -3.11632. alpha: 0.48160. acceptance rate: 0.67520.\n"
     ]
    }
   ],
   "source": [
    "mu = 0.001\n",
    "\n",
    "for i in range(5):\n",
    "    src.runner(conf)\n",
    "    localEnergies, _, psiGrad, acceptanceRate = src.readData(conf, cutoff, readPos = False)\n",
    "    gradient = src.calculateGradient(localEnergies, psiGrad)\n",
    "    conf[\"alpha\"] -= mu*gradient\n",
    "    print(f\"gradient: {gradient:.5f}. alpha: {conf['alpha']:.5f}. acceptance rate: {acceptanceRate[0]:.5f}.\")"
   ]
  },
  {
   "cell_type": "markdown",
   "metadata": {},
   "source": [
    "#### Using optimal alpha"
   ]
  },
  {
   "cell_type": "code",
   "execution_count": 67,
   "metadata": {},
   "outputs": [],
   "source": [
    "conf[\"directory\"] = \"elliptical_100_interacting\"\n",
    "conf[\"alpha\"] = 0.48160"
   ]
  },
  {
   "cell_type": "code",
   "execution_count": 68,
   "metadata": {},
   "outputs": [
    {
     "name": "stdout",
     "output_type": "stream",
     "text": [
      "Starting simulation\n",
      "numPart: 100\n",
      "numDim: 3\n",
      "numSteps: 1050576\n",
      "stepLength: 0.5\n",
      "importanceSampling: 1\n",
      "alpha: 0.4816\n",
      "a: 0.0043\n",
      "omega: 1\n",
      "InitialState: HardshellInitial\n",
      "WaveFunction: EllipticalHardshellWavefunction\n",
      "Hamiltonian: EllipticalOscillator\n",
      "Done!\n",
      "------------\n"
     ]
    }
   ],
   "source": [
    "src.runner(conf, verbose = True)"
   ]
  },
  {
   "cell_type": "code",
   "execution_count": 72,
   "metadata": {},
   "outputs": [
    {
     "name": "stderr",
     "output_type": "stream",
     "text": [
      "100%|██████████| 105057600/105057600 [01:40<00:00, 1046527.51it/s]\n",
      "100%|██████████| 105057600/105057600 [01:42<00:00, 1025040.11it/s]\n",
      "100%|██████████| 105057600/105057600 [01:43<00:00, 1016983.20it/s]\n"
     ]
    }
   ],
   "source": [
    "localEnergies, _, psiGrad, acceptanceRate = src.readData(conf, cutoff, readPos = False)\n",
    "localEnergies = np.concatenate(localEnergies)\n",
    "\n",
    "bins = np.linspace(0, 3, 200)\n",
    "conf[\"threads\"] = 3 #downscale, to avoid using too much memory\n",
    "densityInteracting = src.densityParallel(conf, bins)/conf[\"numSteps\"]"
   ]
  },
  {
   "cell_type": "code",
   "execution_count": 79,
   "metadata": {},
   "outputs": [],
   "source": [
    "conf[\"directory\"] = \"elliptical_100_noninteracting\"\n",
    "conf[\"alpha\"] = 0.48160\n",
    "conf[\"a\"] = 0"
   ]
  },
  {
   "cell_type": "code",
   "execution_count": null,
   "metadata": {},
   "outputs": [
    {
     "name": "stdout",
     "output_type": "stream",
     "text": [
      "Starting simulation\n",
      "numPart: 100\n",
      "numDim: 3\n",
      "numSteps: 1050576\n",
      "stepLength: 0.5\n",
      "importanceSampling: 1\n",
      "alpha: 0.4816\n",
      "a: 0\n",
      "omega: 1\n",
      "InitialState: HardshellInitial\n",
      "WaveFunction: EllipticalHardshellWavefunction\n",
      "Hamiltonian: EllipticalOscillator\n"
     ]
    }
   ],
   "source": [
    "src.runner(conf, verbose = True)"
   ]
  },
  {
   "cell_type": "code",
   "execution_count": null,
   "metadata": {},
   "outputs": [],
   "source": [
    "bins = np.linspace(0, 3, 200)\n",
    "densityNonInteracting = src.densityParallel(conf, bins)/conf[\"numSteps\"]"
   ]
  },
  {
   "cell_type": "markdown",
   "metadata": {},
   "source": [
    "#### Estiamtion of Energy and Uncertainty"
   ]
  },
  {
   "cell_type": "code",
   "execution_count": 76,
   "metadata": {},
   "outputs": [
    {
     "name": "stderr",
     "output_type": "stream",
     "text": [
      "100%|██████████| 18/18 [00:53<00:00,  2.96s/it]\n"
     ]
    }
   ],
   "source": [
    "E = np.mean(localEnergies)\n",
    "Var = src.blocking(localEnergies, 18)\n",
    "plt.plot(Var)"
   ]
  },
  {
   "cell_type": "code",
   "execution_count": 77,
   "metadata": {},
   "outputs": [
    {
     "name": "stdout",
     "output_type": "stream",
     "text": [
      "<E> = 265.691126050464 +- 0.2086624074643644\n"
     ]
    }
   ],
   "source": [
    "print(f\"<E> = {E} +- {np.sqrt(Var[13])}\")"
   ]
  },
  {
   "cell_type": "markdown",
   "metadata": {},
   "source": [
    "#### Radial Onebody Density"
   ]
  },
  {
   "cell_type": "code",
   "execution_count": null,
   "metadata": {},
   "outputs": [],
   "source": [
    "fig = plt.figure()\n",
    "plt.plot(bins, densityNonInteracting)\n",
    "plt.plot(bins, densityInteracting, \"--\")\n",
    "plt.xlabel(\"R\")\n",
    "plt.ylabel(\"number of particles per R\")\n",
    "plt.grid()\n",
    "plt.show()\n",
    "fig.savefig(\"figures/density100.pdf\", bbox_inches = \"tight\")"
   ]
  },
  {
   "cell_type": "code",
   "execution_count": null,
   "metadata": {},
   "outputs": [],
   "source": []
  }
 ],
 "metadata": {
  "kernelspec": {
   "display_name": "Python 3",
   "language": "python",
   "name": "python3"
  }
 },
 "nbformat": 4,
 "nbformat_minor": 2
}
