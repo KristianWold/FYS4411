{
 "cells": [
  {
   "cell_type": "markdown",
   "metadata": {},
   "source": [
    "# Elliptical Trap Simulation"
   ]
  },
  {
   "cell_type": "code",
   "execution_count": 1,
   "metadata": {},
   "outputs": [],
   "source": [
    "import numpy as np\n",
    "import matplotlib.pyplot as plt\n",
    "import src.analysis as src\n",
    "from multiprocessing import Process, Queue\n",
    "import pandas as pd\n",
    "import time\n",
    "from tqdm import tqdm\n",
    "\n",
    "plt.gcf().subplots_adjust(bottom=0.15)\n",
    "%load_ext autoreload\n",
    "%autoreload 2"
   ]
  },
  {
   "cell_type": "markdown",
   "metadata": {},
   "source": [
    "### 10 Particles"
   ]
  },
  {
   "cell_type": "code",
   "execution_count": 2,
   "metadata": {},
   "outputs": [],
   "source": [
    "conf = src.config()\n",
    "cutoff = 500\n",
    "\n",
    "conf[\"directory\"] = \"elliptical_10_interacting\"\n",
    "conf[\"threads\"] = 12\n",
    "\n",
    "conf[\"numPart\"] = 10\n",
    "conf[\"numDim\"] = 3\n",
    "conf[\"numSteps\"] = 2**20 + cutoff\n",
    "conf[\"stepLength\"] = 0.5\n",
    "conf[\"importanceSampling\"] = 1\n",
    "\n",
    "conf[\"alpha\"] = 0.5\n",
    "conf[\"a\"] = 0.0043\n",
    "\n",
    "conf[\"InitialState\"] = \"HardshellInitial\"\n",
    "conf[\"Wavefunction\"] = \"EllipticalHardshellWavefunction\"\n",
    "conf[\"Hamiltonian\"] = \"EllipticalOscillator\""
   ]
  },
  {
   "cell_type": "markdown",
   "metadata": {},
   "source": [
    "#### Gradient decent"
   ]
  },
  {
   "cell_type": "code",
   "execution_count": null,
   "metadata": {},
   "outputs": [],
   "source": [
    "mu = 0.01\n",
    "\n",
    "for i in range(5):\n",
    "    src.runner(conf)\n",
    "    localEnergies, _, psiGrad, acceptanceRate = src.readData(conf)\n",
    "    gradient = src.calculateGradient(localEnergies, psiGrad)\n",
    "    conf[\"alpha\"] -= mu*gradient\n",
    "    print(f\"gradient: {gradient:.5f}. alpha: {conf['alpha']:.5f}. acceptance rate: {acceptanceRate[0]:.5f}.\")"
   ]
  },
  {
   "cell_type": "markdown",
   "metadata": {},
   "source": [
    "#### Using optimal alpha"
   ]
  },
  {
   "cell_type": "code",
   "execution_count": null,
   "metadata": {},
   "outputs": [],
   "source": [
    "conf[\"numSteps\"] = 2**20 + cutoff\n",
    "conf[\"alpha\"] = 0.49752"
   ]
  },
  {
   "cell_type": "code",
   "execution_count": null,
   "metadata": {},
   "outputs": [],
   "source": [
    "src.runner(conf, verbose = True)"
   ]
  },
  {
   "cell_type": "code",
   "execution_count": 3,
   "metadata": {},
   "outputs": [
    {
     "name": "stderr",
     "output_type": "stream",
     "text": [
      "100%|██████████| 10490760/10490760 [00:12<00:00, 821234.50it/s]\n",
      "100%|██████████| 10490760/10490760 [00:12<00:00, 824275.06it/s]\n",
      "100%|██████████| 10490760/10490760 [00:13<00:00, 805794.73it/s]\n",
      " 97%|█████████▋| 10200530/10490760 [00:12<00:00, 807716.07it/s]\n",
      "100%|██████████| 10490760/10490760 [00:12<00:00, 846593.05it/s]\n",
      "100%|██████████| 10490760/10490760 [00:12<00:00, 826017.11it/s]\n",
      "100%|██████████| 10490760/10490760 [00:12<00:00, 819224.39it/s]\n",
      "100%|██████████| 10490760/10490760 [00:12<00:00, 819863.48it/s]\n",
      "100%|██████████| 10490760/10490760 [00:13<00:00, 806835.92it/s]\n",
      "100%|██████████| 10490760/10490760 [00:13<00:00, 802374.60it/s]\n",
      "100%|██████████| 10490760/10490760 [00:13<00:00, 804547.96it/s]]\n",
      "100%|██████████| 10490760/10490760 [00:13<00:00, 799692.17it/s] \n"
     ]
    }
   ],
   "source": [
    "localEnergies, _, psiGrad, acceptanceRate = src.readData(conf, cutoff, readPos = False)\n",
    "localEnergies = np.concatenate(localEnergies)\n",
    "\n",
    "bins = np.linspace(0, 3, 200)\n",
    "densityInteracting_10 = src.densityParallel(conf, bins)/conf[\"numSteps\"]"
   ]
  },
  {
   "cell_type": "code",
   "execution_count": 4,
   "metadata": {},
   "outputs": [],
   "source": [
    "conf[\"directory\"] = \"elliptical_10_noninteracting\"\n",
    "conf[\"a\"] = 0 "
   ]
  },
  {
   "cell_type": "code",
   "execution_count": null,
   "metadata": {},
   "outputs": [],
   "source": [
    "src.runner(conf, verbose = True)"
   ]
  },
  {
   "cell_type": "code",
   "execution_count": 5,
   "metadata": {},
   "outputs": [
    {
     "name": "stderr",
     "output_type": "stream",
     "text": [
      "100%|██████████| 10490760/10490760 [00:12<00:00, 808915.84it/s]\n",
      "100%|██████████| 10490760/10490760 [00:12<00:00, 819638.51it/s]\n",
      "100%|██████████| 10490760/10490760 [00:13<00:00, 804591.15it/s]\n",
      "100%|██████████| 10490760/10490760 [00:12<00:00, 825732.57it/s]\n",
      "100%|██████████| 10490760/10490760 [00:13<00:00, 783241.00it/s]\n",
      "100%|██████████| 10490760/10490760 [00:13<00:00, 806564.75it/s]\n",
      "100%|██████████| 10490760/10490760 [00:13<00:00, 797172.07it/s]\n",
      "100%|██████████| 10490760/10490760 [00:12<00:00, 813279.62it/s]\n",
      "100%|█████████▉| 10445426/10490760 [00:12<00:00, 914486.34it/s]\n",
      "100%|██████████| 10490760/10490760 [00:12<00:00, 812960.86it/s]\n",
      "100%|██████████| 10490760/10490760 [00:13<00:00, 802452.74it/s]\n",
      "100%|██████████| 10490760/10490760 [00:13<00:00, 788022.77it/s]\n"
     ]
    }
   ],
   "source": [
    "bins = np.linspace(0, 3, 200)\n",
    "densityNonInteracting = src.densityParallel(conf, bins)/conf[\"numSteps\"]"
   ]
  },
  {
   "cell_type": "markdown",
   "metadata": {},
   "source": [
    "#### Estimation of energy and uncertainty"
   ]
  },
  {
   "cell_type": "code",
   "execution_count": null,
   "metadata": {},
   "outputs": [],
   "source": [
    "E = np.mean(localEnergies)\n",
    "Var = src.blocking(localEnergies, 18)"
   ]
  },
  {
   "cell_type": "code",
   "execution_count": null,
   "metadata": {},
   "outputs": [],
   "source": [
    "plt.plot(Var)\n",
    "plt.show()"
   ]
  },
  {
   "cell_type": "code",
   "execution_count": null,
   "metadata": {},
   "outputs": [],
   "source": [
    "print(f\"<E> = {E} +- {np.sqrt(Var[9])}\")"
   ]
  },
  {
   "cell_type": "markdown",
   "metadata": {},
   "source": [
    "#### Radial onebody density"
   ]
  },
  {
   "cell_type": "code",
   "execution_count": null,
   "metadata": {},
   "outputs": [],
   "source": [
    "fig = plt.figure()\n",
    "plt.plot(bins, densityNonInteracting)\n",
    "plt.plot(bins, densityInteracting_10, \"--\")\n",
    "plt.xlabel(\"R\")\n",
    "plt.ylabel(\"number of particles per R\")\n",
    "plt.grid()\n",
    "plt.show()\n",
    "fig.savefig(\"figures/density10.pdf\", bbox_inches = \"tight\")"
   ]
  },
  {
   "cell_type": "markdown",
   "metadata": {},
   "source": [
    "### 50 particles"
   ]
  },
  {
   "cell_type": "code",
   "execution_count": 6,
   "metadata": {},
   "outputs": [],
   "source": [
    "conf = src.config()\n",
    "cutoff = 2000\n",
    "\n",
    "conf[\"threads\"] = 12\n",
    "\n",
    "conf[\"numPart\"] = 50\n",
    "conf[\"numDim\"] = 3\n",
    "conf[\"numSteps\"] = 2**20 + cutoff\n",
    "conf[\"stepLength\"] = 0.5\n",
    "conf[\"importanceSampling\"] = 1\n",
    "\n",
    "conf[\"alpha\"] = 0.49752\n",
    "conf[\"a\"] = 0.0043\n",
    "\n",
    "conf[\"InitialState\"] = \"HardshellInitial\"\n",
    "conf[\"Wavefunction\"] = \"EllipticalHardshellWavefunction\"\n",
    "conf[\"Hamiltonian\"] = \"EllipticalOscillator\""
   ]
  },
  {
   "cell_type": "code",
   "execution_count": null,
   "metadata": {},
   "outputs": [],
   "source": [
    "mu = 0.001\n",
    "\n",
    "for i in range(5):\n",
    "    src.runner(conf)\n",
    "    localEnergies, _, psiGrad, acceptanceRate = src.readData(conf, cutoff, readPos = False)\n",
    "    gradient = src.calculateGradient(localEnergies, psiGrad)\n",
    "    conf[\"alpha\"] -= mu*gradient\n",
    "    print(f\"gradient: {gradient:.5f}. alpha: {conf['alpha']:.5f}. acceptance rate: {acceptanceRate[0]:.5f}.\")"
   ]
  },
  {
   "cell_type": "markdown",
   "metadata": {},
   "source": [
    "#### Using optimal alpha"
   ]
  },
  {
   "cell_type": "code",
   "execution_count": 7,
   "metadata": {},
   "outputs": [],
   "source": [
    "conf[\"directory\"] = \"elliptical_50_interacting\"\n",
    "conf[\"alpha\"] = 0.48903"
   ]
  },
  {
   "cell_type": "code",
   "execution_count": null,
   "metadata": {},
   "outputs": [],
   "source": [
    "src.runner(conf, verbose = True)"
   ]
  },
  {
   "cell_type": "code",
   "execution_count": 8,
   "metadata": {},
   "outputs": [
    {
     "name": "stderr",
     "output_type": "stream",
     "text": [
      "100%|██████████| 52528800/52528800 [00:52<00:00, 995643.10it/s] \n",
      "100%|██████████| 52528800/52528800 [00:52<00:00, 998320.47it/s] \n",
      "100%|██████████| 52528800/52528800 [00:51<00:00, 1012521.21it/s]\n",
      "100%|██████████| 52528800/52528800 [00:52<00:00, 1001899.20it/s]\n",
      "100%|██████████| 52528800/52528800 [00:52<00:00, 1001075.39it/s]\n",
      "100%|██████████| 52528800/52528800 [00:52<00:00, 998699.60it/s] \n"
     ]
    }
   ],
   "source": [
    "localEnergies, _, psiGrad, acceptanceRate = src.readData(conf, cutoff, readPos = False)\n",
    "localEnergies = np.concatenate(localEnergies)\n",
    "\n",
    "bins = np.linspace(0, 3, 200)\n",
    "conf[\"threads\"] = 6 #downscale, to avoid using too much memory\n",
    "densityInteracting_50 = src.densityParallel(conf, bins)/conf[\"numSteps\"]"
   ]
  },
  {
   "cell_type": "code",
   "execution_count": null,
   "metadata": {},
   "outputs": [],
   "source": [
    "conf[\"directory\"] = \"elliptical_50_noninteracting\"\n",
    "conf[\"alpha\"] = 0.48903\n",
    "conf[\"a\"] = 0"
   ]
  },
  {
   "cell_type": "code",
   "execution_count": null,
   "metadata": {},
   "outputs": [],
   "source": [
    "src.runner(conf, verbose = True)"
   ]
  },
  {
   "cell_type": "code",
   "execution_count": null,
   "metadata": {},
   "outputs": [],
   "source": [
    "bins = np.linspace(0, 3, 200)\n",
    "densityNonInteracting = src.densityParallel(conf, bins)/conf[\"numSteps\"]"
   ]
  },
  {
   "cell_type": "markdown",
   "metadata": {},
   "source": [
    "#### Estimation of energy and uncertainty"
   ]
  },
  {
   "cell_type": "code",
   "execution_count": null,
   "metadata": {},
   "outputs": [],
   "source": [
    "E = np.mean(localEnergies)\n",
    "Var = src.blocking(localEnergies, 18)"
   ]
  },
  {
   "cell_type": "code",
   "execution_count": null,
   "metadata": {},
   "outputs": [],
   "source": [
    "plt.plot(Var)\n",
    "plt.show()"
   ]
  },
  {
   "cell_type": "code",
   "execution_count": null,
   "metadata": {},
   "outputs": [],
   "source": [
    "print(f\"<E> = {E} +- {np.sqrt(Var[13])}\")"
   ]
  },
  {
   "cell_type": "markdown",
   "metadata": {},
   "source": [
    "#### Radial onebody density"
   ]
  },
  {
   "cell_type": "code",
   "execution_count": null,
   "metadata": {},
   "outputs": [],
   "source": [
    "fig = plt.figure()\n",
    "plt.plot(bins, densityNonInteracting)\n",
    "plt.plot(bins, densityInteracting_50, \"--\")\n",
    "plt.xlabel(\"R\")\n",
    "plt.ylabel(\"number of particles per R\")\n",
    "plt.grid()\n",
    "plt.show()\n",
    "fig.savefig(\"figures/density50.pdf\", bbox_inches = \"tight\")"
   ]
  },
  {
   "cell_type": "markdown",
   "metadata": {},
   "source": [
    "### 100 Particles"
   ]
  },
  {
   "cell_type": "code",
   "execution_count": 9,
   "metadata": {},
   "outputs": [],
   "source": [
    "conf = src.config()\n",
    "cutoff = 2000\n",
    "\n",
    "conf[\"threads\"] = 12\n",
    "\n",
    "conf[\"numPart\"] = 100\n",
    "conf[\"numDim\"] = 3\n",
    "conf[\"numSteps\"] = 2**20 + cutoff\n",
    "conf[\"stepLength\"] = 0.5\n",
    "conf[\"importanceSampling\"] = 1\n",
    "\n",
    "conf[\"alpha\"] = 0.48903\n",
    "conf[\"a\"] = 0.0043\n",
    "\n",
    "conf[\"InitialState\"] = \"HardshellInitial\"\n",
    "conf[\"Wavefunction\"] = \"EllipticalHardshellWavefunction\"\n",
    "conf[\"Hamiltonian\"] = \"EllipticalOscillator\""
   ]
  },
  {
   "cell_type": "code",
   "execution_count": null,
   "metadata": {},
   "outputs": [],
   "source": [
    "mu = 0.001\n",
    "\n",
    "for i in range(5):\n",
    "    src.runner(conf)\n",
    "    localEnergies, _, psiGrad, acceptanceRate = src.readData(conf, cutoff, readPos = False)\n",
    "    gradient = src.calculateGradient(localEnergies, psiGrad)\n",
    "    conf[\"alpha\"] -= mu*gradient\n",
    "    print(f\"gradient: {gradient:.5f}. alpha: {conf['alpha']:.5f}. acceptance rate: {acceptanceRate[0]:.5f}.\")"
   ]
  },
  {
   "cell_type": "markdown",
   "metadata": {},
   "source": [
    "#### Using optimal alpha"
   ]
  },
  {
   "cell_type": "code",
   "execution_count": 10,
   "metadata": {},
   "outputs": [],
   "source": [
    "conf[\"directory\"] = \"elliptical_100_interacting\"\n",
    "conf[\"alpha\"] = 0.48160"
   ]
  },
  {
   "cell_type": "code",
   "execution_count": null,
   "metadata": {},
   "outputs": [],
   "source": [
    "src.runner(conf, verbose = True)"
   ]
  },
  {
   "cell_type": "code",
   "execution_count": 11,
   "metadata": {},
   "outputs": [
    {
     "name": "stderr",
     "output_type": "stream",
     "text": [
      "100%|██████████| 105057600/105057600 [01:40<00:00, 1045434.17it/s]\n",
      "100%|██████████| 105057600/105057600 [01:43<00:00, 1013655.96it/s]\n",
      "100%|██████████| 105057600/105057600 [01:43<00:00, 1019121.48it/s]\n"
     ]
    }
   ],
   "source": [
    "localEnergies, _, psiGrad, acceptanceRate = src.readData(conf, cutoff, readPos = False)\n",
    "localEnergies = np.concatenate(localEnergies)\n",
    "\n",
    "bins = np.linspace(0, 3, 200)\n",
    "conf[\"threads\"] = 3 #downscale, to avoid using too much memory\n",
    "densityInteracting_100 = src.densityParallel(conf, bins)/conf[\"numSteps\"]"
   ]
  },
  {
   "cell_type": "code",
   "execution_count": null,
   "metadata": {},
   "outputs": [],
   "source": [
    "conf[\"directory\"] = \"elliptical_100_noninteracting\"\n",
    "conf[\"alpha\"] = 0.48160\n",
    "conf[\"a\"] = 0"
   ]
  },
  {
   "cell_type": "code",
   "execution_count": null,
   "metadata": {},
   "outputs": [],
   "source": [
    "src.runner(conf, verbose = True)"
   ]
  },
  {
   "cell_type": "code",
   "execution_count": null,
   "metadata": {},
   "outputs": [],
   "source": [
    "bins = np.linspace(0, 3, 200)\n",
    "densityNonInteracting = src.densityParallel(conf, bins)/conf[\"numSteps\"]"
   ]
  },
  {
   "cell_type": "markdown",
   "metadata": {},
   "source": [
    "#### Estiamtion of Energy and Uncertainty"
   ]
  },
  {
   "cell_type": "code",
   "execution_count": null,
   "metadata": {},
   "outputs": [],
   "source": [
    "E = np.mean(localEnergies)\n",
    "Var = src.blocking(localEnergies, 18)\n",
    "plt.plot(Var)"
   ]
  },
  {
   "cell_type": "code",
   "execution_count": null,
   "metadata": {},
   "outputs": [],
   "source": [
    "print(f\"<E> = {E} +- {np.sqrt(Var[15])}\")"
   ]
  },
  {
   "cell_type": "markdown",
   "metadata": {},
   "source": [
    "#### Radial Onebody Density"
   ]
  },
  {
   "cell_type": "code",
   "execution_count": null,
   "metadata": {},
   "outputs": [],
   "source": [
    "fig = plt.figure()\n",
    "plt.plot(bins, densityNonInteracting)\n",
    "plt.plot(bins, densityInteracting_100, \"--\")\n",
    "plt.xlabel(\"R\")\n",
    "plt.ylabel(\"number of particles per R\")\n",
    "plt.grid()\n",
    "plt.show()\n",
    "fig.savefig(\"figures/density100.pdf\", bbox_inches = \"tight\")"
   ]
  },
  {
   "cell_type": "code",
   "execution_count": 15,
   "metadata": {},
   "outputs": [
    {
     "data": {
      "image/png": "[encoded data removed]",
      "text/plain": [
       "<Figure size 432x288 with 1 Axes>"
      ]
     },
     "metadata": {
      "needs_background": "light"
     },
     "output_type": "display_data"
    }
   ],
   "source": [
    "fig = plt.figure()\n",
    "plt.plot(bins, densityNonInteracting/10)\n",
    "plt.plot(bins, densityInteracting_10/10)\n",
    "plt.plot(bins, densityInteracting_50/50)\n",
    "plt.plot(bins, densityInteracting_100/100)\n",
    "plt.xlabel(\"R\")\n",
    "plt.ylabel(\"scaled number of particles per R\")\n",
    "plt.legend([\"Non-interacting\", \"10 particles\", \"50 particles\", \"100 particles\"])\n",
    "plt.grid()\n",
    "plt.show()\n",
    "fig.savefig(\"figures/density_all.pdf\", bbox_inches = \"tight\")"
   ]
  },
  {
   "cell_type": "code",
   "execution_count": null,
   "metadata": {},
   "outputs": [],
   "source": []
  }
 ],
 "metadata": {
  "kernelspec": {
   "display_name": "Python 3",
   "language": "python",
   "name": "python3"
  },
  "language_info": {
   "codemirror_mode": {
    "name": "ipython",
    "version": 3
   },
   "file_extension": ".py",
   "mimetype": "text/x-python",
   "name": "python",
   "nbconvert_exporter": "python",
   "pygments_lexer": "ipython3",
   "version": "3.6.9"
  }
 },
 "nbformat": 4,
 "nbformat_minor": 2
}
